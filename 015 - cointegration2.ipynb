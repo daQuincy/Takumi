{
 "cells": [
  {
   "cell_type": "code",
   "execution_count": null,
   "metadata": {},
   "outputs": [],
   "source": [
    "import pandas as pd\n",
    "import numpy as np\n",
    "import vectorbt as vbt\n",
    "import yfinance as yf\n",
    "import statsmodels.api as sm\n",
    "import plotly.graph_objects as go\n",
    "\n",
    "from sklearn.linear_model import LinearRegression\n",
    "from statsmodels.tsa.stattools import coint, adfuller"
   ]
  },
  {
   "cell_type": "code",
   "execution_count": null,
   "metadata": {},
   "outputs": [],
   "source": [
    "with pd.HDFStore('./large_files/data_20240328.h5', mode='r') as store:\n",
    "    df1_ = store.get('data/cl')\n",
    "    df2_ = store.get('data/gc')"
   ]
  },
  {
   "cell_type": "code",
   "execution_count": null,
   "metadata": {},
   "outputs": [],
   "source": [
    "def filter_df(df):\n",
    "    df = df.set_index('datetime', drop=False)\n",
    "    df = df.loc[df.index.year.isin([2020, 2021, 2022, 2023])]\n",
    "    df = df.loc[df.index.day_of_week == 2]\n",
    "    df = df[(df.index.hour >= 9) & (df.index.hour < 12)]\n",
    "\n",
    "    return df\n",
    "\n",
    "df1 = filter_df(df1_)\n",
    "df2 = filter_df(df2_)"
   ]
  },
  {
   "cell_type": "code",
   "execution_count": null,
   "metadata": {},
   "outputs": [],
   "source": [
    "# Plot prices in scatter chart\n",
    "fig = go.Figure()\n",
    "fig.add_trace(go.Scatter(x=df2.close, y=df1.close, mode='markers'))\n",
    "fig.update_layout(title_text='Gold vs WTI Crude', template='simple_white')\n",
    "fig.show()\n",
    "\n",
    "score, pvalue, _ = coint(df1.close, df2.close)\n",
    "pvalue"
   ]
  },
  {
   "cell_type": "code",
   "execution_count": null,
   "metadata": {},
   "outputs": [],
   "source": [
    "start = '2020-01-01'\n",
    "end = '2023-12-31'\n",
    "df11 = yf.download('CL=F', start=start, end=end)['Close']\n",
    "df12 = yf.download('GC=F', start=start, end=end)['Close']\n",
    "\n",
    "fig = go.Figure()\n",
    "fig.add_trace(go.Scatter(x=df12, y=df11, mode='markers'))\n",
    "fig.update_layout(title_text='Gold vs WTI Crude', template='simple_white')\n",
    "fig.show()"
   ]
  },
  {
   "cell_type": "markdown",
   "metadata": {},
   "source": [
    "# Spread\n",
    "1. Spread needs to be updated from time to time as prices change over time\n",
    "2. Compute spread using Monday and Tuesday"
   ]
  },
  {
   "cell_type": "code",
   "execution_count": null,
   "metadata": {},
   "outputs": [],
   "source": [
    "lr = LinearRegression()\n",
    "lr.fit(df1.close.values.reshape(-1, 1), df2.close.values.reshape(-1, 1))\n",
    "print(lr.coef_, lr.intercept_)\n",
    "\n",
    "hedge_ratio = lr.coef_[0]"
   ]
  },
  {
   "cell_type": "code",
   "execution_count": null,
   "metadata": {},
   "outputs": [],
   "source": [
    "def filter_df(df):\n",
    "    df = df.set_index('datetime', drop=False)\n",
    "    df = df.loc[df.index.year.isin([2020, 2021, 2022, 2023])]\n",
    "    df = df.loc[df.index.day_of_week.isin([0, 1, 2])]\n",
    "    df = df[(df.index.hour >= 9) & (df.index.hour < 12)]\n",
    "\n",
    "    return df\n",
    "\n",
    "df1 = filter_df(df1_)\n",
    "df2 = filter_df(df2_)\n",
    "dates = pd.Series(index=df1.datetime, dtype=bool)\n",
    "\n",
    "df_z = []\n",
    "\n",
    "weekly_groups = dates.groupby(pd.Grouper(freq='W'))\n",
    "for week_start, group in weekly_groups:\n",
    "    # get monday / tuesday of pair, week_start = Sunday\n",
    "    monday = week_start - pd.Timedelta(days=6)\n",
    "    tuesday = week_start - pd.Timedelta(days=4, minutes=1)\n",
    "    wednesday = week_start - pd.Timedelta(days=3, minutes=1)\n",
    "\n",
    "    df1_week = df1.loc[(df1.index >= monday) & (df1.index <= tuesday)]\n",
    "    df2_week = df2.loc[(df2.index >= monday) & (df2.index <= tuesday)]\n",
    "    df1_wed = df1.loc[(df1.index > tuesday) & (df1.index <= wednesday)]\n",
    "    df2_wed = df2.loc[(df2.index > tuesday) & (df2.index <= wednesday)]\n",
    "\n",
    "    if (df1_week.shape[0] == 0) or (df2_week.shape[0] == 0) or (df1_wed.shape[0] == 0) or (df2_wed.shape[0] == 0):\n",
    "        continue\n",
    "    \n",
    "    if df1_week.shape[0] > df2_week.shape[0]:\n",
    "        df1_week = df1_week.loc[df2_week.index]\n",
    "    elif df2_week.shape[0] > df1_week.shape[0]:\n",
    "        df2_week = df2_week.loc[df1_week.index]\n",
    "\n",
    "    # compute mean / std for spread\n",
    "    price1 = df1_week.close.values.reshape(-1, 1)\n",
    "    price2 = df2_week.close.values.reshape(-1, 1)\n",
    "    model = LinearRegression()\n",
    "    model.fit(price1, price2)\n",
    "    hedge_ratio = model.coef_[0]\n",
    "    spread = price2 - hedge_ratio * price1\n",
    "    mean = spread.mean()\n",
    "    std = np.std(spread)\n",
    "\n",
    "    # compute z-scores for wednesday\n",
    "    spread = df2_wed.close.values - hedge_ratio * df1_wed.close.values\n",
    "\n",
    "    z = pd.DataFrame({'asset1': df1_wed.close.values, 'asset2': df2_wed.close.values, 'spread': spread, 'z': (spread - mean) / std}, index=df1_wed.index)\n",
    "    df_z.append(z)\n",
    "\n",
    "df_z = pd.concat(df_z)"
   ]
  },
  {
   "cell_type": "code",
   "execution_count": null,
   "metadata": {},
   "outputs": [],
   "source": [
    "def pair_trade_signals(\n",
    "    dfz,\n",
    "    short_entry_threshold=2.0, # sell 1 buy 2\n",
    "    long_entry_threshold=-2.0, # buy 1 sell 2\n",
    "\n",
    "):  \n",
    "    positions = []\n",
    "\n",
    "    for day, df_day in dfz.groupby(pd.Grouper(level='datetime', freq='D')):\n",
    "        position = pd.Series(index=df_day.index)\n",
    "        is_open = False\n",
    "        for time, row in df_day.iterrows():\n",
    "            z_score = row['z']\n",
    "            if is_open and (time.time() == pd.Timestamp('11:59').time()):\n",
    "                position[time] = 0\n",
    "                break\n",
    "            elif ((time.time() >= pd.Timestamp('9:00').time()) and (time.time() < pd.Timestamp('11:00').time())) and not is_open:\n",
    "                if z_score > short_entry_threshold:\n",
    "                    position[time] = -1\n",
    "                    is_open = 1\n",
    "                elif z_score < long_entry_threshold:\n",
    "                    position[time] = 1\n",
    "                    is_open = 2\n",
    "            elif (is_open == 1 and z_score <= 0) or (is_open == 2 and z_score >= 0):\n",
    "                position[time] = 0\n",
    "                is_open = False\n",
    "                break\n",
    "        position = position.ffill()\n",
    "        positions.append(position)\n",
    "    \n",
    "    positions = pd.concat(positions)\n",
    "    df_z = pd.concat([dfz, positions], axis=1).rename({0: 'position'}, axis=1)\n",
    "\n",
    "    return df_z"
   ]
  },
  {
   "cell_type": "code",
   "execution_count": null,
   "metadata": {},
   "outputs": [],
   "source": [
    "def filter_df(df):\n",
    "    df = df.set_index('datetime', drop=False)\n",
    "    df = df.loc[df.index.year.isin([2020, 2021, 2022, 2023])]\n",
    "    df = df.loc[df.index.day_of_week.isin([2])]\n",
    "    df = df[(df.index.hour >= 9) & (df.index.hour < 12)]\n",
    "\n",
    "    return df\n",
    "\n",
    "df1 = filter_df(df1_)\n",
    "df2 = filter_df(df2_)\n",
    "\n",
    "df_pos = pair_trade_signals(df_z)\n",
    "df_pos['cl'] = -df_pos['position']\n",
    "df_pos['gc'] = df_pos['position']\n",
    "df_pos.head()"
   ]
  },
  {
   "cell_type": "code",
   "execution_count": null,
   "metadata": {},
   "outputs": [],
   "source": [
    "vbt_short_signal = ((df_pos['position'] == -1) & (df_pos['position'].shift(1) != -1))\n",
    "vbt_long_signal = ((df_pos['position'] == 1) & (df_pos['position'].shift(1) != 1))\n",
    "\n",
    "vbt_close_short = ((df_pos['position'] == 0) & (df_pos['position'].shift(1) == -1))\n",
    "vbt_close_long = ((df_pos['position'] == 0) & (df_pos['position'].shift(1) == 1))"
   ]
  },
  {
   "cell_type": "code",
   "execution_count": null,
   "metadata": {},
   "outputs": [],
   "source": [
    "asset1 = 'cl'\n",
    "asset2 = 'gc'\n",
    "\n",
    "tickers_column = pd.Index([asset1, asset2], name='tickers')\n",
    "vbt_trades = pd.DataFrame(index=df_pos.index, columns=tickers_column)\n",
    "vbt_trades[asset1] = np.nan\n",
    "vbt_trades[asset2] = np.nan\n",
    "\n",
    "vbt_trades.loc[vbt_short_signal, asset1] = 1\n",
    "vbt_trades.loc[vbt_long_signal, asset1] = -1\n",
    "vbt_trades.loc[vbt_short_signal, asset2] = -1\n",
    "vbt_trades.loc[vbt_long_signal, asset2] = 1\n",
    "\n",
    "vbt_trades.loc[vbt_close_short, asset1] = 0\n",
    "vbt_trades.loc[vbt_close_long, asset1] = 0\n",
    "vbt_trades.loc[vbt_close_short, asset2] = 0\n",
    "vbt_trades.loc[vbt_close_long, asset2] = 0\n",
    "\n",
    "# Shift trades by one candle (avoid look-ahead bias)\n",
    "# vbt_trades = vbt_trades.vbt.fshift(1)"
   ]
  },
  {
   "cell_type": "code",
   "execution_count": null,
   "metadata": {},
   "outputs": [],
   "source": [
    "df_price = pd.DataFrame(index=df_z.index, columns=['cl', 'gc'])\n",
    "df_price['cl'] = df1.loc[df_z.index, 'close'].values\n",
    "df_price['gc'] = df2.loc[df_z.index, 'close'].values"
   ]
  },
  {
   "cell_type": "code",
   "execution_count": null,
   "metadata": {},
   "outputs": [],
   "source": [
    "portfolio = vbt.Portfolio.from_orders(\n",
    "    close=df_price,\n",
    "    size=vbt_trades,\n",
    "    # price=df_price,\n",
    "    size_type='targetpercent',\n",
    "    val_price=df_price.vbt.fshift(1),\n",
    "    init_cash=100,\n",
    "    fees=0,\n",
    "    cash_sharing=True,\n",
    "    group_by=False,\n",
    "    call_seq='auto',\n",
    "    freq='1m'\n",
    ")\n",
    "portfolio.stats()"
   ]
  },
  {
   "cell_type": "code",
   "execution_count": null,
   "metadata": {},
   "outputs": [],
   "source": [
    "portfolio[0].plot(\n",
    "    subplots='orders',\n",
    "    title=asset1\n",
    ").show()\n",
    "\n",
    "portfolio[1].plot(\n",
    "    subplots='orders',\n",
    "    title=asset2\n",
    ").show()"
   ]
  },
  {
   "cell_type": "code",
   "execution_count": null,
   "metadata": {},
   "outputs": [],
   "source": [
    "orders = portfolio.orders.records_readable.sort_values('Timestamp')"
   ]
  },
  {
   "cell_type": "code",
   "execution_count": null,
   "metadata": {},
   "outputs": [],
   "source": [
    "portfolio2 = vbt.Portfolio.from_orders(\n",
    "    close=df_price,\n",
    "    size=vbt_trades,\n",
    "    # price=df_price,\n",
    "    size_type='targetpercent',\n",
    "    val_price=df_price.vbt.fshift(1),\n",
    "    init_cash=100,\n",
    "    fees=0,\n",
    "    cash_sharing=True,\n",
    "    group_by=True,\n",
    "    call_seq='auto',\n",
    "    freq='1m'\n",
    ")"
   ]
  },
  {
   "cell_type": "code",
   "execution_count": null,
   "metadata": {},
   "outputs": [],
   "source": [
    "portfolio2.plot().show()"
   ]
  },
  {
   "cell_type": "code",
   "execution_count": null,
   "metadata": {},
   "outputs": [],
   "source": []
  }
 ],
 "metadata": {
  "kernelspec": {
   "display_name": "finance",
   "language": "python",
   "name": "python3"
  },
  "language_info": {
   "codemirror_mode": {
    "name": "ipython",
    "version": 3
   },
   "file_extension": ".py",
   "mimetype": "text/x-python",
   "name": "python",
   "nbconvert_exporter": "python",
   "pygments_lexer": "ipython3",
   "version": "3.9.18"
  }
 },
 "nbformat": 4,
 "nbformat_minor": 2
}
