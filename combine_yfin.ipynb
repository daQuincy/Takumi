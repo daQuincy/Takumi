{
 "cells": [
  {
   "cell_type": "code",
   "execution_count": 1,
   "metadata": {},
   "outputs": [],
   "source": [
    "import pandas as pd\n",
    "import pickle\n",
    "import glob\n",
    "import pytz"
   ]
  },
  {
   "cell_type": "code",
   "execution_count": 2,
   "metadata": {},
   "outputs": [],
   "source": [
    "df_wti_1m = pickle.load(open('./large_files/cl-1m.pkl', 'rb'))\n",
    "\n",
    "f_paths = sorted(glob.glob('./data/yahoo_finance/*_cl.csv'))\n",
    "dfs = []\n",
    "for f_path in f_paths:\n",
    "    df = pd.read_csv(f_path, parse_dates=['Datetime'])\n",
    "    dfs.append(df)\n",
    "\n",
    "df_yfin = pd.concat(dfs, ignore_index=True)\n",
    "df_yfin = df_yfin.rename({\n",
    "    'Datetime': 'datetime',\n",
    "    'Open': 'open',\n",
    "    'Close': 'close',\n",
    "    'High': 'high',\n",
    "    'Low': 'low',\n",
    "    'Volume': 'volume'\n",
    "}, axis=1)\n",
    "df_yfin = df_yfin.drop('Adj Close', axis=1)\n",
    "\n",
    "df_yfin['datetime'] = pd.to_datetime(df_yfin['datetime'], utc=True)\n",
    "# df_yfin['datetime'] = df_yfin['datetime'].dt.tz_localize('Etc/GMT+6')\n",
    "ny_tz = pytz.timezone('America/New_York')\n",
    "\n",
    "df_yfin['datetime'] = df_yfin['datetime'].dt.tz_convert(ny_tz)\n",
    "df_yfin['date'] = df_yfin['datetime'].dt.strftime('%Y-%m-%d')\n",
    "df_yfin['time'] = df_yfin['datetime'].dt.strftime('%H%M')\n",
    "df_yfin['day'] = df_yfin['datetime'].dt.strftime('%A')"
   ]
  },
  {
   "cell_type": "code",
   "execution_count": 3,
   "metadata": {},
   "outputs": [],
   "source": [
    "df = pd.concat([df_wti_1m, df_yfin])"
   ]
  },
  {
   "cell_type": "code",
   "execution_count": 4,
   "metadata": {},
   "outputs": [],
   "source": [
    "test = df[df['datetime'].dt.year == 2023]"
   ]
  },
  {
   "cell_type": "code",
   "execution_count": 5,
   "metadata": {},
   "outputs": [],
   "source": [
    "df = df.drop_duplicates(keep='first')"
   ]
  },
  {
   "cell_type": "code",
   "execution_count": 6,
   "metadata": {},
   "outputs": [],
   "source": [
    "pickle.dump(df, open('./large_files/cl-1m-2.pkl', 'wb'))"
   ]
  },
  {
   "cell_type": "code",
   "execution_count": null,
   "metadata": {},
   "outputs": [],
   "source": []
  }
 ],
 "metadata": {
  "kernelspec": {
   "display_name": "finance",
   "language": "python",
   "name": "python3"
  },
  "language_info": {
   "codemirror_mode": {
    "name": "ipython",
    "version": 3
   },
   "file_extension": ".py",
   "mimetype": "text/x-python",
   "name": "python",
   "nbconvert_exporter": "python",
   "pygments_lexer": "ipython3",
   "version": "3.9.18"
  }
 },
 "nbformat": 4,
 "nbformat_minor": 2
}
