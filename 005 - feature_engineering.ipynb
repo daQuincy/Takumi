{
 "cells": [
  {
   "cell_type": "code",
   "execution_count": 30,
   "metadata": {},
   "outputs": [],
   "source": [
    "import plotly.graph_objects as go\n",
    "import matplotlib.pyplot as plt\n",
    "import scipy.stats as stats\n",
    "import seaborn as sns\n",
    "import pandas as pd\n",
    "import numpy as np\n",
    "\n",
    "from plotly.subplots import make_subplots\n",
    "from multiprocessing import Pool\n",
    "from utils import read_bm_data\n",
    "from scipy.stats import ttest_rel, pearsonr, spearmanr\n",
    "from sklearn.linear_model import LinearRegression\n",
    "from sklearn.preprocessing import StandardScaler, PolynomialFeatures\n",
    "from sktime.transformations.series.detrend import STLTransformer\n",
    "\n",
    "import os\n",
    "import ta\n",
    "import pytz\n",
    "import tqdm\n",
    "import pickle"
   ]
  },
  {
   "cell_type": "code",
   "execution_count": 9,
   "metadata": {},
   "outputs": [
    {
     "data": {
      "text/html": [
       "<div>\n",
       "<style scoped>\n",
       "    .dataframe tbody tr th:only-of-type {\n",
       "        vertical-align: middle;\n",
       "    }\n",
       "\n",
       "    .dataframe tbody tr th {\n",
       "        vertical-align: top;\n",
       "    }\n",
       "\n",
       "    .dataframe thead th {\n",
       "        text-align: right;\n",
       "    }\n",
       "</style>\n",
       "<table border=\"1\" class=\"dataframe\">\n",
       "  <thead>\n",
       "    <tr style=\"text-align: right;\">\n",
       "      <th></th>\n",
       "      <th>date</th>\n",
       "      <th>time</th>\n",
       "      <th>open</th>\n",
       "      <th>high</th>\n",
       "      <th>low</th>\n",
       "      <th>close</th>\n",
       "      <th>volume</th>\n",
       "      <th>datetime</th>\n",
       "      <th>day</th>\n",
       "    </tr>\n",
       "  </thead>\n",
       "  <tbody>\n",
       "    <tr>\n",
       "      <th>65918</th>\n",
       "      <td>2010-01-06</td>\n",
       "      <td>0900</td>\n",
       "      <td>81.84</td>\n",
       "      <td>81.92</td>\n",
       "      <td>81.67</td>\n",
       "      <td>81.80</td>\n",
       "      <td>5818</td>\n",
       "      <td>2010-01-06 09:00:00-05:00</td>\n",
       "      <td>Wednesday</td>\n",
       "    </tr>\n",
       "    <tr>\n",
       "      <th>65919</th>\n",
       "      <td>2010-01-06</td>\n",
       "      <td>0915</td>\n",
       "      <td>81.80</td>\n",
       "      <td>81.92</td>\n",
       "      <td>81.67</td>\n",
       "      <td>81.76</td>\n",
       "      <td>3187</td>\n",
       "      <td>2010-01-06 09:15:00-05:00</td>\n",
       "      <td>Wednesday</td>\n",
       "    </tr>\n",
       "    <tr>\n",
       "      <th>65920</th>\n",
       "      <td>2010-01-06</td>\n",
       "      <td>0930</td>\n",
       "      <td>81.76</td>\n",
       "      <td>81.90</td>\n",
       "      <td>81.67</td>\n",
       "      <td>81.73</td>\n",
       "      <td>4522</td>\n",
       "      <td>2010-01-06 09:30:00-05:00</td>\n",
       "      <td>Wednesday</td>\n",
       "    </tr>\n",
       "    <tr>\n",
       "      <th>65921</th>\n",
       "      <td>2010-01-06</td>\n",
       "      <td>0945</td>\n",
       "      <td>81.75</td>\n",
       "      <td>81.87</td>\n",
       "      <td>81.62</td>\n",
       "      <td>81.79</td>\n",
       "      <td>5741</td>\n",
       "      <td>2010-01-06 09:45:00-05:00</td>\n",
       "      <td>Wednesday</td>\n",
       "    </tr>\n",
       "    <tr>\n",
       "      <th>65922</th>\n",
       "      <td>2010-01-06</td>\n",
       "      <td>1000</td>\n",
       "      <td>81.79</td>\n",
       "      <td>81.97</td>\n",
       "      <td>81.74</td>\n",
       "      <td>81.87</td>\n",
       "      <td>4907</td>\n",
       "      <td>2010-01-06 10:00:00-05:00</td>\n",
       "      <td>Wednesday</td>\n",
       "    </tr>\n",
       "  </tbody>\n",
       "</table>\n",
       "</div>"
      ],
      "text/plain": [
       "             date  time   open   high    low  close  volume  \\\n",
       "65918  2010-01-06  0900  81.84  81.92  81.67  81.80    5818   \n",
       "65919  2010-01-06  0915  81.80  81.92  81.67  81.76    3187   \n",
       "65920  2010-01-06  0930  81.76  81.90  81.67  81.73    4522   \n",
       "65921  2010-01-06  0945  81.75  81.87  81.62  81.79    5741   \n",
       "65922  2010-01-06  1000  81.79  81.97  81.74  81.87    4907   \n",
       "\n",
       "                       datetime        day  \n",
       "65918 2010-01-06 09:00:00-05:00  Wednesday  \n",
       "65919 2010-01-06 09:15:00-05:00  Wednesday  \n",
       "65920 2010-01-06 09:30:00-05:00  Wednesday  \n",
       "65921 2010-01-06 09:45:00-05:00  Wednesday  \n",
       "65922 2010-01-06 10:00:00-05:00  Wednesday  "
      ]
     },
     "execution_count": 9,
     "metadata": {},
     "output_type": "execute_result"
    }
   ],
   "source": [
    "if os.path.exists('./large_files/cl-1m.pkl'):\n",
    "    df_wti_1m = pickle.load(open('./large_files/cl-1m.pkl', 'rb'))\n",
    "else:\n",
    "    df_wti_1m = read_bm_data('./large_files/cl-1m.csv')\n",
    "    pickle.dump(df_wti_1m, open('./large_files/cl-1m.pkl', 'wb'))\n",
    "\n",
    "df_wti = read_bm_data('./data/backtestmarket/cl-15m.csv')\n",
    "# take only wednesday data for 10 years\n",
    "df = df_wti[(df_wti['datetime'].dt.hour >= 9) & (df_wti['datetime'].dt.hour < 16)]\n",
    "df = df[(df['datetime'].dt.weekday == 2) & (df['datetime'].dt.year >= 2010) & (df['datetime'].dt.year <= 2019)]\n",
    "df.head()"
   ]
  },
  {
   "cell_type": "code",
   "execution_count": 3,
   "metadata": {},
   "outputs": [],
   "source": [
    "# define some common time\n",
    "NINE_THIRTY = pd.to_datetime('09:30:00')\n",
    "TEN_THIRTY = pd.to_datetime('10:30:00')\n",
    "ELEVEN = pd.to_datetime('11:00:00')\n",
    "TWELVE = pd.to_datetime('12:00:00')"
   ]
  },
  {
   "cell_type": "markdown",
   "metadata": {},
   "source": [
    "# Targets?\n",
    "1. Predict next hour (relative to 1030) mean (up / down / neutral)\n",
    "1. Predict day close (4pm) (up / down / neutral)\n",
    "1. (Use 1m data) For every 15m window, predict if the mean is closer to the high or low. Say price is going upward, before it hits the peak and make a u-turn, the mean within the window will be less close to the high."
   ]
  },
  {
   "cell_type": "code",
   "execution_count": 40,
   "metadata": {},
   "outputs": [],
   "source": [
    "def plot_candlestick(df, title=''):\n",
    "    \n",
    "    # fig = go.Figure()\n",
    "    fig = make_subplots(specs=[[{'secondary_y': True}]])\n",
    "    \n",
    "    fig.add_trace(\n",
    "        go.Candlestick(\n",
    "            x=df['datetime'],\n",
    "            open=df['open'],\n",
    "            low=df['low'],\n",
    "            high=df['high'],\n",
    "            close=df['close'],\n",
    "            showlegend=False,\n",
    "        )\n",
    "    )\n",
    "\n",
    "    fig.add_trace(\n",
    "        go.Line(\n",
    "            x=df['datetime'],\n",
    "            y=df['high_distance']\n",
    "        ),\n",
    "        secondary_y=True\n",
    "    )\n",
    "    \n",
    "    fig.update_layout(\n",
    "        title=f'{title}',\n",
    "        xaxis_title='Datetime',\n",
    "        yaxis_title='Price ($)',\n",
    "        xaxis_rangeslider_visible=False,\n",
    "        width=2000,\n",
    "        height=500,\n",
    "        # template='plotly_dark',\n",
    "        template='plotly'\n",
    "    )\n",
    "    \n",
    "    fig.show()"
   ]
  },
  {
   "cell_type": "code",
   "execution_count": 44,
   "metadata": {},
   "outputs": [
    {
     "name": "stderr",
     "output_type": "stream",
     "text": [
      "  0%|          | 0/3634 [00:00<?, ?it/s]"
     ]
    },
    {
     "name": "stderr",
     "output_type": "stream",
     "text": [
      " 50%|████▉     | 1807/3634 [00:06<00:06, 301.13it/s]/tmp/ipykernel_25235/3533257883.py:26: RuntimeWarning:\n",
      "\n",
      "invalid value encountered in scalar divide\n",
      "\n",
      "100%|██████████| 3634/3634 [00:12<00:00, 298.77it/s]\n"
     ]
    },
    {
     "data": {
      "text/html": [
       "<div>\n",
       "<style scoped>\n",
       "    .dataframe tbody tr th:only-of-type {\n",
       "        vertical-align: middle;\n",
       "    }\n",
       "\n",
       "    .dataframe tbody tr th {\n",
       "        vertical-align: top;\n",
       "    }\n",
       "\n",
       "    .dataframe thead th {\n",
       "        text-align: right;\n",
       "    }\n",
       "</style>\n",
       "<table border=\"1\" class=\"dataframe\">\n",
       "  <thead>\n",
       "    <tr style=\"text-align: right;\">\n",
       "      <th></th>\n",
       "      <th>date</th>\n",
       "      <th>time</th>\n",
       "      <th>open</th>\n",
       "      <th>high</th>\n",
       "      <th>low</th>\n",
       "      <th>close</th>\n",
       "      <th>volume</th>\n",
       "      <th>datetime</th>\n",
       "      <th>day</th>\n",
       "      <th>high_distance</th>\n",
       "    </tr>\n",
       "  </thead>\n",
       "  <tbody>\n",
       "    <tr>\n",
       "      <th>0</th>\n",
       "      <td>2010-01-06</td>\n",
       "      <td>0900</td>\n",
       "      <td>81.84</td>\n",
       "      <td>81.92</td>\n",
       "      <td>81.67</td>\n",
       "      <td>81.80</td>\n",
       "      <td>5818</td>\n",
       "      <td>2010-01-06 09:00:00-05:00</td>\n",
       "      <td>Wednesday</td>\n",
       "      <td>0.632000</td>\n",
       "    </tr>\n",
       "    <tr>\n",
       "      <th>1</th>\n",
       "      <td>2010-01-06</td>\n",
       "      <td>0915</td>\n",
       "      <td>81.80</td>\n",
       "      <td>81.92</td>\n",
       "      <td>81.67</td>\n",
       "      <td>81.76</td>\n",
       "      <td>3187</td>\n",
       "      <td>2010-01-06 09:15:00-05:00</td>\n",
       "      <td>Wednesday</td>\n",
       "      <td>0.653333</td>\n",
       "    </tr>\n",
       "    <tr>\n",
       "      <th>2</th>\n",
       "      <td>2010-01-06</td>\n",
       "      <td>0930</td>\n",
       "      <td>81.76</td>\n",
       "      <td>81.90</td>\n",
       "      <td>81.67</td>\n",
       "      <td>81.73</td>\n",
       "      <td>4522</td>\n",
       "      <td>2010-01-06 09:30:00-05:00</td>\n",
       "      <td>Wednesday</td>\n",
       "      <td>0.692754</td>\n",
       "    </tr>\n",
       "    <tr>\n",
       "      <th>3</th>\n",
       "      <td>2010-01-06</td>\n",
       "      <td>0945</td>\n",
       "      <td>81.75</td>\n",
       "      <td>81.87</td>\n",
       "      <td>81.62</td>\n",
       "      <td>81.79</td>\n",
       "      <td>5741</td>\n",
       "      <td>2010-01-06 09:45:00-05:00</td>\n",
       "      <td>Wednesday</td>\n",
       "      <td>0.477333</td>\n",
       "    </tr>\n",
       "    <tr>\n",
       "      <th>4</th>\n",
       "      <td>2010-01-06</td>\n",
       "      <td>1000</td>\n",
       "      <td>81.79</td>\n",
       "      <td>81.97</td>\n",
       "      <td>81.74</td>\n",
       "      <td>81.87</td>\n",
       "      <td>4907</td>\n",
       "      <td>2010-01-06 10:00:00-05:00</td>\n",
       "      <td>Wednesday</td>\n",
       "      <td>0.452174</td>\n",
       "    </tr>\n",
       "  </tbody>\n",
       "</table>\n",
       "</div>"
      ],
      "text/plain": [
       "         date  time   open   high    low  close  volume  \\\n",
       "0  2010-01-06  0900  81.84  81.92  81.67  81.80    5818   \n",
       "1  2010-01-06  0915  81.80  81.92  81.67  81.76    3187   \n",
       "2  2010-01-06  0930  81.76  81.90  81.67  81.73    4522   \n",
       "3  2010-01-06  0945  81.75  81.87  81.62  81.79    5741   \n",
       "4  2010-01-06  1000  81.79  81.97  81.74  81.87    4907   \n",
       "\n",
       "                   datetime        day  high_distance  \n",
       "0 2010-01-06 09:00:00-05:00  Wednesday       0.632000  \n",
       "1 2010-01-06 09:15:00-05:00  Wednesday       0.653333  \n",
       "2 2010-01-06 09:30:00-05:00  Wednesday       0.692754  \n",
       "3 2010-01-06 09:45:00-05:00  Wednesday       0.477333  \n",
       "4 2010-01-06 10:00:00-05:00  Wednesday       0.452174  "
      ]
     },
     "execution_count": 44,
     "metadata": {},
     "output_type": "execute_result"
    }
   ],
   "source": [
    "# test out idea 3\n",
    "\n",
    "# time_range = pd.date_range(\n",
    "#     start=pd.to_datetime('09:00:00'),\n",
    "#     end=pd.to_datetime('15:45:00'),\n",
    "#     freq=pd.Timedelta('15 minutes')\n",
    "# )\n",
    "\n",
    "df_uturn = []\n",
    "counter = 0\n",
    "for day, df_day in tqdm.tqdm(df.groupby(pd.Grouper(key='datetime', freq='D'))):\n",
    "    if df_day.shape[0] == 0:\n",
    "        continue\n",
    "\n",
    "    df_day_1m = df_wti_1m[\n",
    "        (df_wti_1m['datetime'] >= df_day['datetime'].iloc[0]) &\n",
    "        (df_wti_1m['datetime'] < (df_day['datetime'].iloc[-1] + pd.Timedelta(minutes=15)))\n",
    "    ]\n",
    "\n",
    "    distances = []\n",
    "    for time_range, df_tmp in df_day_1m.groupby(pd.Grouper(key='datetime', freq='15min')):\n",
    "        mean = df_tmp['close'].mean()\n",
    "        high = df_tmp['high'].max()\n",
    "        low = df_tmp['low'].min()\n",
    "        # distance to high, approaching 0 means getting closer\n",
    "        dist = (high - mean) / (high - low)\n",
    "        distances.append({'datetime': pd.to_datetime(time_range), 'high_distance': dist})\n",
    "    distances = pd.DataFrame(distances)\n",
    "\n",
    "    df_day = pd.merge(left=df_day, right=distances, how='left', on='datetime')\n",
    "    df_uturn.append(df_day)\n",
    "\n",
    "df_uturn = pd.concat(df_uturn).sort_values('datetime')\n",
    "df_uturn.head()"
   ]
  },
  {
   "cell_type": "code",
   "execution_count": 51,
   "metadata": {},
   "outputs": [
    {
     "name": "stderr",
     "output_type": "stream",
     "text": [
      "/home/quincy/miniconda3/envs/finance/lib/python3.9/site-packages/plotly/graph_objs/_deprecations.py:378: DeprecationWarning:\n",
      "\n",
      "plotly.graph_objs.Line is deprecated.\n",
      "Please replace it with one of the following more specific types\n",
      "  - plotly.graph_objs.scatter.Line\n",
      "  - plotly.graph_objs.layout.shape.Line\n",
      "  - etc.\n",
      "\n",
      "\n"
     ]
    },
    {
     "data": {
      "application/vnd.plotly.v1+json": {
       "config": {
        "plotlyServerURL": "https://plot.ly"
       },
       "data": [
        {
         "close": [
          87.28,
          87.07,
          87.07,
          86.81,
          86.97,
          86.65,
          87.3,
          87.04,
          87,
          87.28,
          87.41,
          87.84,
          87.81,
          87.62,
          87.62,
          87.7,
          87.68,
          87.9,
          87.84,
          87.77,
          87.83,
          87.81,
          87.76,
          87.78,
          87.79,
          87.84,
          87.97,
          88.19
         ],
         "high": [
          87.45,
          87.32,
          87.16,
          87.2,
          86.99,
          87.04,
          87.49,
          87.39,
          87.15,
          87.32,
          87.47,
          88.02,
          88.06,
          87.9,
          87.82,
          87.77,
          87.74,
          88.1,
          88.05,
          87.88,
          88.05,
          87.85,
          87.81,
          87.8,
          87.8,
          87.9,
          87.97,
          88.19
         ],
         "low": [
          87.09,
          87.02,
          86.93,
          86.7,
          86.56,
          86.63,
          86.7,
          86.91,
          86.88,
          86.9,
          87.15,
          87.39,
          87.77,
          87.55,
          87.56,
          87.57,
          87.39,
          87.66,
          87.66,
          87.67,
          87.75,
          87.61,
          87.65,
          87.68,
          87.67,
          87.7,
          87.8,
          87.95
         ],
         "open": [
          87.1,
          87.28,
          87.07,
          87.06,
          86.81,
          86.97,
          86.7,
          87.3,
          87.02,
          87,
          87.29,
          87.4,
          87.84,
          87.82,
          87.63,
          87.63,
          87.7,
          87.68,
          87.91,
          87.84,
          87.76,
          87.82,
          87.81,
          87.75,
          87.77,
          87.78,
          87.84,
          87.97
         ],
         "showlegend": false,
         "type": "candlestick",
         "x": [
          "2010-11-10T09:00:00-05:00",
          "2010-11-10T09:15:00-05:00",
          "2010-11-10T09:30:00-05:00",
          "2010-11-10T09:45:00-05:00",
          "2010-11-10T10:00:00-05:00",
          "2010-11-10T10:15:00-05:00",
          "2010-11-10T10:30:00-05:00",
          "2010-11-10T10:45:00-05:00",
          "2010-11-10T11:00:00-05:00",
          "2010-11-10T11:15:00-05:00",
          "2010-11-10T11:30:00-05:00",
          "2010-11-10T11:45:00-05:00",
          "2010-11-10T12:00:00-05:00",
          "2010-11-10T12:15:00-05:00",
          "2010-11-10T12:30:00-05:00",
          "2010-11-10T12:45:00-05:00",
          "2010-11-10T13:00:00-05:00",
          "2010-11-10T13:15:00-05:00",
          "2010-11-10T13:30:00-05:00",
          "2010-11-10T13:45:00-05:00",
          "2010-11-10T14:00:00-05:00",
          "2010-11-10T14:15:00-05:00",
          "2010-11-10T14:30:00-05:00",
          "2010-11-10T14:45:00-05:00",
          "2010-11-10T15:00:00-05:00",
          "2010-11-10T15:15:00-05:00",
          "2010-11-10T15:30:00-05:00",
          "2010-11-10T15:45:00-05:00"
         ]
        },
        {
         "type": "scatter",
         "x": [
          "2010-11-10T09:00:00-05:00",
          "2010-11-10T09:15:00-05:00",
          "2010-11-10T09:30:00-05:00",
          "2010-11-10T09:45:00-05:00",
          "2010-11-10T10:00:00-05:00",
          "2010-11-10T10:15:00-05:00",
          "2010-11-10T10:30:00-05:00",
          "2010-11-10T10:45:00-05:00",
          "2010-11-10T11:00:00-05:00",
          "2010-11-10T11:15:00-05:00",
          "2010-11-10T11:30:00-05:00",
          "2010-11-10T11:45:00-05:00",
          "2010-11-10T12:00:00-05:00",
          "2010-11-10T12:15:00-05:00",
          "2010-11-10T12:30:00-05:00",
          "2010-11-10T12:45:00-05:00",
          "2010-11-10T13:00:00-05:00",
          "2010-11-10T13:15:00-05:00",
          "2010-11-10T13:30:00-05:00",
          "2010-11-10T13:45:00-05:00",
          "2010-11-10T14:00:00-05:00",
          "2010-11-10T14:15:00-05:00",
          "2010-11-10T14:30:00-05:00",
          "2010-11-10T14:45:00-05:00",
          "2010-11-10T15:00:00-05:00",
          "2010-11-10T15:15:00-05:00",
          "2010-11-10T15:30:00-05:00",
          "2010-11-10T15:45:00-05:00"
         ],
         "xaxis": "x",
         "y": [
          0.42037037037043085,
          0.4488888888889207,
          0.5333333333333292,
          0.41466666666667606,
          0.4883720930232497,
          0.6682926829267792,
          0.4616033755274103,
          0.6194444444444266,
          0.4666666666667193,
          0.4841269841269981,
          0.4645833333333559,
          0.35661375661375516,
          0.714942528735682,
          0.5657142857142528,
          0.5128205128204469,
          0.5433333333333146,
          0.2971428571427785,
          0.5075757575757184,
          0.5880341880342135,
          0.5619047619048225,
          0.4577777777777731,
          0.35277777777777236,
          0.5208333333333148,
          0.41666666666679497,
          0.548717948717928,
          0.4600000000001293,
          0.6980392156862011,
          0.39166666666659117
         ],
         "yaxis": "y2"
        }
       ],
       "layout": {
        "height": 500,
        "template": {
         "data": {
          "bar": [
           {
            "error_x": {
             "color": "#2a3f5f"
            },
            "error_y": {
             "color": "#2a3f5f"
            },
            "marker": {
             "line": {
              "color": "#E5ECF6",
              "width": 0.5
             },
             "pattern": {
              "fillmode": "overlay",
              "size": 10,
              "solidity": 0.2
             }
            },
            "type": "bar"
           }
          ],
          "barpolar": [
           {
            "marker": {
             "line": {
              "color": "#E5ECF6",
              "width": 0.5
             },
             "pattern": {
              "fillmode": "overlay",
              "size": 10,
              "solidity": 0.2
             }
            },
            "type": "barpolar"
           }
          ],
          "carpet": [
           {
            "aaxis": {
             "endlinecolor": "#2a3f5f",
             "gridcolor": "white",
             "linecolor": "white",
             "minorgridcolor": "white",
             "startlinecolor": "#2a3f5f"
            },
            "baxis": {
             "endlinecolor": "#2a3f5f",
             "gridcolor": "white",
             "linecolor": "white",
             "minorgridcolor": "white",
             "startlinecolor": "#2a3f5f"
            },
            "type": "carpet"
           }
          ],
          "choropleth": [
           {
            "colorbar": {
             "outlinewidth": 0,
             "ticks": ""
            },
            "type": "choropleth"
           }
          ],
          "contour": [
           {
            "colorbar": {
             "outlinewidth": 0,
             "ticks": ""
            },
            "colorscale": [
             [
              0,
              "#0d0887"
             ],
             [
              0.1111111111111111,
              "#46039f"
             ],
             [
              0.2222222222222222,
              "#7201a8"
             ],
             [
              0.3333333333333333,
              "#9c179e"
             ],
             [
              0.4444444444444444,
              "#bd3786"
             ],
             [
              0.5555555555555556,
              "#d8576b"
             ],
             [
              0.6666666666666666,
              "#ed7953"
             ],
             [
              0.7777777777777778,
              "#fb9f3a"
             ],
             [
              0.8888888888888888,
              "#fdca26"
             ],
             [
              1,
              "#f0f921"
             ]
            ],
            "type": "contour"
           }
          ],
          "contourcarpet": [
           {
            "colorbar": {
             "outlinewidth": 0,
             "ticks": ""
            },
            "type": "contourcarpet"
           }
          ],
          "heatmap": [
           {
            "colorbar": {
             "outlinewidth": 0,
             "ticks": ""
            },
            "colorscale": [
             [
              0,
              "#0d0887"
             ],
             [
              0.1111111111111111,
              "#46039f"
             ],
             [
              0.2222222222222222,
              "#7201a8"
             ],
             [
              0.3333333333333333,
              "#9c179e"
             ],
             [
              0.4444444444444444,
              "#bd3786"
             ],
             [
              0.5555555555555556,
              "#d8576b"
             ],
             [
              0.6666666666666666,
              "#ed7953"
             ],
             [
              0.7777777777777778,
              "#fb9f3a"
             ],
             [
              0.8888888888888888,
              "#fdca26"
             ],
             [
              1,
              "#f0f921"
             ]
            ],
            "type": "heatmap"
           }
          ],
          "heatmapgl": [
           {
            "colorbar": {
             "outlinewidth": 0,
             "ticks": ""
            },
            "colorscale": [
             [
              0,
              "#0d0887"
             ],
             [
              0.1111111111111111,
              "#46039f"
             ],
             [
              0.2222222222222222,
              "#7201a8"
             ],
             [
              0.3333333333333333,
              "#9c179e"
             ],
             [
              0.4444444444444444,
              "#bd3786"
             ],
             [
              0.5555555555555556,
              "#d8576b"
             ],
             [
              0.6666666666666666,
              "#ed7953"
             ],
             [
              0.7777777777777778,
              "#fb9f3a"
             ],
             [
              0.8888888888888888,
              "#fdca26"
             ],
             [
              1,
              "#f0f921"
             ]
            ],
            "type": "heatmapgl"
           }
          ],
          "histogram": [
           {
            "marker": {
             "pattern": {
              "fillmode": "overlay",
              "size": 10,
              "solidity": 0.2
             }
            },
            "type": "histogram"
           }
          ],
          "histogram2d": [
           {
            "colorbar": {
             "outlinewidth": 0,
             "ticks": ""
            },
            "colorscale": [
             [
              0,
              "#0d0887"
             ],
             [
              0.1111111111111111,
              "#46039f"
             ],
             [
              0.2222222222222222,
              "#7201a8"
             ],
             [
              0.3333333333333333,
              "#9c179e"
             ],
             [
              0.4444444444444444,
              "#bd3786"
             ],
             [
              0.5555555555555556,
              "#d8576b"
             ],
             [
              0.6666666666666666,
              "#ed7953"
             ],
             [
              0.7777777777777778,
              "#fb9f3a"
             ],
             [
              0.8888888888888888,
              "#fdca26"
             ],
             [
              1,
              "#f0f921"
             ]
            ],
            "type": "histogram2d"
           }
          ],
          "histogram2dcontour": [
           {
            "colorbar": {
             "outlinewidth": 0,
             "ticks": ""
            },
            "colorscale": [
             [
              0,
              "#0d0887"
             ],
             [
              0.1111111111111111,
              "#46039f"
             ],
             [
              0.2222222222222222,
              "#7201a8"
             ],
             [
              0.3333333333333333,
              "#9c179e"
             ],
             [
              0.4444444444444444,
              "#bd3786"
             ],
             [
              0.5555555555555556,
              "#d8576b"
             ],
             [
              0.6666666666666666,
              "#ed7953"
             ],
             [
              0.7777777777777778,
              "#fb9f3a"
             ],
             [
              0.8888888888888888,
              "#fdca26"
             ],
             [
              1,
              "#f0f921"
             ]
            ],
            "type": "histogram2dcontour"
           }
          ],
          "mesh3d": [
           {
            "colorbar": {
             "outlinewidth": 0,
             "ticks": ""
            },
            "type": "mesh3d"
           }
          ],
          "parcoords": [
           {
            "line": {
             "colorbar": {
              "outlinewidth": 0,
              "ticks": ""
             }
            },
            "type": "parcoords"
           }
          ],
          "pie": [
           {
            "automargin": true,
            "type": "pie"
           }
          ],
          "scatter": [
           {
            "fillpattern": {
             "fillmode": "overlay",
             "size": 10,
             "solidity": 0.2
            },
            "type": "scatter"
           }
          ],
          "scatter3d": [
           {
            "line": {
             "colorbar": {
              "outlinewidth": 0,
              "ticks": ""
             }
            },
            "marker": {
             "colorbar": {
              "outlinewidth": 0,
              "ticks": ""
             }
            },
            "type": "scatter3d"
           }
          ],
          "scattercarpet": [
           {
            "marker": {
             "colorbar": {
              "outlinewidth": 0,
              "ticks": ""
             }
            },
            "type": "scattercarpet"
           }
          ],
          "scattergeo": [
           {
            "marker": {
             "colorbar": {
              "outlinewidth": 0,
              "ticks": ""
             }
            },
            "type": "scattergeo"
           }
          ],
          "scattergl": [
           {
            "marker": {
             "colorbar": {
              "outlinewidth": 0,
              "ticks": ""
             }
            },
            "type": "scattergl"
           }
          ],
          "scattermapbox": [
           {
            "marker": {
             "colorbar": {
              "outlinewidth": 0,
              "ticks": ""
             }
            },
            "type": "scattermapbox"
           }
          ],
          "scatterpolar": [
           {
            "marker": {
             "colorbar": {
              "outlinewidth": 0,
              "ticks": ""
             }
            },
            "type": "scatterpolar"
           }
          ],
          "scatterpolargl": [
           {
            "marker": {
             "colorbar": {
              "outlinewidth": 0,
              "ticks": ""
             }
            },
            "type": "scatterpolargl"
           }
          ],
          "scatterternary": [
           {
            "marker": {
             "colorbar": {
              "outlinewidth": 0,
              "ticks": ""
             }
            },
            "type": "scatterternary"
           }
          ],
          "surface": [
           {
            "colorbar": {
             "outlinewidth": 0,
             "ticks": ""
            },
            "colorscale": [
             [
              0,
              "#0d0887"
             ],
             [
              0.1111111111111111,
              "#46039f"
             ],
             [
              0.2222222222222222,
              "#7201a8"
             ],
             [
              0.3333333333333333,
              "#9c179e"
             ],
             [
              0.4444444444444444,
              "#bd3786"
             ],
             [
              0.5555555555555556,
              "#d8576b"
             ],
             [
              0.6666666666666666,
              "#ed7953"
             ],
             [
              0.7777777777777778,
              "#fb9f3a"
             ],
             [
              0.8888888888888888,
              "#fdca26"
             ],
             [
              1,
              "#f0f921"
             ]
            ],
            "type": "surface"
           }
          ],
          "table": [
           {
            "cells": {
             "fill": {
              "color": "#EBF0F8"
             },
             "line": {
              "color": "white"
             }
            },
            "header": {
             "fill": {
              "color": "#C8D4E3"
             },
             "line": {
              "color": "white"
             }
            },
            "type": "table"
           }
          ]
         },
         "layout": {
          "annotationdefaults": {
           "arrowcolor": "#2a3f5f",
           "arrowhead": 0,
           "arrowwidth": 1
          },
          "autotypenumbers": "strict",
          "coloraxis": {
           "colorbar": {
            "outlinewidth": 0,
            "ticks": ""
           }
          },
          "colorscale": {
           "diverging": [
            [
             0,
             "#8e0152"
            ],
            [
             0.1,
             "#c51b7d"
            ],
            [
             0.2,
             "#de77ae"
            ],
            [
             0.3,
             "#f1b6da"
            ],
            [
             0.4,
             "#fde0ef"
            ],
            [
             0.5,
             "#f7f7f7"
            ],
            [
             0.6,
             "#e6f5d0"
            ],
            [
             0.7,
             "#b8e186"
            ],
            [
             0.8,
             "#7fbc41"
            ],
            [
             0.9,
             "#4d9221"
            ],
            [
             1,
             "#276419"
            ]
           ],
           "sequential": [
            [
             0,
             "#0d0887"
            ],
            [
             0.1111111111111111,
             "#46039f"
            ],
            [
             0.2222222222222222,
             "#7201a8"
            ],
            [
             0.3333333333333333,
             "#9c179e"
            ],
            [
             0.4444444444444444,
             "#bd3786"
            ],
            [
             0.5555555555555556,
             "#d8576b"
            ],
            [
             0.6666666666666666,
             "#ed7953"
            ],
            [
             0.7777777777777778,
             "#fb9f3a"
            ],
            [
             0.8888888888888888,
             "#fdca26"
            ],
            [
             1,
             "#f0f921"
            ]
           ],
           "sequentialminus": [
            [
             0,
             "#0d0887"
            ],
            [
             0.1111111111111111,
             "#46039f"
            ],
            [
             0.2222222222222222,
             "#7201a8"
            ],
            [
             0.3333333333333333,
             "#9c179e"
            ],
            [
             0.4444444444444444,
             "#bd3786"
            ],
            [
             0.5555555555555556,
             "#d8576b"
            ],
            [
             0.6666666666666666,
             "#ed7953"
            ],
            [
             0.7777777777777778,
             "#fb9f3a"
            ],
            [
             0.8888888888888888,
             "#fdca26"
            ],
            [
             1,
             "#f0f921"
            ]
           ]
          },
          "colorway": [
           "#636efa",
           "#EF553B",
           "#00cc96",
           "#ab63fa",
           "#FFA15A",
           "#19d3f3",
           "#FF6692",
           "#B6E880",
           "#FF97FF",
           "#FECB52"
          ],
          "font": {
           "color": "#2a3f5f"
          },
          "geo": {
           "bgcolor": "white",
           "lakecolor": "white",
           "landcolor": "#E5ECF6",
           "showlakes": true,
           "showland": true,
           "subunitcolor": "white"
          },
          "hoverlabel": {
           "align": "left"
          },
          "hovermode": "closest",
          "mapbox": {
           "style": "light"
          },
          "paper_bgcolor": "white",
          "plot_bgcolor": "#E5ECF6",
          "polar": {
           "angularaxis": {
            "gridcolor": "white",
            "linecolor": "white",
            "ticks": ""
           },
           "bgcolor": "#E5ECF6",
           "radialaxis": {
            "gridcolor": "white",
            "linecolor": "white",
            "ticks": ""
           }
          },
          "scene": {
           "xaxis": {
            "backgroundcolor": "#E5ECF6",
            "gridcolor": "white",
            "gridwidth": 2,
            "linecolor": "white",
            "showbackground": true,
            "ticks": "",
            "zerolinecolor": "white"
           },
           "yaxis": {
            "backgroundcolor": "#E5ECF6",
            "gridcolor": "white",
            "gridwidth": 2,
            "linecolor": "white",
            "showbackground": true,
            "ticks": "",
            "zerolinecolor": "white"
           },
           "zaxis": {
            "backgroundcolor": "#E5ECF6",
            "gridcolor": "white",
            "gridwidth": 2,
            "linecolor": "white",
            "showbackground": true,
            "ticks": "",
            "zerolinecolor": "white"
           }
          },
          "shapedefaults": {
           "line": {
            "color": "#2a3f5f"
           }
          },
          "ternary": {
           "aaxis": {
            "gridcolor": "white",
            "linecolor": "white",
            "ticks": ""
           },
           "baxis": {
            "gridcolor": "white",
            "linecolor": "white",
            "ticks": ""
           },
           "bgcolor": "#E5ECF6",
           "caxis": {
            "gridcolor": "white",
            "linecolor": "white",
            "ticks": ""
           }
          },
          "title": {
           "x": 0.05
          },
          "xaxis": {
           "automargin": true,
           "gridcolor": "white",
           "linecolor": "white",
           "ticks": "",
           "title": {
            "standoff": 15
           },
           "zerolinecolor": "white",
           "zerolinewidth": 2
          },
          "yaxis": {
           "automargin": true,
           "gridcolor": "white",
           "linecolor": "white",
           "ticks": "",
           "title": {
            "standoff": 15
           },
           "zerolinecolor": "white",
           "zerolinewidth": 2
          }
         }
        },
        "title": {
         "text": "2010-11-10"
        },
        "width": 2000,
        "xaxis": {
         "anchor": "y",
         "domain": [
          0,
          0.94
         ],
         "rangeslider": {
          "visible": false
         },
         "title": {
          "text": "Datetime"
         }
        },
        "yaxis": {
         "anchor": "x",
         "domain": [
          0,
          1
         ],
         "title": {
          "text": "Price ($)"
         }
        },
        "yaxis2": {
         "anchor": "x",
         "overlaying": "y",
         "side": "right"
        }
       }
      }
     },
     "metadata": {},
     "output_type": "display_data"
    },
    {
     "name": "stderr",
     "output_type": "stream",
     "text": [
      "/home/quincy/miniconda3/envs/finance/lib/python3.9/site-packages/plotly/graph_objs/_deprecations.py:378: DeprecationWarning:\n",
      "\n",
      "plotly.graph_objs.Line is deprecated.\n",
      "Please replace it with one of the following more specific types\n",
      "  - plotly.graph_objs.scatter.Line\n",
      "  - plotly.graph_objs.layout.shape.Line\n",
      "  - etc.\n",
      "\n",
      "\n"
     ]
    },
    {
     "data": {
      "application/vnd.plotly.v1+json": {
       "config": {
        "plotlyServerURL": "https://plot.ly"
       },
       "data": [
        {
         "close": [
          46.43,
          46.51,
          46.44,
          46.63,
          46.56,
          46.6,
          46.57,
          46.62,
          46.55,
          46.61,
          47.09,
          47.24,
          47.18,
          47.25,
          47.47,
          47.49,
          47.48,
          47.43,
          47.51,
          47.56,
          47.59,
          47.57,
          47.65,
          47.7,
          47.58,
          47.27,
          47.25,
          47.27
         ],
         "high": [
          46.45,
          46.58,
          46.51,
          46.64,
          46.63,
          46.66,
          46.62,
          46.64,
          46.66,
          46.66,
          47.12,
          47.4,
          47.3,
          47.34,
          47.47,
          47.67,
          47.52,
          47.49,
          47.54,
          47.61,
          47.64,
          47.74,
          47.78,
          47.73,
          47.7,
          47.64,
          47.32,
          47.34
         ],
         "low": [
          46.25,
          46.41,
          46.41,
          46.42,
          46.52,
          46.54,
          46.52,
          46.5,
          46.53,
          46.55,
          46.63,
          47.04,
          47.1,
          47.1,
          47.23,
          47.45,
          47.44,
          47.4,
          47.43,
          47.46,
          47.55,
          47.56,
          47.51,
          47.61,
          47.52,
          47.26,
          47.23,
          47.24
         ],
         "open": [
          46.35,
          46.43,
          46.51,
          46.44,
          46.62,
          46.57,
          46.6,
          46.57,
          46.62,
          46.55,
          46.63,
          47.09,
          47.24,
          47.19,
          47.24,
          47.47,
          47.49,
          47.48,
          47.44,
          47.51,
          47.57,
          47.59,
          47.56,
          47.64,
          47.69,
          47.58,
          47.27,
          47.25
         ],
         "showlegend": false,
         "type": "candlestick",
         "x": [
          "2017-05-10T09:00:00-04:00",
          "2017-05-10T09:15:00-04:00",
          "2017-05-10T09:30:00-04:00",
          "2017-05-10T09:45:00-04:00",
          "2017-05-10T10:00:00-04:00",
          "2017-05-10T10:15:00-04:00",
          "2017-05-10T10:30:00-04:00",
          "2017-05-10T10:45:00-04:00",
          "2017-05-10T11:00:00-04:00",
          "2017-05-10T11:15:00-04:00",
          "2017-05-10T11:30:00-04:00",
          "2017-05-10T11:45:00-04:00",
          "2017-05-10T12:00:00-04:00",
          "2017-05-10T12:15:00-04:00",
          "2017-05-10T12:30:00-04:00",
          "2017-05-10T12:45:00-04:00",
          "2017-05-10T13:00:00-04:00",
          "2017-05-10T13:15:00-04:00",
          "2017-05-10T13:30:00-04:00",
          "2017-05-10T13:45:00-04:00",
          "2017-05-10T14:00:00-04:00",
          "2017-05-10T14:15:00-04:00",
          "2017-05-10T14:30:00-04:00",
          "2017-05-10T14:45:00-04:00",
          "2017-05-10T15:00:00-04:00",
          "2017-05-10T15:15:00-04:00",
          "2017-05-10T15:30:00-04:00",
          "2017-05-10T15:45:00-04:00"
         ]
        },
        {
         "type": "scatter",
         "x": [
          "2017-05-10T09:00:00-04:00",
          "2017-05-10T09:15:00-04:00",
          "2017-05-10T09:30:00-04:00",
          "2017-05-10T09:45:00-04:00",
          "2017-05-10T10:00:00-04:00",
          "2017-05-10T10:15:00-04:00",
          "2017-05-10T10:30:00-04:00",
          "2017-05-10T10:45:00-04:00",
          "2017-05-10T11:00:00-04:00",
          "2017-05-10T11:15:00-04:00",
          "2017-05-10T11:30:00-04:00",
          "2017-05-10T11:45:00-04:00",
          "2017-05-10T12:00:00-04:00",
          "2017-05-10T12:15:00-04:00",
          "2017-05-10T12:30:00-04:00",
          "2017-05-10T12:45:00-04:00",
          "2017-05-10T13:00:00-04:00",
          "2017-05-10T13:15:00-04:00",
          "2017-05-10T13:30:00-04:00",
          "2017-05-10T13:45:00-04:00",
          "2017-05-10T14:00:00-04:00",
          "2017-05-10T14:15:00-04:00",
          "2017-05-10T14:30:00-04:00",
          "2017-05-10T14:45:00-04:00",
          "2017-05-10T15:00:00-04:00",
          "2017-05-10T15:15:00-04:00",
          "2017-05-10T15:30:00-04:00",
          "2017-05-10T15:45:00-04:00"
         ],
         "xaxis": "x",
         "y": [
          0.5033333333333729,
          0.6235294117646257,
          0.7066666666665256,
          0.4848484848484986,
          0.6909090909091637,
          0.572222222222164,
          0.3866666666665928,
          0.4047619047618395,
          0.48205128205123216,
          0.44848484848481757,
          0.25986394557821807,
          0.44444444444441594,
          0.5900000000000231,
          0.533333333333359,
          0.5777777777777686,
          0.5757575757576041,
          0.5333333333332386,
          0.5777777777777514,
          0.6181818181818663,
          0.4133333333334161,
          0.4518518518516764,
          0.6037037037036924,
          0.5160493827160688,
          0.4277777777777176,
          0.6222222222222337,
          0.31403508771928723,
          0.4370370370370809,
          0.6466666666667372
         ],
         "yaxis": "y2"
        }
       ],
       "layout": {
        "height": 500,
        "template": {
         "data": {
          "bar": [
           {
            "error_x": {
             "color": "#2a3f5f"
            },
            "error_y": {
             "color": "#2a3f5f"
            },
            "marker": {
             "line": {
              "color": "#E5ECF6",
              "width": 0.5
             },
             "pattern": {
              "fillmode": "overlay",
              "size": 10,
              "solidity": 0.2
             }
            },
            "type": "bar"
           }
          ],
          "barpolar": [
           {
            "marker": {
             "line": {
              "color": "#E5ECF6",
              "width": 0.5
             },
             "pattern": {
              "fillmode": "overlay",
              "size": 10,
              "solidity": 0.2
             }
            },
            "type": "barpolar"
           }
          ],
          "carpet": [
           {
            "aaxis": {
             "endlinecolor": "#2a3f5f",
             "gridcolor": "white",
             "linecolor": "white",
             "minorgridcolor": "white",
             "startlinecolor": "#2a3f5f"
            },
            "baxis": {
             "endlinecolor": "#2a3f5f",
             "gridcolor": "white",
             "linecolor": "white",
             "minorgridcolor": "white",
             "startlinecolor": "#2a3f5f"
            },
            "type": "carpet"
           }
          ],
          "choropleth": [
           {
            "colorbar": {
             "outlinewidth": 0,
             "ticks": ""
            },
            "type": "choropleth"
           }
          ],
          "contour": [
           {
            "colorbar": {
             "outlinewidth": 0,
             "ticks": ""
            },
            "colorscale": [
             [
              0,
              "#0d0887"
             ],
             [
              0.1111111111111111,
              "#46039f"
             ],
             [
              0.2222222222222222,
              "#7201a8"
             ],
             [
              0.3333333333333333,
              "#9c179e"
             ],
             [
              0.4444444444444444,
              "#bd3786"
             ],
             [
              0.5555555555555556,
              "#d8576b"
             ],
             [
              0.6666666666666666,
              "#ed7953"
             ],
             [
              0.7777777777777778,
              "#fb9f3a"
             ],
             [
              0.8888888888888888,
              "#fdca26"
             ],
             [
              1,
              "#f0f921"
             ]
            ],
            "type": "contour"
           }
          ],
          "contourcarpet": [
           {
            "colorbar": {
             "outlinewidth": 0,
             "ticks": ""
            },
            "type": "contourcarpet"
           }
          ],
          "heatmap": [
           {
            "colorbar": {
             "outlinewidth": 0,
             "ticks": ""
            },
            "colorscale": [
             [
              0,
              "#0d0887"
             ],
             [
              0.1111111111111111,
              "#46039f"
             ],
             [
              0.2222222222222222,
              "#7201a8"
             ],
             [
              0.3333333333333333,
              "#9c179e"
             ],
             [
              0.4444444444444444,
              "#bd3786"
             ],
             [
              0.5555555555555556,
              "#d8576b"
             ],
             [
              0.6666666666666666,
              "#ed7953"
             ],
             [
              0.7777777777777778,
              "#fb9f3a"
             ],
             [
              0.8888888888888888,
              "#fdca26"
             ],
             [
              1,
              "#f0f921"
             ]
            ],
            "type": "heatmap"
           }
          ],
          "heatmapgl": [
           {
            "colorbar": {
             "outlinewidth": 0,
             "ticks": ""
            },
            "colorscale": [
             [
              0,
              "#0d0887"
             ],
             [
              0.1111111111111111,
              "#46039f"
             ],
             [
              0.2222222222222222,
              "#7201a8"
             ],
             [
              0.3333333333333333,
              "#9c179e"
             ],
             [
              0.4444444444444444,
              "#bd3786"
             ],
             [
              0.5555555555555556,
              "#d8576b"
             ],
             [
              0.6666666666666666,
              "#ed7953"
             ],
             [
              0.7777777777777778,
              "#fb9f3a"
             ],
             [
              0.8888888888888888,
              "#fdca26"
             ],
             [
              1,
              "#f0f921"
             ]
            ],
            "type": "heatmapgl"
           }
          ],
          "histogram": [
           {
            "marker": {
             "pattern": {
              "fillmode": "overlay",
              "size": 10,
              "solidity": 0.2
             }
            },
            "type": "histogram"
           }
          ],
          "histogram2d": [
           {
            "colorbar": {
             "outlinewidth": 0,
             "ticks": ""
            },
            "colorscale": [
             [
              0,
              "#0d0887"
             ],
             [
              0.1111111111111111,
              "#46039f"
             ],
             [
              0.2222222222222222,
              "#7201a8"
             ],
             [
              0.3333333333333333,
              "#9c179e"
             ],
             [
              0.4444444444444444,
              "#bd3786"
             ],
             [
              0.5555555555555556,
              "#d8576b"
             ],
             [
              0.6666666666666666,
              "#ed7953"
             ],
             [
              0.7777777777777778,
              "#fb9f3a"
             ],
             [
              0.8888888888888888,
              "#fdca26"
             ],
             [
              1,
              "#f0f921"
             ]
            ],
            "type": "histogram2d"
           }
          ],
          "histogram2dcontour": [
           {
            "colorbar": {
             "outlinewidth": 0,
             "ticks": ""
            },
            "colorscale": [
             [
              0,
              "#0d0887"
             ],
             [
              0.1111111111111111,
              "#46039f"
             ],
             [
              0.2222222222222222,
              "#7201a8"
             ],
             [
              0.3333333333333333,
              "#9c179e"
             ],
             [
              0.4444444444444444,
              "#bd3786"
             ],
             [
              0.5555555555555556,
              "#d8576b"
             ],
             [
              0.6666666666666666,
              "#ed7953"
             ],
             [
              0.7777777777777778,
              "#fb9f3a"
             ],
             [
              0.8888888888888888,
              "#fdca26"
             ],
             [
              1,
              "#f0f921"
             ]
            ],
            "type": "histogram2dcontour"
           }
          ],
          "mesh3d": [
           {
            "colorbar": {
             "outlinewidth": 0,
             "ticks": ""
            },
            "type": "mesh3d"
           }
          ],
          "parcoords": [
           {
            "line": {
             "colorbar": {
              "outlinewidth": 0,
              "ticks": ""
             }
            },
            "type": "parcoords"
           }
          ],
          "pie": [
           {
            "automargin": true,
            "type": "pie"
           }
          ],
          "scatter": [
           {
            "fillpattern": {
             "fillmode": "overlay",
             "size": 10,
             "solidity": 0.2
            },
            "type": "scatter"
           }
          ],
          "scatter3d": [
           {
            "line": {
             "colorbar": {
              "outlinewidth": 0,
              "ticks": ""
             }
            },
            "marker": {
             "colorbar": {
              "outlinewidth": 0,
              "ticks": ""
             }
            },
            "type": "scatter3d"
           }
          ],
          "scattercarpet": [
           {
            "marker": {
             "colorbar": {
              "outlinewidth": 0,
              "ticks": ""
             }
            },
            "type": "scattercarpet"
           }
          ],
          "scattergeo": [
           {
            "marker": {
             "colorbar": {
              "outlinewidth": 0,
              "ticks": ""
             }
            },
            "type": "scattergeo"
           }
          ],
          "scattergl": [
           {
            "marker": {
             "colorbar": {
              "outlinewidth": 0,
              "ticks": ""
             }
            },
            "type": "scattergl"
           }
          ],
          "scattermapbox": [
           {
            "marker": {
             "colorbar": {
              "outlinewidth": 0,
              "ticks": ""
             }
            },
            "type": "scattermapbox"
           }
          ],
          "scatterpolar": [
           {
            "marker": {
             "colorbar": {
              "outlinewidth": 0,
              "ticks": ""
             }
            },
            "type": "scatterpolar"
           }
          ],
          "scatterpolargl": [
           {
            "marker": {
             "colorbar": {
              "outlinewidth": 0,
              "ticks": ""
             }
            },
            "type": "scatterpolargl"
           }
          ],
          "scatterternary": [
           {
            "marker": {
             "colorbar": {
              "outlinewidth": 0,
              "ticks": ""
             }
            },
            "type": "scatterternary"
           }
          ],
          "surface": [
           {
            "colorbar": {
             "outlinewidth": 0,
             "ticks": ""
            },
            "colorscale": [
             [
              0,
              "#0d0887"
             ],
             [
              0.1111111111111111,
              "#46039f"
             ],
             [
              0.2222222222222222,
              "#7201a8"
             ],
             [
              0.3333333333333333,
              "#9c179e"
             ],
             [
              0.4444444444444444,
              "#bd3786"
             ],
             [
              0.5555555555555556,
              "#d8576b"
             ],
             [
              0.6666666666666666,
              "#ed7953"
             ],
             [
              0.7777777777777778,
              "#fb9f3a"
             ],
             [
              0.8888888888888888,
              "#fdca26"
             ],
             [
              1,
              "#f0f921"
             ]
            ],
            "type": "surface"
           }
          ],
          "table": [
           {
            "cells": {
             "fill": {
              "color": "#EBF0F8"
             },
             "line": {
              "color": "white"
             }
            },
            "header": {
             "fill": {
              "color": "#C8D4E3"
             },
             "line": {
              "color": "white"
             }
            },
            "type": "table"
           }
          ]
         },
         "layout": {
          "annotationdefaults": {
           "arrowcolor": "#2a3f5f",
           "arrowhead": 0,
           "arrowwidth": 1
          },
          "autotypenumbers": "strict",
          "coloraxis": {
           "colorbar": {
            "outlinewidth": 0,
            "ticks": ""
           }
          },
          "colorscale": {
           "diverging": [
            [
             0,
             "#8e0152"
            ],
            [
             0.1,
             "#c51b7d"
            ],
            [
             0.2,
             "#de77ae"
            ],
            [
             0.3,
             "#f1b6da"
            ],
            [
             0.4,
             "#fde0ef"
            ],
            [
             0.5,
             "#f7f7f7"
            ],
            [
             0.6,
             "#e6f5d0"
            ],
            [
             0.7,
             "#b8e186"
            ],
            [
             0.8,
             "#7fbc41"
            ],
            [
             0.9,
             "#4d9221"
            ],
            [
             1,
             "#276419"
            ]
           ],
           "sequential": [
            [
             0,
             "#0d0887"
            ],
            [
             0.1111111111111111,
             "#46039f"
            ],
            [
             0.2222222222222222,
             "#7201a8"
            ],
            [
             0.3333333333333333,
             "#9c179e"
            ],
            [
             0.4444444444444444,
             "#bd3786"
            ],
            [
             0.5555555555555556,
             "#d8576b"
            ],
            [
             0.6666666666666666,
             "#ed7953"
            ],
            [
             0.7777777777777778,
             "#fb9f3a"
            ],
            [
             0.8888888888888888,
             "#fdca26"
            ],
            [
             1,
             "#f0f921"
            ]
           ],
           "sequentialminus": [
            [
             0,
             "#0d0887"
            ],
            [
             0.1111111111111111,
             "#46039f"
            ],
            [
             0.2222222222222222,
             "#7201a8"
            ],
            [
             0.3333333333333333,
             "#9c179e"
            ],
            [
             0.4444444444444444,
             "#bd3786"
            ],
            [
             0.5555555555555556,
             "#d8576b"
            ],
            [
             0.6666666666666666,
             "#ed7953"
            ],
            [
             0.7777777777777778,
             "#fb9f3a"
            ],
            [
             0.8888888888888888,
             "#fdca26"
            ],
            [
             1,
             "#f0f921"
            ]
           ]
          },
          "colorway": [
           "#636efa",
           "#EF553B",
           "#00cc96",
           "#ab63fa",
           "#FFA15A",
           "#19d3f3",
           "#FF6692",
           "#B6E880",
           "#FF97FF",
           "#FECB52"
          ],
          "font": {
           "color": "#2a3f5f"
          },
          "geo": {
           "bgcolor": "white",
           "lakecolor": "white",
           "landcolor": "#E5ECF6",
           "showlakes": true,
           "showland": true,
           "subunitcolor": "white"
          },
          "hoverlabel": {
           "align": "left"
          },
          "hovermode": "closest",
          "mapbox": {
           "style": "light"
          },
          "paper_bgcolor": "white",
          "plot_bgcolor": "#E5ECF6",
          "polar": {
           "angularaxis": {
            "gridcolor": "white",
            "linecolor": "white",
            "ticks": ""
           },
           "bgcolor": "#E5ECF6",
           "radialaxis": {
            "gridcolor": "white",
            "linecolor": "white",
            "ticks": ""
           }
          },
          "scene": {
           "xaxis": {
            "backgroundcolor": "#E5ECF6",
            "gridcolor": "white",
            "gridwidth": 2,
            "linecolor": "white",
            "showbackground": true,
            "ticks": "",
            "zerolinecolor": "white"
           },
           "yaxis": {
            "backgroundcolor": "#E5ECF6",
            "gridcolor": "white",
            "gridwidth": 2,
            "linecolor": "white",
            "showbackground": true,
            "ticks": "",
            "zerolinecolor": "white"
           },
           "zaxis": {
            "backgroundcolor": "#E5ECF6",
            "gridcolor": "white",
            "gridwidth": 2,
            "linecolor": "white",
            "showbackground": true,
            "ticks": "",
            "zerolinecolor": "white"
           }
          },
          "shapedefaults": {
           "line": {
            "color": "#2a3f5f"
           }
          },
          "ternary": {
           "aaxis": {
            "gridcolor": "white",
            "linecolor": "white",
            "ticks": ""
           },
           "baxis": {
            "gridcolor": "white",
            "linecolor": "white",
            "ticks": ""
           },
           "bgcolor": "#E5ECF6",
           "caxis": {
            "gridcolor": "white",
            "linecolor": "white",
            "ticks": ""
           }
          },
          "title": {
           "x": 0.05
          },
          "xaxis": {
           "automargin": true,
           "gridcolor": "white",
           "linecolor": "white",
           "ticks": "",
           "title": {
            "standoff": 15
           },
           "zerolinecolor": "white",
           "zerolinewidth": 2
          },
          "yaxis": {
           "automargin": true,
           "gridcolor": "white",
           "linecolor": "white",
           "ticks": "",
           "title": {
            "standoff": 15
           },
           "zerolinecolor": "white",
           "zerolinewidth": 2
          }
         }
        },
        "title": {
         "text": "2017-05-10"
        },
        "width": 2000,
        "xaxis": {
         "anchor": "y",
         "domain": [
          0,
          0.94
         ],
         "rangeslider": {
          "visible": false
         },
         "title": {
          "text": "Datetime"
         }
        },
        "yaxis": {
         "anchor": "x",
         "domain": [
          0,
          1
         ],
         "title": {
          "text": "Price ($)"
         }
        },
        "yaxis2": {
         "anchor": "x",
         "overlaying": "y",
         "side": "right"
        }
       }
      }
     },
     "metadata": {},
     "output_type": "display_data"
    },
    {
     "name": "stderr",
     "output_type": "stream",
     "text": [
      "/home/quincy/miniconda3/envs/finance/lib/python3.9/site-packages/plotly/graph_objs/_deprecations.py:378: DeprecationWarning:\n",
      "\n",
      "plotly.graph_objs.Line is deprecated.\n",
      "Please replace it with one of the following more specific types\n",
      "  - plotly.graph_objs.scatter.Line\n",
      "  - plotly.graph_objs.layout.shape.Line\n",
      "  - etc.\n",
      "\n",
      "\n"
     ]
    },
    {
     "data": {
      "application/vnd.plotly.v1+json": {
       "config": {
        "plotlyServerURL": "https://plot.ly"
       },
       "data": [
        {
         "close": [
          54.99,
          55.31,
          55.45,
          55.49,
          55.38,
          55.11,
          55.07,
          55.12,
          54.88,
          55.08,
          55.24,
          55.02,
          54.39,
          54.36,
          54.46,
          54.22,
          54.45,
          54.36,
          54.34,
          54.11,
          54.1,
          54.67,
          54.52,
          54.88,
          54.9,
          55.17,
          55.08,
          55.08
         ],
         "high": [
          55.52,
          55.31,
          55.48,
          55.56,
          55.59,
          55.4,
          55.25,
          55.19,
          55.13,
          55.12,
          55.48,
          55.35,
          55.03,
          54.61,
          54.62,
          54.5,
          54.47,
          54.45,
          54.45,
          54.37,
          54.23,
          54.76,
          54.95,
          54.91,
          54.92,
          55.33,
          55.34,
          55.13
         ],
         "low": [
          54.9,
          54.91,
          55.13,
          55.39,
          55.31,
          55.1,
          55.01,
          54.88,
          54.82,
          54.84,
          54.93,
          54.98,
          54.37,
          54.19,
          54.27,
          54.2,
          54.17,
          54.32,
          54.33,
          54.05,
          54.04,
          54,
          54.48,
          54.45,
          54.69,
          54.86,
          55.03,
          54.97
         ],
         "open": [
          55.47,
          54.99,
          55.3,
          55.45,
          55.51,
          55.38,
          55.12,
          55.06,
          55.12,
          54.89,
          55.1,
          55.24,
          55.01,
          54.38,
          54.36,
          54.46,
          54.22,
          54.45,
          54.35,
          54.34,
          54.11,
          54.11,
          54.68,
          54.52,
          54.87,
          54.9,
          55.18,
          55.09
         ],
         "showlegend": false,
         "type": "candlestick",
         "x": [
          "2019-08-14T09:00:00-04:00",
          "2019-08-14T09:15:00-04:00",
          "2019-08-14T09:30:00-04:00",
          "2019-08-14T09:45:00-04:00",
          "2019-08-14T10:00:00-04:00",
          "2019-08-14T10:15:00-04:00",
          "2019-08-14T10:30:00-04:00",
          "2019-08-14T10:45:00-04:00",
          "2019-08-14T11:00:00-04:00",
          "2019-08-14T11:15:00-04:00",
          "2019-08-14T11:30:00-04:00",
          "2019-08-14T11:45:00-04:00",
          "2019-08-14T12:00:00-04:00",
          "2019-08-14T12:15:00-04:00",
          "2019-08-14T12:30:00-04:00",
          "2019-08-14T12:45:00-04:00",
          "2019-08-14T13:00:00-04:00",
          "2019-08-14T13:15:00-04:00",
          "2019-08-14T13:30:00-04:00",
          "2019-08-14T13:45:00-04:00",
          "2019-08-14T14:00:00-04:00",
          "2019-08-14T14:15:00-04:00",
          "2019-08-14T14:30:00-04:00",
          "2019-08-14T14:45:00-04:00",
          "2019-08-14T15:00:00-04:00",
          "2019-08-14T15:15:00-04:00",
          "2019-08-14T15:30:00-04:00",
          "2019-08-14T15:45:00-04:00"
         ]
        },
        {
         "type": "scatter",
         "x": [
          "2019-08-14T09:00:00-04:00",
          "2019-08-14T09:15:00-04:00",
          "2019-08-14T09:30:00-04:00",
          "2019-08-14T09:45:00-04:00",
          "2019-08-14T10:00:00-04:00",
          "2019-08-14T10:15:00-04:00",
          "2019-08-14T10:30:00-04:00",
          "2019-08-14T10:45:00-04:00",
          "2019-08-14T11:00:00-04:00",
          "2019-08-14T11:15:00-04:00",
          "2019-08-14T11:30:00-04:00",
          "2019-08-14T11:45:00-04:00",
          "2019-08-14T12:00:00-04:00",
          "2019-08-14T12:15:00-04:00",
          "2019-08-14T12:30:00-04:00",
          "2019-08-14T12:45:00-04:00",
          "2019-08-14T13:00:00-04:00",
          "2019-08-14T13:15:00-04:00",
          "2019-08-14T13:30:00-04:00",
          "2019-08-14T13:45:00-04:00",
          "2019-08-14T14:00:00-04:00",
          "2019-08-14T14:15:00-04:00",
          "2019-08-14T14:30:00-04:00",
          "2019-08-14T14:45:00-04:00",
          "2019-08-14T15:00:00-04:00",
          "2019-08-14T15:15:00-04:00",
          "2019-08-14T15:30:00-04:00",
          "2019-08-14T15:45:00-04:00"
         ],
         "xaxis": "x",
         "y": [
          0.5075268817204507,
          0.3866666666666719,
          0.5485714285714177,
          0.5686274509803708,
          0.4404761904761941,
          0.5622222222222278,
          0.5249999999999563,
          0.44301075268817025,
          0.5612903225806624,
          0.46428571428568255,
          0.5139393939393917,
          0.513513513513501,
          0.529292929292938,
          0.4841269841269817,
          0.3790476190476215,
          0.49777777777777504,
          0.4711111111111229,
          0.5692307692307431,
          0.55,
          0.48541666666663774,
          0.37192982456145113,
          0.5114035087719297,
          0.6312056737588576,
          0.42463768115941986,
          0.4724637681159243,
          0.5078014184397335,
          0.6215053763440846,
          0.4541666666666783
         ],
         "yaxis": "y2"
        }
       ],
       "layout": {
        "height": 500,
        "template": {
         "data": {
          "bar": [
           {
            "error_x": {
             "color": "#2a3f5f"
            },
            "error_y": {
             "color": "#2a3f5f"
            },
            "marker": {
             "line": {
              "color": "#E5ECF6",
              "width": 0.5
             },
             "pattern": {
              "fillmode": "overlay",
              "size": 10,
              "solidity": 0.2
             }
            },
            "type": "bar"
           }
          ],
          "barpolar": [
           {
            "marker": {
             "line": {
              "color": "#E5ECF6",
              "width": 0.5
             },
             "pattern": {
              "fillmode": "overlay",
              "size": 10,
              "solidity": 0.2
             }
            },
            "type": "barpolar"
           }
          ],
          "carpet": [
           {
            "aaxis": {
             "endlinecolor": "#2a3f5f",
             "gridcolor": "white",
             "linecolor": "white",
             "minorgridcolor": "white",
             "startlinecolor": "#2a3f5f"
            },
            "baxis": {
             "endlinecolor": "#2a3f5f",
             "gridcolor": "white",
             "linecolor": "white",
             "minorgridcolor": "white",
             "startlinecolor": "#2a3f5f"
            },
            "type": "carpet"
           }
          ],
          "choropleth": [
           {
            "colorbar": {
             "outlinewidth": 0,
             "ticks": ""
            },
            "type": "choropleth"
           }
          ],
          "contour": [
           {
            "colorbar": {
             "outlinewidth": 0,
             "ticks": ""
            },
            "colorscale": [
             [
              0,
              "#0d0887"
             ],
             [
              0.1111111111111111,
              "#46039f"
             ],
             [
              0.2222222222222222,
              "#7201a8"
             ],
             [
              0.3333333333333333,
              "#9c179e"
             ],
             [
              0.4444444444444444,
              "#bd3786"
             ],
             [
              0.5555555555555556,
              "#d8576b"
             ],
             [
              0.6666666666666666,
              "#ed7953"
             ],
             [
              0.7777777777777778,
              "#fb9f3a"
             ],
             [
              0.8888888888888888,
              "#fdca26"
             ],
             [
              1,
              "#f0f921"
             ]
            ],
            "type": "contour"
           }
          ],
          "contourcarpet": [
           {
            "colorbar": {
             "outlinewidth": 0,
             "ticks": ""
            },
            "type": "contourcarpet"
           }
          ],
          "heatmap": [
           {
            "colorbar": {
             "outlinewidth": 0,
             "ticks": ""
            },
            "colorscale": [
             [
              0,
              "#0d0887"
             ],
             [
              0.1111111111111111,
              "#46039f"
             ],
             [
              0.2222222222222222,
              "#7201a8"
             ],
             [
              0.3333333333333333,
              "#9c179e"
             ],
             [
              0.4444444444444444,
              "#bd3786"
             ],
             [
              0.5555555555555556,
              "#d8576b"
             ],
             [
              0.6666666666666666,
              "#ed7953"
             ],
             [
              0.7777777777777778,
              "#fb9f3a"
             ],
             [
              0.8888888888888888,
              "#fdca26"
             ],
             [
              1,
              "#f0f921"
             ]
            ],
            "type": "heatmap"
           }
          ],
          "heatmapgl": [
           {
            "colorbar": {
             "outlinewidth": 0,
             "ticks": ""
            },
            "colorscale": [
             [
              0,
              "#0d0887"
             ],
             [
              0.1111111111111111,
              "#46039f"
             ],
             [
              0.2222222222222222,
              "#7201a8"
             ],
             [
              0.3333333333333333,
              "#9c179e"
             ],
             [
              0.4444444444444444,
              "#bd3786"
             ],
             [
              0.5555555555555556,
              "#d8576b"
             ],
             [
              0.6666666666666666,
              "#ed7953"
             ],
             [
              0.7777777777777778,
              "#fb9f3a"
             ],
             [
              0.8888888888888888,
              "#fdca26"
             ],
             [
              1,
              "#f0f921"
             ]
            ],
            "type": "heatmapgl"
           }
          ],
          "histogram": [
           {
            "marker": {
             "pattern": {
              "fillmode": "overlay",
              "size": 10,
              "solidity": 0.2
             }
            },
            "type": "histogram"
           }
          ],
          "histogram2d": [
           {
            "colorbar": {
             "outlinewidth": 0,
             "ticks": ""
            },
            "colorscale": [
             [
              0,
              "#0d0887"
             ],
             [
              0.1111111111111111,
              "#46039f"
             ],
             [
              0.2222222222222222,
              "#7201a8"
             ],
             [
              0.3333333333333333,
              "#9c179e"
             ],
             [
              0.4444444444444444,
              "#bd3786"
             ],
             [
              0.5555555555555556,
              "#d8576b"
             ],
             [
              0.6666666666666666,
              "#ed7953"
             ],
             [
              0.7777777777777778,
              "#fb9f3a"
             ],
             [
              0.8888888888888888,
              "#fdca26"
             ],
             [
              1,
              "#f0f921"
             ]
            ],
            "type": "histogram2d"
           }
          ],
          "histogram2dcontour": [
           {
            "colorbar": {
             "outlinewidth": 0,
             "ticks": ""
            },
            "colorscale": [
             [
              0,
              "#0d0887"
             ],
             [
              0.1111111111111111,
              "#46039f"
             ],
             [
              0.2222222222222222,
              "#7201a8"
             ],
             [
              0.3333333333333333,
              "#9c179e"
             ],
             [
              0.4444444444444444,
              "#bd3786"
             ],
             [
              0.5555555555555556,
              "#d8576b"
             ],
             [
              0.6666666666666666,
              "#ed7953"
             ],
             [
              0.7777777777777778,
              "#fb9f3a"
             ],
             [
              0.8888888888888888,
              "#fdca26"
             ],
             [
              1,
              "#f0f921"
             ]
            ],
            "type": "histogram2dcontour"
           }
          ],
          "mesh3d": [
           {
            "colorbar": {
             "outlinewidth": 0,
             "ticks": ""
            },
            "type": "mesh3d"
           }
          ],
          "parcoords": [
           {
            "line": {
             "colorbar": {
              "outlinewidth": 0,
              "ticks": ""
             }
            },
            "type": "parcoords"
           }
          ],
          "pie": [
           {
            "automargin": true,
            "type": "pie"
           }
          ],
          "scatter": [
           {
            "fillpattern": {
             "fillmode": "overlay",
             "size": 10,
             "solidity": 0.2
            },
            "type": "scatter"
           }
          ],
          "scatter3d": [
           {
            "line": {
             "colorbar": {
              "outlinewidth": 0,
              "ticks": ""
             }
            },
            "marker": {
             "colorbar": {
              "outlinewidth": 0,
              "ticks": ""
             }
            },
            "type": "scatter3d"
           }
          ],
          "scattercarpet": [
           {
            "marker": {
             "colorbar": {
              "outlinewidth": 0,
              "ticks": ""
             }
            },
            "type": "scattercarpet"
           }
          ],
          "scattergeo": [
           {
            "marker": {
             "colorbar": {
              "outlinewidth": 0,
              "ticks": ""
             }
            },
            "type": "scattergeo"
           }
          ],
          "scattergl": [
           {
            "marker": {
             "colorbar": {
              "outlinewidth": 0,
              "ticks": ""
             }
            },
            "type": "scattergl"
           }
          ],
          "scattermapbox": [
           {
            "marker": {
             "colorbar": {
              "outlinewidth": 0,
              "ticks": ""
             }
            },
            "type": "scattermapbox"
           }
          ],
          "scatterpolar": [
           {
            "marker": {
             "colorbar": {
              "outlinewidth": 0,
              "ticks": ""
             }
            },
            "type": "scatterpolar"
           }
          ],
          "scatterpolargl": [
           {
            "marker": {
             "colorbar": {
              "outlinewidth": 0,
              "ticks": ""
             }
            },
            "type": "scatterpolargl"
           }
          ],
          "scatterternary": [
           {
            "marker": {
             "colorbar": {
              "outlinewidth": 0,
              "ticks": ""
             }
            },
            "type": "scatterternary"
           }
          ],
          "surface": [
           {
            "colorbar": {
             "outlinewidth": 0,
             "ticks": ""
            },
            "colorscale": [
             [
              0,
              "#0d0887"
             ],
             [
              0.1111111111111111,
              "#46039f"
             ],
             [
              0.2222222222222222,
              "#7201a8"
             ],
             [
              0.3333333333333333,
              "#9c179e"
             ],
             [
              0.4444444444444444,
              "#bd3786"
             ],
             [
              0.5555555555555556,
              "#d8576b"
             ],
             [
              0.6666666666666666,
              "#ed7953"
             ],
             [
              0.7777777777777778,
              "#fb9f3a"
             ],
             [
              0.8888888888888888,
              "#fdca26"
             ],
             [
              1,
              "#f0f921"
             ]
            ],
            "type": "surface"
           }
          ],
          "table": [
           {
            "cells": {
             "fill": {
              "color": "#EBF0F8"
             },
             "line": {
              "color": "white"
             }
            },
            "header": {
             "fill": {
              "color": "#C8D4E3"
             },
             "line": {
              "color": "white"
             }
            },
            "type": "table"
           }
          ]
         },
         "layout": {
          "annotationdefaults": {
           "arrowcolor": "#2a3f5f",
           "arrowhead": 0,
           "arrowwidth": 1
          },
          "autotypenumbers": "strict",
          "coloraxis": {
           "colorbar": {
            "outlinewidth": 0,
            "ticks": ""
           }
          },
          "colorscale": {
           "diverging": [
            [
             0,
             "#8e0152"
            ],
            [
             0.1,
             "#c51b7d"
            ],
            [
             0.2,
             "#de77ae"
            ],
            [
             0.3,
             "#f1b6da"
            ],
            [
             0.4,
             "#fde0ef"
            ],
            [
             0.5,
             "#f7f7f7"
            ],
            [
             0.6,
             "#e6f5d0"
            ],
            [
             0.7,
             "#b8e186"
            ],
            [
             0.8,
             "#7fbc41"
            ],
            [
             0.9,
             "#4d9221"
            ],
            [
             1,
             "#276419"
            ]
           ],
           "sequential": [
            [
             0,
             "#0d0887"
            ],
            [
             0.1111111111111111,
             "#46039f"
            ],
            [
             0.2222222222222222,
             "#7201a8"
            ],
            [
             0.3333333333333333,
             "#9c179e"
            ],
            [
             0.4444444444444444,
             "#bd3786"
            ],
            [
             0.5555555555555556,
             "#d8576b"
            ],
            [
             0.6666666666666666,
             "#ed7953"
            ],
            [
             0.7777777777777778,
             "#fb9f3a"
            ],
            [
             0.8888888888888888,
             "#fdca26"
            ],
            [
             1,
             "#f0f921"
            ]
           ],
           "sequentialminus": [
            [
             0,
             "#0d0887"
            ],
            [
             0.1111111111111111,
             "#46039f"
            ],
            [
             0.2222222222222222,
             "#7201a8"
            ],
            [
             0.3333333333333333,
             "#9c179e"
            ],
            [
             0.4444444444444444,
             "#bd3786"
            ],
            [
             0.5555555555555556,
             "#d8576b"
            ],
            [
             0.6666666666666666,
             "#ed7953"
            ],
            [
             0.7777777777777778,
             "#fb9f3a"
            ],
            [
             0.8888888888888888,
             "#fdca26"
            ],
            [
             1,
             "#f0f921"
            ]
           ]
          },
          "colorway": [
           "#636efa",
           "#EF553B",
           "#00cc96",
           "#ab63fa",
           "#FFA15A",
           "#19d3f3",
           "#FF6692",
           "#B6E880",
           "#FF97FF",
           "#FECB52"
          ],
          "font": {
           "color": "#2a3f5f"
          },
          "geo": {
           "bgcolor": "white",
           "lakecolor": "white",
           "landcolor": "#E5ECF6",
           "showlakes": true,
           "showland": true,
           "subunitcolor": "white"
          },
          "hoverlabel": {
           "align": "left"
          },
          "hovermode": "closest",
          "mapbox": {
           "style": "light"
          },
          "paper_bgcolor": "white",
          "plot_bgcolor": "#E5ECF6",
          "polar": {
           "angularaxis": {
            "gridcolor": "white",
            "linecolor": "white",
            "ticks": ""
           },
           "bgcolor": "#E5ECF6",
           "radialaxis": {
            "gridcolor": "white",
            "linecolor": "white",
            "ticks": ""
           }
          },
          "scene": {
           "xaxis": {
            "backgroundcolor": "#E5ECF6",
            "gridcolor": "white",
            "gridwidth": 2,
            "linecolor": "white",
            "showbackground": true,
            "ticks": "",
            "zerolinecolor": "white"
           },
           "yaxis": {
            "backgroundcolor": "#E5ECF6",
            "gridcolor": "white",
            "gridwidth": 2,
            "linecolor": "white",
            "showbackground": true,
            "ticks": "",
            "zerolinecolor": "white"
           },
           "zaxis": {
            "backgroundcolor": "#E5ECF6",
            "gridcolor": "white",
            "gridwidth": 2,
            "linecolor": "white",
            "showbackground": true,
            "ticks": "",
            "zerolinecolor": "white"
           }
          },
          "shapedefaults": {
           "line": {
            "color": "#2a3f5f"
           }
          },
          "ternary": {
           "aaxis": {
            "gridcolor": "white",
            "linecolor": "white",
            "ticks": ""
           },
           "baxis": {
            "gridcolor": "white",
            "linecolor": "white",
            "ticks": ""
           },
           "bgcolor": "#E5ECF6",
           "caxis": {
            "gridcolor": "white",
            "linecolor": "white",
            "ticks": ""
           }
          },
          "title": {
           "x": 0.05
          },
          "xaxis": {
           "automargin": true,
           "gridcolor": "white",
           "linecolor": "white",
           "ticks": "",
           "title": {
            "standoff": 15
           },
           "zerolinecolor": "white",
           "zerolinewidth": 2
          },
          "yaxis": {
           "automargin": true,
           "gridcolor": "white",
           "linecolor": "white",
           "ticks": "",
           "title": {
            "standoff": 15
           },
           "zerolinecolor": "white",
           "zerolinewidth": 2
          }
         }
        },
        "title": {
         "text": "2019-08-14"
        },
        "width": 2000,
        "xaxis": {
         "anchor": "y",
         "domain": [
          0,
          0.94
         ],
         "rangeslider": {
          "visible": false
         },
         "title": {
          "text": "Datetime"
         }
        },
        "yaxis": {
         "anchor": "x",
         "domain": [
          0,
          1
         ],
         "title": {
          "text": "Price ($)"
         }
        },
        "yaxis2": {
         "anchor": "x",
         "overlaying": "y",
         "side": "right"
        }
       }
      }
     },
     "metadata": {},
     "output_type": "display_data"
    },
    {
     "name": "stderr",
     "output_type": "stream",
     "text": [
      "/home/quincy/miniconda3/envs/finance/lib/python3.9/site-packages/plotly/graph_objs/_deprecations.py:378: DeprecationWarning:\n",
      "\n",
      "plotly.graph_objs.Line is deprecated.\n",
      "Please replace it with one of the following more specific types\n",
      "  - plotly.graph_objs.scatter.Line\n",
      "  - plotly.graph_objs.layout.shape.Line\n",
      "  - etc.\n",
      "\n",
      "\n"
     ]
    },
    {
     "data": {
      "application/vnd.plotly.v1+json": {
       "config": {
        "plotlyServerURL": "https://plot.ly"
       },
       "data": [
        {
         "close": [
          91.52,
          91.86,
          91.7,
          91.84,
          91.68,
          91.66,
          92.22,
          92.19,
          92.24,
          91.99,
          91.96,
          91.75,
          91.98,
          92.08,
          91.9,
          91.99,
          92.04,
          92.14,
          92.1,
          92,
          91.67,
          91.84,
          91.88,
          91.86,
          91.71,
          91.68,
          91.72,
          91.73
         ],
         "high": [
          91.82,
          91.87,
          91.93,
          91.98,
          91.94,
          91.8,
          92.23,
          92.3,
          92.39,
          92.32,
          92.04,
          92,
          92.01,
          92.19,
          92.12,
          92.09,
          92.15,
          92.21,
          92.21,
          92.11,
          92.02,
          91.89,
          91.91,
          91.9,
          91.87,
          91.74,
          91.75,
          91.81
         ],
         "low": [
          91.5,
          91.48,
          91.64,
          91.65,
          91.65,
          91.58,
          91.5,
          92.05,
          92.08,
          91.87,
          91.8,
          91.71,
          91.75,
          91.99,
          91.89,
          91.86,
          91.94,
          91.98,
          92.07,
          91.92,
          91.6,
          91.42,
          91.74,
          91.84,
          91.7,
          91.67,
          91.67,
          91.72
         ],
         "open": [
          91.71,
          91.51,
          91.86,
          91.69,
          91.84,
          91.69,
          91.67,
          92.2,
          92.18,
          92.24,
          92,
          91.95,
          91.75,
          91.99,
          92.08,
          91.89,
          91.98,
          92.04,
          92.15,
          92.1,
          91.99,
          91.68,
          91.84,
          91.88,
          91.85,
          91.72,
          91.68,
          91.73
         ],
         "showlegend": false,
         "type": "candlestick",
         "x": [
          "2011-01-12T09:00:00-05:00",
          "2011-01-12T09:15:00-05:00",
          "2011-01-12T09:30:00-05:00",
          "2011-01-12T09:45:00-05:00",
          "2011-01-12T10:00:00-05:00",
          "2011-01-12T10:15:00-05:00",
          "2011-01-12T10:30:00-05:00",
          "2011-01-12T10:45:00-05:00",
          "2011-01-12T11:00:00-05:00",
          "2011-01-12T11:15:00-05:00",
          "2011-01-12T11:30:00-05:00",
          "2011-01-12T11:45:00-05:00",
          "2011-01-12T12:00:00-05:00",
          "2011-01-12T12:15:00-05:00",
          "2011-01-12T12:30:00-05:00",
          "2011-01-12T12:45:00-05:00",
          "2011-01-12T13:00:00-05:00",
          "2011-01-12T13:15:00-05:00",
          "2011-01-12T13:30:00-05:00",
          "2011-01-12T13:45:00-05:00",
          "2011-01-12T14:00:00-05:00",
          "2011-01-12T14:15:00-05:00",
          "2011-01-12T14:30:00-05:00",
          "2011-01-12T14:45:00-05:00",
          "2011-01-12T15:00:00-05:00",
          "2011-01-12T15:15:00-05:00",
          "2011-01-12T15:30:00-05:00",
          "2011-01-12T15:45:00-05:00"
         ]
        },
        {
         "type": "scatter",
         "x": [
          "2011-01-12T09:00:00-05:00",
          "2011-01-12T09:15:00-05:00",
          "2011-01-12T09:30:00-05:00",
          "2011-01-12T09:45:00-05:00",
          "2011-01-12T10:00:00-05:00",
          "2011-01-12T10:15:00-05:00",
          "2011-01-12T10:30:00-05:00",
          "2011-01-12T10:45:00-05:00",
          "2011-01-12T11:00:00-05:00",
          "2011-01-12T11:15:00-05:00",
          "2011-01-12T11:30:00-05:00",
          "2011-01-12T11:45:00-05:00",
          "2011-01-12T12:00:00-05:00",
          "2011-01-12T12:15:00-05:00",
          "2011-01-12T12:30:00-05:00",
          "2011-01-12T12:45:00-05:00",
          "2011-01-12T13:00:00-05:00",
          "2011-01-12T13:15:00-05:00",
          "2011-01-12T13:30:00-05:00",
          "2011-01-12T13:45:00-05:00",
          "2011-01-12T14:00:00-05:00",
          "2011-01-12T14:15:00-05:00",
          "2011-01-12T14:30:00-05:00",
          "2011-01-12T14:45:00-05:00",
          "2011-01-12T15:00:00-05:00",
          "2011-01-12T15:15:00-05:00",
          "2011-01-12T15:30:00-05:00",
          "2011-01-12T15:45:00-05:00"
         ],
         "xaxis": "x",
         "y": [
          0.6333333333333659,
          0.4051282051282806,
          0.43218390804600587,
          0.43030303030306316,
          0.5609195402298509,
          0.2787878787878334,
          0.4045662100456385,
          0.5813333333333048,
          0.5053763440860166,
          0.41925925925926116,
          0.4083333333333136,
          0.42528735632178616,
          0.45897435897433697,
          0.48999999999998795,
          0.7072463768115195,
          0.420289855072445,
          0.5492063492063567,
          0.498550724637633,
          0.42380952380958326,
          0.41754385964907714,
          0.7095238095237433,
          0.4780141843971891,
          0.28235294117647847,
          0.6777777777779883,
          0.4470588235294521,
          0.5142857142853778,
          0.3333333333332149,
          0.5777777777778305
         ],
         "yaxis": "y2"
        }
       ],
       "layout": {
        "height": 500,
        "template": {
         "data": {
          "bar": [
           {
            "error_x": {
             "color": "#2a3f5f"
            },
            "error_y": {
             "color": "#2a3f5f"
            },
            "marker": {
             "line": {
              "color": "#E5ECF6",
              "width": 0.5
             },
             "pattern": {
              "fillmode": "overlay",
              "size": 10,
              "solidity": 0.2
             }
            },
            "type": "bar"
           }
          ],
          "barpolar": [
           {
            "marker": {
             "line": {
              "color": "#E5ECF6",
              "width": 0.5
             },
             "pattern": {
              "fillmode": "overlay",
              "size": 10,
              "solidity": 0.2
             }
            },
            "type": "barpolar"
           }
          ],
          "carpet": [
           {
            "aaxis": {
             "endlinecolor": "#2a3f5f",
             "gridcolor": "white",
             "linecolor": "white",
             "minorgridcolor": "white",
             "startlinecolor": "#2a3f5f"
            },
            "baxis": {
             "endlinecolor": "#2a3f5f",
             "gridcolor": "white",
             "linecolor": "white",
             "minorgridcolor": "white",
             "startlinecolor": "#2a3f5f"
            },
            "type": "carpet"
           }
          ],
          "choropleth": [
           {
            "colorbar": {
             "outlinewidth": 0,
             "ticks": ""
            },
            "type": "choropleth"
           }
          ],
          "contour": [
           {
            "colorbar": {
             "outlinewidth": 0,
             "ticks": ""
            },
            "colorscale": [
             [
              0,
              "#0d0887"
             ],
             [
              0.1111111111111111,
              "#46039f"
             ],
             [
              0.2222222222222222,
              "#7201a8"
             ],
             [
              0.3333333333333333,
              "#9c179e"
             ],
             [
              0.4444444444444444,
              "#bd3786"
             ],
             [
              0.5555555555555556,
              "#d8576b"
             ],
             [
              0.6666666666666666,
              "#ed7953"
             ],
             [
              0.7777777777777778,
              "#fb9f3a"
             ],
             [
              0.8888888888888888,
              "#fdca26"
             ],
             [
              1,
              "#f0f921"
             ]
            ],
            "type": "contour"
           }
          ],
          "contourcarpet": [
           {
            "colorbar": {
             "outlinewidth": 0,
             "ticks": ""
            },
            "type": "contourcarpet"
           }
          ],
          "heatmap": [
           {
            "colorbar": {
             "outlinewidth": 0,
             "ticks": ""
            },
            "colorscale": [
             [
              0,
              "#0d0887"
             ],
             [
              0.1111111111111111,
              "#46039f"
             ],
             [
              0.2222222222222222,
              "#7201a8"
             ],
             [
              0.3333333333333333,
              "#9c179e"
             ],
             [
              0.4444444444444444,
              "#bd3786"
             ],
             [
              0.5555555555555556,
              "#d8576b"
             ],
             [
              0.6666666666666666,
              "#ed7953"
             ],
             [
              0.7777777777777778,
              "#fb9f3a"
             ],
             [
              0.8888888888888888,
              "#fdca26"
             ],
             [
              1,
              "#f0f921"
             ]
            ],
            "type": "heatmap"
           }
          ],
          "heatmapgl": [
           {
            "colorbar": {
             "outlinewidth": 0,
             "ticks": ""
            },
            "colorscale": [
             [
              0,
              "#0d0887"
             ],
             [
              0.1111111111111111,
              "#46039f"
             ],
             [
              0.2222222222222222,
              "#7201a8"
             ],
             [
              0.3333333333333333,
              "#9c179e"
             ],
             [
              0.4444444444444444,
              "#bd3786"
             ],
             [
              0.5555555555555556,
              "#d8576b"
             ],
             [
              0.6666666666666666,
              "#ed7953"
             ],
             [
              0.7777777777777778,
              "#fb9f3a"
             ],
             [
              0.8888888888888888,
              "#fdca26"
             ],
             [
              1,
              "#f0f921"
             ]
            ],
            "type": "heatmapgl"
           }
          ],
          "histogram": [
           {
            "marker": {
             "pattern": {
              "fillmode": "overlay",
              "size": 10,
              "solidity": 0.2
             }
            },
            "type": "histogram"
           }
          ],
          "histogram2d": [
           {
            "colorbar": {
             "outlinewidth": 0,
             "ticks": ""
            },
            "colorscale": [
             [
              0,
              "#0d0887"
             ],
             [
              0.1111111111111111,
              "#46039f"
             ],
             [
              0.2222222222222222,
              "#7201a8"
             ],
             [
              0.3333333333333333,
              "#9c179e"
             ],
             [
              0.4444444444444444,
              "#bd3786"
             ],
             [
              0.5555555555555556,
              "#d8576b"
             ],
             [
              0.6666666666666666,
              "#ed7953"
             ],
             [
              0.7777777777777778,
              "#fb9f3a"
             ],
             [
              0.8888888888888888,
              "#fdca26"
             ],
             [
              1,
              "#f0f921"
             ]
            ],
            "type": "histogram2d"
           }
          ],
          "histogram2dcontour": [
           {
            "colorbar": {
             "outlinewidth": 0,
             "ticks": ""
            },
            "colorscale": [
             [
              0,
              "#0d0887"
             ],
             [
              0.1111111111111111,
              "#46039f"
             ],
             [
              0.2222222222222222,
              "#7201a8"
             ],
             [
              0.3333333333333333,
              "#9c179e"
             ],
             [
              0.4444444444444444,
              "#bd3786"
             ],
             [
              0.5555555555555556,
              "#d8576b"
             ],
             [
              0.6666666666666666,
              "#ed7953"
             ],
             [
              0.7777777777777778,
              "#fb9f3a"
             ],
             [
              0.8888888888888888,
              "#fdca26"
             ],
             [
              1,
              "#f0f921"
             ]
            ],
            "type": "histogram2dcontour"
           }
          ],
          "mesh3d": [
           {
            "colorbar": {
             "outlinewidth": 0,
             "ticks": ""
            },
            "type": "mesh3d"
           }
          ],
          "parcoords": [
           {
            "line": {
             "colorbar": {
              "outlinewidth": 0,
              "ticks": ""
             }
            },
            "type": "parcoords"
           }
          ],
          "pie": [
           {
            "automargin": true,
            "type": "pie"
           }
          ],
          "scatter": [
           {
            "fillpattern": {
             "fillmode": "overlay",
             "size": 10,
             "solidity": 0.2
            },
            "type": "scatter"
           }
          ],
          "scatter3d": [
           {
            "line": {
             "colorbar": {
              "outlinewidth": 0,
              "ticks": ""
             }
            },
            "marker": {
             "colorbar": {
              "outlinewidth": 0,
              "ticks": ""
             }
            },
            "type": "scatter3d"
           }
          ],
          "scattercarpet": [
           {
            "marker": {
             "colorbar": {
              "outlinewidth": 0,
              "ticks": ""
             }
            },
            "type": "scattercarpet"
           }
          ],
          "scattergeo": [
           {
            "marker": {
             "colorbar": {
              "outlinewidth": 0,
              "ticks": ""
             }
            },
            "type": "scattergeo"
           }
          ],
          "scattergl": [
           {
            "marker": {
             "colorbar": {
              "outlinewidth": 0,
              "ticks": ""
             }
            },
            "type": "scattergl"
           }
          ],
          "scattermapbox": [
           {
            "marker": {
             "colorbar": {
              "outlinewidth": 0,
              "ticks": ""
             }
            },
            "type": "scattermapbox"
           }
          ],
          "scatterpolar": [
           {
            "marker": {
             "colorbar": {
              "outlinewidth": 0,
              "ticks": ""
             }
            },
            "type": "scatterpolar"
           }
          ],
          "scatterpolargl": [
           {
            "marker": {
             "colorbar": {
              "outlinewidth": 0,
              "ticks": ""
             }
            },
            "type": "scatterpolargl"
           }
          ],
          "scatterternary": [
           {
            "marker": {
             "colorbar": {
              "outlinewidth": 0,
              "ticks": ""
             }
            },
            "type": "scatterternary"
           }
          ],
          "surface": [
           {
            "colorbar": {
             "outlinewidth": 0,
             "ticks": ""
            },
            "colorscale": [
             [
              0,
              "#0d0887"
             ],
             [
              0.1111111111111111,
              "#46039f"
             ],
             [
              0.2222222222222222,
              "#7201a8"
             ],
             [
              0.3333333333333333,
              "#9c179e"
             ],
             [
              0.4444444444444444,
              "#bd3786"
             ],
             [
              0.5555555555555556,
              "#d8576b"
             ],
             [
              0.6666666666666666,
              "#ed7953"
             ],
             [
              0.7777777777777778,
              "#fb9f3a"
             ],
             [
              0.8888888888888888,
              "#fdca26"
             ],
             [
              1,
              "#f0f921"
             ]
            ],
            "type": "surface"
           }
          ],
          "table": [
           {
            "cells": {
             "fill": {
              "color": "#EBF0F8"
             },
             "line": {
              "color": "white"
             }
            },
            "header": {
             "fill": {
              "color": "#C8D4E3"
             },
             "line": {
              "color": "white"
             }
            },
            "type": "table"
           }
          ]
         },
         "layout": {
          "annotationdefaults": {
           "arrowcolor": "#2a3f5f",
           "arrowhead": 0,
           "arrowwidth": 1
          },
          "autotypenumbers": "strict",
          "coloraxis": {
           "colorbar": {
            "outlinewidth": 0,
            "ticks": ""
           }
          },
          "colorscale": {
           "diverging": [
            [
             0,
             "#8e0152"
            ],
            [
             0.1,
             "#c51b7d"
            ],
            [
             0.2,
             "#de77ae"
            ],
            [
             0.3,
             "#f1b6da"
            ],
            [
             0.4,
             "#fde0ef"
            ],
            [
             0.5,
             "#f7f7f7"
            ],
            [
             0.6,
             "#e6f5d0"
            ],
            [
             0.7,
             "#b8e186"
            ],
            [
             0.8,
             "#7fbc41"
            ],
            [
             0.9,
             "#4d9221"
            ],
            [
             1,
             "#276419"
            ]
           ],
           "sequential": [
            [
             0,
             "#0d0887"
            ],
            [
             0.1111111111111111,
             "#46039f"
            ],
            [
             0.2222222222222222,
             "#7201a8"
            ],
            [
             0.3333333333333333,
             "#9c179e"
            ],
            [
             0.4444444444444444,
             "#bd3786"
            ],
            [
             0.5555555555555556,
             "#d8576b"
            ],
            [
             0.6666666666666666,
             "#ed7953"
            ],
            [
             0.7777777777777778,
             "#fb9f3a"
            ],
            [
             0.8888888888888888,
             "#fdca26"
            ],
            [
             1,
             "#f0f921"
            ]
           ],
           "sequentialminus": [
            [
             0,
             "#0d0887"
            ],
            [
             0.1111111111111111,
             "#46039f"
            ],
            [
             0.2222222222222222,
             "#7201a8"
            ],
            [
             0.3333333333333333,
             "#9c179e"
            ],
            [
             0.4444444444444444,
             "#bd3786"
            ],
            [
             0.5555555555555556,
             "#d8576b"
            ],
            [
             0.6666666666666666,
             "#ed7953"
            ],
            [
             0.7777777777777778,
             "#fb9f3a"
            ],
            [
             0.8888888888888888,
             "#fdca26"
            ],
            [
             1,
             "#f0f921"
            ]
           ]
          },
          "colorway": [
           "#636efa",
           "#EF553B",
           "#00cc96",
           "#ab63fa",
           "#FFA15A",
           "#19d3f3",
           "#FF6692",
           "#B6E880",
           "#FF97FF",
           "#FECB52"
          ],
          "font": {
           "color": "#2a3f5f"
          },
          "geo": {
           "bgcolor": "white",
           "lakecolor": "white",
           "landcolor": "#E5ECF6",
           "showlakes": true,
           "showland": true,
           "subunitcolor": "white"
          },
          "hoverlabel": {
           "align": "left"
          },
          "hovermode": "closest",
          "mapbox": {
           "style": "light"
          },
          "paper_bgcolor": "white",
          "plot_bgcolor": "#E5ECF6",
          "polar": {
           "angularaxis": {
            "gridcolor": "white",
            "linecolor": "white",
            "ticks": ""
           },
           "bgcolor": "#E5ECF6",
           "radialaxis": {
            "gridcolor": "white",
            "linecolor": "white",
            "ticks": ""
           }
          },
          "scene": {
           "xaxis": {
            "backgroundcolor": "#E5ECF6",
            "gridcolor": "white",
            "gridwidth": 2,
            "linecolor": "white",
            "showbackground": true,
            "ticks": "",
            "zerolinecolor": "white"
           },
           "yaxis": {
            "backgroundcolor": "#E5ECF6",
            "gridcolor": "white",
            "gridwidth": 2,
            "linecolor": "white",
            "showbackground": true,
            "ticks": "",
            "zerolinecolor": "white"
           },
           "zaxis": {
            "backgroundcolor": "#E5ECF6",
            "gridcolor": "white",
            "gridwidth": 2,
            "linecolor": "white",
            "showbackground": true,
            "ticks": "",
            "zerolinecolor": "white"
           }
          },
          "shapedefaults": {
           "line": {
            "color": "#2a3f5f"
           }
          },
          "ternary": {
           "aaxis": {
            "gridcolor": "white",
            "linecolor": "white",
            "ticks": ""
           },
           "baxis": {
            "gridcolor": "white",
            "linecolor": "white",
            "ticks": ""
           },
           "bgcolor": "#E5ECF6",
           "caxis": {
            "gridcolor": "white",
            "linecolor": "white",
            "ticks": ""
           }
          },
          "title": {
           "x": 0.05
          },
          "xaxis": {
           "automargin": true,
           "gridcolor": "white",
           "linecolor": "white",
           "ticks": "",
           "title": {
            "standoff": 15
           },
           "zerolinecolor": "white",
           "zerolinewidth": 2
          },
          "yaxis": {
           "automargin": true,
           "gridcolor": "white",
           "linecolor": "white",
           "ticks": "",
           "title": {
            "standoff": 15
           },
           "zerolinecolor": "white",
           "zerolinewidth": 2
          }
         }
        },
        "title": {
         "text": "2011-01-12"
        },
        "width": 2000,
        "xaxis": {
         "anchor": "y",
         "domain": [
          0,
          0.94
         ],
         "rangeslider": {
          "visible": false
         },
         "title": {
          "text": "Datetime"
         }
        },
        "yaxis": {
         "anchor": "x",
         "domain": [
          0,
          1
         ],
         "title": {
          "text": "Price ($)"
         }
        },
        "yaxis2": {
         "anchor": "x",
         "overlaying": "y",
         "side": "right"
        }
       }
      }
     },
     "metadata": {},
     "output_type": "display_data"
    },
    {
     "name": "stderr",
     "output_type": "stream",
     "text": [
      "/home/quincy/miniconda3/envs/finance/lib/python3.9/site-packages/plotly/graph_objs/_deprecations.py:378: DeprecationWarning:\n",
      "\n",
      "plotly.graph_objs.Line is deprecated.\n",
      "Please replace it with one of the following more specific types\n",
      "  - plotly.graph_objs.scatter.Line\n",
      "  - plotly.graph_objs.layout.shape.Line\n",
      "  - etc.\n",
      "\n",
      "\n"
     ]
    },
    {
     "data": {
      "application/vnd.plotly.v1+json": {
       "config": {
        "plotlyServerURL": "https://plot.ly"
       },
       "data": [
        {
         "close": [
          75.77,
          75.48,
          75.2,
          75.21,
          75.07,
          75.41,
          75.27,
          75.42,
          75.41,
          75.33,
          75.79,
          75.64,
          75.27,
          75.49,
          75.58,
          75.7,
          75.78,
          75.65,
          75.66,
          75.66,
          75.73,
          75.71,
          75.83,
          75.85,
          76.01,
          75.96,
          75.69,
          75.83
         ],
         "high": [
          75.79,
          75.8,
          75.58,
          75.43,
          75.24,
          75.43,
          75.46,
          75.45,
          75.48,
          75.47,
          75.83,
          75.89,
          75.69,
          75.49,
          75.73,
          75.78,
          75.94,
          75.82,
          75.78,
          75.73,
          75.76,
          75.82,
          75.95,
          75.92,
          76.18,
          76.18,
          75.96,
          75.84
         ],
         "low": [
          75.55,
          75.48,
          75.17,
          75.11,
          74.66,
          74.92,
          75.17,
          75.02,
          75.16,
          75.25,
          75.35,
          75.37,
          75.13,
          75.09,
          75.36,
          75.44,
          75.7,
          75.59,
          75.62,
          75.5,
          75.62,
          75.68,
          75.55,
          75.72,
          75.82,
          75.76,
          75.66,
          75.68
         ],
         "open": [
          75.68,
          75.78,
          75.49,
          75.19,
          75.22,
          75.07,
          75.42,
          75.26,
          75.4,
          75.41,
          75.38,
          75.8,
          75.64,
          75.26,
          75.49,
          75.59,
          75.7,
          75.77,
          75.64,
          75.66,
          75.67,
          75.73,
          75.71,
          75.84,
          75.84,
          76,
          75.96,
          75.7
         ],
         "showlegend": false,
         "type": "candlestick",
         "x": [
          "2010-09-15T09:00:00-04:00",
          "2010-09-15T09:15:00-04:00",
          "2010-09-15T09:30:00-04:00",
          "2010-09-15T09:45:00-04:00",
          "2010-09-15T10:00:00-04:00",
          "2010-09-15T10:15:00-04:00",
          "2010-09-15T10:30:00-04:00",
          "2010-09-15T10:45:00-04:00",
          "2010-09-15T11:00:00-04:00",
          "2010-09-15T11:15:00-04:00",
          "2010-09-15T11:30:00-04:00",
          "2010-09-15T11:45:00-04:00",
          "2010-09-15T12:00:00-04:00",
          "2010-09-15T12:15:00-04:00",
          "2010-09-15T12:30:00-04:00",
          "2010-09-15T12:45:00-04:00",
          "2010-09-15T13:00:00-04:00",
          "2010-09-15T13:15:00-04:00",
          "2010-09-15T13:30:00-04:00",
          "2010-09-15T13:45:00-04:00",
          "2010-09-15T14:00:00-04:00",
          "2010-09-15T14:15:00-04:00",
          "2010-09-15T14:30:00-04:00",
          "2010-09-15T14:45:00-04:00",
          "2010-09-15T15:00:00-04:00",
          "2010-09-15T15:15:00-04:00",
          "2010-09-15T15:30:00-04:00",
          "2010-09-15T15:45:00-04:00"
         ]
        },
        {
         "type": "scatter",
         "x": [
          "2010-09-15T09:00:00-04:00",
          "2010-09-15T09:15:00-04:00",
          "2010-09-15T09:30:00-04:00",
          "2010-09-15T09:45:00-04:00",
          "2010-09-15T10:00:00-04:00",
          "2010-09-15T10:15:00-04:00",
          "2010-09-15T10:30:00-04:00",
          "2010-09-15T10:45:00-04:00",
          "2010-09-15T11:00:00-04:00",
          "2010-09-15T11:15:00-04:00",
          "2010-09-15T11:30:00-04:00",
          "2010-09-15T11:45:00-04:00",
          "2010-09-15T12:00:00-04:00",
          "2010-09-15T12:15:00-04:00",
          "2010-09-15T12:30:00-04:00",
          "2010-09-15T12:45:00-04:00",
          "2010-09-15T13:00:00-04:00",
          "2010-09-15T13:15:00-04:00",
          "2010-09-15T13:30:00-04:00",
          "2010-09-15T13:45:00-04:00",
          "2010-09-15T14:00:00-04:00",
          "2010-09-15T14:15:00-04:00",
          "2010-09-15T14:30:00-04:00",
          "2010-09-15T14:45:00-04:00",
          "2010-09-15T15:00:00-04:00",
          "2010-09-15T15:15:00-04:00",
          "2010-09-15T15:30:00-04:00",
          "2010-09-15T15:45:00-04:00"
         ],
         "xaxis": "x",
         "y": [
          0.6638888888889349,
          0.5874999999999756,
          0.6471544715447145,
          0.3687500000000203,
          0.5183908045977115,
          0.41176470588233655,
          0.5126436781608986,
          0.3317829457364047,
          0.6145833333333375,
          0.4484848484848821,
          0.40138888888888763,
          0.5371794871794783,
          0.5333333333333232,
          0.4283333333333508,
          0.4810810810811062,
          0.4588235294117357,
          0.3972222222222129,
          0.5101449275362602,
          0.6416666666666652,
          0.5072463768116183,
          0.4714285714285874,
          0.5285714285713647,
          0.6600000000000157,
          0.46000000000005825,
          0.44074074074074954,
          0.5428571428571612,
          0.5844444444443827,
          0.5500000000000622
         ],
         "yaxis": "y2"
        }
       ],
       "layout": {
        "height": 500,
        "template": {
         "data": {
          "bar": [
           {
            "error_x": {
             "color": "#2a3f5f"
            },
            "error_y": {
             "color": "#2a3f5f"
            },
            "marker": {
             "line": {
              "color": "#E5ECF6",
              "width": 0.5
             },
             "pattern": {
              "fillmode": "overlay",
              "size": 10,
              "solidity": 0.2
             }
            },
            "type": "bar"
           }
          ],
          "barpolar": [
           {
            "marker": {
             "line": {
              "color": "#E5ECF6",
              "width": 0.5
             },
             "pattern": {
              "fillmode": "overlay",
              "size": 10,
              "solidity": 0.2
             }
            },
            "type": "barpolar"
           }
          ],
          "carpet": [
           {
            "aaxis": {
             "endlinecolor": "#2a3f5f",
             "gridcolor": "white",
             "linecolor": "white",
             "minorgridcolor": "white",
             "startlinecolor": "#2a3f5f"
            },
            "baxis": {
             "endlinecolor": "#2a3f5f",
             "gridcolor": "white",
             "linecolor": "white",
             "minorgridcolor": "white",
             "startlinecolor": "#2a3f5f"
            },
            "type": "carpet"
           }
          ],
          "choropleth": [
           {
            "colorbar": {
             "outlinewidth": 0,
             "ticks": ""
            },
            "type": "choropleth"
           }
          ],
          "contour": [
           {
            "colorbar": {
             "outlinewidth": 0,
             "ticks": ""
            },
            "colorscale": [
             [
              0,
              "#0d0887"
             ],
             [
              0.1111111111111111,
              "#46039f"
             ],
             [
              0.2222222222222222,
              "#7201a8"
             ],
             [
              0.3333333333333333,
              "#9c179e"
             ],
             [
              0.4444444444444444,
              "#bd3786"
             ],
             [
              0.5555555555555556,
              "#d8576b"
             ],
             [
              0.6666666666666666,
              "#ed7953"
             ],
             [
              0.7777777777777778,
              "#fb9f3a"
             ],
             [
              0.8888888888888888,
              "#fdca26"
             ],
             [
              1,
              "#f0f921"
             ]
            ],
            "type": "contour"
           }
          ],
          "contourcarpet": [
           {
            "colorbar": {
             "outlinewidth": 0,
             "ticks": ""
            },
            "type": "contourcarpet"
           }
          ],
          "heatmap": [
           {
            "colorbar": {
             "outlinewidth": 0,
             "ticks": ""
            },
            "colorscale": [
             [
              0,
              "#0d0887"
             ],
             [
              0.1111111111111111,
              "#46039f"
             ],
             [
              0.2222222222222222,
              "#7201a8"
             ],
             [
              0.3333333333333333,
              "#9c179e"
             ],
             [
              0.4444444444444444,
              "#bd3786"
             ],
             [
              0.5555555555555556,
              "#d8576b"
             ],
             [
              0.6666666666666666,
              "#ed7953"
             ],
             [
              0.7777777777777778,
              "#fb9f3a"
             ],
             [
              0.8888888888888888,
              "#fdca26"
             ],
             [
              1,
              "#f0f921"
             ]
            ],
            "type": "heatmap"
           }
          ],
          "heatmapgl": [
           {
            "colorbar": {
             "outlinewidth": 0,
             "ticks": ""
            },
            "colorscale": [
             [
              0,
              "#0d0887"
             ],
             [
              0.1111111111111111,
              "#46039f"
             ],
             [
              0.2222222222222222,
              "#7201a8"
             ],
             [
              0.3333333333333333,
              "#9c179e"
             ],
             [
              0.4444444444444444,
              "#bd3786"
             ],
             [
              0.5555555555555556,
              "#d8576b"
             ],
             [
              0.6666666666666666,
              "#ed7953"
             ],
             [
              0.7777777777777778,
              "#fb9f3a"
             ],
             [
              0.8888888888888888,
              "#fdca26"
             ],
             [
              1,
              "#f0f921"
             ]
            ],
            "type": "heatmapgl"
           }
          ],
          "histogram": [
           {
            "marker": {
             "pattern": {
              "fillmode": "overlay",
              "size": 10,
              "solidity": 0.2
             }
            },
            "type": "histogram"
           }
          ],
          "histogram2d": [
           {
            "colorbar": {
             "outlinewidth": 0,
             "ticks": ""
            },
            "colorscale": [
             [
              0,
              "#0d0887"
             ],
             [
              0.1111111111111111,
              "#46039f"
             ],
             [
              0.2222222222222222,
              "#7201a8"
             ],
             [
              0.3333333333333333,
              "#9c179e"
             ],
             [
              0.4444444444444444,
              "#bd3786"
             ],
             [
              0.5555555555555556,
              "#d8576b"
             ],
             [
              0.6666666666666666,
              "#ed7953"
             ],
             [
              0.7777777777777778,
              "#fb9f3a"
             ],
             [
              0.8888888888888888,
              "#fdca26"
             ],
             [
              1,
              "#f0f921"
             ]
            ],
            "type": "histogram2d"
           }
          ],
          "histogram2dcontour": [
           {
            "colorbar": {
             "outlinewidth": 0,
             "ticks": ""
            },
            "colorscale": [
             [
              0,
              "#0d0887"
             ],
             [
              0.1111111111111111,
              "#46039f"
             ],
             [
              0.2222222222222222,
              "#7201a8"
             ],
             [
              0.3333333333333333,
              "#9c179e"
             ],
             [
              0.4444444444444444,
              "#bd3786"
             ],
             [
              0.5555555555555556,
              "#d8576b"
             ],
             [
              0.6666666666666666,
              "#ed7953"
             ],
             [
              0.7777777777777778,
              "#fb9f3a"
             ],
             [
              0.8888888888888888,
              "#fdca26"
             ],
             [
              1,
              "#f0f921"
             ]
            ],
            "type": "histogram2dcontour"
           }
          ],
          "mesh3d": [
           {
            "colorbar": {
             "outlinewidth": 0,
             "ticks": ""
            },
            "type": "mesh3d"
           }
          ],
          "parcoords": [
           {
            "line": {
             "colorbar": {
              "outlinewidth": 0,
              "ticks": ""
             }
            },
            "type": "parcoords"
           }
          ],
          "pie": [
           {
            "automargin": true,
            "type": "pie"
           }
          ],
          "scatter": [
           {
            "fillpattern": {
             "fillmode": "overlay",
             "size": 10,
             "solidity": 0.2
            },
            "type": "scatter"
           }
          ],
          "scatter3d": [
           {
            "line": {
             "colorbar": {
              "outlinewidth": 0,
              "ticks": ""
             }
            },
            "marker": {
             "colorbar": {
              "outlinewidth": 0,
              "ticks": ""
             }
            },
            "type": "scatter3d"
           }
          ],
          "scattercarpet": [
           {
            "marker": {
             "colorbar": {
              "outlinewidth": 0,
              "ticks": ""
             }
            },
            "type": "scattercarpet"
           }
          ],
          "scattergeo": [
           {
            "marker": {
             "colorbar": {
              "outlinewidth": 0,
              "ticks": ""
             }
            },
            "type": "scattergeo"
           }
          ],
          "scattergl": [
           {
            "marker": {
             "colorbar": {
              "outlinewidth": 0,
              "ticks": ""
             }
            },
            "type": "scattergl"
           }
          ],
          "scattermapbox": [
           {
            "marker": {
             "colorbar": {
              "outlinewidth": 0,
              "ticks": ""
             }
            },
            "type": "scattermapbox"
           }
          ],
          "scatterpolar": [
           {
            "marker": {
             "colorbar": {
              "outlinewidth": 0,
              "ticks": ""
             }
            },
            "type": "scatterpolar"
           }
          ],
          "scatterpolargl": [
           {
            "marker": {
             "colorbar": {
              "outlinewidth": 0,
              "ticks": ""
             }
            },
            "type": "scatterpolargl"
           }
          ],
          "scatterternary": [
           {
            "marker": {
             "colorbar": {
              "outlinewidth": 0,
              "ticks": ""
             }
            },
            "type": "scatterternary"
           }
          ],
          "surface": [
           {
            "colorbar": {
             "outlinewidth": 0,
             "ticks": ""
            },
            "colorscale": [
             [
              0,
              "#0d0887"
             ],
             [
              0.1111111111111111,
              "#46039f"
             ],
             [
              0.2222222222222222,
              "#7201a8"
             ],
             [
              0.3333333333333333,
              "#9c179e"
             ],
             [
              0.4444444444444444,
              "#bd3786"
             ],
             [
              0.5555555555555556,
              "#d8576b"
             ],
             [
              0.6666666666666666,
              "#ed7953"
             ],
             [
              0.7777777777777778,
              "#fb9f3a"
             ],
             [
              0.8888888888888888,
              "#fdca26"
             ],
             [
              1,
              "#f0f921"
             ]
            ],
            "type": "surface"
           }
          ],
          "table": [
           {
            "cells": {
             "fill": {
              "color": "#EBF0F8"
             },
             "line": {
              "color": "white"
             }
            },
            "header": {
             "fill": {
              "color": "#C8D4E3"
             },
             "line": {
              "color": "white"
             }
            },
            "type": "table"
           }
          ]
         },
         "layout": {
          "annotationdefaults": {
           "arrowcolor": "#2a3f5f",
           "arrowhead": 0,
           "arrowwidth": 1
          },
          "autotypenumbers": "strict",
          "coloraxis": {
           "colorbar": {
            "outlinewidth": 0,
            "ticks": ""
           }
          },
          "colorscale": {
           "diverging": [
            [
             0,
             "#8e0152"
            ],
            [
             0.1,
             "#c51b7d"
            ],
            [
             0.2,
             "#de77ae"
            ],
            [
             0.3,
             "#f1b6da"
            ],
            [
             0.4,
             "#fde0ef"
            ],
            [
             0.5,
             "#f7f7f7"
            ],
            [
             0.6,
             "#e6f5d0"
            ],
            [
             0.7,
             "#b8e186"
            ],
            [
             0.8,
             "#7fbc41"
            ],
            [
             0.9,
             "#4d9221"
            ],
            [
             1,
             "#276419"
            ]
           ],
           "sequential": [
            [
             0,
             "#0d0887"
            ],
            [
             0.1111111111111111,
             "#46039f"
            ],
            [
             0.2222222222222222,
             "#7201a8"
            ],
            [
             0.3333333333333333,
             "#9c179e"
            ],
            [
             0.4444444444444444,
             "#bd3786"
            ],
            [
             0.5555555555555556,
             "#d8576b"
            ],
            [
             0.6666666666666666,
             "#ed7953"
            ],
            [
             0.7777777777777778,
             "#fb9f3a"
            ],
            [
             0.8888888888888888,
             "#fdca26"
            ],
            [
             1,
             "#f0f921"
            ]
           ],
           "sequentialminus": [
            [
             0,
             "#0d0887"
            ],
            [
             0.1111111111111111,
             "#46039f"
            ],
            [
             0.2222222222222222,
             "#7201a8"
            ],
            [
             0.3333333333333333,
             "#9c179e"
            ],
            [
             0.4444444444444444,
             "#bd3786"
            ],
            [
             0.5555555555555556,
             "#d8576b"
            ],
            [
             0.6666666666666666,
             "#ed7953"
            ],
            [
             0.7777777777777778,
             "#fb9f3a"
            ],
            [
             0.8888888888888888,
             "#fdca26"
            ],
            [
             1,
             "#f0f921"
            ]
           ]
          },
          "colorway": [
           "#636efa",
           "#EF553B",
           "#00cc96",
           "#ab63fa",
           "#FFA15A",
           "#19d3f3",
           "#FF6692",
           "#B6E880",
           "#FF97FF",
           "#FECB52"
          ],
          "font": {
           "color": "#2a3f5f"
          },
          "geo": {
           "bgcolor": "white",
           "lakecolor": "white",
           "landcolor": "#E5ECF6",
           "showlakes": true,
           "showland": true,
           "subunitcolor": "white"
          },
          "hoverlabel": {
           "align": "left"
          },
          "hovermode": "closest",
          "mapbox": {
           "style": "light"
          },
          "paper_bgcolor": "white",
          "plot_bgcolor": "#E5ECF6",
          "polar": {
           "angularaxis": {
            "gridcolor": "white",
            "linecolor": "white",
            "ticks": ""
           },
           "bgcolor": "#E5ECF6",
           "radialaxis": {
            "gridcolor": "white",
            "linecolor": "white",
            "ticks": ""
           }
          },
          "scene": {
           "xaxis": {
            "backgroundcolor": "#E5ECF6",
            "gridcolor": "white",
            "gridwidth": 2,
            "linecolor": "white",
            "showbackground": true,
            "ticks": "",
            "zerolinecolor": "white"
           },
           "yaxis": {
            "backgroundcolor": "#E5ECF6",
            "gridcolor": "white",
            "gridwidth": 2,
            "linecolor": "white",
            "showbackground": true,
            "ticks": "",
            "zerolinecolor": "white"
           },
           "zaxis": {
            "backgroundcolor": "#E5ECF6",
            "gridcolor": "white",
            "gridwidth": 2,
            "linecolor": "white",
            "showbackground": true,
            "ticks": "",
            "zerolinecolor": "white"
           }
          },
          "shapedefaults": {
           "line": {
            "color": "#2a3f5f"
           }
          },
          "ternary": {
           "aaxis": {
            "gridcolor": "white",
            "linecolor": "white",
            "ticks": ""
           },
           "baxis": {
            "gridcolor": "white",
            "linecolor": "white",
            "ticks": ""
           },
           "bgcolor": "#E5ECF6",
           "caxis": {
            "gridcolor": "white",
            "linecolor": "white",
            "ticks": ""
           }
          },
          "title": {
           "x": 0.05
          },
          "xaxis": {
           "automargin": true,
           "gridcolor": "white",
           "linecolor": "white",
           "ticks": "",
           "title": {
            "standoff": 15
           },
           "zerolinecolor": "white",
           "zerolinewidth": 2
          },
          "yaxis": {
           "automargin": true,
           "gridcolor": "white",
           "linecolor": "white",
           "ticks": "",
           "title": {
            "standoff": 15
           },
           "zerolinecolor": "white",
           "zerolinewidth": 2
          }
         }
        },
        "title": {
         "text": "2010-09-15"
        },
        "width": 2000,
        "xaxis": {
         "anchor": "y",
         "domain": [
          0,
          0.94
         ],
         "rangeslider": {
          "visible": false
         },
         "title": {
          "text": "Datetime"
         }
        },
        "yaxis": {
         "anchor": "x",
         "domain": [
          0,
          1
         ],
         "title": {
          "text": "Price ($)"
         }
        },
        "yaxis2": {
         "anchor": "x",
         "overlaying": "y",
         "side": "right"
        }
       }
      }
     },
     "metadata": {},
     "output_type": "display_data"
    }
   ],
   "source": [
    "days = df_uturn['datetime'].dt.date.unique()\n",
    "np.random.shuffle(days)\n",
    "\n",
    "for day in days[:5]:\n",
    "    df_day = df_uturn[df_uturn['datetime'].dt.date == day]\n",
    "    plot_candlestick(df_day, day)"
   ]
  },
  {
   "cell_type": "markdown",
   "metadata": {},
   "source": [
    "# Defining up, down and neutral"
   ]
  },
  {
   "cell_type": "code",
   "execution_count": 4,
   "metadata": {},
   "outputs": [
    {
     "name": "stderr",
     "output_type": "stream",
     "text": [
      "100%|██████████| 3650/3650 [00:01<00:00, 2282.75it/s]\n"
     ]
    },
    {
     "data": {
      "text/html": [
       "<div>\n",
       "<style scoped>\n",
       "    .dataframe tbody tr th:only-of-type {\n",
       "        vertical-align: middle;\n",
       "    }\n",
       "\n",
       "    .dataframe tbody tr th {\n",
       "        vertical-align: top;\n",
       "    }\n",
       "\n",
       "    .dataframe thead th {\n",
       "        text-align: right;\n",
       "    }\n",
       "</style>\n",
       "<table border=\"1\" class=\"dataframe\">\n",
       "  <thead>\n",
       "    <tr style=\"text-align: right;\">\n",
       "      <th></th>\n",
       "      <th>date</th>\n",
       "      <th>1030_close</th>\n",
       "      <th>z</th>\n",
       "      <th>pct_past</th>\n",
       "      <th>past_mean</th>\n",
       "    </tr>\n",
       "  </thead>\n",
       "  <tbody>\n",
       "    <tr>\n",
       "      <th>0</th>\n",
       "      <td>2010-01-06 10:30:00-05:00</td>\n",
       "      <td>81.24</td>\n",
       "      <td>-2.566472</td>\n",
       "      <td>-0.84</td>\n",
       "      <td>81.9275</td>\n",
       "    </tr>\n",
       "    <tr>\n",
       "      <th>1</th>\n",
       "      <td>2010-01-13 10:30:00-05:00</td>\n",
       "      <td>78.87</td>\n",
       "      <td>-2.429735</td>\n",
       "      <td>-0.88</td>\n",
       "      <td>79.5700</td>\n",
       "    </tr>\n",
       "    <tr>\n",
       "      <th>2</th>\n",
       "      <td>2010-01-20 10:30:00-05:00</td>\n",
       "      <td>77.49</td>\n",
       "      <td>-1.051497</td>\n",
       "      <td>-0.37</td>\n",
       "      <td>77.7775</td>\n",
       "    </tr>\n",
       "    <tr>\n",
       "      <th>3</th>\n",
       "      <td>2010-01-27 10:30:00-05:00</td>\n",
       "      <td>74.15</td>\n",
       "      <td>-2.891874</td>\n",
       "      <td>-0.51</td>\n",
       "      <td>74.5300</td>\n",
       "    </tr>\n",
       "    <tr>\n",
       "      <th>4</th>\n",
       "      <td>2010-02-03 10:30:00-05:00</td>\n",
       "      <td>77.11</td>\n",
       "      <td>-1.885800</td>\n",
       "      <td>-0.32</td>\n",
       "      <td>77.3575</td>\n",
       "    </tr>\n",
       "  </tbody>\n",
       "</table>\n",
       "</div>"
      ],
      "text/plain": [
       "                       date  1030_close         z  pct_past  past_mean\n",
       "0 2010-01-06 10:30:00-05:00       81.24 -2.566472     -0.84    81.9275\n",
       "1 2010-01-13 10:30:00-05:00       78.87 -2.429735     -0.88    79.5700\n",
       "2 2010-01-20 10:30:00-05:00       77.49 -1.051497     -0.37    77.7775\n",
       "3 2010-01-27 10:30:00-05:00       74.15 -2.891874     -0.51    74.5300\n",
       "4 2010-02-03 10:30:00-05:00       77.11 -1.885800     -0.32    77.3575"
      ]
     },
     "execution_count": 4,
     "metadata": {},
     "output_type": "execute_result"
    }
   ],
   "source": [
    "df_result = []\n",
    "for day, df_day in tqdm.tqdm(df.groupby(pd.Grouper(key='datetime', freq='D'))):\n",
    "    # 1030\n",
    "    df_1030 = df_day[(df_day['datetime'].dt.time >= TEN_THIRTY.time())]\n",
    "\n",
    "    # the grouper function will generate every day sequentially even if\n",
    "    # it is not in dataframe\n",
    "    if (df_1030.shape[0] == 0) or (day.strftime('%A') != 'Wednesday'):\n",
    "        continue\n",
    "    price = df_1030['close'].values[0]\n",
    "\n",
    "    # past hour\n",
    "    df_past = df_day[\n",
    "        (df_day['datetime'].dt.time >= NINE_THIRTY.time()) &\n",
    "        (df_day['datetime'].dt.time < TEN_THIRTY.time())\n",
    "    ]\n",
    "    past_mean = df_past['close'].mean()\n",
    "    past_std = df_past['close'].std()\n",
    "    z = (price - past_mean) / past_std\n",
    "    pct_past = np.round(((price - past_mean) / past_mean) * 100, 2)\n",
    "\n",
    "    result = {\n",
    "        'date': df_1030['datetime'].iloc[0],\n",
    "        '1030_close': price,\n",
    "        'z': z,\n",
    "        'pct_past': pct_past,\n",
    "        'past_mean': past_mean,\n",
    "    }\n",
    "    df_result.append(result)\n",
    "\n",
    "df_result = pd.DataFrame(df_result)\n",
    "df_result.head(5)"
   ]
  },
  {
   "cell_type": "code",
   "execution_count": 5,
   "metadata": {},
   "outputs": [
    {
     "data": {
      "text/html": [
       "<div>\n",
       "<style scoped>\n",
       "    .dataframe tbody tr th:only-of-type {\n",
       "        vertical-align: middle;\n",
       "    }\n",
       "\n",
       "    .dataframe tbody tr th {\n",
       "        vertical-align: top;\n",
       "    }\n",
       "\n",
       "    .dataframe thead th {\n",
       "        text-align: right;\n",
       "    }\n",
       "</style>\n",
       "<table border=\"1\" class=\"dataframe\">\n",
       "  <thead>\n",
       "    <tr style=\"text-align: right;\">\n",
       "      <th></th>\n",
       "      <th>1030_close</th>\n",
       "      <th>z</th>\n",
       "      <th>pct_past</th>\n",
       "      <th>past_mean</th>\n",
       "    </tr>\n",
       "  </thead>\n",
       "  <tbody>\n",
       "    <tr>\n",
       "      <th>count</th>\n",
       "      <td>521.000000</td>\n",
       "      <td>518.000000</td>\n",
       "      <td>518.000000</td>\n",
       "      <td>518.000000</td>\n",
       "    </tr>\n",
       "    <tr>\n",
       "      <th>mean</th>\n",
       "      <td>72.552035</td>\n",
       "      <td>-0.008611</td>\n",
       "      <td>0.023378</td>\n",
       "      <td>72.463789</td>\n",
       "    </tr>\n",
       "    <tr>\n",
       "      <th>std</th>\n",
       "      <td>21.884775</td>\n",
       "      <td>4.684590</td>\n",
       "      <td>0.549260</td>\n",
       "      <td>21.898777</td>\n",
       "    </tr>\n",
       "    <tr>\n",
       "      <th>min</th>\n",
       "      <td>28.030000</td>\n",
       "      <td>-33.935934</td>\n",
       "      <td>-3.180000</td>\n",
       "      <td>27.817500</td>\n",
       "    </tr>\n",
       "    <tr>\n",
       "      <th>25%</th>\n",
       "      <td>52.520000</td>\n",
       "      <td>-1.287411</td>\n",
       "      <td>-0.220000</td>\n",
       "      <td>52.378125</td>\n",
       "    </tr>\n",
       "    <tr>\n",
       "      <th>50%</th>\n",
       "      <td>71.840000</td>\n",
       "      <td>0.246098</td>\n",
       "      <td>0.035000</td>\n",
       "      <td>71.347500</td>\n",
       "    </tr>\n",
       "    <tr>\n",
       "      <th>75%</th>\n",
       "      <td>93.800000</td>\n",
       "      <td>1.488642</td>\n",
       "      <td>0.280000</td>\n",
       "      <td>93.501250</td>\n",
       "    </tr>\n",
       "    <tr>\n",
       "      <th>max</th>\n",
       "      <td>112.300000</td>\n",
       "      <td>37.328178</td>\n",
       "      <td>2.680000</td>\n",
       "      <td>112.322500</td>\n",
       "    </tr>\n",
       "  </tbody>\n",
       "</table>\n",
       "</div>"
      ],
      "text/plain": [
       "       1030_close           z    pct_past   past_mean\n",
       "count  521.000000  518.000000  518.000000  518.000000\n",
       "mean    72.552035   -0.008611    0.023378   72.463789\n",
       "std     21.884775    4.684590    0.549260   21.898777\n",
       "min     28.030000  -33.935934   -3.180000   27.817500\n",
       "25%     52.520000   -1.287411   -0.220000   52.378125\n",
       "50%     71.840000    0.246098    0.035000   71.347500\n",
       "75%     93.800000    1.488642    0.280000   93.501250\n",
       "max    112.300000   37.328178    2.680000  112.322500"
      ]
     },
     "execution_count": 5,
     "metadata": {},
     "output_type": "execute_result"
    }
   ],
   "source": [
    "df_result.describe()"
   ]
  },
  {
   "cell_type": "code",
   "execution_count": 6,
   "metadata": {},
   "outputs": [
    {
     "data": {
      "text/plain": [
       "<Axes: >"
      ]
     },
     "execution_count": 6,
     "metadata": {},
     "output_type": "execute_result"
    },
    {
     "data": {
      "image/png": "[encoded data removed]",
      "text/plain": [
       "<Figure size 640x480 with 1 Axes>"
      ]
     },
     "metadata": {},
     "output_type": "display_data"
    }
   ],
   "source": [
    "sns.boxplot(data=df_result['z'])"
   ]
  },
  {
   "cell_type": "code",
   "execution_count": 7,
   "metadata": {},
   "outputs": [
    {
     "data": {
      "text/html": [
       "<div>\n",
       "<style scoped>\n",
       "    .dataframe tbody tr th:only-of-type {\n",
       "        vertical-align: middle;\n",
       "    }\n",
       "\n",
       "    .dataframe tbody tr th {\n",
       "        vertical-align: top;\n",
       "    }\n",
       "\n",
       "    .dataframe thead th {\n",
       "        text-align: right;\n",
       "    }\n",
       "</style>\n",
       "<table border=\"1\" class=\"dataframe\">\n",
       "  <thead>\n",
       "    <tr style=\"text-align: right;\">\n",
       "      <th></th>\n",
       "      <th>1030_close</th>\n",
       "      <th>z</th>\n",
       "      <th>pct_past</th>\n",
       "      <th>past_mean</th>\n",
       "    </tr>\n",
       "  </thead>\n",
       "  <tbody>\n",
       "    <tr>\n",
       "      <th>count</th>\n",
       "      <td>285.000000</td>\n",
       "      <td>285.000000</td>\n",
       "      <td>285.000000</td>\n",
       "      <td>285.000000</td>\n",
       "    </tr>\n",
       "    <tr>\n",
       "      <th>mean</th>\n",
       "      <td>71.158246</td>\n",
       "      <td>2.316690</td>\n",
       "      <td>0.357579</td>\n",
       "      <td>70.928035</td>\n",
       "    </tr>\n",
       "    <tr>\n",
       "      <th>std</th>\n",
       "      <td>21.632040</td>\n",
       "      <td>3.674623</td>\n",
       "      <td>0.404728</td>\n",
       "      <td>21.618157</td>\n",
       "    </tr>\n",
       "    <tr>\n",
       "      <th>min</th>\n",
       "      <td>28.030000</td>\n",
       "      <td>0.000000</td>\n",
       "      <td>0.000000</td>\n",
       "      <td>27.817500</td>\n",
       "    </tr>\n",
       "    <tr>\n",
       "      <th>25%</th>\n",
       "      <td>52.250000</td>\n",
       "      <td>0.695019</td>\n",
       "      <td>0.100000</td>\n",
       "      <td>52.017500</td>\n",
       "    </tr>\n",
       "    <tr>\n",
       "      <th>50%</th>\n",
       "      <td>67.510000</td>\n",
       "      <td>1.370497</td>\n",
       "      <td>0.230000</td>\n",
       "      <td>67.480000</td>\n",
       "    </tr>\n",
       "    <tr>\n",
       "      <th>75%</th>\n",
       "      <td>93.400000</td>\n",
       "      <td>2.513315</td>\n",
       "      <td>0.460000</td>\n",
       "      <td>93.245000</td>\n",
       "    </tr>\n",
       "    <tr>\n",
       "      <th>max</th>\n",
       "      <td>108.620000</td>\n",
       "      <td>37.328178</td>\n",
       "      <td>2.680000</td>\n",
       "      <td>108.545000</td>\n",
       "    </tr>\n",
       "  </tbody>\n",
       "</table>\n",
       "</div>"
      ],
      "text/plain": [
       "       1030_close           z    pct_past   past_mean\n",
       "count  285.000000  285.000000  285.000000  285.000000\n",
       "mean    71.158246    2.316690    0.357579   70.928035\n",
       "std     21.632040    3.674623    0.404728   21.618157\n",
       "min     28.030000    0.000000    0.000000   27.817500\n",
       "25%     52.250000    0.695019    0.100000   52.017500\n",
       "50%     67.510000    1.370497    0.230000   67.480000\n",
       "75%     93.400000    2.513315    0.460000   93.245000\n",
       "max    108.620000   37.328178    2.680000  108.545000"
      ]
     },
     "metadata": {},
     "output_type": "display_data"
    },
    {
     "data": {
      "text/html": [
       "<div>\n",
       "<style scoped>\n",
       "    .dataframe tbody tr th:only-of-type {\n",
       "        vertical-align: middle;\n",
       "    }\n",
       "\n",
       "    .dataframe tbody tr th {\n",
       "        vertical-align: top;\n",
       "    }\n",
       "\n",
       "    .dataframe thead th {\n",
       "        text-align: right;\n",
       "    }\n",
       "</style>\n",
       "<table border=\"1\" class=\"dataframe\">\n",
       "  <thead>\n",
       "    <tr style=\"text-align: right;\">\n",
       "      <th></th>\n",
       "      <th>1030_close</th>\n",
       "      <th>z</th>\n",
       "      <th>pct_past</th>\n",
       "      <th>past_mean</th>\n",
       "    </tr>\n",
       "  </thead>\n",
       "  <tbody>\n",
       "    <tr>\n",
       "      <th>count</th>\n",
       "      <td>233.000000</td>\n",
       "      <td>233.000000</td>\n",
       "      <td>233.000000</td>\n",
       "      <td>233.000000</td>\n",
       "    </tr>\n",
       "    <tr>\n",
       "      <th>mean</th>\n",
       "      <td>74.079571</td>\n",
       "      <td>-2.852863</td>\n",
       "      <td>-0.385408</td>\n",
       "      <td>74.342285</td>\n",
       "    </tr>\n",
       "    <tr>\n",
       "      <th>std</th>\n",
       "      <td>22.122772</td>\n",
       "      <td>4.196179</td>\n",
       "      <td>0.408339</td>\n",
       "      <td>22.138903</td>\n",
       "    </tr>\n",
       "    <tr>\n",
       "      <th>min</th>\n",
       "      <td>28.310000</td>\n",
       "      <td>-33.935934</td>\n",
       "      <td>-3.180000</td>\n",
       "      <td>28.560000</td>\n",
       "    </tr>\n",
       "    <tr>\n",
       "      <th>25%</th>\n",
       "      <td>52.950000</td>\n",
       "      <td>-2.963892</td>\n",
       "      <td>-0.510000</td>\n",
       "      <td>52.995000</td>\n",
       "    </tr>\n",
       "    <tr>\n",
       "      <th>50%</th>\n",
       "      <td>76.170000</td>\n",
       "      <td>-1.506891</td>\n",
       "      <td>-0.270000</td>\n",
       "      <td>77.035000</td>\n",
       "    </tr>\n",
       "    <tr>\n",
       "      <th>75%</th>\n",
       "      <td>93.810000</td>\n",
       "      <td>-0.786759</td>\n",
       "      <td>-0.130000</td>\n",
       "      <td>93.972500</td>\n",
       "    </tr>\n",
       "    <tr>\n",
       "      <th>max</th>\n",
       "      <td>112.300000</td>\n",
       "      <td>-0.019012</td>\n",
       "      <td>-0.010000</td>\n",
       "      <td>112.322500</td>\n",
       "    </tr>\n",
       "  </tbody>\n",
       "</table>\n",
       "</div>"
      ],
      "text/plain": [
       "       1030_close           z    pct_past   past_mean\n",
       "count  233.000000  233.000000  233.000000  233.000000\n",
       "mean    74.079571   -2.852863   -0.385408   74.342285\n",
       "std     22.122772    4.196179    0.408339   22.138903\n",
       "min     28.310000  -33.935934   -3.180000   28.560000\n",
       "25%     52.950000   -2.963892   -0.510000   52.995000\n",
       "50%     76.170000   -1.506891   -0.270000   77.035000\n",
       "75%     93.810000   -0.786759   -0.130000   93.972500\n",
       "max    112.300000   -0.019012   -0.010000  112.322500"
      ]
     },
     "metadata": {},
     "output_type": "display_data"
    }
   ],
   "source": [
    "df_pos = df_result[df_result['z'] >= 0]\n",
    "df_neg = df_result[df_result['z'] < 0]\n",
    "\n",
    "display(df_pos.describe())\n",
    "display(df_neg.describe())"
   ]
  },
  {
   "cell_type": "code",
   "execution_count": 8,
   "metadata": {},
   "outputs": [
    {
     "data": {
      "text/html": [
       "<div>\n",
       "<style scoped>\n",
       "    .dataframe tbody tr th:only-of-type {\n",
       "        vertical-align: middle;\n",
       "    }\n",
       "\n",
       "    .dataframe tbody tr th {\n",
       "        vertical-align: top;\n",
       "    }\n",
       "\n",
       "    .dataframe thead th {\n",
       "        text-align: right;\n",
       "    }\n",
       "</style>\n",
       "<table border=\"1\" class=\"dataframe\">\n",
       "  <thead>\n",
       "    <tr style=\"text-align: right;\">\n",
       "      <th></th>\n",
       "      <th>1030_close</th>\n",
       "      <th>z</th>\n",
       "      <th>pct_past</th>\n",
       "      <th>past_mean</th>\n",
       "    </tr>\n",
       "  </thead>\n",
       "  <tbody>\n",
       "    <tr>\n",
       "      <th>count</th>\n",
       "      <td>57.000000</td>\n",
       "      <td>57.000000</td>\n",
       "      <td>57.000000</td>\n",
       "      <td>57.000000</td>\n",
       "    </tr>\n",
       "    <tr>\n",
       "      <th>mean</th>\n",
       "      <td>72.854211</td>\n",
       "      <td>0.261094</td>\n",
       "      <td>0.049649</td>\n",
       "      <td>72.821184</td>\n",
       "    </tr>\n",
       "    <tr>\n",
       "      <th>std</th>\n",
       "      <td>21.401158</td>\n",
       "      <td>0.143321</td>\n",
       "      <td>0.042425</td>\n",
       "      <td>21.400953</td>\n",
       "    </tr>\n",
       "    <tr>\n",
       "      <th>min</th>\n",
       "      <td>42.740000</td>\n",
       "      <td>0.000000</td>\n",
       "      <td>0.000000</td>\n",
       "      <td>42.720000</td>\n",
       "    </tr>\n",
       "    <tr>\n",
       "      <th>25%</th>\n",
       "      <td>51.120000</td>\n",
       "      <td>0.147979</td>\n",
       "      <td>0.020000</td>\n",
       "      <td>51.060000</td>\n",
       "    </tr>\n",
       "    <tr>\n",
       "      <th>50%</th>\n",
       "      <td>73.790000</td>\n",
       "      <td>0.292603</td>\n",
       "      <td>0.040000</td>\n",
       "      <td>73.780000</td>\n",
       "    </tr>\n",
       "    <tr>\n",
       "      <th>75%</th>\n",
       "      <td>91.280000</td>\n",
       "      <td>0.372189</td>\n",
       "      <td>0.070000</td>\n",
       "      <td>91.272500</td>\n",
       "    </tr>\n",
       "    <tr>\n",
       "      <th>max</th>\n",
       "      <td>106.100000</td>\n",
       "      <td>0.495434</td>\n",
       "      <td>0.170000</td>\n",
       "      <td>106.062500</td>\n",
       "    </tr>\n",
       "  </tbody>\n",
       "</table>\n",
       "</div>"
      ],
      "text/plain": [
       "       1030_close          z   pct_past   past_mean\n",
       "count   57.000000  57.000000  57.000000   57.000000\n",
       "mean    72.854211   0.261094   0.049649   72.821184\n",
       "std     21.401158   0.143321   0.042425   21.400953\n",
       "min     42.740000   0.000000   0.000000   42.720000\n",
       "25%     51.120000   0.147979   0.020000   51.060000\n",
       "50%     73.790000   0.292603   0.040000   73.780000\n",
       "75%     91.280000   0.372189   0.070000   91.272500\n",
       "max    106.100000   0.495434   0.170000  106.062500"
      ]
     },
     "execution_count": 8,
     "metadata": {},
     "output_type": "execute_result"
    }
   ],
   "source": [
    "# 20% quantile\n",
    "pos_20_quant = df_pos['z'].quantile(0.2)\n",
    "df_pos[df_pos['z'] <= pos_20_quant].describe()"
   ]
  },
  {
   "cell_type": "code",
   "execution_count": 9,
   "metadata": {},
   "outputs": [
    {
     "data": {
      "text/html": [
       "<div>\n",
       "<style scoped>\n",
       "    .dataframe tbody tr th:only-of-type {\n",
       "        vertical-align: middle;\n",
       "    }\n",
       "\n",
       "    .dataframe tbody tr th {\n",
       "        vertical-align: top;\n",
       "    }\n",
       "\n",
       "    .dataframe thead th {\n",
       "        text-align: right;\n",
       "    }\n",
       "</style>\n",
       "<table border=\"1\" class=\"dataframe\">\n",
       "  <thead>\n",
       "    <tr style=\"text-align: right;\">\n",
       "      <th></th>\n",
       "      <th>date</th>\n",
       "      <th>1030_close</th>\n",
       "      <th>z</th>\n",
       "      <th>pct_past</th>\n",
       "      <th>past_mean</th>\n",
       "    </tr>\n",
       "  </thead>\n",
       "  <tbody>\n",
       "    <tr>\n",
       "      <th>437</th>\n",
       "      <td>2018-05-23 10:30:00-04:00</td>\n",
       "      <td>71.90</td>\n",
       "      <td>0.439155</td>\n",
       "      <td>0.01</td>\n",
       "      <td>71.8925</td>\n",
       "    </tr>\n",
       "    <tr>\n",
       "      <th>27</th>\n",
       "      <td>2010-07-14 10:30:00-04:00</td>\n",
       "      <td>76.69</td>\n",
       "      <td>0.104805</td>\n",
       "      <td>0.02</td>\n",
       "      <td>76.6775</td>\n",
       "    </tr>\n",
       "    <tr>\n",
       "      <th>34</th>\n",
       "      <td>2010-09-01 10:30:00-04:00</td>\n",
       "      <td>72.92</td>\n",
       "      <td>0.352194</td>\n",
       "      <td>0.09</td>\n",
       "      <td>72.8575</td>\n",
       "    </tr>\n",
       "    <tr>\n",
       "      <th>350</th>\n",
       "      <td>2016-09-21 10:30:00-04:00</td>\n",
       "      <td>44.88</td>\n",
       "      <td>0.442326</td>\n",
       "      <td>0.07</td>\n",
       "      <td>44.8500</td>\n",
       "    </tr>\n",
       "    <tr>\n",
       "      <th>274</th>\n",
       "      <td>2015-04-08 10:30:00-04:00</td>\n",
       "      <td>52.76</td>\n",
       "      <td>0.139472</td>\n",
       "      <td>0.01</td>\n",
       "      <td>52.7525</td>\n",
       "    </tr>\n",
       "  </tbody>\n",
       "</table>\n",
       "</div>"
      ],
      "text/plain": [
       "                         date  1030_close         z  pct_past  past_mean\n",
       "437 2018-05-23 10:30:00-04:00       71.90  0.439155      0.01    71.8925\n",
       "27  2010-07-14 10:30:00-04:00       76.69  0.104805      0.02    76.6775\n",
       "34  2010-09-01 10:30:00-04:00       72.92  0.352194      0.09    72.8575\n",
       "350 2016-09-21 10:30:00-04:00       44.88  0.442326      0.07    44.8500\n",
       "274 2015-04-08 10:30:00-04:00       52.76  0.139472      0.01    52.7525"
      ]
     },
     "execution_count": 9,
     "metadata": {},
     "output_type": "execute_result"
    }
   ],
   "source": [
    "df_pos[df_pos['z'] <= 0.5].sample(5)"
   ]
  },
  {
   "cell_type": "code",
   "execution_count": 10,
   "metadata": {},
   "outputs": [
    {
     "data": {
      "text/plain": [
       "<Axes: ylabel='Frequency'>"
      ]
     },
     "execution_count": 10,
     "metadata": {},
     "output_type": "execute_result"
    },
    {
     "data": {
      "image/png": "[encoded data removed]",
      "text/plain": [
       "<Figure size 640x480 with 1 Axes>"
      ]
     },
     "metadata": {},
     "output_type": "display_data"
    }
   ],
   "source": [
    "df_pos.loc[df_pos['z'] <= 0.5, 'pct_past'].plot.hist()"
   ]
  },
  {
   "cell_type": "code",
   "execution_count": 11,
   "metadata": {},
   "outputs": [
    {
     "data": {
      "text/html": [
       "<div>\n",
       "<style scoped>\n",
       "    .dataframe tbody tr th:only-of-type {\n",
       "        vertical-align: middle;\n",
       "    }\n",
       "\n",
       "    .dataframe tbody tr th {\n",
       "        vertical-align: top;\n",
       "    }\n",
       "\n",
       "    .dataframe thead th {\n",
       "        text-align: right;\n",
       "    }\n",
       "</style>\n",
       "<table border=\"1\" class=\"dataframe\">\n",
       "  <thead>\n",
       "    <tr style=\"text-align: right;\">\n",
       "      <th></th>\n",
       "      <th>1030_close</th>\n",
       "      <th>z</th>\n",
       "      <th>pct_past</th>\n",
       "      <th>past_mean</th>\n",
       "    </tr>\n",
       "  </thead>\n",
       "  <tbody>\n",
       "    <tr>\n",
       "      <th>count</th>\n",
       "      <td>47.000000</td>\n",
       "      <td>47.000000</td>\n",
       "      <td>47.000000</td>\n",
       "      <td>47.000000</td>\n",
       "    </tr>\n",
       "    <tr>\n",
       "      <th>mean</th>\n",
       "      <td>72.669149</td>\n",
       "      <td>-0.301231</td>\n",
       "      <td>-0.076596</td>\n",
       "      <td>72.726011</td>\n",
       "    </tr>\n",
       "    <tr>\n",
       "      <th>std</th>\n",
       "      <td>21.907452</td>\n",
       "      <td>0.191467</td>\n",
       "      <td>0.080549</td>\n",
       "      <td>21.924043</td>\n",
       "    </tr>\n",
       "    <tr>\n",
       "      <th>min</th>\n",
       "      <td>36.750000</td>\n",
       "      <td>-0.642377</td>\n",
       "      <td>-0.390000</td>\n",
       "      <td>36.752500</td>\n",
       "    </tr>\n",
       "    <tr>\n",
       "      <th>25%</th>\n",
       "      <td>53.260000</td>\n",
       "      <td>-0.431885</td>\n",
       "      <td>-0.090000</td>\n",
       "      <td>53.287500</td>\n",
       "    </tr>\n",
       "    <tr>\n",
       "      <th>50%</th>\n",
       "      <td>67.650000</td>\n",
       "      <td>-0.302580</td>\n",
       "      <td>-0.060000</td>\n",
       "      <td>67.745000</td>\n",
       "    </tr>\n",
       "    <tr>\n",
       "      <th>75%</th>\n",
       "      <td>93.005000</td>\n",
       "      <td>-0.133189</td>\n",
       "      <td>-0.020000</td>\n",
       "      <td>93.082500</td>\n",
       "    </tr>\n",
       "    <tr>\n",
       "      <th>max</th>\n",
       "      <td>112.300000</td>\n",
       "      <td>-0.019012</td>\n",
       "      <td>-0.010000</td>\n",
       "      <td>112.322500</td>\n",
       "    </tr>\n",
       "  </tbody>\n",
       "</table>\n",
       "</div>"
      ],
      "text/plain": [
       "       1030_close          z   pct_past   past_mean\n",
       "count   47.000000  47.000000  47.000000   47.000000\n",
       "mean    72.669149  -0.301231  -0.076596   72.726011\n",
       "std     21.907452   0.191467   0.080549   21.924043\n",
       "min     36.750000  -0.642377  -0.390000   36.752500\n",
       "25%     53.260000  -0.431885  -0.090000   53.287500\n",
       "50%     67.650000  -0.302580  -0.060000   67.745000\n",
       "75%     93.005000  -0.133189  -0.020000   93.082500\n",
       "max    112.300000  -0.019012  -0.010000  112.322500"
      ]
     },
     "execution_count": 11,
     "metadata": {},
     "output_type": "execute_result"
    }
   ],
   "source": [
    "# 20% quantile\n",
    "neg_20_quant = df_neg['z'].quantile(0.8)\n",
    "df_neg[df_neg['z'] >= neg_20_quant].describe()"
   ]
  },
  {
   "cell_type": "code",
   "execution_count": 12,
   "metadata": {},
   "outputs": [
    {
     "data": {
      "text/html": [
       "<div>\n",
       "<style scoped>\n",
       "    .dataframe tbody tr th:only-of-type {\n",
       "        vertical-align: middle;\n",
       "    }\n",
       "\n",
       "    .dataframe tbody tr th {\n",
       "        vertical-align: top;\n",
       "    }\n",
       "\n",
       "    .dataframe thead th {\n",
       "        text-align: right;\n",
       "    }\n",
       "</style>\n",
       "<table border=\"1\" class=\"dataframe\">\n",
       "  <thead>\n",
       "    <tr style=\"text-align: right;\">\n",
       "      <th></th>\n",
       "      <th>date</th>\n",
       "      <th>1030_close</th>\n",
       "      <th>z</th>\n",
       "      <th>pct_past</th>\n",
       "      <th>past_mean</th>\n",
       "    </tr>\n",
       "  </thead>\n",
       "  <tbody>\n",
       "    <tr>\n",
       "      <th>382</th>\n",
       "      <td>2017-05-03 10:30:00-04:00</td>\n",
       "      <td>47.84</td>\n",
       "      <td>-0.029013</td>\n",
       "      <td>-0.01</td>\n",
       "      <td>47.8425</td>\n",
       "    </tr>\n",
       "    <tr>\n",
       "      <th>144</th>\n",
       "      <td>2012-10-10 10:30:00-04:00</td>\n",
       "      <td>92.04</td>\n",
       "      <td>-0.411988</td>\n",
       "      <td>-0.09</td>\n",
       "      <td>92.1250</td>\n",
       "    </tr>\n",
       "    <tr>\n",
       "      <th>472</th>\n",
       "      <td>2019-01-23 10:30:00-05:00</td>\n",
       "      <td>52.95</td>\n",
       "      <td>-0.305012</td>\n",
       "      <td>-0.08</td>\n",
       "      <td>52.9950</td>\n",
       "    </tr>\n",
       "    <tr>\n",
       "      <th>123</th>\n",
       "      <td>2012-05-16 10:30:00-04:00</td>\n",
       "      <td>92.83</td>\n",
       "      <td>-0.166667</td>\n",
       "      <td>-0.03</td>\n",
       "      <td>92.8600</td>\n",
       "    </tr>\n",
       "    <tr>\n",
       "      <th>397</th>\n",
       "      <td>2017-08-16 10:30:00-04:00</td>\n",
       "      <td>47.80</td>\n",
       "      <td>-0.024254</td>\n",
       "      <td>-0.01</td>\n",
       "      <td>47.8025</td>\n",
       "    </tr>\n",
       "  </tbody>\n",
       "</table>\n",
       "</div>"
      ],
      "text/plain": [
       "                         date  1030_close         z  pct_past  past_mean\n",
       "382 2017-05-03 10:30:00-04:00       47.84 -0.029013     -0.01    47.8425\n",
       "144 2012-10-10 10:30:00-04:00       92.04 -0.411988     -0.09    92.1250\n",
       "472 2019-01-23 10:30:00-05:00       52.95 -0.305012     -0.08    52.9950\n",
       "123 2012-05-16 10:30:00-04:00       92.83 -0.166667     -0.03    92.8600\n",
       "397 2017-08-16 10:30:00-04:00       47.80 -0.024254     -0.01    47.8025"
      ]
     },
     "execution_count": 12,
     "metadata": {},
     "output_type": "execute_result"
    }
   ],
   "source": [
    "df_neg[df_neg['z'] >= -0.5].sample(5)"
   ]
  },
  {
   "cell_type": "code",
   "execution_count": 13,
   "metadata": {},
   "outputs": [
    {
     "data": {
      "text/plain": [
       "<Axes: ylabel='Frequency'>"
      ]
     },
     "execution_count": 13,
     "metadata": {},
     "output_type": "execute_result"
    },
    {
     "data": {
      "image/png": "[encoded data removed]",
      "text/plain": [
       "<Figure size 640x480 with 1 Axes>"
      ]
     },
     "metadata": {},
     "output_type": "display_data"
    }
   ],
   "source": [
    "df_neg.loc[df_neg['z'] >= -0.5, 'pct_past'].plot.hist()"
   ]
  },
  {
   "cell_type": "markdown",
   "metadata": {},
   "source": [
    "- Use 15 minutes data\n",
    "- z-score relative to past hour closing mean\n",
    "- 0 < z < 0.5, percentage change < 0.175 %\n",
    "- -0.5 < z < 0, percentage change < 0.2 %\n",
    "- -0.5 < z < 0.5 = neutral?"
   ]
  },
  {
   "cell_type": "markdown",
   "metadata": {},
   "source": [
    "# Features"
   ]
  },
  {
   "cell_type": "markdown",
   "metadata": {},
   "source": [
    "### Z score relative to past time periods\n",
    "\n",
    "Notes:\n",
    "1. In the 15m data, sometimes there may have few consecutive time stamps recording the same closing price and the std will be 0.\n",
    "1. Although we use the 15m data for the overall experiment, the mean and std are computed using the 1m data"
   ]
  },
  {
   "cell_type": "code",
   "execution_count": 14,
   "metadata": {},
   "outputs": [],
   "source": [
    "def z_past(sr, lag_hr, lag_minute, name):\n",
    "    timestamp = sr['datetime']\n",
    "    start = timestamp - pd.Timedelta(hours=lag_hr, minutes=lag_minute)\n",
    "    df_past = df_wti_1m[\n",
    "        (df_wti_1m['datetime'] >= start) & \n",
    "        (df_wti_1m['datetime'] < timestamp)\n",
    "    ]\n",
    "\n",
    "    # use closest close price if no data available\n",
    "    if df_past.shape[0] == 0:\n",
    "        closest_index = df_wti_1m['datetime'].loc[(df_wti_1m['datetime'] < timestamp)].idxmax()\n",
    "        closest_time = df_wti_1m['datetime'].iloc[closest_index]\n",
    "        end = closest_time\n",
    "        start = closest_time - pd.Timedelta(hours=lag_hr, minutes=lag_minute)\n",
    "        df_past = df_wti_1m[\n",
    "            (df_wti_1m['datetime'] > start) & \n",
    "            (df_wti_1m['datetime'] <= end)\n",
    "        ]\n",
    "            \n",
    "    mean = df_past['close'].mean()\n",
    "    std = df_past['close'].std()\n",
    "\n",
    "    # prevent division by 0\n",
    "    if std == 0:\n",
    "        std = np.nan\n",
    "\n",
    "    z = (sr['close'] - mean) / std\n",
    "\n",
    "    sr[f'z_{name}'] = z\n",
    "    sr[f'mean_{name}'] = mean\n",
    "    sr[f'std_{name}'] = std\n",
    "    if z > 0.5:\n",
    "        sr[f'direction_{name}'] = 'up'\n",
    "    elif z < -0.5:\n",
    "        sr[f'direction_{name}'] = 'down'\n",
    "    else:\n",
    "        sr[f'direction_{name}'] = 'neutral'\n",
    "\n",
    "    return sr"
   ]
  },
  {
   "cell_type": "code",
   "execution_count": null,
   "metadata": {},
   "outputs": [],
   "source": [
    "df_data_sr = df_result.to_dict(orient='records')\n",
    "with Pool(10) as p:\n",
    "    df_data = list(tqdm.tqdm(p.map(z_past, df_data_sr, )))"
   ]
  },
  {
   "cell_type": "code",
   "execution_count": 15,
   "metadata": {},
   "outputs": [
    {
     "data": {
      "text/plain": [
       "<Axes: ylabel='direction_30m'>"
      ]
     },
     "execution_count": 15,
     "metadata": {},
     "output_type": "execute_result"
    },
    {
     "data": {
      "image/png": "[encoded data removed]",
      "text/plain": [
       "<Figure size 640x480 with 2 Axes>"
      ]
     },
     "metadata": {},
     "output_type": "display_data"
    }
   ],
   "source": [
    "fig, ax = plt.subplots(1, 2)\n",
    "df_data['direction_1hr'].value_counts().plot.pie(ax=ax[0])\n",
    "df_data['direction_30m'].value_counts().plot.pie(ax=ax[1])"
   ]
  },
  {
   "cell_type": "code",
   "execution_count": 23,
   "metadata": {},
   "outputs": [
    {
     "data": {
      "text/plain": [
       "<Axes: xlabel='z_1hr', ylabel='z_30m'>"
      ]
     },
     "execution_count": 23,
     "metadata": {},
     "output_type": "execute_result"
    },
    {
     "data": {
      "image/png": "[encoded data removed]",
      "text/plain": [
       "<Figure size 640x480 with 1 Axes>"
      ]
     },
     "metadata": {},
     "output_type": "display_data"
    }
   ],
   "source": [
    "df_data.plot.scatter(x='z_1hr', y='z_30m')"
   ]
  },
  {
   "cell_type": "markdown",
   "metadata": {},
   "source": [
    "# Trend"
   ]
  },
  {
   "cell_type": "code",
   "execution_count": null,
   "metadata": {},
   "outputs": [],
   "source": []
  },
  {
   "cell_type": "markdown",
   "metadata": {},
   "source": [
    "# Momentum"
   ]
  },
  {
   "cell_type": "code",
   "execution_count": null,
   "metadata": {},
   "outputs": [],
   "source": []
  },
  {
   "cell_type": "markdown",
   "metadata": {},
   "source": [
    "# Target"
   ]
  },
  {
   "cell_type": "markdown",
   "metadata": {},
   "source": []
  }
 ],
 "metadata": {
  "kernelspec": {
   "display_name": "finance",
   "language": "python",
   "name": "python3"
  },
  "language_info": {
   "codemirror_mode": {
    "name": "ipython",
    "version": 3
   },
   "file_extension": ".py",
   "mimetype": "text/x-python",
   "name": "python",
   "nbconvert_exporter": "python",
   "pygments_lexer": "ipython3",
   "version": "3.9.18"
  }
 },
 "nbformat": 4,
 "nbformat_minor": 2
}
