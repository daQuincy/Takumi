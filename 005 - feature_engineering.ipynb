{
 "cells": [
  {
   "cell_type": "code",
   "execution_count": 1,
   "metadata": {},
   "outputs": [],
   "source": [
    "import plotly.graph_objects as go\n",
    "import matplotlib.pyplot as plt\n",
    "import scipy.stats as stats\n",
    "import seaborn as sns\n",
    "import pandas as pd\n",
    "import numpy as np\n",
    "\n",
    "from plotly.subplots import make_subplots\n",
    "from multiprocessing import Pool\n",
    "from functools import partial\n",
    "from utils import read_bm_data\n",
    "from scipy.stats import ttest_rel, pearsonr, spearmanr\n",
    "from sklearn.linear_model import LinearRegression\n",
    "from sklearn.preprocessing import StandardScaler, PolynomialFeatures\n",
    "from sktime.transformations.series.detrend import STLTransformer\n",
    "\n",
    "import os\n",
    "import ta\n",
    "import pytz\n",
    "import tqdm\n",
    "import pickle"
   ]
  },
  {
   "cell_type": "code",
   "execution_count": 2,
   "metadata": {},
   "outputs": [
    {
     "data": {
      "text/html": [
       "<div>\n",
       "<style scoped>\n",
       "    .dataframe tbody tr th:only-of-type {\n",
       "        vertical-align: middle;\n",
       "    }\n",
       "\n",
       "    .dataframe tbody tr th {\n",
       "        vertical-align: top;\n",
       "    }\n",
       "\n",
       "    .dataframe thead th {\n",
       "        text-align: right;\n",
       "    }\n",
       "</style>\n",
       "<table border=\"1\" class=\"dataframe\">\n",
       "  <thead>\n",
       "    <tr style=\"text-align: right;\">\n",
       "      <th></th>\n",
       "      <th>date</th>\n",
       "      <th>time</th>\n",
       "      <th>open</th>\n",
       "      <th>high</th>\n",
       "      <th>low</th>\n",
       "      <th>close</th>\n",
       "      <th>volume</th>\n",
       "      <th>datetime</th>\n",
       "      <th>day</th>\n",
       "    </tr>\n",
       "  </thead>\n",
       "  <tbody>\n",
       "    <tr>\n",
       "      <th>65918</th>\n",
       "      <td>2010-01-06</td>\n",
       "      <td>0900</td>\n",
       "      <td>81.84</td>\n",
       "      <td>81.92</td>\n",
       "      <td>81.67</td>\n",
       "      <td>81.80</td>\n",
       "      <td>5818</td>\n",
       "      <td>2010-01-06 09:00:00-05:00</td>\n",
       "      <td>Wednesday</td>\n",
       "    </tr>\n",
       "    <tr>\n",
       "      <th>65919</th>\n",
       "      <td>2010-01-06</td>\n",
       "      <td>0915</td>\n",
       "      <td>81.80</td>\n",
       "      <td>81.92</td>\n",
       "      <td>81.67</td>\n",
       "      <td>81.76</td>\n",
       "      <td>3187</td>\n",
       "      <td>2010-01-06 09:15:00-05:00</td>\n",
       "      <td>Wednesday</td>\n",
       "    </tr>\n",
       "    <tr>\n",
       "      <th>65920</th>\n",
       "      <td>2010-01-06</td>\n",
       "      <td>0930</td>\n",
       "      <td>81.76</td>\n",
       "      <td>81.90</td>\n",
       "      <td>81.67</td>\n",
       "      <td>81.73</td>\n",
       "      <td>4522</td>\n",
       "      <td>2010-01-06 09:30:00-05:00</td>\n",
       "      <td>Wednesday</td>\n",
       "    </tr>\n",
       "    <tr>\n",
       "      <th>65921</th>\n",
       "      <td>2010-01-06</td>\n",
       "      <td>0945</td>\n",
       "      <td>81.75</td>\n",
       "      <td>81.87</td>\n",
       "      <td>81.62</td>\n",
       "      <td>81.79</td>\n",
       "      <td>5741</td>\n",
       "      <td>2010-01-06 09:45:00-05:00</td>\n",
       "      <td>Wednesday</td>\n",
       "    </tr>\n",
       "    <tr>\n",
       "      <th>65922</th>\n",
       "      <td>2010-01-06</td>\n",
       "      <td>1000</td>\n",
       "      <td>81.79</td>\n",
       "      <td>81.97</td>\n",
       "      <td>81.74</td>\n",
       "      <td>81.87</td>\n",
       "      <td>4907</td>\n",
       "      <td>2010-01-06 10:00:00-05:00</td>\n",
       "      <td>Wednesday</td>\n",
       "    </tr>\n",
       "  </tbody>\n",
       "</table>\n",
       "</div>"
      ],
      "text/plain": [
       "             date  time   open   high    low  close  volume  \\\n",
       "65918  2010-01-06  0900  81.84  81.92  81.67  81.80    5818   \n",
       "65919  2010-01-06  0915  81.80  81.92  81.67  81.76    3187   \n",
       "65920  2010-01-06  0930  81.76  81.90  81.67  81.73    4522   \n",
       "65921  2010-01-06  0945  81.75  81.87  81.62  81.79    5741   \n",
       "65922  2010-01-06  1000  81.79  81.97  81.74  81.87    4907   \n",
       "\n",
       "                       datetime        day  \n",
       "65918 2010-01-06 09:00:00-05:00  Wednesday  \n",
       "65919 2010-01-06 09:15:00-05:00  Wednesday  \n",
       "65920 2010-01-06 09:30:00-05:00  Wednesday  \n",
       "65921 2010-01-06 09:45:00-05:00  Wednesday  \n",
       "65922 2010-01-06 10:00:00-05:00  Wednesday  "
      ]
     },
     "execution_count": 2,
     "metadata": {},
     "output_type": "execute_result"
    }
   ],
   "source": [
    "if os.path.exists('./large_files/cl-1m.pkl'):\n",
    "    df_wti_1m = pickle.load(open('./large_files/cl-1m.pkl', 'rb'))\n",
    "else:\n",
    "    df_wti_1m = read_bm_data('./large_files/cl-1m.csv')\n",
    "    pickle.dump(df_wti_1m, open('./large_files/cl-1m.pkl', 'wb'))\n",
    "\n",
    "df_wti_1m = df_wti_1m[(df_wti_1m['datetime'].dt.hour >= 9) & (df_wti_1m['datetime'].dt.hour < 16)]\n",
    "\n",
    "df_wti = read_bm_data('./data/backtestmarket/cl-15m.csv')\n",
    "# take only wednesday data for 10 years\n",
    "\n",
    "df = df_wti.copy()\n",
    "df = df[(df['datetime'].dt.hour >= 9) & (df['datetime'].dt.hour < 16)]\n",
    "df = df[(df['datetime'].dt.weekday == 2) & (df['datetime'].dt.year >= 2010) & (df['datetime'].dt.year <= 2019)]\n",
    "df.head()"
   ]
  },
  {
   "cell_type": "code",
   "execution_count": 3,
   "metadata": {},
   "outputs": [],
   "source": [
    "# define some common time\n",
    "NINE_THIRTY = pd.to_datetime('09:30:00')\n",
    "TEN_THIRTY = pd.to_datetime('10:30:00')\n",
    "ELEVEN = pd.to_datetime('11:00:00')\n",
    "TWELVE = pd.to_datetime('12:00:00')"
   ]
  },
  {
   "cell_type": "markdown",
   "metadata": {},
   "source": [
    "# Targets?\n",
    "1. Predict next hour (relative to 1030) mean (up / down / neutral)\n",
    "1. Predict day close (4pm) (up / down / neutral)\n",
    "1. (Use 1m data) For every 15m window, predict if the mean is closer to the high or low. Say price is going upward, before it hits the peak and make a u-turn, the mean within the window will be less close to the high."
   ]
  },
  {
   "cell_type": "code",
   "execution_count": 4,
   "metadata": {},
   "outputs": [],
   "source": [
    "def plot_candlestick(df, title='', column='high_dst_15m'):\n",
    "    \n",
    "    # fig = go.Figure()\n",
    "    fig = make_subplots(specs=[[{'secondary_y': True}]])\n",
    "    \n",
    "    fig.add_trace(\n",
    "        go.Candlestick(\n",
    "            x=df['datetime'],\n",
    "            open=df['open'],\n",
    "            low=df['low'],\n",
    "            high=df['high'],\n",
    "            close=df['close'],\n",
    "            showlegend=False,\n",
    "        )\n",
    "    )\n",
    "\n",
    "    fig.add_trace(\n",
    "        go.Scatter(\n",
    "            x=df['datetime'],\n",
    "            y=df[column],\n",
    "            mode='lines'\n",
    "        ),\n",
    "        secondary_y=True\n",
    "    )\n",
    "    \n",
    "    fig.update_layout(\n",
    "        title=f'{title}',\n",
    "        xaxis_title='Datetime',\n",
    "        yaxis_title='Price ($)',\n",
    "        xaxis_rangeslider_visible=False,\n",
    "        width=2000,\n",
    "        height=500,\n",
    "        # template='plotly_dark',\n",
    "        template='plotly',\n",
    "        yaxis2=dict(range=[0.3, 0.7])\n",
    "    )\n",
    "    \n",
    "    fig.show()"
   ]
  },
  {
   "cell_type": "code",
   "execution_count": 5,
   "metadata": {},
   "outputs": [
    {
     "name": "stderr",
     "output_type": "stream",
     "text": [
      " 48%|████▊     | 1759/3634 [00:02<00:03, 610.62it/s]/tmp/ipykernel_15689/1676407654.py:20: RuntimeWarning: invalid value encountered in scalar divide\n",
      "  dist = (high - mean) / (high - low)\n",
      "100%|██████████| 3634/3634 [00:05<00:00, 622.66it/s]\n"
     ]
    },
    {
     "data": {
      "text/html": [
       "<div>\n",
       "<style scoped>\n",
       "    .dataframe tbody tr th:only-of-type {\n",
       "        vertical-align: middle;\n",
       "    }\n",
       "\n",
       "    .dataframe tbody tr th {\n",
       "        vertical-align: top;\n",
       "    }\n",
       "\n",
       "    .dataframe thead th {\n",
       "        text-align: right;\n",
       "    }\n",
       "</style>\n",
       "<table border=\"1\" class=\"dataframe\">\n",
       "  <thead>\n",
       "    <tr style=\"text-align: right;\">\n",
       "      <th></th>\n",
       "      <th>date</th>\n",
       "      <th>time</th>\n",
       "      <th>open</th>\n",
       "      <th>high</th>\n",
       "      <th>low</th>\n",
       "      <th>close</th>\n",
       "      <th>volume</th>\n",
       "      <th>datetime</th>\n",
       "      <th>day</th>\n",
       "      <th>high_dst_15m</th>\n",
       "    </tr>\n",
       "  </thead>\n",
       "  <tbody>\n",
       "    <tr>\n",
       "      <th>0</th>\n",
       "      <td>2010-01-06</td>\n",
       "      <td>0900</td>\n",
       "      <td>81.84</td>\n",
       "      <td>81.92</td>\n",
       "      <td>81.67</td>\n",
       "      <td>81.80</td>\n",
       "      <td>5818</td>\n",
       "      <td>2010-01-06 09:00:00-05:00</td>\n",
       "      <td>Wednesday</td>\n",
       "      <td>0.632000</td>\n",
       "    </tr>\n",
       "    <tr>\n",
       "      <th>1</th>\n",
       "      <td>2010-01-06</td>\n",
       "      <td>0915</td>\n",
       "      <td>81.80</td>\n",
       "      <td>81.92</td>\n",
       "      <td>81.67</td>\n",
       "      <td>81.76</td>\n",
       "      <td>3187</td>\n",
       "      <td>2010-01-06 09:15:00-05:00</td>\n",
       "      <td>Wednesday</td>\n",
       "      <td>0.653333</td>\n",
       "    </tr>\n",
       "    <tr>\n",
       "      <th>2</th>\n",
       "      <td>2010-01-06</td>\n",
       "      <td>0930</td>\n",
       "      <td>81.76</td>\n",
       "      <td>81.90</td>\n",
       "      <td>81.67</td>\n",
       "      <td>81.73</td>\n",
       "      <td>4522</td>\n",
       "      <td>2010-01-06 09:30:00-05:00</td>\n",
       "      <td>Wednesday</td>\n",
       "      <td>0.692754</td>\n",
       "    </tr>\n",
       "    <tr>\n",
       "      <th>3</th>\n",
       "      <td>2010-01-06</td>\n",
       "      <td>0945</td>\n",
       "      <td>81.75</td>\n",
       "      <td>81.87</td>\n",
       "      <td>81.62</td>\n",
       "      <td>81.79</td>\n",
       "      <td>5741</td>\n",
       "      <td>2010-01-06 09:45:00-05:00</td>\n",
       "      <td>Wednesday</td>\n",
       "      <td>0.477333</td>\n",
       "    </tr>\n",
       "    <tr>\n",
       "      <th>4</th>\n",
       "      <td>2010-01-06</td>\n",
       "      <td>1000</td>\n",
       "      <td>81.79</td>\n",
       "      <td>81.97</td>\n",
       "      <td>81.74</td>\n",
       "      <td>81.87</td>\n",
       "      <td>4907</td>\n",
       "      <td>2010-01-06 10:00:00-05:00</td>\n",
       "      <td>Wednesday</td>\n",
       "      <td>0.452174</td>\n",
       "    </tr>\n",
       "  </tbody>\n",
       "</table>\n",
       "</div>"
      ],
      "text/plain": [
       "         date  time   open   high    low  close  volume  \\\n",
       "0  2010-01-06  0900  81.84  81.92  81.67  81.80    5818   \n",
       "1  2010-01-06  0915  81.80  81.92  81.67  81.76    3187   \n",
       "2  2010-01-06  0930  81.76  81.90  81.67  81.73    4522   \n",
       "3  2010-01-06  0945  81.75  81.87  81.62  81.79    5741   \n",
       "4  2010-01-06  1000  81.79  81.97  81.74  81.87    4907   \n",
       "\n",
       "                   datetime        day  high_dst_15m  \n",
       "0 2010-01-06 09:00:00-05:00  Wednesday      0.632000  \n",
       "1 2010-01-06 09:15:00-05:00  Wednesday      0.653333  \n",
       "2 2010-01-06 09:30:00-05:00  Wednesday      0.692754  \n",
       "3 2010-01-06 09:45:00-05:00  Wednesday      0.477333  \n",
       "4 2010-01-06 10:00:00-05:00  Wednesday      0.452174  "
      ]
     },
     "execution_count": 5,
     "metadata": {},
     "output_type": "execute_result"
    }
   ],
   "source": [
    "# test out idea 3\n",
    "\n",
    "df_uturn = []\n",
    "counter = 0\n",
    "for day, df_day in tqdm.tqdm(df.groupby(pd.Grouper(key='datetime', freq='D'))):\n",
    "    if df_day.shape[0] == 0:\n",
    "        continue\n",
    "\n",
    "    df_day_1m = df_wti_1m[\n",
    "        (df_wti_1m['datetime'] >= df_day['datetime'].iloc[0]) &\n",
    "        (df_wti_1m['datetime'] < (df_day['datetime'].iloc[-1] + pd.Timedelta(minutes=15)))\n",
    "    ]\n",
    "\n",
    "    distances = []\n",
    "    for time_range, df_tmp in df_day_1m.groupby(pd.Grouper(key='datetime', freq='15min')):\n",
    "        mean = df_tmp['close'].mean()\n",
    "        high = df_tmp['high'].max()\n",
    "        low = df_tmp['low'].min()\n",
    "        # distance to high, approaching 0 means getting closer\n",
    "        dist = (high - mean) / (high - low)\n",
    "        distances.append({'datetime': pd.to_datetime(time_range), 'high_dst_15m': dist})\n",
    "    distances = pd.DataFrame(distances)\n",
    "\n",
    "    df_day = pd.merge(left=df_day, right=distances, how='left', on='datetime')\n",
    "    df_uturn.append(df_day)\n",
    "\n",
    "df_uturn = pd.concat(df_uturn).sort_values('datetime')\n",
    "df_uturn.head()"
   ]
  },
  {
   "cell_type": "code",
   "execution_count": 6,
   "metadata": {},
   "outputs": [
    {
     "name": "stderr",
     "output_type": "stream",
     "text": [
      " 15%|█▍        | 533/3634 [00:01<00:08, 354.94it/s]/tmp/ipykernel_15689/2842932319.py:19: RuntimeWarning: invalid value encountered in scalar divide\n",
      "  dist = (high - mean) / (high - low)\n",
      " 49%|████▉     | 1786/3634 [00:05<00:05, 362.52it/s]/tmp/ipykernel_15689/2842932319.py:19: RuntimeWarning: invalid value encountered in scalar divide\n",
      "  dist = (high - mean) / (high - low)\n",
      " 55%|█████▍    | 1996/3634 [00:05<00:04, 357.96it/s]/tmp/ipykernel_15689/2842932319.py:19: RuntimeWarning: invalid value encountered in scalar divide\n",
      "  dist = (high - mean) / (high - low)\n",
      "100%|██████████| 3634/3634 [00:10<00:00, 353.43it/s]\n"
     ]
    },
    {
     "data": {
      "text/html": [
       "<div>\n",
       "<style scoped>\n",
       "    .dataframe tbody tr th:only-of-type {\n",
       "        vertical-align: middle;\n",
       "    }\n",
       "\n",
       "    .dataframe tbody tr th {\n",
       "        vertical-align: top;\n",
       "    }\n",
       "\n",
       "    .dataframe thead th {\n",
       "        text-align: right;\n",
       "    }\n",
       "</style>\n",
       "<table border=\"1\" class=\"dataframe\">\n",
       "  <thead>\n",
       "    <tr style=\"text-align: right;\">\n",
       "      <th></th>\n",
       "      <th>date</th>\n",
       "      <th>time</th>\n",
       "      <th>open</th>\n",
       "      <th>high</th>\n",
       "      <th>low</th>\n",
       "      <th>close</th>\n",
       "      <th>volume</th>\n",
       "      <th>datetime</th>\n",
       "      <th>day</th>\n",
       "      <th>high_dst_5m</th>\n",
       "    </tr>\n",
       "  </thead>\n",
       "  <tbody>\n",
       "    <tr>\n",
       "      <th>0</th>\n",
       "      <td>2010-01-06</td>\n",
       "      <td>0900</td>\n",
       "      <td>81.84</td>\n",
       "      <td>81.92</td>\n",
       "      <td>81.67</td>\n",
       "      <td>81.80</td>\n",
       "      <td>5818</td>\n",
       "      <td>2010-01-06 09:00:00-05:00</td>\n",
       "      <td>Wednesday</td>\n",
       "      <td>0.720000</td>\n",
       "    </tr>\n",
       "    <tr>\n",
       "      <th>1</th>\n",
       "      <td>2010-01-06</td>\n",
       "      <td>0915</td>\n",
       "      <td>81.80</td>\n",
       "      <td>81.92</td>\n",
       "      <td>81.67</td>\n",
       "      <td>81.76</td>\n",
       "      <td>3187</td>\n",
       "      <td>2010-01-06 09:15:00-05:00</td>\n",
       "      <td>Wednesday</td>\n",
       "      <td>0.580000</td>\n",
       "    </tr>\n",
       "    <tr>\n",
       "      <th>2</th>\n",
       "      <td>2010-01-06</td>\n",
       "      <td>0930</td>\n",
       "      <td>81.76</td>\n",
       "      <td>81.90</td>\n",
       "      <td>81.67</td>\n",
       "      <td>81.73</td>\n",
       "      <td>4522</td>\n",
       "      <td>2010-01-06 09:30:00-05:00</td>\n",
       "      <td>Wednesday</td>\n",
       "      <td>0.600000</td>\n",
       "    </tr>\n",
       "    <tr>\n",
       "      <th>3</th>\n",
       "      <td>2010-01-06</td>\n",
       "      <td>0945</td>\n",
       "      <td>81.75</td>\n",
       "      <td>81.87</td>\n",
       "      <td>81.62</td>\n",
       "      <td>81.79</td>\n",
       "      <td>5741</td>\n",
       "      <td>2010-01-06 09:45:00-05:00</td>\n",
       "      <td>Wednesday</td>\n",
       "      <td>0.400000</td>\n",
       "    </tr>\n",
       "    <tr>\n",
       "      <th>4</th>\n",
       "      <td>2010-01-06</td>\n",
       "      <td>1000</td>\n",
       "      <td>81.79</td>\n",
       "      <td>81.97</td>\n",
       "      <td>81.74</td>\n",
       "      <td>81.87</td>\n",
       "      <td>4907</td>\n",
       "      <td>2010-01-06 10:00:00-05:00</td>\n",
       "      <td>Wednesday</td>\n",
       "      <td>0.452174</td>\n",
       "    </tr>\n",
       "  </tbody>\n",
       "</table>\n",
       "</div>"
      ],
      "text/plain": [
       "         date  time   open   high    low  close  volume  \\\n",
       "0  2010-01-06  0900  81.84  81.92  81.67  81.80    5818   \n",
       "1  2010-01-06  0915  81.80  81.92  81.67  81.76    3187   \n",
       "2  2010-01-06  0930  81.76  81.90  81.67  81.73    4522   \n",
       "3  2010-01-06  0945  81.75  81.87  81.62  81.79    5741   \n",
       "4  2010-01-06  1000  81.79  81.97  81.74  81.87    4907   \n",
       "\n",
       "                   datetime        day  high_dst_5m  \n",
       "0 2010-01-06 09:00:00-05:00  Wednesday     0.720000  \n",
       "1 2010-01-06 09:15:00-05:00  Wednesday     0.580000  \n",
       "2 2010-01-06 09:30:00-05:00  Wednesday     0.600000  \n",
       "3 2010-01-06 09:45:00-05:00  Wednesday     0.400000  \n",
       "4 2010-01-06 10:00:00-05:00  Wednesday     0.452174  "
      ]
     },
     "execution_count": 6,
     "metadata": {},
     "output_type": "execute_result"
    }
   ],
   "source": [
    "# test out idea 3\n",
    "\n",
    "df_uturn2 = []\n",
    "for day, df_day in tqdm.tqdm(df.groupby(pd.Grouper(key='datetime', freq='D'))):\n",
    "    if df_day.shape[0] == 0:\n",
    "        continue\n",
    "\n",
    "    df_day_1m = df_wti_1m[\n",
    "        (df_wti_1m['datetime'] >= df_day['datetime'].iloc[0]) &\n",
    "        (df_wti_1m['datetime'] < (df_day['datetime'].iloc[-1] + pd.Timedelta(minutes=5)))\n",
    "    ]\n",
    "\n",
    "    distances = []\n",
    "    for time_range, df_tmp in df_day_1m.groupby(pd.Grouper(key='datetime', freq='5min')):\n",
    "        mean = df_tmp['close'].mean()\n",
    "        high = df_tmp['high'].max()\n",
    "        low = df_tmp['low'].min()\n",
    "        # distance to high, approaching 0 means getting closer\n",
    "        dist = (high - mean) / (high - low)\n",
    "        distances.append({'datetime': pd.to_datetime(time_range), 'high_dst_5m': dist})\n",
    "    distances = pd.DataFrame(distances)\n",
    "\n",
    "    df_day = pd.merge(left=df_day, right=distances, how='left', on='datetime')\n",
    "    df_uturn2.append(df_day)\n",
    "\n",
    "df_uturn2 = pd.concat(df_uturn2).sort_values('datetime')\n",
    "df_uturn2.head()"
   ]
  },
  {
   "cell_type": "code",
   "execution_count": 7,
   "metadata": {},
   "outputs": [
    {
     "data": {
      "application/vnd.plotly.v1+json": {
       "config": {
        "plotlyServerURL": "https://plot.ly"
       },
       "data": [
        {
         "close": [
          50.35,
          50.33,
          50.32,
          50.38,
          50.4,
          50.39,
          50.29,
          50.27,
          50.22,
          50.25,
          50.59,
          50.46,
          50.38,
          50.47,
          50.5,
          50.45,
          50.37,
          50.12,
          49.86,
          49.93,
          49.93,
          50.11,
          50.1,
          50.03,
          50.03,
          49.99,
          49.9,
          49.92
         ],
         "high": [
          50.39,
          50.36,
          50.35,
          50.41,
          50.44,
          50.47,
          50.4,
          50.32,
          50.31,
          50.3,
          50.67,
          50.66,
          50.52,
          50.56,
          50.54,
          50.59,
          50.47,
          50.39,
          50.14,
          49.99,
          49.97,
          50.23,
          50.16,
          50.11,
          50.11,
          50.09,
          50,
          49.92
         ],
         "low": [
          50.26,
          50.29,
          50.27,
          50.31,
          50.32,
          50.37,
          50.28,
          50.24,
          50.18,
          50.15,
          50.24,
          50.37,
          50.26,
          50.37,
          50.4,
          50.43,
          50.36,
          50.08,
          49.76,
          49.84,
          49.91,
          49.93,
          50.05,
          50.01,
          50.01,
          49.94,
          49.87,
          49.87
         ],
         "open": [
          50.27,
          50.35,
          50.33,
          50.32,
          50.38,
          50.4,
          50.4,
          50.3,
          50.27,
          50.22,
          50.24,
          50.58,
          50.46,
          50.37,
          50.48,
          50.49,
          50.45,
          50.38,
          50.13,
          49.85,
          49.93,
          49.94,
          50.11,
          50.1,
          50.04,
          50.03,
          50,
          49.9
         ],
         "showlegend": false,
         "type": "candlestick",
         "x": [
          "2017-10-04T09:00:00-04:00",
          "2017-10-04T09:15:00-04:00",
          "2017-10-04T09:30:00-04:00",
          "2017-10-04T09:45:00-04:00",
          "2017-10-04T10:00:00-04:00",
          "2017-10-04T10:15:00-04:00",
          "2017-10-04T10:30:00-04:00",
          "2017-10-04T10:45:00-04:00",
          "2017-10-04T11:00:00-04:00",
          "2017-10-04T11:15:00-04:00",
          "2017-10-04T11:30:00-04:00",
          "2017-10-04T11:45:00-04:00",
          "2017-10-04T12:00:00-04:00",
          "2017-10-04T12:15:00-04:00",
          "2017-10-04T12:30:00-04:00",
          "2017-10-04T12:45:00-04:00",
          "2017-10-04T13:00:00-04:00",
          "2017-10-04T13:15:00-04:00",
          "2017-10-04T13:30:00-04:00",
          "2017-10-04T13:45:00-04:00",
          "2017-10-04T14:00:00-04:00",
          "2017-10-04T14:15:00-04:00",
          "2017-10-04T14:30:00-04:00",
          "2017-10-04T14:45:00-04:00",
          "2017-10-04T15:00:00-04:00",
          "2017-10-04T15:15:00-04:00",
          "2017-10-04T15:30:00-04:00",
          "2017-10-04T15:45:00-04:00"
         ]
        },
        {
         "mode": "lines",
         "type": "scatter",
         "x": [
          "2017-10-04T09:00:00-04:00",
          "2017-10-04T09:15:00-04:00",
          "2017-10-04T09:30:00-04:00",
          "2017-10-04T09:45:00-04:00",
          "2017-10-04T10:00:00-04:00",
          "2017-10-04T10:15:00-04:00",
          "2017-10-04T10:30:00-04:00",
          "2017-10-04T10:45:00-04:00",
          "2017-10-04T11:00:00-04:00",
          "2017-10-04T11:15:00-04:00",
          "2017-10-04T11:30:00-04:00",
          "2017-10-04T11:45:00-04:00",
          "2017-10-04T12:00:00-04:00",
          "2017-10-04T12:15:00-04:00",
          "2017-10-04T12:30:00-04:00",
          "2017-10-04T12:45:00-04:00",
          "2017-10-04T13:00:00-04:00",
          "2017-10-04T13:15:00-04:00",
          "2017-10-04T13:30:00-04:00",
          "2017-10-04T13:45:00-04:00",
          "2017-10-04T14:00:00-04:00",
          "2017-10-04T14:15:00-04:00",
          "2017-10-04T14:30:00-04:00",
          "2017-10-04T14:45:00-04:00",
          "2017-10-04T15:00:00-04:00",
          "2017-10-04T15:15:00-04:00",
          "2017-10-04T15:30:00-04:00",
          "2017-10-04T15:45:00-04:00"
         ],
         "xaxis": "x",
         "y": [
          0.6153846153845355,
          0.5238095238094513,
          0.5333333333333747,
          0.5333333333333049,
          0.3388888888890142,
          0.6399999999999915,
          0.5277777777777827,
          0.5250000000000311,
          0.456410256410204,
          0.4666666666666256,
          0.19844961240309558,
          0.5793103448275608,
          0.40512820512817305,
          0.5333333333333359,
          0.580952380952378,
          0.5791666666666506,
          0.46060606060604453,
          0.44731182795698254,
          0.28596491228071275,
          0.42666666666671843,
          0.42222222222213013,
          0.6177777777777808,
          0.5454545454544397,
          0.5666666666667116,
          0.4600000000001293,
          0.35555555555559765,
          0.6205128205128014,
          0.6133333333336043
         ],
         "yaxis": "y2"
        }
       ],
       "layout": {
        "height": 500,
        "template": {
         "data": {
          "bar": [
           {
            "error_x": {
             "color": "#2a3f5f"
            },
            "error_y": {
             "color": "#2a3f5f"
            },
            "marker": {
             "line": {
              "color": "#E5ECF6",
              "width": 0.5
             },
             "pattern": {
              "fillmode": "overlay",
              "size": 10,
              "solidity": 0.2
             }
            },
            "type": "bar"
           }
          ],
          "barpolar": [
           {
            "marker": {
             "line": {
              "color": "#E5ECF6",
              "width": 0.5
             },
             "pattern": {
              "fillmode": "overlay",
              "size": 10,
              "solidity": 0.2
             }
            },
            "type": "barpolar"
           }
          ],
          "carpet": [
           {
            "aaxis": {
             "endlinecolor": "#2a3f5f",
             "gridcolor": "white",
             "linecolor": "white",
             "minorgridcolor": "white",
             "startlinecolor": "#2a3f5f"
            },
            "baxis": {
             "endlinecolor": "#2a3f5f",
             "gridcolor": "white",
             "linecolor": "white",
             "minorgridcolor": "white",
             "startlinecolor": "#2a3f5f"
            },
            "type": "carpet"
           }
          ],
          "choropleth": [
           {
            "colorbar": {
             "outlinewidth": 0,
             "ticks": ""
            },
            "type": "choropleth"
           }
          ],
          "contour": [
           {
            "colorbar": {
             "outlinewidth": 0,
             "ticks": ""
            },
            "colorscale": [
             [
              0,
              "#0d0887"
             ],
             [
              0.1111111111111111,
              "#46039f"
             ],
             [
              0.2222222222222222,
              "#7201a8"
             ],
             [
              0.3333333333333333,
              "#9c179e"
             ],
             [
              0.4444444444444444,
              "#bd3786"
             ],
             [
              0.5555555555555556,
              "#d8576b"
             ],
             [
              0.6666666666666666,
              "#ed7953"
             ],
             [
              0.7777777777777778,
              "#fb9f3a"
             ],
             [
              0.8888888888888888,
              "#fdca26"
             ],
             [
              1,
              "#f0f921"
             ]
            ],
            "type": "contour"
           }
          ],
          "contourcarpet": [
           {
            "colorbar": {
             "outlinewidth": 0,
             "ticks": ""
            },
            "type": "contourcarpet"
           }
          ],
          "heatmap": [
           {
            "colorbar": {
             "outlinewidth": 0,
             "ticks": ""
            },
            "colorscale": [
             [
              0,
              "#0d0887"
             ],
             [
              0.1111111111111111,
              "#46039f"
             ],
             [
              0.2222222222222222,
              "#7201a8"
             ],
             [
              0.3333333333333333,
              "#9c179e"
             ],
             [
              0.4444444444444444,
              "#bd3786"
             ],
             [
              0.5555555555555556,
              "#d8576b"
             ],
             [
              0.6666666666666666,
              "#ed7953"
             ],
             [
              0.7777777777777778,
              "#fb9f3a"
             ],
             [
              0.8888888888888888,
              "#fdca26"
             ],
             [
              1,
              "#f0f921"
             ]
            ],
            "type": "heatmap"
           }
          ],
          "heatmapgl": [
           {
            "colorbar": {
             "outlinewidth": 0,
             "ticks": ""
            },
            "colorscale": [
             [
              0,
              "#0d0887"
             ],
             [
              0.1111111111111111,
              "#46039f"
             ],
             [
              0.2222222222222222,
              "#7201a8"
             ],
             [
              0.3333333333333333,
              "#9c179e"
             ],
             [
              0.4444444444444444,
              "#bd3786"
             ],
             [
              0.5555555555555556,
              "#d8576b"
             ],
             [
              0.6666666666666666,
              "#ed7953"
             ],
             [
              0.7777777777777778,
              "#fb9f3a"
             ],
             [
              0.8888888888888888,
              "#fdca26"
             ],
             [
              1,
              "#f0f921"
             ]
            ],
            "type": "heatmapgl"
           }
          ],
          "histogram": [
           {
            "marker": {
             "pattern": {
              "fillmode": "overlay",
              "size": 10,
              "solidity": 0.2
             }
            },
            "type": "histogram"
           }
          ],
          "histogram2d": [
           {
            "colorbar": {
             "outlinewidth": 0,
             "ticks": ""
            },
            "colorscale": [
             [
              0,
              "#0d0887"
             ],
             [
              0.1111111111111111,
              "#46039f"
             ],
             [
              0.2222222222222222,
              "#7201a8"
             ],
             [
              0.3333333333333333,
              "#9c179e"
             ],
             [
              0.4444444444444444,
              "#bd3786"
             ],
             [
              0.5555555555555556,
              "#d8576b"
             ],
             [
              0.6666666666666666,
              "#ed7953"
             ],
             [
              0.7777777777777778,
              "#fb9f3a"
             ],
             [
              0.8888888888888888,
              "#fdca26"
             ],
             [
              1,
              "#f0f921"
             ]
            ],
            "type": "histogram2d"
           }
          ],
          "histogram2dcontour": [
           {
            "colorbar": {
             "outlinewidth": 0,
             "ticks": ""
            },
            "colorscale": [
             [
              0,
              "#0d0887"
             ],
             [
              0.1111111111111111,
              "#46039f"
             ],
             [
              0.2222222222222222,
              "#7201a8"
             ],
             [
              0.3333333333333333,
              "#9c179e"
             ],
             [
              0.4444444444444444,
              "#bd3786"
             ],
             [
              0.5555555555555556,
              "#d8576b"
             ],
             [
              0.6666666666666666,
              "#ed7953"
             ],
             [
              0.7777777777777778,
              "#fb9f3a"
             ],
             [
              0.8888888888888888,
              "#fdca26"
             ],
             [
              1,
              "#f0f921"
             ]
            ],
            "type": "histogram2dcontour"
           }
          ],
          "mesh3d": [
           {
            "colorbar": {
             "outlinewidth": 0,
             "ticks": ""
            },
            "type": "mesh3d"
           }
          ],
          "parcoords": [
           {
            "line": {
             "colorbar": {
              "outlinewidth": 0,
              "ticks": ""
             }
            },
            "type": "parcoords"
           }
          ],
          "pie": [
           {
            "automargin": true,
            "type": "pie"
           }
          ],
          "scatter": [
           {
            "fillpattern": {
             "fillmode": "overlay",
             "size": 10,
             "solidity": 0.2
            },
            "type": "scatter"
           }
          ],
          "scatter3d": [
           {
            "line": {
             "colorbar": {
              "outlinewidth": 0,
              "ticks": ""
             }
            },
            "marker": {
             "colorbar": {
              "outlinewidth": 0,
              "ticks": ""
             }
            },
            "type": "scatter3d"
           }
          ],
          "scattercarpet": [
           {
            "marker": {
             "colorbar": {
              "outlinewidth": 0,
              "ticks": ""
             }
            },
            "type": "scattercarpet"
           }
          ],
          "scattergeo": [
           {
            "marker": {
             "colorbar": {
              "outlinewidth": 0,
              "ticks": ""
             }
            },
            "type": "scattergeo"
           }
          ],
          "scattergl": [
           {
            "marker": {
             "colorbar": {
              "outlinewidth": 0,
              "ticks": ""
             }
            },
            "type": "scattergl"
           }
          ],
          "scattermapbox": [
           {
            "marker": {
             "colorbar": {
              "outlinewidth": 0,
              "ticks": ""
             }
            },
            "type": "scattermapbox"
           }
          ],
          "scatterpolar": [
           {
            "marker": {
             "colorbar": {
              "outlinewidth": 0,
              "ticks": ""
             }
            },
            "type": "scatterpolar"
           }
          ],
          "scatterpolargl": [
           {
            "marker": {
             "colorbar": {
              "outlinewidth": 0,
              "ticks": ""
             }
            },
            "type": "scatterpolargl"
           }
          ],
          "scatterternary": [
           {
            "marker": {
             "colorbar": {
              "outlinewidth": 0,
              "ticks": ""
             }
            },
            "type": "scatterternary"
           }
          ],
          "surface": [
           {
            "colorbar": {
             "outlinewidth": 0,
             "ticks": ""
            },
            "colorscale": [
             [
              0,
              "#0d0887"
             ],
             [
              0.1111111111111111,
              "#46039f"
             ],
             [
              0.2222222222222222,
              "#7201a8"
             ],
             [
              0.3333333333333333,
              "#9c179e"
             ],
             [
              0.4444444444444444,
              "#bd3786"
             ],
             [
              0.5555555555555556,
              "#d8576b"
             ],
             [
              0.6666666666666666,
              "#ed7953"
             ],
             [
              0.7777777777777778,
              "#fb9f3a"
             ],
             [
              0.8888888888888888,
              "#fdca26"
             ],
             [
              1,
              "#f0f921"
             ]
            ],
            "type": "surface"
           }
          ],
          "table": [
           {
            "cells": {
             "fill": {
              "color": "#EBF0F8"
             },
             "line": {
              "color": "white"
             }
            },
            "header": {
             "fill": {
              "color": "#C8D4E3"
             },
             "line": {
              "color": "white"
             }
            },
            "type": "table"
           }
          ]
         },
         "layout": {
          "annotationdefaults": {
           "arrowcolor": "#2a3f5f",
           "arrowhead": 0,
           "arrowwidth": 1
          },
          "autotypenumbers": "strict",
          "coloraxis": {
           "colorbar": {
            "outlinewidth": 0,
            "ticks": ""
           }
          },
          "colorscale": {
           "diverging": [
            [
             0,
             "#8e0152"
            ],
            [
             0.1,
             "#c51b7d"
            ],
            [
             0.2,
             "#de77ae"
            ],
            [
             0.3,
             "#f1b6da"
            ],
            [
             0.4,
             "#fde0ef"
            ],
            [
             0.5,
             "#f7f7f7"
            ],
            [
             0.6,
             "#e6f5d0"
            ],
            [
             0.7,
             "#b8e186"
            ],
            [
             0.8,
             "#7fbc41"
            ],
            [
             0.9,
             "#4d9221"
            ],
            [
             1,
             "#276419"
            ]
           ],
           "sequential": [
            [
             0,
             "#0d0887"
            ],
            [
             0.1111111111111111,
             "#46039f"
            ],
            [
             0.2222222222222222,
             "#7201a8"
            ],
            [
             0.3333333333333333,
             "#9c179e"
            ],
            [
             0.4444444444444444,
             "#bd3786"
            ],
            [
             0.5555555555555556,
             "#d8576b"
            ],
            [
             0.6666666666666666,
             "#ed7953"
            ],
            [
             0.7777777777777778,
             "#fb9f3a"
            ],
            [
             0.8888888888888888,
             "#fdca26"
            ],
            [
             1,
             "#f0f921"
            ]
           ],
           "sequentialminus": [
            [
             0,
             "#0d0887"
            ],
            [
             0.1111111111111111,
             "#46039f"
            ],
            [
             0.2222222222222222,
             "#7201a8"
            ],
            [
             0.3333333333333333,
             "#9c179e"
            ],
            [
             0.4444444444444444,
             "#bd3786"
            ],
            [
             0.5555555555555556,
             "#d8576b"
            ],
            [
             0.6666666666666666,
             "#ed7953"
            ],
            [
             0.7777777777777778,
             "#fb9f3a"
            ],
            [
             0.8888888888888888,
             "#fdca26"
            ],
            [
             1,
             "#f0f921"
            ]
           ]
          },
          "colorway": [
           "#636efa",
           "#EF553B",
           "#00cc96",
           "#ab63fa",
           "#FFA15A",
           "#19d3f3",
           "#FF6692",
           "#B6E880",
           "#FF97FF",
           "#FECB52"
          ],
          "font": {
           "color": "#2a3f5f"
          },
          "geo": {
           "bgcolor": "white",
           "lakecolor": "white",
           "landcolor": "#E5ECF6",
           "showlakes": true,
           "showland": true,
           "subunitcolor": "white"
          },
          "hoverlabel": {
           "align": "left"
          },
          "hovermode": "closest",
          "mapbox": {
           "style": "light"
          },
          "paper_bgcolor": "white",
          "plot_bgcolor": "#E5ECF6",
          "polar": {
           "angularaxis": {
            "gridcolor": "white",
            "linecolor": "white",
            "ticks": ""
           },
           "bgcolor": "#E5ECF6",
           "radialaxis": {
            "gridcolor": "white",
            "linecolor": "white",
            "ticks": ""
           }
          },
          "scene": {
           "xaxis": {
            "backgroundcolor": "#E5ECF6",
            "gridcolor": "white",
            "gridwidth": 2,
            "linecolor": "white",
            "showbackground": true,
            "ticks": "",
            "zerolinecolor": "white"
           },
           "yaxis": {
            "backgroundcolor": "#E5ECF6",
            "gridcolor": "white",
            "gridwidth": 2,
            "linecolor": "white",
            "showbackground": true,
            "ticks": "",
            "zerolinecolor": "white"
           },
           "zaxis": {
            "backgroundcolor": "#E5ECF6",
            "gridcolor": "white",
            "gridwidth": 2,
            "linecolor": "white",
            "showbackground": true,
            "ticks": "",
            "zerolinecolor": "white"
           }
          },
          "shapedefaults": {
           "line": {
            "color": "#2a3f5f"
           }
          },
          "ternary": {
           "aaxis": {
            "gridcolor": "white",
            "linecolor": "white",
            "ticks": ""
           },
           "baxis": {
            "gridcolor": "white",
            "linecolor": "white",
            "ticks": ""
           },
           "bgcolor": "#E5ECF6",
           "caxis": {
            "gridcolor": "white",
            "linecolor": "white",
            "ticks": ""
           }
          },
          "title": {
           "x": 0.05
          },
          "xaxis": {
           "automargin": true,
           "gridcolor": "white",
           "linecolor": "white",
           "ticks": "",
           "title": {
            "standoff": 15
           },
           "zerolinecolor": "white",
           "zerolinewidth": 2
          },
          "yaxis": {
           "automargin": true,
           "gridcolor": "white",
           "linecolor": "white",
           "ticks": "",
           "title": {
            "standoff": 15
           },
           "zerolinecolor": "white",
           "zerolinewidth": 2
          }
         }
        },
        "title": {
         "text": "2017-10-04"
        },
        "width": 2000,
        "xaxis": {
         "anchor": "y",
         "domain": [
          0,
          0.94
         ],
         "rangeslider": {
          "visible": false
         },
         "title": {
          "text": "Datetime"
         }
        },
        "yaxis": {
         "anchor": "x",
         "domain": [
          0,
          1
         ],
         "title": {
          "text": "Price ($)"
         }
        },
        "yaxis2": {
         "anchor": "x",
         "overlaying": "y",
         "range": [
          0.3,
          0.7
         ],
         "side": "right"
        }
       }
      }
     },
     "metadata": {},
     "output_type": "display_data"
    },
    {
     "data": {
      "application/vnd.plotly.v1+json": {
       "config": {
        "plotlyServerURL": "https://plot.ly"
       },
       "data": [
        {
         "close": [
          28.93,
          29.01,
          28.76,
          28.43,
          28.61,
          28.44,
          28.31,
          28.06,
          28.24,
          28.12,
          28.11,
          27.9,
          27.88,
          27.64,
          27.73,
          27.91,
          27.8,
          27.83,
          27.98,
          28.04,
          28.35,
          28.35,
          28.45,
          28.62,
          28.6,
          29.07,
          28.87,
          28.63
         ],
         "high": [
          29.19,
          29.08,
          29.1,
          28.82,
          28.63,
          28.62,
          28.5,
          28.37,
          28.32,
          28.3,
          28.26,
          28.16,
          28.01,
          27.91,
          27.77,
          27.94,
          28.01,
          27.84,
          27.99,
          28.21,
          28.57,
          28.48,
          28.56,
          28.69,
          28.67,
          29.12,
          29.07,
          28.85
         ],
         "low": [
          28.92,
          28.92,
          28.69,
          28.35,
          28.38,
          28.31,
          28.17,
          28.04,
          28.05,
          28.02,
          28.09,
          27.83,
          27.69,
          27.56,
          27.58,
          27.66,
          27.78,
          27.68,
          27.78,
          27.96,
          28.01,
          28.18,
          28.28,
          28.41,
          28.51,
          28.59,
          28.77,
          28.61
         ],
         "open": [
          29.07,
          28.93,
          29,
          28.76,
          28.43,
          28.61,
          28.44,
          28.31,
          28.06,
          28.23,
          28.11,
          28.11,
          27.91,
          27.87,
          27.64,
          27.72,
          27.91,
          27.8,
          27.82,
          27.98,
          28.04,
          28.34,
          28.35,
          28.46,
          28.61,
          28.59,
          29.06,
          28.85
         ],
         "showlegend": false,
         "type": "candlestick",
         "x": [
          "2016-01-20T09:00:00-05:00",
          "2016-01-20T09:15:00-05:00",
          "2016-01-20T09:30:00-05:00",
          "2016-01-20T09:45:00-05:00",
          "2016-01-20T10:00:00-05:00",
          "2016-01-20T10:15:00-05:00",
          "2016-01-20T10:30:00-05:00",
          "2016-01-20T10:45:00-05:00",
          "2016-01-20T11:00:00-05:00",
          "2016-01-20T11:15:00-05:00",
          "2016-01-20T11:30:00-05:00",
          "2016-01-20T11:45:00-05:00",
          "2016-01-20T12:00:00-05:00",
          "2016-01-20T12:15:00-05:00",
          "2016-01-20T12:30:00-05:00",
          "2016-01-20T12:45:00-05:00",
          "2016-01-20T13:00:00-05:00",
          "2016-01-20T13:15:00-05:00",
          "2016-01-20T13:30:00-05:00",
          "2016-01-20T13:45:00-05:00",
          "2016-01-20T14:00:00-05:00",
          "2016-01-20T14:15:00-05:00",
          "2016-01-20T14:30:00-05:00",
          "2016-01-20T14:45:00-05:00",
          "2016-01-20T15:00:00-05:00",
          "2016-01-20T15:15:00-05:00",
          "2016-01-20T15:30:00-05:00",
          "2016-01-20T15:45:00-05:00"
         ]
        },
        {
         "mode": "lines",
         "type": "scatter",
         "x": [
          "2016-01-20T09:00:00-05:00",
          "2016-01-20T09:15:00-05:00",
          "2016-01-20T09:30:00-05:00",
          "2016-01-20T09:45:00-05:00",
          "2016-01-20T10:00:00-05:00",
          "2016-01-20T10:15:00-05:00",
          "2016-01-20T10:30:00-05:00",
          "2016-01-20T10:45:00-05:00",
          "2016-01-20T11:00:00-05:00",
          "2016-01-20T11:15:00-05:00",
          "2016-01-20T11:30:00-05:00",
          "2016-01-20T11:45:00-05:00",
          "2016-01-20T12:00:00-05:00",
          "2016-01-20T12:15:00-05:00",
          "2016-01-20T12:30:00-05:00",
          "2016-01-20T12:45:00-05:00",
          "2016-01-20T13:00:00-05:00",
          "2016-01-20T13:15:00-05:00",
          "2016-01-20T13:30:00-05:00",
          "2016-01-20T13:45:00-05:00",
          "2016-01-20T14:00:00-05:00",
          "2016-01-20T14:15:00-05:00",
          "2016-01-20T14:30:00-05:00",
          "2016-01-20T14:45:00-05:00",
          "2016-01-20T15:00:00-05:00",
          "2016-01-20T15:15:00-05:00",
          "2016-01-20T15:30:00-05:00",
          "2016-01-20T15:45:00-05:00"
         ],
         "xaxis": "x",
         "y": [
          0.570370370370371,
          0.4625000000000422,
          0.5382113821138375,
          0.377304964539008,
          0.4720000000000084,
          0.5311827956989282,
          0.583838383838379,
          0.513131313131313,
          0.41481481481480925,
          0.4428571428571367,
          0.4313725490196291,
          0.5050505050505059,
          0.4041666666666829,
          0.5047619047619105,
          0.41754385964910673,
          0.49285714285712146,
          0.5797101449275331,
          0.5666666666666703,
          0.5555555555555312,
          0.5626666666666864,
          0.5583333333333255,
          0.3555555555555511,
          0.5095238095238022,
          0.45000000000000256,
          0.3750000000000139,
          0.42515723270439837,
          0.6044444444444357,
          0.5111111111111246
         ],
         "yaxis": "y2"
        }
       ],
       "layout": {
        "height": 500,
        "template": {
         "data": {
          "bar": [
           {
            "error_x": {
             "color": "#2a3f5f"
            },
            "error_y": {
             "color": "#2a3f5f"
            },
            "marker": {
             "line": {
              "color": "#E5ECF6",
              "width": 0.5
             },
             "pattern": {
              "fillmode": "overlay",
              "size": 10,
              "solidity": 0.2
             }
            },
            "type": "bar"
           }
          ],
          "barpolar": [
           {
            "marker": {
             "line": {
              "color": "#E5ECF6",
              "width": 0.5
             },
             "pattern": {
              "fillmode": "overlay",
              "size": 10,
              "solidity": 0.2
             }
            },
            "type": "barpolar"
           }
          ],
          "carpet": [
           {
            "aaxis": {
             "endlinecolor": "#2a3f5f",
             "gridcolor": "white",
             "linecolor": "white",
             "minorgridcolor": "white",
             "startlinecolor": "#2a3f5f"
            },
            "baxis": {
             "endlinecolor": "#2a3f5f",
             "gridcolor": "white",
             "linecolor": "white",
             "minorgridcolor": "white",
             "startlinecolor": "#2a3f5f"
            },
            "type": "carpet"
           }
          ],
          "choropleth": [
           {
            "colorbar": {
             "outlinewidth": 0,
             "ticks": ""
            },
            "type": "choropleth"
           }
          ],
          "contour": [
           {
            "colorbar": {
             "outlinewidth": 0,
             "ticks": ""
            },
            "colorscale": [
             [
              0,
              "#0d0887"
             ],
             [
              0.1111111111111111,
              "#46039f"
             ],
             [
              0.2222222222222222,
              "#7201a8"
             ],
             [
              0.3333333333333333,
              "#9c179e"
             ],
             [
              0.4444444444444444,
              "#bd3786"
             ],
             [
              0.5555555555555556,
              "#d8576b"
             ],
             [
              0.6666666666666666,
              "#ed7953"
             ],
             [
              0.7777777777777778,
              "#fb9f3a"
             ],
             [
              0.8888888888888888,
              "#fdca26"
             ],
             [
              1,
              "#f0f921"
             ]
            ],
            "type": "contour"
           }
          ],
          "contourcarpet": [
           {
            "colorbar": {
             "outlinewidth": 0,
             "ticks": ""
            },
            "type": "contourcarpet"
           }
          ],
          "heatmap": [
           {
            "colorbar": {
             "outlinewidth": 0,
             "ticks": ""
            },
            "colorscale": [
             [
              0,
              "#0d0887"
             ],
             [
              0.1111111111111111,
              "#46039f"
             ],
             [
              0.2222222222222222,
              "#7201a8"
             ],
             [
              0.3333333333333333,
              "#9c179e"
             ],
             [
              0.4444444444444444,
              "#bd3786"
             ],
             [
              0.5555555555555556,
              "#d8576b"
             ],
             [
              0.6666666666666666,
              "#ed7953"
             ],
             [
              0.7777777777777778,
              "#fb9f3a"
             ],
             [
              0.8888888888888888,
              "#fdca26"
             ],
             [
              1,
              "#f0f921"
             ]
            ],
            "type": "heatmap"
           }
          ],
          "heatmapgl": [
           {
            "colorbar": {
             "outlinewidth": 0,
             "ticks": ""
            },
            "colorscale": [
             [
              0,
              "#0d0887"
             ],
             [
              0.1111111111111111,
              "#46039f"
             ],
             [
              0.2222222222222222,
              "#7201a8"
             ],
             [
              0.3333333333333333,
              "#9c179e"
             ],
             [
              0.4444444444444444,
              "#bd3786"
             ],
             [
              0.5555555555555556,
              "#d8576b"
             ],
             [
              0.6666666666666666,
              "#ed7953"
             ],
             [
              0.7777777777777778,
              "#fb9f3a"
             ],
             [
              0.8888888888888888,
              "#fdca26"
             ],
             [
              1,
              "#f0f921"
             ]
            ],
            "type": "heatmapgl"
           }
          ],
          "histogram": [
           {
            "marker": {
             "pattern": {
              "fillmode": "overlay",
              "size": 10,
              "solidity": 0.2
             }
            },
            "type": "histogram"
           }
          ],
          "histogram2d": [
           {
            "colorbar": {
             "outlinewidth": 0,
             "ticks": ""
            },
            "colorscale": [
             [
              0,
              "#0d0887"
             ],
             [
              0.1111111111111111,
              "#46039f"
             ],
             [
              0.2222222222222222,
              "#7201a8"
             ],
             [
              0.3333333333333333,
              "#9c179e"
             ],
             [
              0.4444444444444444,
              "#bd3786"
             ],
             [
              0.5555555555555556,
              "#d8576b"
             ],
             [
              0.6666666666666666,
              "#ed7953"
             ],
             [
              0.7777777777777778,
              "#fb9f3a"
             ],
             [
              0.8888888888888888,
              "#fdca26"
             ],
             [
              1,
              "#f0f921"
             ]
            ],
            "type": "histogram2d"
           }
          ],
          "histogram2dcontour": [
           {
            "colorbar": {
             "outlinewidth": 0,
             "ticks": ""
            },
            "colorscale": [
             [
              0,
              "#0d0887"
             ],
             [
              0.1111111111111111,
              "#46039f"
             ],
             [
              0.2222222222222222,
              "#7201a8"
             ],
             [
              0.3333333333333333,
              "#9c179e"
             ],
             [
              0.4444444444444444,
              "#bd3786"
             ],
             [
              0.5555555555555556,
              "#d8576b"
             ],
             [
              0.6666666666666666,
              "#ed7953"
             ],
             [
              0.7777777777777778,
              "#fb9f3a"
             ],
             [
              0.8888888888888888,
              "#fdca26"
             ],
             [
              1,
              "#f0f921"
             ]
            ],
            "type": "histogram2dcontour"
           }
          ],
          "mesh3d": [
           {
            "colorbar": {
             "outlinewidth": 0,
             "ticks": ""
            },
            "type": "mesh3d"
           }
          ],
          "parcoords": [
           {
            "line": {
             "colorbar": {
              "outlinewidth": 0,
              "ticks": ""
             }
            },
            "type": "parcoords"
           }
          ],
          "pie": [
           {
            "automargin": true,
            "type": "pie"
           }
          ],
          "scatter": [
           {
            "fillpattern": {
             "fillmode": "overlay",
             "size": 10,
             "solidity": 0.2
            },
            "type": "scatter"
           }
          ],
          "scatter3d": [
           {
            "line": {
             "colorbar": {
              "outlinewidth": 0,
              "ticks": ""
             }
            },
            "marker": {
             "colorbar": {
              "outlinewidth": 0,
              "ticks": ""
             }
            },
            "type": "scatter3d"
           }
          ],
          "scattercarpet": [
           {
            "marker": {
             "colorbar": {
              "outlinewidth": 0,
              "ticks": ""
             }
            },
            "type": "scattercarpet"
           }
          ],
          "scattergeo": [
           {
            "marker": {
             "colorbar": {
              "outlinewidth": 0,
              "ticks": ""
             }
            },
            "type": "scattergeo"
           }
          ],
          "scattergl": [
           {
            "marker": {
             "colorbar": {
              "outlinewidth": 0,
              "ticks": ""
             }
            },
            "type": "scattergl"
           }
          ],
          "scattermapbox": [
           {
            "marker": {
             "colorbar": {
              "outlinewidth": 0,
              "ticks": ""
             }
            },
            "type": "scattermapbox"
           }
          ],
          "scatterpolar": [
           {
            "marker": {
             "colorbar": {
              "outlinewidth": 0,
              "ticks": ""
             }
            },
            "type": "scatterpolar"
           }
          ],
          "scatterpolargl": [
           {
            "marker": {
             "colorbar": {
              "outlinewidth": 0,
              "ticks": ""
             }
            },
            "type": "scatterpolargl"
           }
          ],
          "scatterternary": [
           {
            "marker": {
             "colorbar": {
              "outlinewidth": 0,
              "ticks": ""
             }
            },
            "type": "scatterternary"
           }
          ],
          "surface": [
           {
            "colorbar": {
             "outlinewidth": 0,
             "ticks": ""
            },
            "colorscale": [
             [
              0,
              "#0d0887"
             ],
             [
              0.1111111111111111,
              "#46039f"
             ],
             [
              0.2222222222222222,
              "#7201a8"
             ],
             [
              0.3333333333333333,
              "#9c179e"
             ],
             [
              0.4444444444444444,
              "#bd3786"
             ],
             [
              0.5555555555555556,
              "#d8576b"
             ],
             [
              0.6666666666666666,
              "#ed7953"
             ],
             [
              0.7777777777777778,
              "#fb9f3a"
             ],
             [
              0.8888888888888888,
              "#fdca26"
             ],
             [
              1,
              "#f0f921"
             ]
            ],
            "type": "surface"
           }
          ],
          "table": [
           {
            "cells": {
             "fill": {
              "color": "#EBF0F8"
             },
             "line": {
              "color": "white"
             }
            },
            "header": {
             "fill": {
              "color": "#C8D4E3"
             },
             "line": {
              "color": "white"
             }
            },
            "type": "table"
           }
          ]
         },
         "layout": {
          "annotationdefaults": {
           "arrowcolor": "#2a3f5f",
           "arrowhead": 0,
           "arrowwidth": 1
          },
          "autotypenumbers": "strict",
          "coloraxis": {
           "colorbar": {
            "outlinewidth": 0,
            "ticks": ""
           }
          },
          "colorscale": {
           "diverging": [
            [
             0,
             "#8e0152"
            ],
            [
             0.1,
             "#c51b7d"
            ],
            [
             0.2,
             "#de77ae"
            ],
            [
             0.3,
             "#f1b6da"
            ],
            [
             0.4,
             "#fde0ef"
            ],
            [
             0.5,
             "#f7f7f7"
            ],
            [
             0.6,
             "#e6f5d0"
            ],
            [
             0.7,
             "#b8e186"
            ],
            [
             0.8,
             "#7fbc41"
            ],
            [
             0.9,
             "#4d9221"
            ],
            [
             1,
             "#276419"
            ]
           ],
           "sequential": [
            [
             0,
             "#0d0887"
            ],
            [
             0.1111111111111111,
             "#46039f"
            ],
            [
             0.2222222222222222,
             "#7201a8"
            ],
            [
             0.3333333333333333,
             "#9c179e"
            ],
            [
             0.4444444444444444,
             "#bd3786"
            ],
            [
             0.5555555555555556,
             "#d8576b"
            ],
            [
             0.6666666666666666,
             "#ed7953"
            ],
            [
             0.7777777777777778,
             "#fb9f3a"
            ],
            [
             0.8888888888888888,
             "#fdca26"
            ],
            [
             1,
             "#f0f921"
            ]
           ],
           "sequentialminus": [
            [
             0,
             "#0d0887"
            ],
            [
             0.1111111111111111,
             "#46039f"
            ],
            [
             0.2222222222222222,
             "#7201a8"
            ],
            [
             0.3333333333333333,
             "#9c179e"
            ],
            [
             0.4444444444444444,
             "#bd3786"
            ],
            [
             0.5555555555555556,
             "#d8576b"
            ],
            [
             0.6666666666666666,
             "#ed7953"
            ],
            [
             0.7777777777777778,
             "#fb9f3a"
            ],
            [
             0.8888888888888888,
             "#fdca26"
            ],
            [
             1,
             "#f0f921"
            ]
           ]
          },
          "colorway": [
           "#636efa",
           "#EF553B",
           "#00cc96",
           "#ab63fa",
           "#FFA15A",
           "#19d3f3",
           "#FF6692",
           "#B6E880",
           "#FF97FF",
           "#FECB52"
          ],
          "font": {
           "color": "#2a3f5f"
          },
          "geo": {
           "bgcolor": "white",
           "lakecolor": "white",
           "landcolor": "#E5ECF6",
           "showlakes": true,
           "showland": true,
           "subunitcolor": "white"
          },
          "hoverlabel": {
           "align": "left"
          },
          "hovermode": "closest",
          "mapbox": {
           "style": "light"
          },
          "paper_bgcolor": "white",
          "plot_bgcolor": "#E5ECF6",
          "polar": {
           "angularaxis": {
            "gridcolor": "white",
            "linecolor": "white",
            "ticks": ""
           },
           "bgcolor": "#E5ECF6",
           "radialaxis": {
            "gridcolor": "white",
            "linecolor": "white",
            "ticks": ""
           }
          },
          "scene": {
           "xaxis": {
            "backgroundcolor": "#E5ECF6",
            "gridcolor": "white",
            "gridwidth": 2,
            "linecolor": "white",
            "showbackground": true,
            "ticks": "",
            "zerolinecolor": "white"
           },
           "yaxis": {
            "backgroundcolor": "#E5ECF6",
            "gridcolor": "white",
            "gridwidth": 2,
            "linecolor": "white",
            "showbackground": true,
            "ticks": "",
            "zerolinecolor": "white"
           },
           "zaxis": {
            "backgroundcolor": "#E5ECF6",
            "gridcolor": "white",
            "gridwidth": 2,
            "linecolor": "white",
            "showbackground": true,
            "ticks": "",
            "zerolinecolor": "white"
           }
          },
          "shapedefaults": {
           "line": {
            "color": "#2a3f5f"
           }
          },
          "ternary": {
           "aaxis": {
            "gridcolor": "white",
            "linecolor": "white",
            "ticks": ""
           },
           "baxis": {
            "gridcolor": "white",
            "linecolor": "white",
            "ticks": ""
           },
           "bgcolor": "#E5ECF6",
           "caxis": {
            "gridcolor": "white",
            "linecolor": "white",
            "ticks": ""
           }
          },
          "title": {
           "x": 0.05
          },
          "xaxis": {
           "automargin": true,
           "gridcolor": "white",
           "linecolor": "white",
           "ticks": "",
           "title": {
            "standoff": 15
           },
           "zerolinecolor": "white",
           "zerolinewidth": 2
          },
          "yaxis": {
           "automargin": true,
           "gridcolor": "white",
           "linecolor": "white",
           "ticks": "",
           "title": {
            "standoff": 15
           },
           "zerolinecolor": "white",
           "zerolinewidth": 2
          }
         }
        },
        "title": {
         "text": "2016-01-20"
        },
        "width": 2000,
        "xaxis": {
         "anchor": "y",
         "domain": [
          0,
          0.94
         ],
         "rangeslider": {
          "visible": false
         },
         "title": {
          "text": "Datetime"
         }
        },
        "yaxis": {
         "anchor": "x",
         "domain": [
          0,
          1
         ],
         "title": {
          "text": "Price ($)"
         }
        },
        "yaxis2": {
         "anchor": "x",
         "overlaying": "y",
         "range": [
          0.3,
          0.7
         ],
         "side": "right"
        }
       }
      }
     },
     "metadata": {},
     "output_type": "display_data"
    },
    {
     "data": {
      "application/vnd.plotly.v1+json": {
       "config": {
        "plotlyServerURL": "https://plot.ly"
       },
       "data": [
        {
         "close": [
          66.19,
          66.25,
          66.28,
          66.29,
          66.23,
          66.4,
          66.26,
          66.33,
          66.17,
          66.36,
          65.84,
          65.74,
          65.94,
          65.8,
          65.76,
          65.85,
          65.81,
          65.74,
          65.82,
          65.9,
          65.76,
          65.83,
          65.83,
          65.88,
          65.94,
          65.83,
          65.8,
          65.84
         ],
         "high": [
          66.24,
          66.27,
          66.3,
          66.38,
          66.31,
          66.43,
          66.43,
          66.36,
          66.33,
          66.36,
          66.39,
          65.98,
          65.98,
          65.97,
          65.86,
          65.89,
          65.87,
          65.83,
          65.85,
          65.93,
          65.9,
          65.85,
          65.85,
          65.89,
          66,
          66.06,
          65.88,
          65.85
         ],
         "low": [
          66.15,
          66.14,
          66.22,
          66.28,
          66.11,
          66.24,
          66.26,
          66.24,
          66.14,
          66.12,
          65.81,
          65.72,
          65.72,
          65.69,
          65.66,
          65.76,
          65.78,
          65.74,
          65.67,
          65.81,
          65.75,
          65.76,
          65.76,
          65.82,
          65.84,
          65.82,
          65.74,
          65.78
         ],
         "open": [
          66.2,
          66.19,
          66.25,
          66.29,
          66.29,
          66.24,
          66.4,
          66.26,
          66.33,
          66.17,
          66.29,
          65.83,
          65.75,
          65.94,
          65.79,
          65.77,
          65.85,
          65.8,
          65.74,
          65.82,
          65.9,
          65.77,
          65.83,
          65.83,
          65.88,
          65.95,
          65.84,
          65.8
         ],
         "showlegend": false,
         "type": "candlestick",
         "x": [
          "2019-04-24T09:00:00-04:00",
          "2019-04-24T09:15:00-04:00",
          "2019-04-24T09:30:00-04:00",
          "2019-04-24T09:45:00-04:00",
          "2019-04-24T10:00:00-04:00",
          "2019-04-24T10:15:00-04:00",
          "2019-04-24T10:30:00-04:00",
          "2019-04-24T10:45:00-04:00",
          "2019-04-24T11:00:00-04:00",
          "2019-04-24T11:15:00-04:00",
          "2019-04-24T11:30:00-04:00",
          "2019-04-24T11:45:00-04:00",
          "2019-04-24T12:00:00-04:00",
          "2019-04-24T12:15:00-04:00",
          "2019-04-24T12:30:00-04:00",
          "2019-04-24T12:45:00-04:00",
          "2019-04-24T13:00:00-04:00",
          "2019-04-24T13:15:00-04:00",
          "2019-04-24T13:30:00-04:00",
          "2019-04-24T13:45:00-04:00",
          "2019-04-24T14:00:00-04:00",
          "2019-04-24T14:15:00-04:00",
          "2019-04-24T14:30:00-04:00",
          "2019-04-24T14:45:00-04:00",
          "2019-04-24T15:00:00-04:00",
          "2019-04-24T15:15:00-04:00",
          "2019-04-24T15:30:00-04:00",
          "2019-04-24T15:45:00-04:00"
         ]
        },
        {
         "mode": "lines",
         "type": "scatter",
         "x": [
          "2019-04-24T09:00:00-04:00",
          "2019-04-24T09:15:00-04:00",
          "2019-04-24T09:30:00-04:00",
          "2019-04-24T09:45:00-04:00",
          "2019-04-24T10:00:00-04:00",
          "2019-04-24T10:15:00-04:00",
          "2019-04-24T10:30:00-04:00",
          "2019-04-24T10:45:00-04:00",
          "2019-04-24T11:00:00-04:00",
          "2019-04-24T11:15:00-04:00",
          "2019-04-24T11:30:00-04:00",
          "2019-04-24T11:45:00-04:00",
          "2019-04-24T12:00:00-04:00",
          "2019-04-24T12:15:00-04:00",
          "2019-04-24T12:30:00-04:00",
          "2019-04-24T12:45:00-04:00",
          "2019-04-24T13:00:00-04:00",
          "2019-04-24T13:15:00-04:00",
          "2019-04-24T13:30:00-04:00",
          "2019-04-24T13:45:00-04:00",
          "2019-04-24T14:00:00-04:00",
          "2019-04-24T14:15:00-04:00",
          "2019-04-24T14:30:00-04:00",
          "2019-04-24T14:45:00-04:00",
          "2019-04-24T15:00:00-04:00",
          "2019-04-24T15:15:00-04:00",
          "2019-04-24T15:30:00-04:00",
          "2019-04-24T15:45:00-04:00"
         ],
         "xaxis": "x",
         "y": [
          0.5259259259257634,
          0.46153846153849515,
          0.3916666666668872,
          0.3799999999998465,
          0.5533333333332912,
          0.498245614035067,
          0.5294117647059807,
          0.5166666666667457,
          0.60000000000003,
          0.7111111111111664,
          0.5114942528735651,
          0.47179487179489255,
          0.3512820512820091,
          0.39523809523811987,
          0.48999999999998795,
          0.5794871794871974,
          0.5851851851853256,
          0.4518518518518343,
          0.3111111111110304,
          0.4166666666667456,
          0.51111111111129,
          0.25925925925921245,
          0.5629629629630869,
          0.5238095238093982,
          0.4458333333333104,
          0.44444444444443787,
          0.5809523809524796,
          0.6190476190477254
         ],
         "yaxis": "y2"
        }
       ],
       "layout": {
        "height": 500,
        "template": {
         "data": {
          "bar": [
           {
            "error_x": {
             "color": "#2a3f5f"
            },
            "error_y": {
             "color": "#2a3f5f"
            },
            "marker": {
             "line": {
              "color": "#E5ECF6",
              "width": 0.5
             },
             "pattern": {
              "fillmode": "overlay",
              "size": 10,
              "solidity": 0.2
             }
            },
            "type": "bar"
           }
          ],
          "barpolar": [
           {
            "marker": {
             "line": {
              "color": "#E5ECF6",
              "width": 0.5
             },
             "pattern": {
              "fillmode": "overlay",
              "size": 10,
              "solidity": 0.2
             }
            },
            "type": "barpolar"
           }
          ],
          "carpet": [
           {
            "aaxis": {
             "endlinecolor": "#2a3f5f",
             "gridcolor": "white",
             "linecolor": "white",
             "minorgridcolor": "white",
             "startlinecolor": "#2a3f5f"
            },
            "baxis": {
             "endlinecolor": "#2a3f5f",
             "gridcolor": "white",
             "linecolor": "white",
             "minorgridcolor": "white",
             "startlinecolor": "#2a3f5f"
            },
            "type": "carpet"
           }
          ],
          "choropleth": [
           {
            "colorbar": {
             "outlinewidth": 0,
             "ticks": ""
            },
            "type": "choropleth"
           }
          ],
          "contour": [
           {
            "colorbar": {
             "outlinewidth": 0,
             "ticks": ""
            },
            "colorscale": [
             [
              0,
              "#0d0887"
             ],
             [
              0.1111111111111111,
              "#46039f"
             ],
             [
              0.2222222222222222,
              "#7201a8"
             ],
             [
              0.3333333333333333,
              "#9c179e"
             ],
             [
              0.4444444444444444,
              "#bd3786"
             ],
             [
              0.5555555555555556,
              "#d8576b"
             ],
             [
              0.6666666666666666,
              "#ed7953"
             ],
             [
              0.7777777777777778,
              "#fb9f3a"
             ],
             [
              0.8888888888888888,
              "#fdca26"
             ],
             [
              1,
              "#f0f921"
             ]
            ],
            "type": "contour"
           }
          ],
          "contourcarpet": [
           {
            "colorbar": {
             "outlinewidth": 0,
             "ticks": ""
            },
            "type": "contourcarpet"
           }
          ],
          "heatmap": [
           {
            "colorbar": {
             "outlinewidth": 0,
             "ticks": ""
            },
            "colorscale": [
             [
              0,
              "#0d0887"
             ],
             [
              0.1111111111111111,
              "#46039f"
             ],
             [
              0.2222222222222222,
              "#7201a8"
             ],
             [
              0.3333333333333333,
              "#9c179e"
             ],
             [
              0.4444444444444444,
              "#bd3786"
             ],
             [
              0.5555555555555556,
              "#d8576b"
             ],
             [
              0.6666666666666666,
              "#ed7953"
             ],
             [
              0.7777777777777778,
              "#fb9f3a"
             ],
             [
              0.8888888888888888,
              "#fdca26"
             ],
             [
              1,
              "#f0f921"
             ]
            ],
            "type": "heatmap"
           }
          ],
          "heatmapgl": [
           {
            "colorbar": {
             "outlinewidth": 0,
             "ticks": ""
            },
            "colorscale": [
             [
              0,
              "#0d0887"
             ],
             [
              0.1111111111111111,
              "#46039f"
             ],
             [
              0.2222222222222222,
              "#7201a8"
             ],
             [
              0.3333333333333333,
              "#9c179e"
             ],
             [
              0.4444444444444444,
              "#bd3786"
             ],
             [
              0.5555555555555556,
              "#d8576b"
             ],
             [
              0.6666666666666666,
              "#ed7953"
             ],
             [
              0.7777777777777778,
              "#fb9f3a"
             ],
             [
              0.8888888888888888,
              "#fdca26"
             ],
             [
              1,
              "#f0f921"
             ]
            ],
            "type": "heatmapgl"
           }
          ],
          "histogram": [
           {
            "marker": {
             "pattern": {
              "fillmode": "overlay",
              "size": 10,
              "solidity": 0.2
             }
            },
            "type": "histogram"
           }
          ],
          "histogram2d": [
           {
            "colorbar": {
             "outlinewidth": 0,
             "ticks": ""
            },
            "colorscale": [
             [
              0,
              "#0d0887"
             ],
             [
              0.1111111111111111,
              "#46039f"
             ],
             [
              0.2222222222222222,
              "#7201a8"
             ],
             [
              0.3333333333333333,
              "#9c179e"
             ],
             [
              0.4444444444444444,
              "#bd3786"
             ],
             [
              0.5555555555555556,
              "#d8576b"
             ],
             [
              0.6666666666666666,
              "#ed7953"
             ],
             [
              0.7777777777777778,
              "#fb9f3a"
             ],
             [
              0.8888888888888888,
              "#fdca26"
             ],
             [
              1,
              "#f0f921"
             ]
            ],
            "type": "histogram2d"
           }
          ],
          "histogram2dcontour": [
           {
            "colorbar": {
             "outlinewidth": 0,
             "ticks": ""
            },
            "colorscale": [
             [
              0,
              "#0d0887"
             ],
             [
              0.1111111111111111,
              "#46039f"
             ],
             [
              0.2222222222222222,
              "#7201a8"
             ],
             [
              0.3333333333333333,
              "#9c179e"
             ],
             [
              0.4444444444444444,
              "#bd3786"
             ],
             [
              0.5555555555555556,
              "#d8576b"
             ],
             [
              0.6666666666666666,
              "#ed7953"
             ],
             [
              0.7777777777777778,
              "#fb9f3a"
             ],
             [
              0.8888888888888888,
              "#fdca26"
             ],
             [
              1,
              "#f0f921"
             ]
            ],
            "type": "histogram2dcontour"
           }
          ],
          "mesh3d": [
           {
            "colorbar": {
             "outlinewidth": 0,
             "ticks": ""
            },
            "type": "mesh3d"
           }
          ],
          "parcoords": [
           {
            "line": {
             "colorbar": {
              "outlinewidth": 0,
              "ticks": ""
             }
            },
            "type": "parcoords"
           }
          ],
          "pie": [
           {
            "automargin": true,
            "type": "pie"
           }
          ],
          "scatter": [
           {
            "fillpattern": {
             "fillmode": "overlay",
             "size": 10,
             "solidity": 0.2
            },
            "type": "scatter"
           }
          ],
          "scatter3d": [
           {
            "line": {
             "colorbar": {
              "outlinewidth": 0,
              "ticks": ""
             }
            },
            "marker": {
             "colorbar": {
              "outlinewidth": 0,
              "ticks": ""
             }
            },
            "type": "scatter3d"
           }
          ],
          "scattercarpet": [
           {
            "marker": {
             "colorbar": {
              "outlinewidth": 0,
              "ticks": ""
             }
            },
            "type": "scattercarpet"
           }
          ],
          "scattergeo": [
           {
            "marker": {
             "colorbar": {
              "outlinewidth": 0,
              "ticks": ""
             }
            },
            "type": "scattergeo"
           }
          ],
          "scattergl": [
           {
            "marker": {
             "colorbar": {
              "outlinewidth": 0,
              "ticks": ""
             }
            },
            "type": "scattergl"
           }
          ],
          "scattermapbox": [
           {
            "marker": {
             "colorbar": {
              "outlinewidth": 0,
              "ticks": ""
             }
            },
            "type": "scattermapbox"
           }
          ],
          "scatterpolar": [
           {
            "marker": {
             "colorbar": {
              "outlinewidth": 0,
              "ticks": ""
             }
            },
            "type": "scatterpolar"
           }
          ],
          "scatterpolargl": [
           {
            "marker": {
             "colorbar": {
              "outlinewidth": 0,
              "ticks": ""
             }
            },
            "type": "scatterpolargl"
           }
          ],
          "scatterternary": [
           {
            "marker": {
             "colorbar": {
              "outlinewidth": 0,
              "ticks": ""
             }
            },
            "type": "scatterternary"
           }
          ],
          "surface": [
           {
            "colorbar": {
             "outlinewidth": 0,
             "ticks": ""
            },
            "colorscale": [
             [
              0,
              "#0d0887"
             ],
             [
              0.1111111111111111,
              "#46039f"
             ],
             [
              0.2222222222222222,
              "#7201a8"
             ],
             [
              0.3333333333333333,
              "#9c179e"
             ],
             [
              0.4444444444444444,
              "#bd3786"
             ],
             [
              0.5555555555555556,
              "#d8576b"
             ],
             [
              0.6666666666666666,
              "#ed7953"
             ],
             [
              0.7777777777777778,
              "#fb9f3a"
             ],
             [
              0.8888888888888888,
              "#fdca26"
             ],
             [
              1,
              "#f0f921"
             ]
            ],
            "type": "surface"
           }
          ],
          "table": [
           {
            "cells": {
             "fill": {
              "color": "#EBF0F8"
             },
             "line": {
              "color": "white"
             }
            },
            "header": {
             "fill": {
              "color": "#C8D4E3"
             },
             "line": {
              "color": "white"
             }
            },
            "type": "table"
           }
          ]
         },
         "layout": {
          "annotationdefaults": {
           "arrowcolor": "#2a3f5f",
           "arrowhead": 0,
           "arrowwidth": 1
          },
          "autotypenumbers": "strict",
          "coloraxis": {
           "colorbar": {
            "outlinewidth": 0,
            "ticks": ""
           }
          },
          "colorscale": {
           "diverging": [
            [
             0,
             "#8e0152"
            ],
            [
             0.1,
             "#c51b7d"
            ],
            [
             0.2,
             "#de77ae"
            ],
            [
             0.3,
             "#f1b6da"
            ],
            [
             0.4,
             "#fde0ef"
            ],
            [
             0.5,
             "#f7f7f7"
            ],
            [
             0.6,
             "#e6f5d0"
            ],
            [
             0.7,
             "#b8e186"
            ],
            [
             0.8,
             "#7fbc41"
            ],
            [
             0.9,
             "#4d9221"
            ],
            [
             1,
             "#276419"
            ]
           ],
           "sequential": [
            [
             0,
             "#0d0887"
            ],
            [
             0.1111111111111111,
             "#46039f"
            ],
            [
             0.2222222222222222,
             "#7201a8"
            ],
            [
             0.3333333333333333,
             "#9c179e"
            ],
            [
             0.4444444444444444,
             "#bd3786"
            ],
            [
             0.5555555555555556,
             "#d8576b"
            ],
            [
             0.6666666666666666,
             "#ed7953"
            ],
            [
             0.7777777777777778,
             "#fb9f3a"
            ],
            [
             0.8888888888888888,
             "#fdca26"
            ],
            [
             1,
             "#f0f921"
            ]
           ],
           "sequentialminus": [
            [
             0,
             "#0d0887"
            ],
            [
             0.1111111111111111,
             "#46039f"
            ],
            [
             0.2222222222222222,
             "#7201a8"
            ],
            [
             0.3333333333333333,
             "#9c179e"
            ],
            [
             0.4444444444444444,
             "#bd3786"
            ],
            [
             0.5555555555555556,
             "#d8576b"
            ],
            [
             0.6666666666666666,
             "#ed7953"
            ],
            [
             0.7777777777777778,
             "#fb9f3a"
            ],
            [
             0.8888888888888888,
             "#fdca26"
            ],
            [
             1,
             "#f0f921"
            ]
           ]
          },
          "colorway": [
           "#636efa",
           "#EF553B",
           "#00cc96",
           "#ab63fa",
           "#FFA15A",
           "#19d3f3",
           "#FF6692",
           "#B6E880",
           "#FF97FF",
           "#FECB52"
          ],
          "font": {
           "color": "#2a3f5f"
          },
          "geo": {
           "bgcolor": "white",
           "lakecolor": "white",
           "landcolor": "#E5ECF6",
           "showlakes": true,
           "showland": true,
           "subunitcolor": "white"
          },
          "hoverlabel": {
           "align": "left"
          },
          "hovermode": "closest",
          "mapbox": {
           "style": "light"
          },
          "paper_bgcolor": "white",
          "plot_bgcolor": "#E5ECF6",
          "polar": {
           "angularaxis": {
            "gridcolor": "white",
            "linecolor": "white",
            "ticks": ""
           },
           "bgcolor": "#E5ECF6",
           "radialaxis": {
            "gridcolor": "white",
            "linecolor": "white",
            "ticks": ""
           }
          },
          "scene": {
           "xaxis": {
            "backgroundcolor": "#E5ECF6",
            "gridcolor": "white",
            "gridwidth": 2,
            "linecolor": "white",
            "showbackground": true,
            "ticks": "",
            "zerolinecolor": "white"
           },
           "yaxis": {
            "backgroundcolor": "#E5ECF6",
            "gridcolor": "white",
            "gridwidth": 2,
            "linecolor": "white",
            "showbackground": true,
            "ticks": "",
            "zerolinecolor": "white"
           },
           "zaxis": {
            "backgroundcolor": "#E5ECF6",
            "gridcolor": "white",
            "gridwidth": 2,
            "linecolor": "white",
            "showbackground": true,
            "ticks": "",
            "zerolinecolor": "white"
           }
          },
          "shapedefaults": {
           "line": {
            "color": "#2a3f5f"
           }
          },
          "ternary": {
           "aaxis": {
            "gridcolor": "white",
            "linecolor": "white",
            "ticks": ""
           },
           "baxis": {
            "gridcolor": "white",
            "linecolor": "white",
            "ticks": ""
           },
           "bgcolor": "#E5ECF6",
           "caxis": {
            "gridcolor": "white",
            "linecolor": "white",
            "ticks": ""
           }
          },
          "title": {
           "x": 0.05
          },
          "xaxis": {
           "automargin": true,
           "gridcolor": "white",
           "linecolor": "white",
           "ticks": "",
           "title": {
            "standoff": 15
           },
           "zerolinecolor": "white",
           "zerolinewidth": 2
          },
          "yaxis": {
           "automargin": true,
           "gridcolor": "white",
           "linecolor": "white",
           "ticks": "",
           "title": {
            "standoff": 15
           },
           "zerolinecolor": "white",
           "zerolinewidth": 2
          }
         }
        },
        "title": {
         "text": "2019-04-24"
        },
        "width": 2000,
        "xaxis": {
         "anchor": "y",
         "domain": [
          0,
          0.94
         ],
         "rangeslider": {
          "visible": false
         },
         "title": {
          "text": "Datetime"
         }
        },
        "yaxis": {
         "anchor": "x",
         "domain": [
          0,
          1
         ],
         "title": {
          "text": "Price ($)"
         }
        },
        "yaxis2": {
         "anchor": "x",
         "overlaying": "y",
         "range": [
          0.3,
          0.7
         ],
         "side": "right"
        }
       }
      }
     },
     "metadata": {},
     "output_type": "display_data"
    },
    {
     "data": {
      "application/vnd.plotly.v1+json": {
       "config": {
        "plotlyServerURL": "https://plot.ly"
       },
       "data": [
        {
         "close": [
          44.57,
          44.65,
          44.64,
          44.59,
          44.35,
          44.45,
          44.37,
          44.31,
          44.33,
          44.48,
          44.21,
          43.91,
          43.84,
          44.13,
          43.96,
          44.09,
          43.97,
          43.9,
          43.85,
          43.88,
          43.92,
          43.95,
          43.88,
          43.85,
          43.68,
          43.58,
          43.7,
          43.63
         ],
         "high": [
          44.94,
          44.7,
          44.69,
          44.7,
          44.66,
          44.48,
          44.51,
          44.4,
          44.4,
          44.66,
          45.14,
          44.33,
          44.1,
          44.31,
          44.13,
          44.1,
          44.15,
          43.98,
          43.92,
          43.94,
          43.97,
          43.97,
          44.06,
          43.9,
          43.88,
          43.69,
          43.73,
          43.74
         ],
         "low": [
          44.57,
          44.51,
          44.53,
          44.56,
          44.31,
          44.33,
          44.3,
          44.16,
          44.27,
          44.22,
          43.94,
          43.81,
          43.74,
          43.82,
          43.91,
          43.88,
          43.9,
          43.86,
          43.78,
          43.85,
          43.84,
          43.87,
          43.84,
          43.75,
          43.64,
          43.42,
          43.55,
          43.61
         ],
         "open": [
          44.86,
          44.58,
          44.66,
          44.64,
          44.6,
          44.34,
          44.45,
          44.37,
          44.3,
          44.34,
          44.48,
          44.2,
          43.91,
          43.84,
          44.13,
          43.97,
          44.09,
          43.97,
          43.91,
          43.85,
          43.89,
          43.92,
          43.95,
          43.87,
          43.85,
          43.68,
          43.58,
          43.7
         ],
         "showlegend": false,
         "type": "candlestick",
         "x": [
          "2016-09-14T09:00:00-04:00",
          "2016-09-14T09:15:00-04:00",
          "2016-09-14T09:30:00-04:00",
          "2016-09-14T09:45:00-04:00",
          "2016-09-14T10:00:00-04:00",
          "2016-09-14T10:15:00-04:00",
          "2016-09-14T10:30:00-04:00",
          "2016-09-14T10:45:00-04:00",
          "2016-09-14T11:00:00-04:00",
          "2016-09-14T11:15:00-04:00",
          "2016-09-14T11:30:00-04:00",
          "2016-09-14T11:45:00-04:00",
          "2016-09-14T12:00:00-04:00",
          "2016-09-14T12:15:00-04:00",
          "2016-09-14T12:30:00-04:00",
          "2016-09-14T12:45:00-04:00",
          "2016-09-14T13:00:00-04:00",
          "2016-09-14T13:15:00-04:00",
          "2016-09-14T13:30:00-04:00",
          "2016-09-14T13:45:00-04:00",
          "2016-09-14T14:00:00-04:00",
          "2016-09-14T14:15:00-04:00",
          "2016-09-14T14:30:00-04:00",
          "2016-09-14T14:45:00-04:00",
          "2016-09-14T15:00:00-04:00",
          "2016-09-14T15:15:00-04:00",
          "2016-09-14T15:30:00-04:00",
          "2016-09-14T15:45:00-04:00"
         ]
        },
        {
         "mode": "lines",
         "type": "scatter",
         "x": [
          "2016-09-14T09:00:00-04:00",
          "2016-09-14T09:15:00-04:00",
          "2016-09-14T09:30:00-04:00",
          "2016-09-14T09:45:00-04:00",
          "2016-09-14T10:00:00-04:00",
          "2016-09-14T10:15:00-04:00",
          "2016-09-14T10:30:00-04:00",
          "2016-09-14T10:45:00-04:00",
          "2016-09-14T11:00:00-04:00",
          "2016-09-14T11:15:00-04:00",
          "2016-09-14T11:30:00-04:00",
          "2016-09-14T11:45:00-04:00",
          "2016-09-14T12:00:00-04:00",
          "2016-09-14T12:15:00-04:00",
          "2016-09-14T12:30:00-04:00",
          "2016-09-14T12:45:00-04:00",
          "2016-09-14T13:00:00-04:00",
          "2016-09-14T13:15:00-04:00",
          "2016-09-14T13:30:00-04:00",
          "2016-09-14T13:45:00-04:00",
          "2016-09-14T14:00:00-04:00",
          "2016-09-14T14:15:00-04:00",
          "2016-09-14T14:30:00-04:00",
          "2016-09-14T14:45:00-04:00",
          "2016-09-14T15:00:00-04:00",
          "2016-09-14T15:15:00-04:00",
          "2016-09-14T15:30:00-04:00",
          "2016-09-14T15:45:00-04:00"
         ],
         "xaxis": "x",
         "y": [
          0.3441441441441254,
          0.3929824561403724,
          0.4624999999999978,
          0.557142857142876,
          0.7295238095237994,
          0.4888888888888752,
          0.5047619047618768,
          0.5472222222222055,
          0.41538461538453636,
          0.784848484848463,
          0.30277777777777404,
          0.6346153846153862,
          0.5462962962963135,
          0.48027210884355687,
          0.6393939393939283,
          0.5909090909090733,
          0.5973333333333244,
          0.5111111111111545,
          0.48571428571421754,
          0.5037037037037084,
          0.5487179487179826,
          0.41333333333326416,
          0.43939393939396193,
          0.4399999999999261,
          0.622222222222267,
          0.4987654320987244,
          0.5185185185184424,
          0.5487179487179527
         ],
         "yaxis": "y2"
        }
       ],
       "layout": {
        "height": 500,
        "template": {
         "data": {
          "bar": [
           {
            "error_x": {
             "color": "#2a3f5f"
            },
            "error_y": {
             "color": "#2a3f5f"
            },
            "marker": {
             "line": {
              "color": "#E5ECF6",
              "width": 0.5
             },
             "pattern": {
              "fillmode": "overlay",
              "size": 10,
              "solidity": 0.2
             }
            },
            "type": "bar"
           }
          ],
          "barpolar": [
           {
            "marker": {
             "line": {
              "color": "#E5ECF6",
              "width": 0.5
             },
             "pattern": {
              "fillmode": "overlay",
              "size": 10,
              "solidity": 0.2
             }
            },
            "type": "barpolar"
           }
          ],
          "carpet": [
           {
            "aaxis": {
             "endlinecolor": "#2a3f5f",
             "gridcolor": "white",
             "linecolor": "white",
             "minorgridcolor": "white",
             "startlinecolor": "#2a3f5f"
            },
            "baxis": {
             "endlinecolor": "#2a3f5f",
             "gridcolor": "white",
             "linecolor": "white",
             "minorgridcolor": "white",
             "startlinecolor": "#2a3f5f"
            },
            "type": "carpet"
           }
          ],
          "choropleth": [
           {
            "colorbar": {
             "outlinewidth": 0,
             "ticks": ""
            },
            "type": "choropleth"
           }
          ],
          "contour": [
           {
            "colorbar": {
             "outlinewidth": 0,
             "ticks": ""
            },
            "colorscale": [
             [
              0,
              "#0d0887"
             ],
             [
              0.1111111111111111,
              "#46039f"
             ],
             [
              0.2222222222222222,
              "#7201a8"
             ],
             [
              0.3333333333333333,
              "#9c179e"
             ],
             [
              0.4444444444444444,
              "#bd3786"
             ],
             [
              0.5555555555555556,
              "#d8576b"
             ],
             [
              0.6666666666666666,
              "#ed7953"
             ],
             [
              0.7777777777777778,
              "#fb9f3a"
             ],
             [
              0.8888888888888888,
              "#fdca26"
             ],
             [
              1,
              "#f0f921"
             ]
            ],
            "type": "contour"
           }
          ],
          "contourcarpet": [
           {
            "colorbar": {
             "outlinewidth": 0,
             "ticks": ""
            },
            "type": "contourcarpet"
           }
          ],
          "heatmap": [
           {
            "colorbar": {
             "outlinewidth": 0,
             "ticks": ""
            },
            "colorscale": [
             [
              0,
              "#0d0887"
             ],
             [
              0.1111111111111111,
              "#46039f"
             ],
             [
              0.2222222222222222,
              "#7201a8"
             ],
             [
              0.3333333333333333,
              "#9c179e"
             ],
             [
              0.4444444444444444,
              "#bd3786"
             ],
             [
              0.5555555555555556,
              "#d8576b"
             ],
             [
              0.6666666666666666,
              "#ed7953"
             ],
             [
              0.7777777777777778,
              "#fb9f3a"
             ],
             [
              0.8888888888888888,
              "#fdca26"
             ],
             [
              1,
              "#f0f921"
             ]
            ],
            "type": "heatmap"
           }
          ],
          "heatmapgl": [
           {
            "colorbar": {
             "outlinewidth": 0,
             "ticks": ""
            },
            "colorscale": [
             [
              0,
              "#0d0887"
             ],
             [
              0.1111111111111111,
              "#46039f"
             ],
             [
              0.2222222222222222,
              "#7201a8"
             ],
             [
              0.3333333333333333,
              "#9c179e"
             ],
             [
              0.4444444444444444,
              "#bd3786"
             ],
             [
              0.5555555555555556,
              "#d8576b"
             ],
             [
              0.6666666666666666,
              "#ed7953"
             ],
             [
              0.7777777777777778,
              "#fb9f3a"
             ],
             [
              0.8888888888888888,
              "#fdca26"
             ],
             [
              1,
              "#f0f921"
             ]
            ],
            "type": "heatmapgl"
           }
          ],
          "histogram": [
           {
            "marker": {
             "pattern": {
              "fillmode": "overlay",
              "size": 10,
              "solidity": 0.2
             }
            },
            "type": "histogram"
           }
          ],
          "histogram2d": [
           {
            "colorbar": {
             "outlinewidth": 0,
             "ticks": ""
            },
            "colorscale": [
             [
              0,
              "#0d0887"
             ],
             [
              0.1111111111111111,
              "#46039f"
             ],
             [
              0.2222222222222222,
              "#7201a8"
             ],
             [
              0.3333333333333333,
              "#9c179e"
             ],
             [
              0.4444444444444444,
              "#bd3786"
             ],
             [
              0.5555555555555556,
              "#d8576b"
             ],
             [
              0.6666666666666666,
              "#ed7953"
             ],
             [
              0.7777777777777778,
              "#fb9f3a"
             ],
             [
              0.8888888888888888,
              "#fdca26"
             ],
             [
              1,
              "#f0f921"
             ]
            ],
            "type": "histogram2d"
           }
          ],
          "histogram2dcontour": [
           {
            "colorbar": {
             "outlinewidth": 0,
             "ticks": ""
            },
            "colorscale": [
             [
              0,
              "#0d0887"
             ],
             [
              0.1111111111111111,
              "#46039f"
             ],
             [
              0.2222222222222222,
              "#7201a8"
             ],
             [
              0.3333333333333333,
              "#9c179e"
             ],
             [
              0.4444444444444444,
              "#bd3786"
             ],
             [
              0.5555555555555556,
              "#d8576b"
             ],
             [
              0.6666666666666666,
              "#ed7953"
             ],
             [
              0.7777777777777778,
              "#fb9f3a"
             ],
             [
              0.8888888888888888,
              "#fdca26"
             ],
             [
              1,
              "#f0f921"
             ]
            ],
            "type": "histogram2dcontour"
           }
          ],
          "mesh3d": [
           {
            "colorbar": {
             "outlinewidth": 0,
             "ticks": ""
            },
            "type": "mesh3d"
           }
          ],
          "parcoords": [
           {
            "line": {
             "colorbar": {
              "outlinewidth": 0,
              "ticks": ""
             }
            },
            "type": "parcoords"
           }
          ],
          "pie": [
           {
            "automargin": true,
            "type": "pie"
           }
          ],
          "scatter": [
           {
            "fillpattern": {
             "fillmode": "overlay",
             "size": 10,
             "solidity": 0.2
            },
            "type": "scatter"
           }
          ],
          "scatter3d": [
           {
            "line": {
             "colorbar": {
              "outlinewidth": 0,
              "ticks": ""
             }
            },
            "marker": {
             "colorbar": {
              "outlinewidth": 0,
              "ticks": ""
             }
            },
            "type": "scatter3d"
           }
          ],
          "scattercarpet": [
           {
            "marker": {
             "colorbar": {
              "outlinewidth": 0,
              "ticks": ""
             }
            },
            "type": "scattercarpet"
           }
          ],
          "scattergeo": [
           {
            "marker": {
             "colorbar": {
              "outlinewidth": 0,
              "ticks": ""
             }
            },
            "type": "scattergeo"
           }
          ],
          "scattergl": [
           {
            "marker": {
             "colorbar": {
              "outlinewidth": 0,
              "ticks": ""
             }
            },
            "type": "scattergl"
           }
          ],
          "scattermapbox": [
           {
            "marker": {
             "colorbar": {
              "outlinewidth": 0,
              "ticks": ""
             }
            },
            "type": "scattermapbox"
           }
          ],
          "scatterpolar": [
           {
            "marker": {
             "colorbar": {
              "outlinewidth": 0,
              "ticks": ""
             }
            },
            "type": "scatterpolar"
           }
          ],
          "scatterpolargl": [
           {
            "marker": {
             "colorbar": {
              "outlinewidth": 0,
              "ticks": ""
             }
            },
            "type": "scatterpolargl"
           }
          ],
          "scatterternary": [
           {
            "marker": {
             "colorbar": {
              "outlinewidth": 0,
              "ticks": ""
             }
            },
            "type": "scatterternary"
           }
          ],
          "surface": [
           {
            "colorbar": {
             "outlinewidth": 0,
             "ticks": ""
            },
            "colorscale": [
             [
              0,
              "#0d0887"
             ],
             [
              0.1111111111111111,
              "#46039f"
             ],
             [
              0.2222222222222222,
              "#7201a8"
             ],
             [
              0.3333333333333333,
              "#9c179e"
             ],
             [
              0.4444444444444444,
              "#bd3786"
             ],
             [
              0.5555555555555556,
              "#d8576b"
             ],
             [
              0.6666666666666666,
              "#ed7953"
             ],
             [
              0.7777777777777778,
              "#fb9f3a"
             ],
             [
              0.8888888888888888,
              "#fdca26"
             ],
             [
              1,
              "#f0f921"
             ]
            ],
            "type": "surface"
           }
          ],
          "table": [
           {
            "cells": {
             "fill": {
              "color": "#EBF0F8"
             },
             "line": {
              "color": "white"
             }
            },
            "header": {
             "fill": {
              "color": "#C8D4E3"
             },
             "line": {
              "color": "white"
             }
            },
            "type": "table"
           }
          ]
         },
         "layout": {
          "annotationdefaults": {
           "arrowcolor": "#2a3f5f",
           "arrowhead": 0,
           "arrowwidth": 1
          },
          "autotypenumbers": "strict",
          "coloraxis": {
           "colorbar": {
            "outlinewidth": 0,
            "ticks": ""
           }
          },
          "colorscale": {
           "diverging": [
            [
             0,
             "#8e0152"
            ],
            [
             0.1,
             "#c51b7d"
            ],
            [
             0.2,
             "#de77ae"
            ],
            [
             0.3,
             "#f1b6da"
            ],
            [
             0.4,
             "#fde0ef"
            ],
            [
             0.5,
             "#f7f7f7"
            ],
            [
             0.6,
             "#e6f5d0"
            ],
            [
             0.7,
             "#b8e186"
            ],
            [
             0.8,
             "#7fbc41"
            ],
            [
             0.9,
             "#4d9221"
            ],
            [
             1,
             "#276419"
            ]
           ],
           "sequential": [
            [
             0,
             "#0d0887"
            ],
            [
             0.1111111111111111,
             "#46039f"
            ],
            [
             0.2222222222222222,
             "#7201a8"
            ],
            [
             0.3333333333333333,
             "#9c179e"
            ],
            [
             0.4444444444444444,
             "#bd3786"
            ],
            [
             0.5555555555555556,
             "#d8576b"
            ],
            [
             0.6666666666666666,
             "#ed7953"
            ],
            [
             0.7777777777777778,
             "#fb9f3a"
            ],
            [
             0.8888888888888888,
             "#fdca26"
            ],
            [
             1,
             "#f0f921"
            ]
           ],
           "sequentialminus": [
            [
             0,
             "#0d0887"
            ],
            [
             0.1111111111111111,
             "#46039f"
            ],
            [
             0.2222222222222222,
             "#7201a8"
            ],
            [
             0.3333333333333333,
             "#9c179e"
            ],
            [
             0.4444444444444444,
             "#bd3786"
            ],
            [
             0.5555555555555556,
             "#d8576b"
            ],
            [
             0.6666666666666666,
             "#ed7953"
            ],
            [
             0.7777777777777778,
             "#fb9f3a"
            ],
            [
             0.8888888888888888,
             "#fdca26"
            ],
            [
             1,
             "#f0f921"
            ]
           ]
          },
          "colorway": [
           "#636efa",
           "#EF553B",
           "#00cc96",
           "#ab63fa",
           "#FFA15A",
           "#19d3f3",
           "#FF6692",
           "#B6E880",
           "#FF97FF",
           "#FECB52"
          ],
          "font": {
           "color": "#2a3f5f"
          },
          "geo": {
           "bgcolor": "white",
           "lakecolor": "white",
           "landcolor": "#E5ECF6",
           "showlakes": true,
           "showland": true,
           "subunitcolor": "white"
          },
          "hoverlabel": {
           "align": "left"
          },
          "hovermode": "closest",
          "mapbox": {
           "style": "light"
          },
          "paper_bgcolor": "white",
          "plot_bgcolor": "#E5ECF6",
          "polar": {
           "angularaxis": {
            "gridcolor": "white",
            "linecolor": "white",
            "ticks": ""
           },
           "bgcolor": "#E5ECF6",
           "radialaxis": {
            "gridcolor": "white",
            "linecolor": "white",
            "ticks": ""
           }
          },
          "scene": {
           "xaxis": {
            "backgroundcolor": "#E5ECF6",
            "gridcolor": "white",
            "gridwidth": 2,
            "linecolor": "white",
            "showbackground": true,
            "ticks": "",
            "zerolinecolor": "white"
           },
           "yaxis": {
            "backgroundcolor": "#E5ECF6",
            "gridcolor": "white",
            "gridwidth": 2,
            "linecolor": "white",
            "showbackground": true,
            "ticks": "",
            "zerolinecolor": "white"
           },
           "zaxis": {
            "backgroundcolor": "#E5ECF6",
            "gridcolor": "white",
            "gridwidth": 2,
            "linecolor": "white",
            "showbackground": true,
            "ticks": "",
            "zerolinecolor": "white"
           }
          },
          "shapedefaults": {
           "line": {
            "color": "#2a3f5f"
           }
          },
          "ternary": {
           "aaxis": {
            "gridcolor": "white",
            "linecolor": "white",
            "ticks": ""
           },
           "baxis": {
            "gridcolor": "white",
            "linecolor": "white",
            "ticks": ""
           },
           "bgcolor": "#E5ECF6",
           "caxis": {
            "gridcolor": "white",
            "linecolor": "white",
            "ticks": ""
           }
          },
          "title": {
           "x": 0.05
          },
          "xaxis": {
           "automargin": true,
           "gridcolor": "white",
           "linecolor": "white",
           "ticks": "",
           "title": {
            "standoff": 15
           },
           "zerolinecolor": "white",
           "zerolinewidth": 2
          },
          "yaxis": {
           "automargin": true,
           "gridcolor": "white",
           "linecolor": "white",
           "ticks": "",
           "title": {
            "standoff": 15
           },
           "zerolinecolor": "white",
           "zerolinewidth": 2
          }
         }
        },
        "title": {
         "text": "2016-09-14"
        },
        "width": 2000,
        "xaxis": {
         "anchor": "y",
         "domain": [
          0,
          0.94
         ],
         "rangeslider": {
          "visible": false
         },
         "title": {
          "text": "Datetime"
         }
        },
        "yaxis": {
         "anchor": "x",
         "domain": [
          0,
          1
         ],
         "title": {
          "text": "Price ($)"
         }
        },
        "yaxis2": {
         "anchor": "x",
         "overlaying": "y",
         "range": [
          0.3,
          0.7
         ],
         "side": "right"
        }
       }
      }
     },
     "metadata": {},
     "output_type": "display_data"
    },
    {
     "data": {
      "application/vnd.plotly.v1+json": {
       "config": {
        "plotlyServerURL": "https://plot.ly"
       },
       "data": [
        {
         "close": [
          36.94,
          36.8,
          36.65,
          36.69,
          36.83,
          36.91,
          36.87,
          36.82,
          36.86,
          36.79,
          37.37,
          37.48,
          37.44,
          37.57,
          37.74,
          37.7,
          37.58,
          37.71,
          37.72,
          37.69,
          37.7,
          37.6,
          37.67,
          37.54,
          37.5,
          37.74,
          37.66,
          37.64
         ],
         "high": [
          37.02,
          36.94,
          36.81,
          36.7,
          36.88,
          36.92,
          37.12,
          36.88,
          36.96,
          36.92,
          37.46,
          37.49,
          37.58,
          37.58,
          37.77,
          37.81,
          37.78,
          37.73,
          37.77,
          37.77,
          37.79,
          37.72,
          37.71,
          37.68,
          37.71,
          37.9,
          37.75,
          37.68
         ],
         "low": [
          36.92,
          36.74,
          36.63,
          36.56,
          36.65,
          36.75,
          36.86,
          36.74,
          36.76,
          36.74,
          36.63,
          37.27,
          37.38,
          37.4,
          37.52,
          37.65,
          37.55,
          37.58,
          37.68,
          37.68,
          37.66,
          37.57,
          37.57,
          37.53,
          37.42,
          37.48,
          37.65,
          37.59
         ],
         "open": [
          36.93,
          36.94,
          36.81,
          36.65,
          36.68,
          36.83,
          36.92,
          36.86,
          36.82,
          36.86,
          36.82,
          37.38,
          37.49,
          37.44,
          37.57,
          37.74,
          37.71,
          37.59,
          37.71,
          37.72,
          37.7,
          37.7,
          37.6,
          37.67,
          37.54,
          37.49,
          37.74,
          37.66
         ],
         "showlegend": false,
         "type": "candlestick",
         "x": [
          "2016-04-06T09:00:00-04:00",
          "2016-04-06T09:15:00-04:00",
          "2016-04-06T09:30:00-04:00",
          "2016-04-06T09:45:00-04:00",
          "2016-04-06T10:00:00-04:00",
          "2016-04-06T10:15:00-04:00",
          "2016-04-06T10:30:00-04:00",
          "2016-04-06T10:45:00-04:00",
          "2016-04-06T11:00:00-04:00",
          "2016-04-06T11:15:00-04:00",
          "2016-04-06T11:30:00-04:00",
          "2016-04-06T11:45:00-04:00",
          "2016-04-06T12:00:00-04:00",
          "2016-04-06T12:15:00-04:00",
          "2016-04-06T12:30:00-04:00",
          "2016-04-06T12:45:00-04:00",
          "2016-04-06T13:00:00-04:00",
          "2016-04-06T13:15:00-04:00",
          "2016-04-06T13:30:00-04:00",
          "2016-04-06T13:45:00-04:00",
          "2016-04-06T14:00:00-04:00",
          "2016-04-06T14:15:00-04:00",
          "2016-04-06T14:30:00-04:00",
          "2016-04-06T14:45:00-04:00",
          "2016-04-06T15:00:00-04:00",
          "2016-04-06T15:15:00-04:00",
          "2016-04-06T15:30:00-04:00",
          "2016-04-06T15:45:00-04:00"
         ]
        },
        {
         "mode": "lines",
         "type": "scatter",
         "x": [
          "2016-04-06T09:00:00-04:00",
          "2016-04-06T09:15:00-04:00",
          "2016-04-06T09:30:00-04:00",
          "2016-04-06T09:45:00-04:00",
          "2016-04-06T10:00:00-04:00",
          "2016-04-06T10:15:00-04:00",
          "2016-04-06T10:30:00-04:00",
          "2016-04-06T10:45:00-04:00",
          "2016-04-06T11:00:00-04:00",
          "2016-04-06T11:15:00-04:00",
          "2016-04-06T11:30:00-04:00",
          "2016-04-06T11:45:00-04:00",
          "2016-04-06T12:00:00-04:00",
          "2016-04-06T12:15:00-04:00",
          "2016-04-06T12:30:00-04:00",
          "2016-04-06T12:45:00-04:00",
          "2016-04-06T13:00:00-04:00",
          "2016-04-06T13:15:00-04:00",
          "2016-04-06T13:30:00-04:00",
          "2016-04-06T13:45:00-04:00",
          "2016-04-06T14:00:00-04:00",
          "2016-04-06T14:15:00-04:00",
          "2016-04-06T14:30:00-04:00",
          "2016-04-06T14:45:00-04:00",
          "2016-04-06T15:00:00-04:00",
          "2016-04-06T15:15:00-04:00",
          "2016-04-06T15:30:00-04:00",
          "2016-04-06T15:45:00-04:00"
         ],
         "xaxis": "x",
         "y": [
          0.6400000000000625,
          0.3766666666666377,
          0.5296296296296461,
          0.5142857142857824,
          0.4956521739130228,
          0.3254901960784915,
          0.5615384615384416,
          0.4714285714285874,
          0.47999999999997583,
          0.6185185185185254,
          0.5100401606425783,
          0.5393939393939231,
          0.4433333333333872,
          0.49259259259256377,
          0.46133333333335713,
          0.4875000000000072,
          0.498550724637664,
          0.5377777777777769,
          0.48888888888883625,
          0.41481481481483234,
          0.4461538461538361,
          0.5066666666666749,
          0.4380952380952642,
          0.4400000000000208,
          0.6045977011494309,
          0.473015873015874,
          0.5933333333334105,
          0.42962962962969864
         ],
         "yaxis": "y2"
        }
       ],
       "layout": {
        "height": 500,
        "template": {
         "data": {
          "bar": [
           {
            "error_x": {
             "color": "#2a3f5f"
            },
            "error_y": {
             "color": "#2a3f5f"
            },
            "marker": {
             "line": {
              "color": "#E5ECF6",
              "width": 0.5
             },
             "pattern": {
              "fillmode": "overlay",
              "size": 10,
              "solidity": 0.2
             }
            },
            "type": "bar"
           }
          ],
          "barpolar": [
           {
            "marker": {
             "line": {
              "color": "#E5ECF6",
              "width": 0.5
             },
             "pattern": {
              "fillmode": "overlay",
              "size": 10,
              "solidity": 0.2
             }
            },
            "type": "barpolar"
           }
          ],
          "carpet": [
           {
            "aaxis": {
             "endlinecolor": "#2a3f5f",
             "gridcolor": "white",
             "linecolor": "white",
             "minorgridcolor": "white",
             "startlinecolor": "#2a3f5f"
            },
            "baxis": {
             "endlinecolor": "#2a3f5f",
             "gridcolor": "white",
             "linecolor": "white",
             "minorgridcolor": "white",
             "startlinecolor": "#2a3f5f"
            },
            "type": "carpet"
           }
          ],
          "choropleth": [
           {
            "colorbar": {
             "outlinewidth": 0,
             "ticks": ""
            },
            "type": "choropleth"
           }
          ],
          "contour": [
           {
            "colorbar": {
             "outlinewidth": 0,
             "ticks": ""
            },
            "colorscale": [
             [
              0,
              "#0d0887"
             ],
             [
              0.1111111111111111,
              "#46039f"
             ],
             [
              0.2222222222222222,
              "#7201a8"
             ],
             [
              0.3333333333333333,
              "#9c179e"
             ],
             [
              0.4444444444444444,
              "#bd3786"
             ],
             [
              0.5555555555555556,
              "#d8576b"
             ],
             [
              0.6666666666666666,
              "#ed7953"
             ],
             [
              0.7777777777777778,
              "#fb9f3a"
             ],
             [
              0.8888888888888888,
              "#fdca26"
             ],
             [
              1,
              "#f0f921"
             ]
            ],
            "type": "contour"
           }
          ],
          "contourcarpet": [
           {
            "colorbar": {
             "outlinewidth": 0,
             "ticks": ""
            },
            "type": "contourcarpet"
           }
          ],
          "heatmap": [
           {
            "colorbar": {
             "outlinewidth": 0,
             "ticks": ""
            },
            "colorscale": [
             [
              0,
              "#0d0887"
             ],
             [
              0.1111111111111111,
              "#46039f"
             ],
             [
              0.2222222222222222,
              "#7201a8"
             ],
             [
              0.3333333333333333,
              "#9c179e"
             ],
             [
              0.4444444444444444,
              "#bd3786"
             ],
             [
              0.5555555555555556,
              "#d8576b"
             ],
             [
              0.6666666666666666,
              "#ed7953"
             ],
             [
              0.7777777777777778,
              "#fb9f3a"
             ],
             [
              0.8888888888888888,
              "#fdca26"
             ],
             [
              1,
              "#f0f921"
             ]
            ],
            "type": "heatmap"
           }
          ],
          "heatmapgl": [
           {
            "colorbar": {
             "outlinewidth": 0,
             "ticks": ""
            },
            "colorscale": [
             [
              0,
              "#0d0887"
             ],
             [
              0.1111111111111111,
              "#46039f"
             ],
             [
              0.2222222222222222,
              "#7201a8"
             ],
             [
              0.3333333333333333,
              "#9c179e"
             ],
             [
              0.4444444444444444,
              "#bd3786"
             ],
             [
              0.5555555555555556,
              "#d8576b"
             ],
             [
              0.6666666666666666,
              "#ed7953"
             ],
             [
              0.7777777777777778,
              "#fb9f3a"
             ],
             [
              0.8888888888888888,
              "#fdca26"
             ],
             [
              1,
              "#f0f921"
             ]
            ],
            "type": "heatmapgl"
           }
          ],
          "histogram": [
           {
            "marker": {
             "pattern": {
              "fillmode": "overlay",
              "size": 10,
              "solidity": 0.2
             }
            },
            "type": "histogram"
           }
          ],
          "histogram2d": [
           {
            "colorbar": {
             "outlinewidth": 0,
             "ticks": ""
            },
            "colorscale": [
             [
              0,
              "#0d0887"
             ],
             [
              0.1111111111111111,
              "#46039f"
             ],
             [
              0.2222222222222222,
              "#7201a8"
             ],
             [
              0.3333333333333333,
              "#9c179e"
             ],
             [
              0.4444444444444444,
              "#bd3786"
             ],
             [
              0.5555555555555556,
              "#d8576b"
             ],
             [
              0.6666666666666666,
              "#ed7953"
             ],
             [
              0.7777777777777778,
              "#fb9f3a"
             ],
             [
              0.8888888888888888,
              "#fdca26"
             ],
             [
              1,
              "#f0f921"
             ]
            ],
            "type": "histogram2d"
           }
          ],
          "histogram2dcontour": [
           {
            "colorbar": {
             "outlinewidth": 0,
             "ticks": ""
            },
            "colorscale": [
             [
              0,
              "#0d0887"
             ],
             [
              0.1111111111111111,
              "#46039f"
             ],
             [
              0.2222222222222222,
              "#7201a8"
             ],
             [
              0.3333333333333333,
              "#9c179e"
             ],
             [
              0.4444444444444444,
              "#bd3786"
             ],
             [
              0.5555555555555556,
              "#d8576b"
             ],
             [
              0.6666666666666666,
              "#ed7953"
             ],
             [
              0.7777777777777778,
              "#fb9f3a"
             ],
             [
              0.8888888888888888,
              "#fdca26"
             ],
             [
              1,
              "#f0f921"
             ]
            ],
            "type": "histogram2dcontour"
           }
          ],
          "mesh3d": [
           {
            "colorbar": {
             "outlinewidth": 0,
             "ticks": ""
            },
            "type": "mesh3d"
           }
          ],
          "parcoords": [
           {
            "line": {
             "colorbar": {
              "outlinewidth": 0,
              "ticks": ""
             }
            },
            "type": "parcoords"
           }
          ],
          "pie": [
           {
            "automargin": true,
            "type": "pie"
           }
          ],
          "scatter": [
           {
            "fillpattern": {
             "fillmode": "overlay",
             "size": 10,
             "solidity": 0.2
            },
            "type": "scatter"
           }
          ],
          "scatter3d": [
           {
            "line": {
             "colorbar": {
              "outlinewidth": 0,
              "ticks": ""
             }
            },
            "marker": {
             "colorbar": {
              "outlinewidth": 0,
              "ticks": ""
             }
            },
            "type": "scatter3d"
           }
          ],
          "scattercarpet": [
           {
            "marker": {
             "colorbar": {
              "outlinewidth": 0,
              "ticks": ""
             }
            },
            "type": "scattercarpet"
           }
          ],
          "scattergeo": [
           {
            "marker": {
             "colorbar": {
              "outlinewidth": 0,
              "ticks": ""
             }
            },
            "type": "scattergeo"
           }
          ],
          "scattergl": [
           {
            "marker": {
             "colorbar": {
              "outlinewidth": 0,
              "ticks": ""
             }
            },
            "type": "scattergl"
           }
          ],
          "scattermapbox": [
           {
            "marker": {
             "colorbar": {
              "outlinewidth": 0,
              "ticks": ""
             }
            },
            "type": "scattermapbox"
           }
          ],
          "scatterpolar": [
           {
            "marker": {
             "colorbar": {
              "outlinewidth": 0,
              "ticks": ""
             }
            },
            "type": "scatterpolar"
           }
          ],
          "scatterpolargl": [
           {
            "marker": {
             "colorbar": {
              "outlinewidth": 0,
              "ticks": ""
             }
            },
            "type": "scatterpolargl"
           }
          ],
          "scatterternary": [
           {
            "marker": {
             "colorbar": {
              "outlinewidth": 0,
              "ticks": ""
             }
            },
            "type": "scatterternary"
           }
          ],
          "surface": [
           {
            "colorbar": {
             "outlinewidth": 0,
             "ticks": ""
            },
            "colorscale": [
             [
              0,
              "#0d0887"
             ],
             [
              0.1111111111111111,
              "#46039f"
             ],
             [
              0.2222222222222222,
              "#7201a8"
             ],
             [
              0.3333333333333333,
              "#9c179e"
             ],
             [
              0.4444444444444444,
              "#bd3786"
             ],
             [
              0.5555555555555556,
              "#d8576b"
             ],
             [
              0.6666666666666666,
              "#ed7953"
             ],
             [
              0.7777777777777778,
              "#fb9f3a"
             ],
             [
              0.8888888888888888,
              "#fdca26"
             ],
             [
              1,
              "#f0f921"
             ]
            ],
            "type": "surface"
           }
          ],
          "table": [
           {
            "cells": {
             "fill": {
              "color": "#EBF0F8"
             },
             "line": {
              "color": "white"
             }
            },
            "header": {
             "fill": {
              "color": "#C8D4E3"
             },
             "line": {
              "color": "white"
             }
            },
            "type": "table"
           }
          ]
         },
         "layout": {
          "annotationdefaults": {
           "arrowcolor": "#2a3f5f",
           "arrowhead": 0,
           "arrowwidth": 1
          },
          "autotypenumbers": "strict",
          "coloraxis": {
           "colorbar": {
            "outlinewidth": 0,
            "ticks": ""
           }
          },
          "colorscale": {
           "diverging": [
            [
             0,
             "#8e0152"
            ],
            [
             0.1,
             "#c51b7d"
            ],
            [
             0.2,
             "#de77ae"
            ],
            [
             0.3,
             "#f1b6da"
            ],
            [
             0.4,
             "#fde0ef"
            ],
            [
             0.5,
             "#f7f7f7"
            ],
            [
             0.6,
             "#e6f5d0"
            ],
            [
             0.7,
             "#b8e186"
            ],
            [
             0.8,
             "#7fbc41"
            ],
            [
             0.9,
             "#4d9221"
            ],
            [
             1,
             "#276419"
            ]
           ],
           "sequential": [
            [
             0,
             "#0d0887"
            ],
            [
             0.1111111111111111,
             "#46039f"
            ],
            [
             0.2222222222222222,
             "#7201a8"
            ],
            [
             0.3333333333333333,
             "#9c179e"
            ],
            [
             0.4444444444444444,
             "#bd3786"
            ],
            [
             0.5555555555555556,
             "#d8576b"
            ],
            [
             0.6666666666666666,
             "#ed7953"
            ],
            [
             0.7777777777777778,
             "#fb9f3a"
            ],
            [
             0.8888888888888888,
             "#fdca26"
            ],
            [
             1,
             "#f0f921"
            ]
           ],
           "sequentialminus": [
            [
             0,
             "#0d0887"
            ],
            [
             0.1111111111111111,
             "#46039f"
            ],
            [
             0.2222222222222222,
             "#7201a8"
            ],
            [
             0.3333333333333333,
             "#9c179e"
            ],
            [
             0.4444444444444444,
             "#bd3786"
            ],
            [
             0.5555555555555556,
             "#d8576b"
            ],
            [
             0.6666666666666666,
             "#ed7953"
            ],
            [
             0.7777777777777778,
             "#fb9f3a"
            ],
            [
             0.8888888888888888,
             "#fdca26"
            ],
            [
             1,
             "#f0f921"
            ]
           ]
          },
          "colorway": [
           "#636efa",
           "#EF553B",
           "#00cc96",
           "#ab63fa",
           "#FFA15A",
           "#19d3f3",
           "#FF6692",
           "#B6E880",
           "#FF97FF",
           "#FECB52"
          ],
          "font": {
           "color": "#2a3f5f"
          },
          "geo": {
           "bgcolor": "white",
           "lakecolor": "white",
           "landcolor": "#E5ECF6",
           "showlakes": true,
           "showland": true,
           "subunitcolor": "white"
          },
          "hoverlabel": {
           "align": "left"
          },
          "hovermode": "closest",
          "mapbox": {
           "style": "light"
          },
          "paper_bgcolor": "white",
          "plot_bgcolor": "#E5ECF6",
          "polar": {
           "angularaxis": {
            "gridcolor": "white",
            "linecolor": "white",
            "ticks": ""
           },
           "bgcolor": "#E5ECF6",
           "radialaxis": {
            "gridcolor": "white",
            "linecolor": "white",
            "ticks": ""
           }
          },
          "scene": {
           "xaxis": {
            "backgroundcolor": "#E5ECF6",
            "gridcolor": "white",
            "gridwidth": 2,
            "linecolor": "white",
            "showbackground": true,
            "ticks": "",
            "zerolinecolor": "white"
           },
           "yaxis": {
            "backgroundcolor": "#E5ECF6",
            "gridcolor": "white",
            "gridwidth": 2,
            "linecolor": "white",
            "showbackground": true,
            "ticks": "",
            "zerolinecolor": "white"
           },
           "zaxis": {
            "backgroundcolor": "#E5ECF6",
            "gridcolor": "white",
            "gridwidth": 2,
            "linecolor": "white",
            "showbackground": true,
            "ticks": "",
            "zerolinecolor": "white"
           }
          },
          "shapedefaults": {
           "line": {
            "color": "#2a3f5f"
           }
          },
          "ternary": {
           "aaxis": {
            "gridcolor": "white",
            "linecolor": "white",
            "ticks": ""
           },
           "baxis": {
            "gridcolor": "white",
            "linecolor": "white",
            "ticks": ""
           },
           "bgcolor": "#E5ECF6",
           "caxis": {
            "gridcolor": "white",
            "linecolor": "white",
            "ticks": ""
           }
          },
          "title": {
           "x": 0.05
          },
          "xaxis": {
           "automargin": true,
           "gridcolor": "white",
           "linecolor": "white",
           "ticks": "",
           "title": {
            "standoff": 15
           },
           "zerolinecolor": "white",
           "zerolinewidth": 2
          },
          "yaxis": {
           "automargin": true,
           "gridcolor": "white",
           "linecolor": "white",
           "ticks": "",
           "title": {
            "standoff": 15
           },
           "zerolinecolor": "white",
           "zerolinewidth": 2
          }
         }
        },
        "title": {
         "text": "2016-04-06"
        },
        "width": 2000,
        "xaxis": {
         "anchor": "y",
         "domain": [
          0,
          0.94
         ],
         "rangeslider": {
          "visible": false
         },
         "title": {
          "text": "Datetime"
         }
        },
        "yaxis": {
         "anchor": "x",
         "domain": [
          0,
          1
         ],
         "title": {
          "text": "Price ($)"
         }
        },
        "yaxis2": {
         "anchor": "x",
         "overlaying": "y",
         "range": [
          0.3,
          0.7
         ],
         "side": "right"
        }
       }
      }
     },
     "metadata": {},
     "output_type": "display_data"
    }
   ],
   "source": [
    "days = df_uturn['datetime'].dt.date.unique()\n",
    "np.random.shuffle(days)\n",
    "\n",
    "for day in days[:5]:\n",
    "    df_day = df_uturn[df_uturn['datetime'].dt.date == day]\n",
    "    plot_candlestick(df_day, day)"
   ]
  },
  {
   "cell_type": "code",
   "execution_count": 8,
   "metadata": {},
   "outputs": [
    {
     "data": {
      "application/vnd.plotly.v1+json": {
       "config": {
        "plotlyServerURL": "https://plot.ly"
       },
       "data": [
        {
         "close": [
          50.35,
          50.33,
          50.32,
          50.38,
          50.4,
          50.39,
          50.29,
          50.27,
          50.22,
          50.25,
          50.59,
          50.46,
          50.38,
          50.47,
          50.5,
          50.45,
          50.37,
          50.12,
          49.86,
          49.93,
          49.93,
          50.11,
          50.1,
          50.03,
          50.03,
          49.99,
          49.9,
          49.92
         ],
         "high": [
          50.39,
          50.36,
          50.35,
          50.41,
          50.44,
          50.47,
          50.4,
          50.32,
          50.31,
          50.3,
          50.67,
          50.66,
          50.52,
          50.56,
          50.54,
          50.59,
          50.47,
          50.39,
          50.14,
          49.99,
          49.97,
          50.23,
          50.16,
          50.11,
          50.11,
          50.09,
          50,
          49.92
         ],
         "low": [
          50.26,
          50.29,
          50.27,
          50.31,
          50.32,
          50.37,
          50.28,
          50.24,
          50.18,
          50.15,
          50.24,
          50.37,
          50.26,
          50.37,
          50.4,
          50.43,
          50.36,
          50.08,
          49.76,
          49.84,
          49.91,
          49.93,
          50.05,
          50.01,
          50.01,
          49.94,
          49.87,
          49.87
         ],
         "open": [
          50.27,
          50.35,
          50.33,
          50.32,
          50.38,
          50.4,
          50.4,
          50.3,
          50.27,
          50.22,
          50.24,
          50.58,
          50.46,
          50.37,
          50.48,
          50.49,
          50.45,
          50.38,
          50.13,
          49.85,
          49.93,
          49.94,
          50.11,
          50.1,
          50.04,
          50.03,
          50,
          49.9
         ],
         "showlegend": false,
         "type": "candlestick",
         "x": [
          "2017-10-04T09:00:00-04:00",
          "2017-10-04T09:15:00-04:00",
          "2017-10-04T09:30:00-04:00",
          "2017-10-04T09:45:00-04:00",
          "2017-10-04T10:00:00-04:00",
          "2017-10-04T10:15:00-04:00",
          "2017-10-04T10:30:00-04:00",
          "2017-10-04T10:45:00-04:00",
          "2017-10-04T11:00:00-04:00",
          "2017-10-04T11:15:00-04:00",
          "2017-10-04T11:30:00-04:00",
          "2017-10-04T11:45:00-04:00",
          "2017-10-04T12:00:00-04:00",
          "2017-10-04T12:15:00-04:00",
          "2017-10-04T12:30:00-04:00",
          "2017-10-04T12:45:00-04:00",
          "2017-10-04T13:00:00-04:00",
          "2017-10-04T13:15:00-04:00",
          "2017-10-04T13:30:00-04:00",
          "2017-10-04T13:45:00-04:00",
          "2017-10-04T14:00:00-04:00",
          "2017-10-04T14:15:00-04:00",
          "2017-10-04T14:30:00-04:00",
          "2017-10-04T14:45:00-04:00",
          "2017-10-04T15:00:00-04:00",
          "2017-10-04T15:15:00-04:00",
          "2017-10-04T15:30:00-04:00",
          "2017-10-04T15:45:00-04:00"
         ]
        },
        {
         "mode": "lines",
         "type": "scatter",
         "x": [
          "2017-10-04T09:00:00-04:00",
          "2017-10-04T09:15:00-04:00",
          "2017-10-04T09:30:00-04:00",
          "2017-10-04T09:45:00-04:00",
          "2017-10-04T10:00:00-04:00",
          "2017-10-04T10:15:00-04:00",
          "2017-10-04T10:30:00-04:00",
          "2017-10-04T10:45:00-04:00",
          "2017-10-04T11:00:00-04:00",
          "2017-10-04T11:15:00-04:00",
          "2017-10-04T11:30:00-04:00",
          "2017-10-04T11:45:00-04:00",
          "2017-10-04T12:00:00-04:00",
          "2017-10-04T12:15:00-04:00",
          "2017-10-04T12:30:00-04:00",
          "2017-10-04T12:45:00-04:00",
          "2017-10-04T13:00:00-04:00",
          "2017-10-04T13:15:00-04:00",
          "2017-10-04T13:30:00-04:00",
          "2017-10-04T13:45:00-04:00",
          "2017-10-04T14:00:00-04:00",
          "2017-10-04T14:15:00-04:00",
          "2017-10-04T14:30:00-04:00",
          "2017-10-04T14:45:00-04:00",
          "2017-10-04T15:00:00-04:00",
          "2017-10-04T15:15:00-04:00",
          "2017-10-04T15:30:00-04:00",
          "2017-10-04T15:45:00-04:00"
         ],
         "xaxis": "x",
         "y": [
          0.6153846153845355,
          0.5695970695969934,
          0.5575091575091206,
          0.5514652014651666,
          0.4823412698412863,
          0.5113888888889213,
          0.5100000000000233,
          0.5079166666667049,
          0.5372970085470024,
          0.49396367521366086,
          0.411631633869989,
          0.4252092200768715,
          0.4123887072563638,
          0.4290553739230413,
          0.524681066060362,
          0.5246451465201344,
          0.5385146103896022,
          0.5170092340455139,
          0.4432623668775976,
          0.4051373668776146,
          0.395541407281636,
          0.43815789473683553,
          0.5030303030302672,
          0.5380303030302656,
          0.5474747474747654,
          0.48191919191921956,
          0.5006837606838099,
          0.5123504273505332
         ],
         "yaxis": "y2"
        }
       ],
       "layout": {
        "height": 500,
        "template": {
         "data": {
          "bar": [
           {
            "error_x": {
             "color": "#2a3f5f"
            },
            "error_y": {
             "color": "#2a3f5f"
            },
            "marker": {
             "line": {
              "color": "#E5ECF6",
              "width": 0.5
             },
             "pattern": {
              "fillmode": "overlay",
              "size": 10,
              "solidity": 0.2
             }
            },
            "type": "bar"
           }
          ],
          "barpolar": [
           {
            "marker": {
             "line": {
              "color": "#E5ECF6",
              "width": 0.5
             },
             "pattern": {
              "fillmode": "overlay",
              "size": 10,
              "solidity": 0.2
             }
            },
            "type": "barpolar"
           }
          ],
          "carpet": [
           {
            "aaxis": {
             "endlinecolor": "#2a3f5f",
             "gridcolor": "white",
             "linecolor": "white",
             "minorgridcolor": "white",
             "startlinecolor": "#2a3f5f"
            },
            "baxis": {
             "endlinecolor": "#2a3f5f",
             "gridcolor": "white",
             "linecolor": "white",
             "minorgridcolor": "white",
             "startlinecolor": "#2a3f5f"
            },
            "type": "carpet"
           }
          ],
          "choropleth": [
           {
            "colorbar": {
             "outlinewidth": 0,
             "ticks": ""
            },
            "type": "choropleth"
           }
          ],
          "contour": [
           {
            "colorbar": {
             "outlinewidth": 0,
             "ticks": ""
            },
            "colorscale": [
             [
              0,
              "#0d0887"
             ],
             [
              0.1111111111111111,
              "#46039f"
             ],
             [
              0.2222222222222222,
              "#7201a8"
             ],
             [
              0.3333333333333333,
              "#9c179e"
             ],
             [
              0.4444444444444444,
              "#bd3786"
             ],
             [
              0.5555555555555556,
              "#d8576b"
             ],
             [
              0.6666666666666666,
              "#ed7953"
             ],
             [
              0.7777777777777778,
              "#fb9f3a"
             ],
             [
              0.8888888888888888,
              "#fdca26"
             ],
             [
              1,
              "#f0f921"
             ]
            ],
            "type": "contour"
           }
          ],
          "contourcarpet": [
           {
            "colorbar": {
             "outlinewidth": 0,
             "ticks": ""
            },
            "type": "contourcarpet"
           }
          ],
          "heatmap": [
           {
            "colorbar": {
             "outlinewidth": 0,
             "ticks": ""
            },
            "colorscale": [
             [
              0,
              "#0d0887"
             ],
             [
              0.1111111111111111,
              "#46039f"
             ],
             [
              0.2222222222222222,
              "#7201a8"
             ],
             [
              0.3333333333333333,
              "#9c179e"
             ],
             [
              0.4444444444444444,
              "#bd3786"
             ],
             [
              0.5555555555555556,
              "#d8576b"
             ],
             [
              0.6666666666666666,
              "#ed7953"
             ],
             [
              0.7777777777777778,
              "#fb9f3a"
             ],
             [
              0.8888888888888888,
              "#fdca26"
             ],
             [
              1,
              "#f0f921"
             ]
            ],
            "type": "heatmap"
           }
          ],
          "heatmapgl": [
           {
            "colorbar": {
             "outlinewidth": 0,
             "ticks": ""
            },
            "colorscale": [
             [
              0,
              "#0d0887"
             ],
             [
              0.1111111111111111,
              "#46039f"
             ],
             [
              0.2222222222222222,
              "#7201a8"
             ],
             [
              0.3333333333333333,
              "#9c179e"
             ],
             [
              0.4444444444444444,
              "#bd3786"
             ],
             [
              0.5555555555555556,
              "#d8576b"
             ],
             [
              0.6666666666666666,
              "#ed7953"
             ],
             [
              0.7777777777777778,
              "#fb9f3a"
             ],
             [
              0.8888888888888888,
              "#fdca26"
             ],
             [
              1,
              "#f0f921"
             ]
            ],
            "type": "heatmapgl"
           }
          ],
          "histogram": [
           {
            "marker": {
             "pattern": {
              "fillmode": "overlay",
              "size": 10,
              "solidity": 0.2
             }
            },
            "type": "histogram"
           }
          ],
          "histogram2d": [
           {
            "colorbar": {
             "outlinewidth": 0,
             "ticks": ""
            },
            "colorscale": [
             [
              0,
              "#0d0887"
             ],
             [
              0.1111111111111111,
              "#46039f"
             ],
             [
              0.2222222222222222,
              "#7201a8"
             ],
             [
              0.3333333333333333,
              "#9c179e"
             ],
             [
              0.4444444444444444,
              "#bd3786"
             ],
             [
              0.5555555555555556,
              "#d8576b"
             ],
             [
              0.6666666666666666,
              "#ed7953"
             ],
             [
              0.7777777777777778,
              "#fb9f3a"
             ],
             [
              0.8888888888888888,
              "#fdca26"
             ],
             [
              1,
              "#f0f921"
             ]
            ],
            "type": "histogram2d"
           }
          ],
          "histogram2dcontour": [
           {
            "colorbar": {
             "outlinewidth": 0,
             "ticks": ""
            },
            "colorscale": [
             [
              0,
              "#0d0887"
             ],
             [
              0.1111111111111111,
              "#46039f"
             ],
             [
              0.2222222222222222,
              "#7201a8"
             ],
             [
              0.3333333333333333,
              "#9c179e"
             ],
             [
              0.4444444444444444,
              "#bd3786"
             ],
             [
              0.5555555555555556,
              "#d8576b"
             ],
             [
              0.6666666666666666,
              "#ed7953"
             ],
             [
              0.7777777777777778,
              "#fb9f3a"
             ],
             [
              0.8888888888888888,
              "#fdca26"
             ],
             [
              1,
              "#f0f921"
             ]
            ],
            "type": "histogram2dcontour"
           }
          ],
          "mesh3d": [
           {
            "colorbar": {
             "outlinewidth": 0,
             "ticks": ""
            },
            "type": "mesh3d"
           }
          ],
          "parcoords": [
           {
            "line": {
             "colorbar": {
              "outlinewidth": 0,
              "ticks": ""
             }
            },
            "type": "parcoords"
           }
          ],
          "pie": [
           {
            "automargin": true,
            "type": "pie"
           }
          ],
          "scatter": [
           {
            "fillpattern": {
             "fillmode": "overlay",
             "size": 10,
             "solidity": 0.2
            },
            "type": "scatter"
           }
          ],
          "scatter3d": [
           {
            "line": {
             "colorbar": {
              "outlinewidth": 0,
              "ticks": ""
             }
            },
            "marker": {
             "colorbar": {
              "outlinewidth": 0,
              "ticks": ""
             }
            },
            "type": "scatter3d"
           }
          ],
          "scattercarpet": [
           {
            "marker": {
             "colorbar": {
              "outlinewidth": 0,
              "ticks": ""
             }
            },
            "type": "scattercarpet"
           }
          ],
          "scattergeo": [
           {
            "marker": {
             "colorbar": {
              "outlinewidth": 0,
              "ticks": ""
             }
            },
            "type": "scattergeo"
           }
          ],
          "scattergl": [
           {
            "marker": {
             "colorbar": {
              "outlinewidth": 0,
              "ticks": ""
             }
            },
            "type": "scattergl"
           }
          ],
          "scattermapbox": [
           {
            "marker": {
             "colorbar": {
              "outlinewidth": 0,
              "ticks": ""
             }
            },
            "type": "scattermapbox"
           }
          ],
          "scatterpolar": [
           {
            "marker": {
             "colorbar": {
              "outlinewidth": 0,
              "ticks": ""
             }
            },
            "type": "scatterpolar"
           }
          ],
          "scatterpolargl": [
           {
            "marker": {
             "colorbar": {
              "outlinewidth": 0,
              "ticks": ""
             }
            },
            "type": "scatterpolargl"
           }
          ],
          "scatterternary": [
           {
            "marker": {
             "colorbar": {
              "outlinewidth": 0,
              "ticks": ""
             }
            },
            "type": "scatterternary"
           }
          ],
          "surface": [
           {
            "colorbar": {
             "outlinewidth": 0,
             "ticks": ""
            },
            "colorscale": [
             [
              0,
              "#0d0887"
             ],
             [
              0.1111111111111111,
              "#46039f"
             ],
             [
              0.2222222222222222,
              "#7201a8"
             ],
             [
              0.3333333333333333,
              "#9c179e"
             ],
             [
              0.4444444444444444,
              "#bd3786"
             ],
             [
              0.5555555555555556,
              "#d8576b"
             ],
             [
              0.6666666666666666,
              "#ed7953"
             ],
             [
              0.7777777777777778,
              "#fb9f3a"
             ],
             [
              0.8888888888888888,
              "#fdca26"
             ],
             [
              1,
              "#f0f921"
             ]
            ],
            "type": "surface"
           }
          ],
          "table": [
           {
            "cells": {
             "fill": {
              "color": "#EBF0F8"
             },
             "line": {
              "color": "white"
             }
            },
            "header": {
             "fill": {
              "color": "#C8D4E3"
             },
             "line": {
              "color": "white"
             }
            },
            "type": "table"
           }
          ]
         },
         "layout": {
          "annotationdefaults": {
           "arrowcolor": "#2a3f5f",
           "arrowhead": 0,
           "arrowwidth": 1
          },
          "autotypenumbers": "strict",
          "coloraxis": {
           "colorbar": {
            "outlinewidth": 0,
            "ticks": ""
           }
          },
          "colorscale": {
           "diverging": [
            [
             0,
             "#8e0152"
            ],
            [
             0.1,
             "#c51b7d"
            ],
            [
             0.2,
             "#de77ae"
            ],
            [
             0.3,
             "#f1b6da"
            ],
            [
             0.4,
             "#fde0ef"
            ],
            [
             0.5,
             "#f7f7f7"
            ],
            [
             0.6,
             "#e6f5d0"
            ],
            [
             0.7,
             "#b8e186"
            ],
            [
             0.8,
             "#7fbc41"
            ],
            [
             0.9,
             "#4d9221"
            ],
            [
             1,
             "#276419"
            ]
           ],
           "sequential": [
            [
             0,
             "#0d0887"
            ],
            [
             0.1111111111111111,
             "#46039f"
            ],
            [
             0.2222222222222222,
             "#7201a8"
            ],
            [
             0.3333333333333333,
             "#9c179e"
            ],
            [
             0.4444444444444444,
             "#bd3786"
            ],
            [
             0.5555555555555556,
             "#d8576b"
            ],
            [
             0.6666666666666666,
             "#ed7953"
            ],
            [
             0.7777777777777778,
             "#fb9f3a"
            ],
            [
             0.8888888888888888,
             "#fdca26"
            ],
            [
             1,
             "#f0f921"
            ]
           ],
           "sequentialminus": [
            [
             0,
             "#0d0887"
            ],
            [
             0.1111111111111111,
             "#46039f"
            ],
            [
             0.2222222222222222,
             "#7201a8"
            ],
            [
             0.3333333333333333,
             "#9c179e"
            ],
            [
             0.4444444444444444,
             "#bd3786"
            ],
            [
             0.5555555555555556,
             "#d8576b"
            ],
            [
             0.6666666666666666,
             "#ed7953"
            ],
            [
             0.7777777777777778,
             "#fb9f3a"
            ],
            [
             0.8888888888888888,
             "#fdca26"
            ],
            [
             1,
             "#f0f921"
            ]
           ]
          },
          "colorway": [
           "#636efa",
           "#EF553B",
           "#00cc96",
           "#ab63fa",
           "#FFA15A",
           "#19d3f3",
           "#FF6692",
           "#B6E880",
           "#FF97FF",
           "#FECB52"
          ],
          "font": {
           "color": "#2a3f5f"
          },
          "geo": {
           "bgcolor": "white",
           "lakecolor": "white",
           "landcolor": "#E5ECF6",
           "showlakes": true,
           "showland": true,
           "subunitcolor": "white"
          },
          "hoverlabel": {
           "align": "left"
          },
          "hovermode": "closest",
          "mapbox": {
           "style": "light"
          },
          "paper_bgcolor": "white",
          "plot_bgcolor": "#E5ECF6",
          "polar": {
           "angularaxis": {
            "gridcolor": "white",
            "linecolor": "white",
            "ticks": ""
           },
           "bgcolor": "#E5ECF6",
           "radialaxis": {
            "gridcolor": "white",
            "linecolor": "white",
            "ticks": ""
           }
          },
          "scene": {
           "xaxis": {
            "backgroundcolor": "#E5ECF6",
            "gridcolor": "white",
            "gridwidth": 2,
            "linecolor": "white",
            "showbackground": true,
            "ticks": "",
            "zerolinecolor": "white"
           },
           "yaxis": {
            "backgroundcolor": "#E5ECF6",
            "gridcolor": "white",
            "gridwidth": 2,
            "linecolor": "white",
            "showbackground": true,
            "ticks": "",
            "zerolinecolor": "white"
           },
           "zaxis": {
            "backgroundcolor": "#E5ECF6",
            "gridcolor": "white",
            "gridwidth": 2,
            "linecolor": "white",
            "showbackground": true,
            "ticks": "",
            "zerolinecolor": "white"
           }
          },
          "shapedefaults": {
           "line": {
            "color": "#2a3f5f"
           }
          },
          "ternary": {
           "aaxis": {
            "gridcolor": "white",
            "linecolor": "white",
            "ticks": ""
           },
           "baxis": {
            "gridcolor": "white",
            "linecolor": "white",
            "ticks": ""
           },
           "bgcolor": "#E5ECF6",
           "caxis": {
            "gridcolor": "white",
            "linecolor": "white",
            "ticks": ""
           }
          },
          "title": {
           "x": 0.05
          },
          "xaxis": {
           "automargin": true,
           "gridcolor": "white",
           "linecolor": "white",
           "ticks": "",
           "title": {
            "standoff": 15
           },
           "zerolinecolor": "white",
           "zerolinewidth": 2
          },
          "yaxis": {
           "automargin": true,
           "gridcolor": "white",
           "linecolor": "white",
           "ticks": "",
           "title": {
            "standoff": 15
           },
           "zerolinecolor": "white",
           "zerolinewidth": 2
          }
         }
        },
        "title": {
         "text": "2017-10-04"
        },
        "width": 2000,
        "xaxis": {
         "anchor": "y",
         "domain": [
          0,
          0.94
         ],
         "rangeslider": {
          "visible": false
         },
         "title": {
          "text": "Datetime"
         }
        },
        "yaxis": {
         "anchor": "x",
         "domain": [
          0,
          1
         ],
         "title": {
          "text": "Price ($)"
         }
        },
        "yaxis2": {
         "anchor": "x",
         "overlaying": "y",
         "range": [
          0.3,
          0.7
         ],
         "side": "right"
        }
       }
      }
     },
     "metadata": {},
     "output_type": "display_data"
    },
    {
     "data": {
      "application/vnd.plotly.v1+json": {
       "config": {
        "plotlyServerURL": "https://plot.ly"
       },
       "data": [
        {
         "close": [
          28.93,
          29.01,
          28.76,
          28.43,
          28.61,
          28.44,
          28.31,
          28.06,
          28.24,
          28.12,
          28.11,
          27.9,
          27.88,
          27.64,
          27.73,
          27.91,
          27.8,
          27.83,
          27.98,
          28.04,
          28.35,
          28.35,
          28.45,
          28.62,
          28.6,
          29.07,
          28.87,
          28.63
         ],
         "high": [
          29.19,
          29.08,
          29.1,
          28.82,
          28.63,
          28.62,
          28.5,
          28.37,
          28.32,
          28.3,
          28.26,
          28.16,
          28.01,
          27.91,
          27.77,
          27.94,
          28.01,
          27.84,
          27.99,
          28.21,
          28.57,
          28.48,
          28.56,
          28.69,
          28.67,
          29.12,
          29.07,
          28.85
         ],
         "low": [
          28.92,
          28.92,
          28.69,
          28.35,
          28.38,
          28.31,
          28.17,
          28.04,
          28.05,
          28.02,
          28.09,
          27.83,
          27.69,
          27.56,
          27.58,
          27.66,
          27.78,
          27.68,
          27.78,
          27.96,
          28.01,
          28.18,
          28.28,
          28.41,
          28.51,
          28.59,
          28.77,
          28.61
         ],
         "open": [
          29.07,
          28.93,
          29,
          28.76,
          28.43,
          28.61,
          28.44,
          28.31,
          28.06,
          28.23,
          28.11,
          28.11,
          27.91,
          27.87,
          27.64,
          27.72,
          27.91,
          27.8,
          27.82,
          27.98,
          28.04,
          28.34,
          28.35,
          28.46,
          28.61,
          28.59,
          29.06,
          28.85
         ],
         "showlegend": false,
         "type": "candlestick",
         "x": [
          "2016-01-20T09:00:00-05:00",
          "2016-01-20T09:15:00-05:00",
          "2016-01-20T09:30:00-05:00",
          "2016-01-20T09:45:00-05:00",
          "2016-01-20T10:00:00-05:00",
          "2016-01-20T10:15:00-05:00",
          "2016-01-20T10:30:00-05:00",
          "2016-01-20T10:45:00-05:00",
          "2016-01-20T11:00:00-05:00",
          "2016-01-20T11:15:00-05:00",
          "2016-01-20T11:30:00-05:00",
          "2016-01-20T11:45:00-05:00",
          "2016-01-20T12:00:00-05:00",
          "2016-01-20T12:15:00-05:00",
          "2016-01-20T12:30:00-05:00",
          "2016-01-20T12:45:00-05:00",
          "2016-01-20T13:00:00-05:00",
          "2016-01-20T13:15:00-05:00",
          "2016-01-20T13:30:00-05:00",
          "2016-01-20T13:45:00-05:00",
          "2016-01-20T14:00:00-05:00",
          "2016-01-20T14:15:00-05:00",
          "2016-01-20T14:30:00-05:00",
          "2016-01-20T14:45:00-05:00",
          "2016-01-20T15:00:00-05:00",
          "2016-01-20T15:15:00-05:00",
          "2016-01-20T15:30:00-05:00",
          "2016-01-20T15:45:00-05:00"
         ]
        },
        {
         "mode": "lines",
         "type": "scatter",
         "x": [
          "2016-01-20T09:00:00-05:00",
          "2016-01-20T09:15:00-05:00",
          "2016-01-20T09:30:00-05:00",
          "2016-01-20T09:45:00-05:00",
          "2016-01-20T10:00:00-05:00",
          "2016-01-20T10:15:00-05:00",
          "2016-01-20T10:30:00-05:00",
          "2016-01-20T10:45:00-05:00",
          "2016-01-20T11:00:00-05:00",
          "2016-01-20T11:15:00-05:00",
          "2016-01-20T11:30:00-05:00",
          "2016-01-20T11:45:00-05:00",
          "2016-01-20T12:00:00-05:00",
          "2016-01-20T12:15:00-05:00",
          "2016-01-20T12:30:00-05:00",
          "2016-01-20T12:45:00-05:00",
          "2016-01-20T13:00:00-05:00",
          "2016-01-20T13:15:00-05:00",
          "2016-01-20T13:30:00-05:00",
          "2016-01-20T13:45:00-05:00",
          "2016-01-20T14:00:00-05:00",
          "2016-01-20T14:15:00-05:00",
          "2016-01-20T14:30:00-05:00",
          "2016-01-20T14:45:00-05:00",
          "2016-01-20T15:00:00-05:00",
          "2016-01-20T15:15:00-05:00",
          "2016-01-20T15:30:00-05:00",
          "2016-01-20T15:45:00-05:00"
         ],
         "xaxis": "x",
         "y": [
          0.570370370370371,
          0.5164351851852066,
          0.5236939174947502,
          0.4870966792558147,
          0.46250408666322407,
          0.4796747855879455,
          0.4910815360190809,
          0.5250381231671571,
          0.5107418268708573,
          0.48866041366040947,
          0.450543954955722,
          0.4485237529355202,
          0.44586171589848866,
          0.4613379063746821,
          0.4578807340320515,
          0.4548323934837054,
          0.498718263048918,
          0.514194453525108,
          0.548697377501714,
          0.5661497584541052,
          0.5608055555555533,
          0.5080277777777735,
          0.4965198412698413,
          0.46835317460317033,
          0.42251984126984243,
          0.43992026055705424,
          0.4636504192872126,
          0.4789281970649931
         ],
         "yaxis": "y2"
        }
       ],
       "layout": {
        "height": 500,
        "template": {
         "data": {
          "bar": [
           {
            "error_x": {
             "color": "#2a3f5f"
            },
            "error_y": {
             "color": "#2a3f5f"
            },
            "marker": {
             "line": {
              "color": "#E5ECF6",
              "width": 0.5
             },
             "pattern": {
              "fillmode": "overlay",
              "size": 10,
              "solidity": 0.2
             }
            },
            "type": "bar"
           }
          ],
          "barpolar": [
           {
            "marker": {
             "line": {
              "color": "#E5ECF6",
              "width": 0.5
             },
             "pattern": {
              "fillmode": "overlay",
              "size": 10,
              "solidity": 0.2
             }
            },
            "type": "barpolar"
           }
          ],
          "carpet": [
           {
            "aaxis": {
             "endlinecolor": "#2a3f5f",
             "gridcolor": "white",
             "linecolor": "white",
             "minorgridcolor": "white",
             "startlinecolor": "#2a3f5f"
            },
            "baxis": {
             "endlinecolor": "#2a3f5f",
             "gridcolor": "white",
             "linecolor": "white",
             "minorgridcolor": "white",
             "startlinecolor": "#2a3f5f"
            },
            "type": "carpet"
           }
          ],
          "choropleth": [
           {
            "colorbar": {
             "outlinewidth": 0,
             "ticks": ""
            },
            "type": "choropleth"
           }
          ],
          "contour": [
           {
            "colorbar": {
             "outlinewidth": 0,
             "ticks": ""
            },
            "colorscale": [
             [
              0,
              "#0d0887"
             ],
             [
              0.1111111111111111,
              "#46039f"
             ],
             [
              0.2222222222222222,
              "#7201a8"
             ],
             [
              0.3333333333333333,
              "#9c179e"
             ],
             [
              0.4444444444444444,
              "#bd3786"
             ],
             [
              0.5555555555555556,
              "#d8576b"
             ],
             [
              0.6666666666666666,
              "#ed7953"
             ],
             [
              0.7777777777777778,
              "#fb9f3a"
             ],
             [
              0.8888888888888888,
              "#fdca26"
             ],
             [
              1,
              "#f0f921"
             ]
            ],
            "type": "contour"
           }
          ],
          "contourcarpet": [
           {
            "colorbar": {
             "outlinewidth": 0,
             "ticks": ""
            },
            "type": "contourcarpet"
           }
          ],
          "heatmap": [
           {
            "colorbar": {
             "outlinewidth": 0,
             "ticks": ""
            },
            "colorscale": [
             [
              0,
              "#0d0887"
             ],
             [
              0.1111111111111111,
              "#46039f"
             ],
             [
              0.2222222222222222,
              "#7201a8"
             ],
             [
              0.3333333333333333,
              "#9c179e"
             ],
             [
              0.4444444444444444,
              "#bd3786"
             ],
             [
              0.5555555555555556,
              "#d8576b"
             ],
             [
              0.6666666666666666,
              "#ed7953"
             ],
             [
              0.7777777777777778,
              "#fb9f3a"
             ],
             [
              0.8888888888888888,
              "#fdca26"
             ],
             [
              1,
              "#f0f921"
             ]
            ],
            "type": "heatmap"
           }
          ],
          "heatmapgl": [
           {
            "colorbar": {
             "outlinewidth": 0,
             "ticks": ""
            },
            "colorscale": [
             [
              0,
              "#0d0887"
             ],
             [
              0.1111111111111111,
              "#46039f"
             ],
             [
              0.2222222222222222,
              "#7201a8"
             ],
             [
              0.3333333333333333,
              "#9c179e"
             ],
             [
              0.4444444444444444,
              "#bd3786"
             ],
             [
              0.5555555555555556,
              "#d8576b"
             ],
             [
              0.6666666666666666,
              "#ed7953"
             ],
             [
              0.7777777777777778,
              "#fb9f3a"
             ],
             [
              0.8888888888888888,
              "#fdca26"
             ],
             [
              1,
              "#f0f921"
             ]
            ],
            "type": "heatmapgl"
           }
          ],
          "histogram": [
           {
            "marker": {
             "pattern": {
              "fillmode": "overlay",
              "size": 10,
              "solidity": 0.2
             }
            },
            "type": "histogram"
           }
          ],
          "histogram2d": [
           {
            "colorbar": {
             "outlinewidth": 0,
             "ticks": ""
            },
            "colorscale": [
             [
              0,
              "#0d0887"
             ],
             [
              0.1111111111111111,
              "#46039f"
             ],
             [
              0.2222222222222222,
              "#7201a8"
             ],
             [
              0.3333333333333333,
              "#9c179e"
             ],
             [
              0.4444444444444444,
              "#bd3786"
             ],
             [
              0.5555555555555556,
              "#d8576b"
             ],
             [
              0.6666666666666666,
              "#ed7953"
             ],
             [
              0.7777777777777778,
              "#fb9f3a"
             ],
             [
              0.8888888888888888,
              "#fdca26"
             ],
             [
              1,
              "#f0f921"
             ]
            ],
            "type": "histogram2d"
           }
          ],
          "histogram2dcontour": [
           {
            "colorbar": {
             "outlinewidth": 0,
             "ticks": ""
            },
            "colorscale": [
             [
              0,
              "#0d0887"
             ],
             [
              0.1111111111111111,
              "#46039f"
             ],
             [
              0.2222222222222222,
              "#7201a8"
             ],
             [
              0.3333333333333333,
              "#9c179e"
             ],
             [
              0.4444444444444444,
              "#bd3786"
             ],
             [
              0.5555555555555556,
              "#d8576b"
             ],
             [
              0.6666666666666666,
              "#ed7953"
             ],
             [
              0.7777777777777778,
              "#fb9f3a"
             ],
             [
              0.8888888888888888,
              "#fdca26"
             ],
             [
              1,
              "#f0f921"
             ]
            ],
            "type": "histogram2dcontour"
           }
          ],
          "mesh3d": [
           {
            "colorbar": {
             "outlinewidth": 0,
             "ticks": ""
            },
            "type": "mesh3d"
           }
          ],
          "parcoords": [
           {
            "line": {
             "colorbar": {
              "outlinewidth": 0,
              "ticks": ""
             }
            },
            "type": "parcoords"
           }
          ],
          "pie": [
           {
            "automargin": true,
            "type": "pie"
           }
          ],
          "scatter": [
           {
            "fillpattern": {
             "fillmode": "overlay",
             "size": 10,
             "solidity": 0.2
            },
            "type": "scatter"
           }
          ],
          "scatter3d": [
           {
            "line": {
             "colorbar": {
              "outlinewidth": 0,
              "ticks": ""
             }
            },
            "marker": {
             "colorbar": {
              "outlinewidth": 0,
              "ticks": ""
             }
            },
            "type": "scatter3d"
           }
          ],
          "scattercarpet": [
           {
            "marker": {
             "colorbar": {
              "outlinewidth": 0,
              "ticks": ""
             }
            },
            "type": "scattercarpet"
           }
          ],
          "scattergeo": [
           {
            "marker": {
             "colorbar": {
              "outlinewidth": 0,
              "ticks": ""
             }
            },
            "type": "scattergeo"
           }
          ],
          "scattergl": [
           {
            "marker": {
             "colorbar": {
              "outlinewidth": 0,
              "ticks": ""
             }
            },
            "type": "scattergl"
           }
          ],
          "scattermapbox": [
           {
            "marker": {
             "colorbar": {
              "outlinewidth": 0,
              "ticks": ""
             }
            },
            "type": "scattermapbox"
           }
          ],
          "scatterpolar": [
           {
            "marker": {
             "colorbar": {
              "outlinewidth": 0,
              "ticks": ""
             }
            },
            "type": "scatterpolar"
           }
          ],
          "scatterpolargl": [
           {
            "marker": {
             "colorbar": {
              "outlinewidth": 0,
              "ticks": ""
             }
            },
            "type": "scatterpolargl"
           }
          ],
          "scatterternary": [
           {
            "marker": {
             "colorbar": {
              "outlinewidth": 0,
              "ticks": ""
             }
            },
            "type": "scatterternary"
           }
          ],
          "surface": [
           {
            "colorbar": {
             "outlinewidth": 0,
             "ticks": ""
            },
            "colorscale": [
             [
              0,
              "#0d0887"
             ],
             [
              0.1111111111111111,
              "#46039f"
             ],
             [
              0.2222222222222222,
              "#7201a8"
             ],
             [
              0.3333333333333333,
              "#9c179e"
             ],
             [
              0.4444444444444444,
              "#bd3786"
             ],
             [
              0.5555555555555556,
              "#d8576b"
             ],
             [
              0.6666666666666666,
              "#ed7953"
             ],
             [
              0.7777777777777778,
              "#fb9f3a"
             ],
             [
              0.8888888888888888,
              "#fdca26"
             ],
             [
              1,
              "#f0f921"
             ]
            ],
            "type": "surface"
           }
          ],
          "table": [
           {
            "cells": {
             "fill": {
              "color": "#EBF0F8"
             },
             "line": {
              "color": "white"
             }
            },
            "header": {
             "fill": {
              "color": "#C8D4E3"
             },
             "line": {
              "color": "white"
             }
            },
            "type": "table"
           }
          ]
         },
         "layout": {
          "annotationdefaults": {
           "arrowcolor": "#2a3f5f",
           "arrowhead": 0,
           "arrowwidth": 1
          },
          "autotypenumbers": "strict",
          "coloraxis": {
           "colorbar": {
            "outlinewidth": 0,
            "ticks": ""
           }
          },
          "colorscale": {
           "diverging": [
            [
             0,
             "#8e0152"
            ],
            [
             0.1,
             "#c51b7d"
            ],
            [
             0.2,
             "#de77ae"
            ],
            [
             0.3,
             "#f1b6da"
            ],
            [
             0.4,
             "#fde0ef"
            ],
            [
             0.5,
             "#f7f7f7"
            ],
            [
             0.6,
             "#e6f5d0"
            ],
            [
             0.7,
             "#b8e186"
            ],
            [
             0.8,
             "#7fbc41"
            ],
            [
             0.9,
             "#4d9221"
            ],
            [
             1,
             "#276419"
            ]
           ],
           "sequential": [
            [
             0,
             "#0d0887"
            ],
            [
             0.1111111111111111,
             "#46039f"
            ],
            [
             0.2222222222222222,
             "#7201a8"
            ],
            [
             0.3333333333333333,
             "#9c179e"
            ],
            [
             0.4444444444444444,
             "#bd3786"
            ],
            [
             0.5555555555555556,
             "#d8576b"
            ],
            [
             0.6666666666666666,
             "#ed7953"
            ],
            [
             0.7777777777777778,
             "#fb9f3a"
            ],
            [
             0.8888888888888888,
             "#fdca26"
            ],
            [
             1,
             "#f0f921"
            ]
           ],
           "sequentialminus": [
            [
             0,
             "#0d0887"
            ],
            [
             0.1111111111111111,
             "#46039f"
            ],
            [
             0.2222222222222222,
             "#7201a8"
            ],
            [
             0.3333333333333333,
             "#9c179e"
            ],
            [
             0.4444444444444444,
             "#bd3786"
            ],
            [
             0.5555555555555556,
             "#d8576b"
            ],
            [
             0.6666666666666666,
             "#ed7953"
            ],
            [
             0.7777777777777778,
             "#fb9f3a"
            ],
            [
             0.8888888888888888,
             "#fdca26"
            ],
            [
             1,
             "#f0f921"
            ]
           ]
          },
          "colorway": [
           "#636efa",
           "#EF553B",
           "#00cc96",
           "#ab63fa",
           "#FFA15A",
           "#19d3f3",
           "#FF6692",
           "#B6E880",
           "#FF97FF",
           "#FECB52"
          ],
          "font": {
           "color": "#2a3f5f"
          },
          "geo": {
           "bgcolor": "white",
           "lakecolor": "white",
           "landcolor": "#E5ECF6",
           "showlakes": true,
           "showland": true,
           "subunitcolor": "white"
          },
          "hoverlabel": {
           "align": "left"
          },
          "hovermode": "closest",
          "mapbox": {
           "style": "light"
          },
          "paper_bgcolor": "white",
          "plot_bgcolor": "#E5ECF6",
          "polar": {
           "angularaxis": {
            "gridcolor": "white",
            "linecolor": "white",
            "ticks": ""
           },
           "bgcolor": "#E5ECF6",
           "radialaxis": {
            "gridcolor": "white",
            "linecolor": "white",
            "ticks": ""
           }
          },
          "scene": {
           "xaxis": {
            "backgroundcolor": "#E5ECF6",
            "gridcolor": "white",
            "gridwidth": 2,
            "linecolor": "white",
            "showbackground": true,
            "ticks": "",
            "zerolinecolor": "white"
           },
           "yaxis": {
            "backgroundcolor": "#E5ECF6",
            "gridcolor": "white",
            "gridwidth": 2,
            "linecolor": "white",
            "showbackground": true,
            "ticks": "",
            "zerolinecolor": "white"
           },
           "zaxis": {
            "backgroundcolor": "#E5ECF6",
            "gridcolor": "white",
            "gridwidth": 2,
            "linecolor": "white",
            "showbackground": true,
            "ticks": "",
            "zerolinecolor": "white"
           }
          },
          "shapedefaults": {
           "line": {
            "color": "#2a3f5f"
           }
          },
          "ternary": {
           "aaxis": {
            "gridcolor": "white",
            "linecolor": "white",
            "ticks": ""
           },
           "baxis": {
            "gridcolor": "white",
            "linecolor": "white",
            "ticks": ""
           },
           "bgcolor": "#E5ECF6",
           "caxis": {
            "gridcolor": "white",
            "linecolor": "white",
            "ticks": ""
           }
          },
          "title": {
           "x": 0.05
          },
          "xaxis": {
           "automargin": true,
           "gridcolor": "white",
           "linecolor": "white",
           "ticks": "",
           "title": {
            "standoff": 15
           },
           "zerolinecolor": "white",
           "zerolinewidth": 2
          },
          "yaxis": {
           "automargin": true,
           "gridcolor": "white",
           "linecolor": "white",
           "ticks": "",
           "title": {
            "standoff": 15
           },
           "zerolinecolor": "white",
           "zerolinewidth": 2
          }
         }
        },
        "title": {
         "text": "2016-01-20"
        },
        "width": 2000,
        "xaxis": {
         "anchor": "y",
         "domain": [
          0,
          0.94
         ],
         "rangeslider": {
          "visible": false
         },
         "title": {
          "text": "Datetime"
         }
        },
        "yaxis": {
         "anchor": "x",
         "domain": [
          0,
          1
         ],
         "title": {
          "text": "Price ($)"
         }
        },
        "yaxis2": {
         "anchor": "x",
         "overlaying": "y",
         "range": [
          0.3,
          0.7
         ],
         "side": "right"
        }
       }
      }
     },
     "metadata": {},
     "output_type": "display_data"
    },
    {
     "data": {
      "application/vnd.plotly.v1+json": {
       "config": {
        "plotlyServerURL": "https://plot.ly"
       },
       "data": [
        {
         "close": [
          66.19,
          66.25,
          66.28,
          66.29,
          66.23,
          66.4,
          66.26,
          66.33,
          66.17,
          66.36,
          65.84,
          65.74,
          65.94,
          65.8,
          65.76,
          65.85,
          65.81,
          65.74,
          65.82,
          65.9,
          65.76,
          65.83,
          65.83,
          65.88,
          65.94,
          65.83,
          65.8,
          65.84
         ],
         "high": [
          66.24,
          66.27,
          66.3,
          66.38,
          66.31,
          66.43,
          66.43,
          66.36,
          66.33,
          66.36,
          66.39,
          65.98,
          65.98,
          65.97,
          65.86,
          65.89,
          65.87,
          65.83,
          65.85,
          65.93,
          65.9,
          65.85,
          65.85,
          65.89,
          66,
          66.06,
          65.88,
          65.85
         ],
         "low": [
          66.15,
          66.14,
          66.22,
          66.28,
          66.11,
          66.24,
          66.26,
          66.24,
          66.14,
          66.12,
          65.81,
          65.72,
          65.72,
          65.69,
          65.66,
          65.76,
          65.78,
          65.74,
          65.67,
          65.81,
          65.75,
          65.76,
          65.76,
          65.82,
          65.84,
          65.82,
          65.74,
          65.78
         ],
         "open": [
          66.2,
          66.19,
          66.25,
          66.29,
          66.29,
          66.24,
          66.4,
          66.26,
          66.33,
          66.17,
          66.29,
          65.83,
          65.75,
          65.94,
          65.79,
          65.77,
          65.85,
          65.8,
          65.74,
          65.82,
          65.9,
          65.77,
          65.83,
          65.83,
          65.88,
          65.95,
          65.84,
          65.8
         ],
         "showlegend": false,
         "type": "candlestick",
         "x": [
          "2019-04-24T09:00:00-04:00",
          "2019-04-24T09:15:00-04:00",
          "2019-04-24T09:30:00-04:00",
          "2019-04-24T09:45:00-04:00",
          "2019-04-24T10:00:00-04:00",
          "2019-04-24T10:15:00-04:00",
          "2019-04-24T10:30:00-04:00",
          "2019-04-24T10:45:00-04:00",
          "2019-04-24T11:00:00-04:00",
          "2019-04-24T11:15:00-04:00",
          "2019-04-24T11:30:00-04:00",
          "2019-04-24T11:45:00-04:00",
          "2019-04-24T12:00:00-04:00",
          "2019-04-24T12:15:00-04:00",
          "2019-04-24T12:30:00-04:00",
          "2019-04-24T12:45:00-04:00",
          "2019-04-24T13:00:00-04:00",
          "2019-04-24T13:15:00-04:00",
          "2019-04-24T13:30:00-04:00",
          "2019-04-24T13:45:00-04:00",
          "2019-04-24T14:00:00-04:00",
          "2019-04-24T14:15:00-04:00",
          "2019-04-24T14:30:00-04:00",
          "2019-04-24T14:45:00-04:00",
          "2019-04-24T15:00:00-04:00",
          "2019-04-24T15:15:00-04:00",
          "2019-04-24T15:30:00-04:00",
          "2019-04-24T15:45:00-04:00"
         ]
        },
        {
         "mode": "lines",
         "type": "scatter",
         "x": [
          "2019-04-24T09:00:00-04:00",
          "2019-04-24T09:15:00-04:00",
          "2019-04-24T09:30:00-04:00",
          "2019-04-24T09:45:00-04:00",
          "2019-04-24T10:00:00-04:00",
          "2019-04-24T10:15:00-04:00",
          "2019-04-24T10:30:00-04:00",
          "2019-04-24T10:45:00-04:00",
          "2019-04-24T11:00:00-04:00",
          "2019-04-24T11:15:00-04:00",
          "2019-04-24T11:30:00-04:00",
          "2019-04-24T11:45:00-04:00",
          "2019-04-24T12:00:00-04:00",
          "2019-04-24T12:15:00-04:00",
          "2019-04-24T12:30:00-04:00",
          "2019-04-24T12:45:00-04:00",
          "2019-04-24T13:00:00-04:00",
          "2019-04-24T13:15:00-04:00",
          "2019-04-24T13:30:00-04:00",
          "2019-04-24T13:45:00-04:00",
          "2019-04-24T14:00:00-04:00",
          "2019-04-24T14:15:00-04:00",
          "2019-04-24T14:30:00-04:00",
          "2019-04-24T14:45:00-04:00",
          "2019-04-24T15:00:00-04:00",
          "2019-04-24T15:15:00-04:00",
          "2019-04-24T15:30:00-04:00",
          "2019-04-24T15:45:00-04:00"
         ],
         "xaxis": "x",
         "y": [
          0.5259259259257634,
          0.4937321937321293,
          0.4597103513770486,
          0.43978276353274803,
          0.44663461538463,
          0.45581140350877297,
          0.49024767801854635,
          0.5244143446852711,
          0.5360810113519558,
          0.5892973856209807,
          0.5848180076628768,
          0.5736000589449135,
          0.5114205717654083,
          0.43245231779714666,
          0.4270787545787524,
          0.4540018315018286,
          0.5124776149776578,
          0.5266310541310864,
          0.4819088319088469,
          0.44120370370373396,
          0.4226851851852251,
          0.37453703703706964,
          0.4375000000000837,
          0.4642857142857469,
          0.447966269841252,
          0.4942625661375583,
          0.4987599206349065,
          0.5225694444444884
         ],
         "yaxis": "y2"
        }
       ],
       "layout": {
        "height": 500,
        "template": {
         "data": {
          "bar": [
           {
            "error_x": {
             "color": "#2a3f5f"
            },
            "error_y": {
             "color": "#2a3f5f"
            },
            "marker": {
             "line": {
              "color": "#E5ECF6",
              "width": 0.5
             },
             "pattern": {
              "fillmode": "overlay",
              "size": 10,
              "solidity": 0.2
             }
            },
            "type": "bar"
           }
          ],
          "barpolar": [
           {
            "marker": {
             "line": {
              "color": "#E5ECF6",
              "width": 0.5
             },
             "pattern": {
              "fillmode": "overlay",
              "size": 10,
              "solidity": 0.2
             }
            },
            "type": "barpolar"
           }
          ],
          "carpet": [
           {
            "aaxis": {
             "endlinecolor": "#2a3f5f",
             "gridcolor": "white",
             "linecolor": "white",
             "minorgridcolor": "white",
             "startlinecolor": "#2a3f5f"
            },
            "baxis": {
             "endlinecolor": "#2a3f5f",
             "gridcolor": "white",
             "linecolor": "white",
             "minorgridcolor": "white",
             "startlinecolor": "#2a3f5f"
            },
            "type": "carpet"
           }
          ],
          "choropleth": [
           {
            "colorbar": {
             "outlinewidth": 0,
             "ticks": ""
            },
            "type": "choropleth"
           }
          ],
          "contour": [
           {
            "colorbar": {
             "outlinewidth": 0,
             "ticks": ""
            },
            "colorscale": [
             [
              0,
              "#0d0887"
             ],
             [
              0.1111111111111111,
              "#46039f"
             ],
             [
              0.2222222222222222,
              "#7201a8"
             ],
             [
              0.3333333333333333,
              "#9c179e"
             ],
             [
              0.4444444444444444,
              "#bd3786"
             ],
             [
              0.5555555555555556,
              "#d8576b"
             ],
             [
              0.6666666666666666,
              "#ed7953"
             ],
             [
              0.7777777777777778,
              "#fb9f3a"
             ],
             [
              0.8888888888888888,
              "#fdca26"
             ],
             [
              1,
              "#f0f921"
             ]
            ],
            "type": "contour"
           }
          ],
          "contourcarpet": [
           {
            "colorbar": {
             "outlinewidth": 0,
             "ticks": ""
            },
            "type": "contourcarpet"
           }
          ],
          "heatmap": [
           {
            "colorbar": {
             "outlinewidth": 0,
             "ticks": ""
            },
            "colorscale": [
             [
              0,
              "#0d0887"
             ],
             [
              0.1111111111111111,
              "#46039f"
             ],
             [
              0.2222222222222222,
              "#7201a8"
             ],
             [
              0.3333333333333333,
              "#9c179e"
             ],
             [
              0.4444444444444444,
              "#bd3786"
             ],
             [
              0.5555555555555556,
              "#d8576b"
             ],
             [
              0.6666666666666666,
              "#ed7953"
             ],
             [
              0.7777777777777778,
              "#fb9f3a"
             ],
             [
              0.8888888888888888,
              "#fdca26"
             ],
             [
              1,
              "#f0f921"
             ]
            ],
            "type": "heatmap"
           }
          ],
          "heatmapgl": [
           {
            "colorbar": {
             "outlinewidth": 0,
             "ticks": ""
            },
            "colorscale": [
             [
              0,
              "#0d0887"
             ],
             [
              0.1111111111111111,
              "#46039f"
             ],
             [
              0.2222222222222222,
              "#7201a8"
             ],
             [
              0.3333333333333333,
              "#9c179e"
             ],
             [
              0.4444444444444444,
              "#bd3786"
             ],
             [
              0.5555555555555556,
              "#d8576b"
             ],
             [
              0.6666666666666666,
              "#ed7953"
             ],
             [
              0.7777777777777778,
              "#fb9f3a"
             ],
             [
              0.8888888888888888,
              "#fdca26"
             ],
             [
              1,
              "#f0f921"
             ]
            ],
            "type": "heatmapgl"
           }
          ],
          "histogram": [
           {
            "marker": {
             "pattern": {
              "fillmode": "overlay",
              "size": 10,
              "solidity": 0.2
             }
            },
            "type": "histogram"
           }
          ],
          "histogram2d": [
           {
            "colorbar": {
             "outlinewidth": 0,
             "ticks": ""
            },
            "colorscale": [
             [
              0,
              "#0d0887"
             ],
             [
              0.1111111111111111,
              "#46039f"
             ],
             [
              0.2222222222222222,
              "#7201a8"
             ],
             [
              0.3333333333333333,
              "#9c179e"
             ],
             [
              0.4444444444444444,
              "#bd3786"
             ],
             [
              0.5555555555555556,
              "#d8576b"
             ],
             [
              0.6666666666666666,
              "#ed7953"
             ],
             [
              0.7777777777777778,
              "#fb9f3a"
             ],
             [
              0.8888888888888888,
              "#fdca26"
             ],
             [
              1,
              "#f0f921"
             ]
            ],
            "type": "histogram2d"
           }
          ],
          "histogram2dcontour": [
           {
            "colorbar": {
             "outlinewidth": 0,
             "ticks": ""
            },
            "colorscale": [
             [
              0,
              "#0d0887"
             ],
             [
              0.1111111111111111,
              "#46039f"
             ],
             [
              0.2222222222222222,
              "#7201a8"
             ],
             [
              0.3333333333333333,
              "#9c179e"
             ],
             [
              0.4444444444444444,
              "#bd3786"
             ],
             [
              0.5555555555555556,
              "#d8576b"
             ],
             [
              0.6666666666666666,
              "#ed7953"
             ],
             [
              0.7777777777777778,
              "#fb9f3a"
             ],
             [
              0.8888888888888888,
              "#fdca26"
             ],
             [
              1,
              "#f0f921"
             ]
            ],
            "type": "histogram2dcontour"
           }
          ],
          "mesh3d": [
           {
            "colorbar": {
             "outlinewidth": 0,
             "ticks": ""
            },
            "type": "mesh3d"
           }
          ],
          "parcoords": [
           {
            "line": {
             "colorbar": {
              "outlinewidth": 0,
              "ticks": ""
             }
            },
            "type": "parcoords"
           }
          ],
          "pie": [
           {
            "automargin": true,
            "type": "pie"
           }
          ],
          "scatter": [
           {
            "fillpattern": {
             "fillmode": "overlay",
             "size": 10,
             "solidity": 0.2
            },
            "type": "scatter"
           }
          ],
          "scatter3d": [
           {
            "line": {
             "colorbar": {
              "outlinewidth": 0,
              "ticks": ""
             }
            },
            "marker": {
             "colorbar": {
              "outlinewidth": 0,
              "ticks": ""
             }
            },
            "type": "scatter3d"
           }
          ],
          "scattercarpet": [
           {
            "marker": {
             "colorbar": {
              "outlinewidth": 0,
              "ticks": ""
             }
            },
            "type": "scattercarpet"
           }
          ],
          "scattergeo": [
           {
            "marker": {
             "colorbar": {
              "outlinewidth": 0,
              "ticks": ""
             }
            },
            "type": "scattergeo"
           }
          ],
          "scattergl": [
           {
            "marker": {
             "colorbar": {
              "outlinewidth": 0,
              "ticks": ""
             }
            },
            "type": "scattergl"
           }
          ],
          "scattermapbox": [
           {
            "marker": {
             "colorbar": {
              "outlinewidth": 0,
              "ticks": ""
             }
            },
            "type": "scattermapbox"
           }
          ],
          "scatterpolar": [
           {
            "marker": {
             "colorbar": {
              "outlinewidth": 0,
              "ticks": ""
             }
            },
            "type": "scatterpolar"
           }
          ],
          "scatterpolargl": [
           {
            "marker": {
             "colorbar": {
              "outlinewidth": 0,
              "ticks": ""
             }
            },
            "type": "scatterpolargl"
           }
          ],
          "scatterternary": [
           {
            "marker": {
             "colorbar": {
              "outlinewidth": 0,
              "ticks": ""
             }
            },
            "type": "scatterternary"
           }
          ],
          "surface": [
           {
            "colorbar": {
             "outlinewidth": 0,
             "ticks": ""
            },
            "colorscale": [
             [
              0,
              "#0d0887"
             ],
             [
              0.1111111111111111,
              "#46039f"
             ],
             [
              0.2222222222222222,
              "#7201a8"
             ],
             [
              0.3333333333333333,
              "#9c179e"
             ],
             [
              0.4444444444444444,
              "#bd3786"
             ],
             [
              0.5555555555555556,
              "#d8576b"
             ],
             [
              0.6666666666666666,
              "#ed7953"
             ],
             [
              0.7777777777777778,
              "#fb9f3a"
             ],
             [
              0.8888888888888888,
              "#fdca26"
             ],
             [
              1,
              "#f0f921"
             ]
            ],
            "type": "surface"
           }
          ],
          "table": [
           {
            "cells": {
             "fill": {
              "color": "#EBF0F8"
             },
             "line": {
              "color": "white"
             }
            },
            "header": {
             "fill": {
              "color": "#C8D4E3"
             },
             "line": {
              "color": "white"
             }
            },
            "type": "table"
           }
          ]
         },
         "layout": {
          "annotationdefaults": {
           "arrowcolor": "#2a3f5f",
           "arrowhead": 0,
           "arrowwidth": 1
          },
          "autotypenumbers": "strict",
          "coloraxis": {
           "colorbar": {
            "outlinewidth": 0,
            "ticks": ""
           }
          },
          "colorscale": {
           "diverging": [
            [
             0,
             "#8e0152"
            ],
            [
             0.1,
             "#c51b7d"
            ],
            [
             0.2,
             "#de77ae"
            ],
            [
             0.3,
             "#f1b6da"
            ],
            [
             0.4,
             "#fde0ef"
            ],
            [
             0.5,
             "#f7f7f7"
            ],
            [
             0.6,
             "#e6f5d0"
            ],
            [
             0.7,
             "#b8e186"
            ],
            [
             0.8,
             "#7fbc41"
            ],
            [
             0.9,
             "#4d9221"
            ],
            [
             1,
             "#276419"
            ]
           ],
           "sequential": [
            [
             0,
             "#0d0887"
            ],
            [
             0.1111111111111111,
             "#46039f"
            ],
            [
             0.2222222222222222,
             "#7201a8"
            ],
            [
             0.3333333333333333,
             "#9c179e"
            ],
            [
             0.4444444444444444,
             "#bd3786"
            ],
            [
             0.5555555555555556,
             "#d8576b"
            ],
            [
             0.6666666666666666,
             "#ed7953"
            ],
            [
             0.7777777777777778,
             "#fb9f3a"
            ],
            [
             0.8888888888888888,
             "#fdca26"
            ],
            [
             1,
             "#f0f921"
            ]
           ],
           "sequentialminus": [
            [
             0,
             "#0d0887"
            ],
            [
             0.1111111111111111,
             "#46039f"
            ],
            [
             0.2222222222222222,
             "#7201a8"
            ],
            [
             0.3333333333333333,
             "#9c179e"
            ],
            [
             0.4444444444444444,
             "#bd3786"
            ],
            [
             0.5555555555555556,
             "#d8576b"
            ],
            [
             0.6666666666666666,
             "#ed7953"
            ],
            [
             0.7777777777777778,
             "#fb9f3a"
            ],
            [
             0.8888888888888888,
             "#fdca26"
            ],
            [
             1,
             "#f0f921"
            ]
           ]
          },
          "colorway": [
           "#636efa",
           "#EF553B",
           "#00cc96",
           "#ab63fa",
           "#FFA15A",
           "#19d3f3",
           "#FF6692",
           "#B6E880",
           "#FF97FF",
           "#FECB52"
          ],
          "font": {
           "color": "#2a3f5f"
          },
          "geo": {
           "bgcolor": "white",
           "lakecolor": "white",
           "landcolor": "#E5ECF6",
           "showlakes": true,
           "showland": true,
           "subunitcolor": "white"
          },
          "hoverlabel": {
           "align": "left"
          },
          "hovermode": "closest",
          "mapbox": {
           "style": "light"
          },
          "paper_bgcolor": "white",
          "plot_bgcolor": "#E5ECF6",
          "polar": {
           "angularaxis": {
            "gridcolor": "white",
            "linecolor": "white",
            "ticks": ""
           },
           "bgcolor": "#E5ECF6",
           "radialaxis": {
            "gridcolor": "white",
            "linecolor": "white",
            "ticks": ""
           }
          },
          "scene": {
           "xaxis": {
            "backgroundcolor": "#E5ECF6",
            "gridcolor": "white",
            "gridwidth": 2,
            "linecolor": "white",
            "showbackground": true,
            "ticks": "",
            "zerolinecolor": "white"
           },
           "yaxis": {
            "backgroundcolor": "#E5ECF6",
            "gridcolor": "white",
            "gridwidth": 2,
            "linecolor": "white",
            "showbackground": true,
            "ticks": "",
            "zerolinecolor": "white"
           },
           "zaxis": {
            "backgroundcolor": "#E5ECF6",
            "gridcolor": "white",
            "gridwidth": 2,
            "linecolor": "white",
            "showbackground": true,
            "ticks": "",
            "zerolinecolor": "white"
           }
          },
          "shapedefaults": {
           "line": {
            "color": "#2a3f5f"
           }
          },
          "ternary": {
           "aaxis": {
            "gridcolor": "white",
            "linecolor": "white",
            "ticks": ""
           },
           "baxis": {
            "gridcolor": "white",
            "linecolor": "white",
            "ticks": ""
           },
           "bgcolor": "#E5ECF6",
           "caxis": {
            "gridcolor": "white",
            "linecolor": "white",
            "ticks": ""
           }
          },
          "title": {
           "x": 0.05
          },
          "xaxis": {
           "automargin": true,
           "gridcolor": "white",
           "linecolor": "white",
           "ticks": "",
           "title": {
            "standoff": 15
           },
           "zerolinecolor": "white",
           "zerolinewidth": 2
          },
          "yaxis": {
           "automargin": true,
           "gridcolor": "white",
           "linecolor": "white",
           "ticks": "",
           "title": {
            "standoff": 15
           },
           "zerolinecolor": "white",
           "zerolinewidth": 2
          }
         }
        },
        "title": {
         "text": "2019-04-24"
        },
        "width": 2000,
        "xaxis": {
         "anchor": "y",
         "domain": [
          0,
          0.94
         ],
         "rangeslider": {
          "visible": false
         },
         "title": {
          "text": "Datetime"
         }
        },
        "yaxis": {
         "anchor": "x",
         "domain": [
          0,
          1
         ],
         "title": {
          "text": "Price ($)"
         }
        },
        "yaxis2": {
         "anchor": "x",
         "overlaying": "y",
         "range": [
          0.3,
          0.7
         ],
         "side": "right"
        }
       }
      }
     },
     "metadata": {},
     "output_type": "display_data"
    },
    {
     "data": {
      "application/vnd.plotly.v1+json": {
       "config": {
        "plotlyServerURL": "https://plot.ly"
       },
       "data": [
        {
         "close": [
          44.57,
          44.65,
          44.64,
          44.59,
          44.35,
          44.45,
          44.37,
          44.31,
          44.33,
          44.48,
          44.21,
          43.91,
          43.84,
          44.13,
          43.96,
          44.09,
          43.97,
          43.9,
          43.85,
          43.88,
          43.92,
          43.95,
          43.88,
          43.85,
          43.68,
          43.58,
          43.7,
          43.63
         ],
         "high": [
          44.94,
          44.7,
          44.69,
          44.7,
          44.66,
          44.48,
          44.51,
          44.4,
          44.4,
          44.66,
          45.14,
          44.33,
          44.1,
          44.31,
          44.13,
          44.1,
          44.15,
          43.98,
          43.92,
          43.94,
          43.97,
          43.97,
          44.06,
          43.9,
          43.88,
          43.69,
          43.73,
          43.74
         ],
         "low": [
          44.57,
          44.51,
          44.53,
          44.56,
          44.31,
          44.33,
          44.3,
          44.16,
          44.27,
          44.22,
          43.94,
          43.81,
          43.74,
          43.82,
          43.91,
          43.88,
          43.9,
          43.86,
          43.78,
          43.85,
          43.84,
          43.87,
          43.84,
          43.75,
          43.64,
          43.42,
          43.55,
          43.61
         ],
         "open": [
          44.86,
          44.58,
          44.66,
          44.64,
          44.6,
          44.34,
          44.45,
          44.37,
          44.3,
          44.34,
          44.48,
          44.2,
          43.91,
          43.84,
          44.13,
          43.97,
          44.09,
          43.97,
          43.91,
          43.85,
          43.89,
          43.92,
          43.95,
          43.87,
          43.85,
          43.68,
          43.58,
          43.7
         ],
         "showlegend": false,
         "type": "candlestick",
         "x": [
          "2016-09-14T09:00:00-04:00",
          "2016-09-14T09:15:00-04:00",
          "2016-09-14T09:30:00-04:00",
          "2016-09-14T09:45:00-04:00",
          "2016-09-14T10:00:00-04:00",
          "2016-09-14T10:15:00-04:00",
          "2016-09-14T10:30:00-04:00",
          "2016-09-14T10:45:00-04:00",
          "2016-09-14T11:00:00-04:00",
          "2016-09-14T11:15:00-04:00",
          "2016-09-14T11:30:00-04:00",
          "2016-09-14T11:45:00-04:00",
          "2016-09-14T12:00:00-04:00",
          "2016-09-14T12:15:00-04:00",
          "2016-09-14T12:30:00-04:00",
          "2016-09-14T12:45:00-04:00",
          "2016-09-14T13:00:00-04:00",
          "2016-09-14T13:15:00-04:00",
          "2016-09-14T13:30:00-04:00",
          "2016-09-14T13:45:00-04:00",
          "2016-09-14T14:00:00-04:00",
          "2016-09-14T14:15:00-04:00",
          "2016-09-14T14:30:00-04:00",
          "2016-09-14T14:45:00-04:00",
          "2016-09-14T15:00:00-04:00",
          "2016-09-14T15:15:00-04:00",
          "2016-09-14T15:30:00-04:00",
          "2016-09-14T15:45:00-04:00"
         ]
        },
        {
         "mode": "lines",
         "type": "scatter",
         "x": [
          "2016-09-14T09:00:00-04:00",
          "2016-09-14T09:15:00-04:00",
          "2016-09-14T09:30:00-04:00",
          "2016-09-14T09:45:00-04:00",
          "2016-09-14T10:00:00-04:00",
          "2016-09-14T10:15:00-04:00",
          "2016-09-14T10:30:00-04:00",
          "2016-09-14T10:45:00-04:00",
          "2016-09-14T11:00:00-04:00",
          "2016-09-14T11:15:00-04:00",
          "2016-09-14T11:30:00-04:00",
          "2016-09-14T11:45:00-04:00",
          "2016-09-14T12:00:00-04:00",
          "2016-09-14T12:15:00-04:00",
          "2016-09-14T12:30:00-04:00",
          "2016-09-14T12:45:00-04:00",
          "2016-09-14T13:00:00-04:00",
          "2016-09-14T13:15:00-04:00",
          "2016-09-14T13:30:00-04:00",
          "2016-09-14T13:45:00-04:00",
          "2016-09-14T14:00:00-04:00",
          "2016-09-14T14:15:00-04:00",
          "2016-09-14T14:30:00-04:00",
          "2016-09-14T14:45:00-04:00",
          "2016-09-14T15:00:00-04:00",
          "2016-09-14T15:15:00-04:00",
          "2016-09-14T15:30:00-04:00",
          "2016-09-14T15:45:00-04:00"
         ],
         "xaxis": "x",
         "y": [
          0.3441441441441254,
          0.3685633001422489,
          0.39987553342816523,
          0.43919236435684295,
          0.5355372807017613,
          0.5595138888888871,
          0.5700793650793569,
          0.5675992063491893,
          0.48906440781437344,
          0.5630543068042704,
          0.5125582750582447,
          0.5344065656565399,
          0.5671344858844842,
          0.49099039188325766,
          0.5751444322872963,
          0.564217858860718,
          0.5769771181199708,
          0.5846868686868701,
          0.5462669552669425,
          0.5244656084656012,
          0.5123117623117658,
          0.48786731786729315,
          0.4762872312872293,
          0.4603613053612837,
          0.47873737373735475,
          0.5000953984287199,
          0.51987654320984,
          0.5470560303893466
         ],
         "yaxis": "y2"
        }
       ],
       "layout": {
        "height": 500,
        "template": {
         "data": {
          "bar": [
           {
            "error_x": {
             "color": "#2a3f5f"
            },
            "error_y": {
             "color": "#2a3f5f"
            },
            "marker": {
             "line": {
              "color": "#E5ECF6",
              "width": 0.5
             },
             "pattern": {
              "fillmode": "overlay",
              "size": 10,
              "solidity": 0.2
             }
            },
            "type": "bar"
           }
          ],
          "barpolar": [
           {
            "marker": {
             "line": {
              "color": "#E5ECF6",
              "width": 0.5
             },
             "pattern": {
              "fillmode": "overlay",
              "size": 10,
              "solidity": 0.2
             }
            },
            "type": "barpolar"
           }
          ],
          "carpet": [
           {
            "aaxis": {
             "endlinecolor": "#2a3f5f",
             "gridcolor": "white",
             "linecolor": "white",
             "minorgridcolor": "white",
             "startlinecolor": "#2a3f5f"
            },
            "baxis": {
             "endlinecolor": "#2a3f5f",
             "gridcolor": "white",
             "linecolor": "white",
             "minorgridcolor": "white",
             "startlinecolor": "#2a3f5f"
            },
            "type": "carpet"
           }
          ],
          "choropleth": [
           {
            "colorbar": {
             "outlinewidth": 0,
             "ticks": ""
            },
            "type": "choropleth"
           }
          ],
          "contour": [
           {
            "colorbar": {
             "outlinewidth": 0,
             "ticks": ""
            },
            "colorscale": [
             [
              0,
              "#0d0887"
             ],
             [
              0.1111111111111111,
              "#46039f"
             ],
             [
              0.2222222222222222,
              "#7201a8"
             ],
             [
              0.3333333333333333,
              "#9c179e"
             ],
             [
              0.4444444444444444,
              "#bd3786"
             ],
             [
              0.5555555555555556,
              "#d8576b"
             ],
             [
              0.6666666666666666,
              "#ed7953"
             ],
             [
              0.7777777777777778,
              "#fb9f3a"
             ],
             [
              0.8888888888888888,
              "#fdca26"
             ],
             [
              1,
              "#f0f921"
             ]
            ],
            "type": "contour"
           }
          ],
          "contourcarpet": [
           {
            "colorbar": {
             "outlinewidth": 0,
             "ticks": ""
            },
            "type": "contourcarpet"
           }
          ],
          "heatmap": [
           {
            "colorbar": {
             "outlinewidth": 0,
             "ticks": ""
            },
            "colorscale": [
             [
              0,
              "#0d0887"
             ],
             [
              0.1111111111111111,
              "#46039f"
             ],
             [
              0.2222222222222222,
              "#7201a8"
             ],
             [
              0.3333333333333333,
              "#9c179e"
             ],
             [
              0.4444444444444444,
              "#bd3786"
             ],
             [
              0.5555555555555556,
              "#d8576b"
             ],
             [
              0.6666666666666666,
              "#ed7953"
             ],
             [
              0.7777777777777778,
              "#fb9f3a"
             ],
             [
              0.8888888888888888,
              "#fdca26"
             ],
             [
              1,
              "#f0f921"
             ]
            ],
            "type": "heatmap"
           }
          ],
          "heatmapgl": [
           {
            "colorbar": {
             "outlinewidth": 0,
             "ticks": ""
            },
            "colorscale": [
             [
              0,
              "#0d0887"
             ],
             [
              0.1111111111111111,
              "#46039f"
             ],
             [
              0.2222222222222222,
              "#7201a8"
             ],
             [
              0.3333333333333333,
              "#9c179e"
             ],
             [
              0.4444444444444444,
              "#bd3786"
             ],
             [
              0.5555555555555556,
              "#d8576b"
             ],
             [
              0.6666666666666666,
              "#ed7953"
             ],
             [
              0.7777777777777778,
              "#fb9f3a"
             ],
             [
              0.8888888888888888,
              "#fdca26"
             ],
             [
              1,
              "#f0f921"
             ]
            ],
            "type": "heatmapgl"
           }
          ],
          "histogram": [
           {
            "marker": {
             "pattern": {
              "fillmode": "overlay",
              "size": 10,
              "solidity": 0.2
             }
            },
            "type": "histogram"
           }
          ],
          "histogram2d": [
           {
            "colorbar": {
             "outlinewidth": 0,
             "ticks": ""
            },
            "colorscale": [
             [
              0,
              "#0d0887"
             ],
             [
              0.1111111111111111,
              "#46039f"
             ],
             [
              0.2222222222222222,
              "#7201a8"
             ],
             [
              0.3333333333333333,
              "#9c179e"
             ],
             [
              0.4444444444444444,
              "#bd3786"
             ],
             [
              0.5555555555555556,
              "#d8576b"
             ],
             [
              0.6666666666666666,
              "#ed7953"
             ],
             [
              0.7777777777777778,
              "#fb9f3a"
             ],
             [
              0.8888888888888888,
              "#fdca26"
             ],
             [
              1,
              "#f0f921"
             ]
            ],
            "type": "histogram2d"
           }
          ],
          "histogram2dcontour": [
           {
            "colorbar": {
             "outlinewidth": 0,
             "ticks": ""
            },
            "colorscale": [
             [
              0,
              "#0d0887"
             ],
             [
              0.1111111111111111,
              "#46039f"
             ],
             [
              0.2222222222222222,
              "#7201a8"
             ],
             [
              0.3333333333333333,
              "#9c179e"
             ],
             [
              0.4444444444444444,
              "#bd3786"
             ],
             [
              0.5555555555555556,
              "#d8576b"
             ],
             [
              0.6666666666666666,
              "#ed7953"
             ],
             [
              0.7777777777777778,
              "#fb9f3a"
             ],
             [
              0.8888888888888888,
              "#fdca26"
             ],
             [
              1,
              "#f0f921"
             ]
            ],
            "type": "histogram2dcontour"
           }
          ],
          "mesh3d": [
           {
            "colorbar": {
             "outlinewidth": 0,
             "ticks": ""
            },
            "type": "mesh3d"
           }
          ],
          "parcoords": [
           {
            "line": {
             "colorbar": {
              "outlinewidth": 0,
              "ticks": ""
             }
            },
            "type": "parcoords"
           }
          ],
          "pie": [
           {
            "automargin": true,
            "type": "pie"
           }
          ],
          "scatter": [
           {
            "fillpattern": {
             "fillmode": "overlay",
             "size": 10,
             "solidity": 0.2
            },
            "type": "scatter"
           }
          ],
          "scatter3d": [
           {
            "line": {
             "colorbar": {
              "outlinewidth": 0,
              "ticks": ""
             }
            },
            "marker": {
             "colorbar": {
              "outlinewidth": 0,
              "ticks": ""
             }
            },
            "type": "scatter3d"
           }
          ],
          "scattercarpet": [
           {
            "marker": {
             "colorbar": {
              "outlinewidth": 0,
              "ticks": ""
             }
            },
            "type": "scattercarpet"
           }
          ],
          "scattergeo": [
           {
            "marker": {
             "colorbar": {
              "outlinewidth": 0,
              "ticks": ""
             }
            },
            "type": "scattergeo"
           }
          ],
          "scattergl": [
           {
            "marker": {
             "colorbar": {
              "outlinewidth": 0,
              "ticks": ""
             }
            },
            "type": "scattergl"
           }
          ],
          "scattermapbox": [
           {
            "marker": {
             "colorbar": {
              "outlinewidth": 0,
              "ticks": ""
             }
            },
            "type": "scattermapbox"
           }
          ],
          "scatterpolar": [
           {
            "marker": {
             "colorbar": {
              "outlinewidth": 0,
              "ticks": ""
             }
            },
            "type": "scatterpolar"
           }
          ],
          "scatterpolargl": [
           {
            "marker": {
             "colorbar": {
              "outlinewidth": 0,
              "ticks": ""
             }
            },
            "type": "scatterpolargl"
           }
          ],
          "scatterternary": [
           {
            "marker": {
             "colorbar": {
              "outlinewidth": 0,
              "ticks": ""
             }
            },
            "type": "scatterternary"
           }
          ],
          "surface": [
           {
            "colorbar": {
             "outlinewidth": 0,
             "ticks": ""
            },
            "colorscale": [
             [
              0,
              "#0d0887"
             ],
             [
              0.1111111111111111,
              "#46039f"
             ],
             [
              0.2222222222222222,
              "#7201a8"
             ],
             [
              0.3333333333333333,
              "#9c179e"
             ],
             [
              0.4444444444444444,
              "#bd3786"
             ],
             [
              0.5555555555555556,
              "#d8576b"
             ],
             [
              0.6666666666666666,
              "#ed7953"
             ],
             [
              0.7777777777777778,
              "#fb9f3a"
             ],
             [
              0.8888888888888888,
              "#fdca26"
             ],
             [
              1,
              "#f0f921"
             ]
            ],
            "type": "surface"
           }
          ],
          "table": [
           {
            "cells": {
             "fill": {
              "color": "#EBF0F8"
             },
             "line": {
              "color": "white"
             }
            },
            "header": {
             "fill": {
              "color": "#C8D4E3"
             },
             "line": {
              "color": "white"
             }
            },
            "type": "table"
           }
          ]
         },
         "layout": {
          "annotationdefaults": {
           "arrowcolor": "#2a3f5f",
           "arrowhead": 0,
           "arrowwidth": 1
          },
          "autotypenumbers": "strict",
          "coloraxis": {
           "colorbar": {
            "outlinewidth": 0,
            "ticks": ""
           }
          },
          "colorscale": {
           "diverging": [
            [
             0,
             "#8e0152"
            ],
            [
             0.1,
             "#c51b7d"
            ],
            [
             0.2,
             "#de77ae"
            ],
            [
             0.3,
             "#f1b6da"
            ],
            [
             0.4,
             "#fde0ef"
            ],
            [
             0.5,
             "#f7f7f7"
            ],
            [
             0.6,
             "#e6f5d0"
            ],
            [
             0.7,
             "#b8e186"
            ],
            [
             0.8,
             "#7fbc41"
            ],
            [
             0.9,
             "#4d9221"
            ],
            [
             1,
             "#276419"
            ]
           ],
           "sequential": [
            [
             0,
             "#0d0887"
            ],
            [
             0.1111111111111111,
             "#46039f"
            ],
            [
             0.2222222222222222,
             "#7201a8"
            ],
            [
             0.3333333333333333,
             "#9c179e"
            ],
            [
             0.4444444444444444,
             "#bd3786"
            ],
            [
             0.5555555555555556,
             "#d8576b"
            ],
            [
             0.6666666666666666,
             "#ed7953"
            ],
            [
             0.7777777777777778,
             "#fb9f3a"
            ],
            [
             0.8888888888888888,
             "#fdca26"
            ],
            [
             1,
             "#f0f921"
            ]
           ],
           "sequentialminus": [
            [
             0,
             "#0d0887"
            ],
            [
             0.1111111111111111,
             "#46039f"
            ],
            [
             0.2222222222222222,
             "#7201a8"
            ],
            [
             0.3333333333333333,
             "#9c179e"
            ],
            [
             0.4444444444444444,
             "#bd3786"
            ],
            [
             0.5555555555555556,
             "#d8576b"
            ],
            [
             0.6666666666666666,
             "#ed7953"
            ],
            [
             0.7777777777777778,
             "#fb9f3a"
            ],
            [
             0.8888888888888888,
             "#fdca26"
            ],
            [
             1,
             "#f0f921"
            ]
           ]
          },
          "colorway": [
           "#636efa",
           "#EF553B",
           "#00cc96",
           "#ab63fa",
           "#FFA15A",
           "#19d3f3",
           "#FF6692",
           "#B6E880",
           "#FF97FF",
           "#FECB52"
          ],
          "font": {
           "color": "#2a3f5f"
          },
          "geo": {
           "bgcolor": "white",
           "lakecolor": "white",
           "landcolor": "#E5ECF6",
           "showlakes": true,
           "showland": true,
           "subunitcolor": "white"
          },
          "hoverlabel": {
           "align": "left"
          },
          "hovermode": "closest",
          "mapbox": {
           "style": "light"
          },
          "paper_bgcolor": "white",
          "plot_bgcolor": "#E5ECF6",
          "polar": {
           "angularaxis": {
            "gridcolor": "white",
            "linecolor": "white",
            "ticks": ""
           },
           "bgcolor": "#E5ECF6",
           "radialaxis": {
            "gridcolor": "white",
            "linecolor": "white",
            "ticks": ""
           }
          },
          "scene": {
           "xaxis": {
            "backgroundcolor": "#E5ECF6",
            "gridcolor": "white",
            "gridwidth": 2,
            "linecolor": "white",
            "showbackground": true,
            "ticks": "",
            "zerolinecolor": "white"
           },
           "yaxis": {
            "backgroundcolor": "#E5ECF6",
            "gridcolor": "white",
            "gridwidth": 2,
            "linecolor": "white",
            "showbackground": true,
            "ticks": "",
            "zerolinecolor": "white"
           },
           "zaxis": {
            "backgroundcolor": "#E5ECF6",
            "gridcolor": "white",
            "gridwidth": 2,
            "linecolor": "white",
            "showbackground": true,
            "ticks": "",
            "zerolinecolor": "white"
           }
          },
          "shapedefaults": {
           "line": {
            "color": "#2a3f5f"
           }
          },
          "ternary": {
           "aaxis": {
            "gridcolor": "white",
            "linecolor": "white",
            "ticks": ""
           },
           "baxis": {
            "gridcolor": "white",
            "linecolor": "white",
            "ticks": ""
           },
           "bgcolor": "#E5ECF6",
           "caxis": {
            "gridcolor": "white",
            "linecolor": "white",
            "ticks": ""
           }
          },
          "title": {
           "x": 0.05
          },
          "xaxis": {
           "automargin": true,
           "gridcolor": "white",
           "linecolor": "white",
           "ticks": "",
           "title": {
            "standoff": 15
           },
           "zerolinecolor": "white",
           "zerolinewidth": 2
          },
          "yaxis": {
           "automargin": true,
           "gridcolor": "white",
           "linecolor": "white",
           "ticks": "",
           "title": {
            "standoff": 15
           },
           "zerolinecolor": "white",
           "zerolinewidth": 2
          }
         }
        },
        "title": {
         "text": "2016-09-14"
        },
        "width": 2000,
        "xaxis": {
         "anchor": "y",
         "domain": [
          0,
          0.94
         ],
         "rangeslider": {
          "visible": false
         },
         "title": {
          "text": "Datetime"
         }
        },
        "yaxis": {
         "anchor": "x",
         "domain": [
          0,
          1
         ],
         "title": {
          "text": "Price ($)"
         }
        },
        "yaxis2": {
         "anchor": "x",
         "overlaying": "y",
         "range": [
          0.3,
          0.7
         ],
         "side": "right"
        }
       }
      }
     },
     "metadata": {},
     "output_type": "display_data"
    },
    {
     "data": {
      "application/vnd.plotly.v1+json": {
       "config": {
        "plotlyServerURL": "https://plot.ly"
       },
       "data": [
        {
         "close": [
          36.94,
          36.8,
          36.65,
          36.69,
          36.83,
          36.91,
          36.87,
          36.82,
          36.86,
          36.79,
          37.37,
          37.48,
          37.44,
          37.57,
          37.74,
          37.7,
          37.58,
          37.71,
          37.72,
          37.69,
          37.7,
          37.6,
          37.67,
          37.54,
          37.5,
          37.74,
          37.66,
          37.64
         ],
         "high": [
          37.02,
          36.94,
          36.81,
          36.7,
          36.88,
          36.92,
          37.12,
          36.88,
          36.96,
          36.92,
          37.46,
          37.49,
          37.58,
          37.58,
          37.77,
          37.81,
          37.78,
          37.73,
          37.77,
          37.77,
          37.79,
          37.72,
          37.71,
          37.68,
          37.71,
          37.9,
          37.75,
          37.68
         ],
         "low": [
          36.92,
          36.74,
          36.63,
          36.56,
          36.65,
          36.75,
          36.86,
          36.74,
          36.76,
          36.74,
          36.63,
          37.27,
          37.38,
          37.4,
          37.52,
          37.65,
          37.55,
          37.58,
          37.68,
          37.68,
          37.66,
          37.57,
          37.57,
          37.53,
          37.42,
          37.48,
          37.65,
          37.59
         ],
         "open": [
          36.93,
          36.94,
          36.81,
          36.65,
          36.68,
          36.83,
          36.92,
          36.86,
          36.82,
          36.86,
          36.82,
          37.38,
          37.49,
          37.44,
          37.57,
          37.74,
          37.71,
          37.59,
          37.71,
          37.72,
          37.7,
          37.7,
          37.6,
          37.67,
          37.54,
          37.49,
          37.74,
          37.66
         ],
         "showlegend": false,
         "type": "candlestick",
         "x": [
          "2016-04-06T09:00:00-04:00",
          "2016-04-06T09:15:00-04:00",
          "2016-04-06T09:30:00-04:00",
          "2016-04-06T09:45:00-04:00",
          "2016-04-06T10:00:00-04:00",
          "2016-04-06T10:15:00-04:00",
          "2016-04-06T10:30:00-04:00",
          "2016-04-06T10:45:00-04:00",
          "2016-04-06T11:00:00-04:00",
          "2016-04-06T11:15:00-04:00",
          "2016-04-06T11:30:00-04:00",
          "2016-04-06T11:45:00-04:00",
          "2016-04-06T12:00:00-04:00",
          "2016-04-06T12:15:00-04:00",
          "2016-04-06T12:30:00-04:00",
          "2016-04-06T12:45:00-04:00",
          "2016-04-06T13:00:00-04:00",
          "2016-04-06T13:15:00-04:00",
          "2016-04-06T13:30:00-04:00",
          "2016-04-06T13:45:00-04:00",
          "2016-04-06T14:00:00-04:00",
          "2016-04-06T14:15:00-04:00",
          "2016-04-06T14:30:00-04:00",
          "2016-04-06T14:45:00-04:00",
          "2016-04-06T15:00:00-04:00",
          "2016-04-06T15:15:00-04:00",
          "2016-04-06T15:30:00-04:00",
          "2016-04-06T15:45:00-04:00"
         ]
        },
        {
         "mode": "lines",
         "type": "scatter",
         "x": [
          "2016-04-06T09:00:00-04:00",
          "2016-04-06T09:15:00-04:00",
          "2016-04-06T09:30:00-04:00",
          "2016-04-06T09:45:00-04:00",
          "2016-04-06T10:00:00-04:00",
          "2016-04-06T10:15:00-04:00",
          "2016-04-06T10:30:00-04:00",
          "2016-04-06T10:45:00-04:00",
          "2016-04-06T11:00:00-04:00",
          "2016-04-06T11:15:00-04:00",
          "2016-04-06T11:30:00-04:00",
          "2016-04-06T11:45:00-04:00",
          "2016-04-06T12:00:00-04:00",
          "2016-04-06T12:15:00-04:00",
          "2016-04-06T12:30:00-04:00",
          "2016-04-06T12:45:00-04:00",
          "2016-04-06T13:00:00-04:00",
          "2016-04-06T13:15:00-04:00",
          "2016-04-06T13:30:00-04:00",
          "2016-04-06T13:45:00-04:00",
          "2016-04-06T14:00:00-04:00",
          "2016-04-06T14:15:00-04:00",
          "2016-04-06T14:30:00-04:00",
          "2016-04-06T14:45:00-04:00",
          "2016-04-06T15:00:00-04:00",
          "2016-04-06T15:15:00-04:00",
          "2016-04-06T15:30:00-04:00",
          "2016-04-06T15:45:00-04:00"
         ],
         "xaxis": "x",
         "y": [
          0.6400000000000625,
          0.5083333333333501,
          0.5154320987654487,
          0.5151455026455322,
          0.47905854612377224,
          0.4662644284767357,
          0.4742416364539346,
          0.4635273507396358,
          0.4596143072613741,
          0.5328713878713826,
          0.5199968126474167,
          0.5369881546387506,
          0.5278214879721035,
          0.4963400064906131,
          0.48416329966330784,
          0.47118981481482886,
          0.484994162640898,
          0.4962904589372013,
          0.5031793478260711,
          0.4850080515297774,
          0.47190883190882044,
          0.4641310541310449,
          0.4514326414326518,
          0.45772893772894896,
          0.4973399014778477,
          0.4889272030651475,
          0.5277367268746841,
          0.5251441342821035
         ],
         "yaxis": "y2"
        }
       ],
       "layout": {
        "height": 500,
        "template": {
         "data": {
          "bar": [
           {
            "error_x": {
             "color": "#2a3f5f"
            },
            "error_y": {
             "color": "#2a3f5f"
            },
            "marker": {
             "line": {
              "color": "#E5ECF6",
              "width": 0.5
             },
             "pattern": {
              "fillmode": "overlay",
              "size": 10,
              "solidity": 0.2
             }
            },
            "type": "bar"
           }
          ],
          "barpolar": [
           {
            "marker": {
             "line": {
              "color": "#E5ECF6",
              "width": 0.5
             },
             "pattern": {
              "fillmode": "overlay",
              "size": 10,
              "solidity": 0.2
             }
            },
            "type": "barpolar"
           }
          ],
          "carpet": [
           {
            "aaxis": {
             "endlinecolor": "#2a3f5f",
             "gridcolor": "white",
             "linecolor": "white",
             "minorgridcolor": "white",
             "startlinecolor": "#2a3f5f"
            },
            "baxis": {
             "endlinecolor": "#2a3f5f",
             "gridcolor": "white",
             "linecolor": "white",
             "minorgridcolor": "white",
             "startlinecolor": "#2a3f5f"
            },
            "type": "carpet"
           }
          ],
          "choropleth": [
           {
            "colorbar": {
             "outlinewidth": 0,
             "ticks": ""
            },
            "type": "choropleth"
           }
          ],
          "contour": [
           {
            "colorbar": {
             "outlinewidth": 0,
             "ticks": ""
            },
            "colorscale": [
             [
              0,
              "#0d0887"
             ],
             [
              0.1111111111111111,
              "#46039f"
             ],
             [
              0.2222222222222222,
              "#7201a8"
             ],
             [
              0.3333333333333333,
              "#9c179e"
             ],
             [
              0.4444444444444444,
              "#bd3786"
             ],
             [
              0.5555555555555556,
              "#d8576b"
             ],
             [
              0.6666666666666666,
              "#ed7953"
             ],
             [
              0.7777777777777778,
              "#fb9f3a"
             ],
             [
              0.8888888888888888,
              "#fdca26"
             ],
             [
              1,
              "#f0f921"
             ]
            ],
            "type": "contour"
           }
          ],
          "contourcarpet": [
           {
            "colorbar": {
             "outlinewidth": 0,
             "ticks": ""
            },
            "type": "contourcarpet"
           }
          ],
          "heatmap": [
           {
            "colorbar": {
             "outlinewidth": 0,
             "ticks": ""
            },
            "colorscale": [
             [
              0,
              "#0d0887"
             ],
             [
              0.1111111111111111,
              "#46039f"
             ],
             [
              0.2222222222222222,
              "#7201a8"
             ],
             [
              0.3333333333333333,
              "#9c179e"
             ],
             [
              0.4444444444444444,
              "#bd3786"
             ],
             [
              0.5555555555555556,
              "#d8576b"
             ],
             [
              0.6666666666666666,
              "#ed7953"
             ],
             [
              0.7777777777777778,
              "#fb9f3a"
             ],
             [
              0.8888888888888888,
              "#fdca26"
             ],
             [
              1,
              "#f0f921"
             ]
            ],
            "type": "heatmap"
           }
          ],
          "heatmapgl": [
           {
            "colorbar": {
             "outlinewidth": 0,
             "ticks": ""
            },
            "colorscale": [
             [
              0,
              "#0d0887"
             ],
             [
              0.1111111111111111,
              "#46039f"
             ],
             [
              0.2222222222222222,
              "#7201a8"
             ],
             [
              0.3333333333333333,
              "#9c179e"
             ],
             [
              0.4444444444444444,
              "#bd3786"
             ],
             [
              0.5555555555555556,
              "#d8576b"
             ],
             [
              0.6666666666666666,
              "#ed7953"
             ],
             [
              0.7777777777777778,
              "#fb9f3a"
             ],
             [
              0.8888888888888888,
              "#fdca26"
             ],
             [
              1,
              "#f0f921"
             ]
            ],
            "type": "heatmapgl"
           }
          ],
          "histogram": [
           {
            "marker": {
             "pattern": {
              "fillmode": "overlay",
              "size": 10,
              "solidity": 0.2
             }
            },
            "type": "histogram"
           }
          ],
          "histogram2d": [
           {
            "colorbar": {
             "outlinewidth": 0,
             "ticks": ""
            },
            "colorscale": [
             [
              0,
              "#0d0887"
             ],
             [
              0.1111111111111111,
              "#46039f"
             ],
             [
              0.2222222222222222,
              "#7201a8"
             ],
             [
              0.3333333333333333,
              "#9c179e"
             ],
             [
              0.4444444444444444,
              "#bd3786"
             ],
             [
              0.5555555555555556,
              "#d8576b"
             ],
             [
              0.6666666666666666,
              "#ed7953"
             ],
             [
              0.7777777777777778,
              "#fb9f3a"
             ],
             [
              0.8888888888888888,
              "#fdca26"
             ],
             [
              1,
              "#f0f921"
             ]
            ],
            "type": "histogram2d"
           }
          ],
          "histogram2dcontour": [
           {
            "colorbar": {
             "outlinewidth": 0,
             "ticks": ""
            },
            "colorscale": [
             [
              0,
              "#0d0887"
             ],
             [
              0.1111111111111111,
              "#46039f"
             ],
             [
              0.2222222222222222,
              "#7201a8"
             ],
             [
              0.3333333333333333,
              "#9c179e"
             ],
             [
              0.4444444444444444,
              "#bd3786"
             ],
             [
              0.5555555555555556,
              "#d8576b"
             ],
             [
              0.6666666666666666,
              "#ed7953"
             ],
             [
              0.7777777777777778,
              "#fb9f3a"
             ],
             [
              0.8888888888888888,
              "#fdca26"
             ],
             [
              1,
              "#f0f921"
             ]
            ],
            "type": "histogram2dcontour"
           }
          ],
          "mesh3d": [
           {
            "colorbar": {
             "outlinewidth": 0,
             "ticks": ""
            },
            "type": "mesh3d"
           }
          ],
          "parcoords": [
           {
            "line": {
             "colorbar": {
              "outlinewidth": 0,
              "ticks": ""
             }
            },
            "type": "parcoords"
           }
          ],
          "pie": [
           {
            "automargin": true,
            "type": "pie"
           }
          ],
          "scatter": [
           {
            "fillpattern": {
             "fillmode": "overlay",
             "size": 10,
             "solidity": 0.2
            },
            "type": "scatter"
           }
          ],
          "scatter3d": [
           {
            "line": {
             "colorbar": {
              "outlinewidth": 0,
              "ticks": ""
             }
            },
            "marker": {
             "colorbar": {
              "outlinewidth": 0,
              "ticks": ""
             }
            },
            "type": "scatter3d"
           }
          ],
          "scattercarpet": [
           {
            "marker": {
             "colorbar": {
              "outlinewidth": 0,
              "ticks": ""
             }
            },
            "type": "scattercarpet"
           }
          ],
          "scattergeo": [
           {
            "marker": {
             "colorbar": {
              "outlinewidth": 0,
              "ticks": ""
             }
            },
            "type": "scattergeo"
           }
          ],
          "scattergl": [
           {
            "marker": {
             "colorbar": {
              "outlinewidth": 0,
              "ticks": ""
             }
            },
            "type": "scattergl"
           }
          ],
          "scattermapbox": [
           {
            "marker": {
             "colorbar": {
              "outlinewidth": 0,
              "ticks": ""
             }
            },
            "type": "scattermapbox"
           }
          ],
          "scatterpolar": [
           {
            "marker": {
             "colorbar": {
              "outlinewidth": 0,
              "ticks": ""
             }
            },
            "type": "scatterpolar"
           }
          ],
          "scatterpolargl": [
           {
            "marker": {
             "colorbar": {
              "outlinewidth": 0,
              "ticks": ""
             }
            },
            "type": "scatterpolargl"
           }
          ],
          "scatterternary": [
           {
            "marker": {
             "colorbar": {
              "outlinewidth": 0,
              "ticks": ""
             }
            },
            "type": "scatterternary"
           }
          ],
          "surface": [
           {
            "colorbar": {
             "outlinewidth": 0,
             "ticks": ""
            },
            "colorscale": [
             [
              0,
              "#0d0887"
             ],
             [
              0.1111111111111111,
              "#46039f"
             ],
             [
              0.2222222222222222,
              "#7201a8"
             ],
             [
              0.3333333333333333,
              "#9c179e"
             ],
             [
              0.4444444444444444,
              "#bd3786"
             ],
             [
              0.5555555555555556,
              "#d8576b"
             ],
             [
              0.6666666666666666,
              "#ed7953"
             ],
             [
              0.7777777777777778,
              "#fb9f3a"
             ],
             [
              0.8888888888888888,
              "#fdca26"
             ],
             [
              1,
              "#f0f921"
             ]
            ],
            "type": "surface"
           }
          ],
          "table": [
           {
            "cells": {
             "fill": {
              "color": "#EBF0F8"
             },
             "line": {
              "color": "white"
             }
            },
            "header": {
             "fill": {
              "color": "#C8D4E3"
             },
             "line": {
              "color": "white"
             }
            },
            "type": "table"
           }
          ]
         },
         "layout": {
          "annotationdefaults": {
           "arrowcolor": "#2a3f5f",
           "arrowhead": 0,
           "arrowwidth": 1
          },
          "autotypenumbers": "strict",
          "coloraxis": {
           "colorbar": {
            "outlinewidth": 0,
            "ticks": ""
           }
          },
          "colorscale": {
           "diverging": [
            [
             0,
             "#8e0152"
            ],
            [
             0.1,
             "#c51b7d"
            ],
            [
             0.2,
             "#de77ae"
            ],
            [
             0.3,
             "#f1b6da"
            ],
            [
             0.4,
             "#fde0ef"
            ],
            [
             0.5,
             "#f7f7f7"
            ],
            [
             0.6,
             "#e6f5d0"
            ],
            [
             0.7,
             "#b8e186"
            ],
            [
             0.8,
             "#7fbc41"
            ],
            [
             0.9,
             "#4d9221"
            ],
            [
             1,
             "#276419"
            ]
           ],
           "sequential": [
            [
             0,
             "#0d0887"
            ],
            [
             0.1111111111111111,
             "#46039f"
            ],
            [
             0.2222222222222222,
             "#7201a8"
            ],
            [
             0.3333333333333333,
             "#9c179e"
            ],
            [
             0.4444444444444444,
             "#bd3786"
            ],
            [
             0.5555555555555556,
             "#d8576b"
            ],
            [
             0.6666666666666666,
             "#ed7953"
            ],
            [
             0.7777777777777778,
             "#fb9f3a"
            ],
            [
             0.8888888888888888,
             "#fdca26"
            ],
            [
             1,
             "#f0f921"
            ]
           ],
           "sequentialminus": [
            [
             0,
             "#0d0887"
            ],
            [
             0.1111111111111111,
             "#46039f"
            ],
            [
             0.2222222222222222,
             "#7201a8"
            ],
            [
             0.3333333333333333,
             "#9c179e"
            ],
            [
             0.4444444444444444,
             "#bd3786"
            ],
            [
             0.5555555555555556,
             "#d8576b"
            ],
            [
             0.6666666666666666,
             "#ed7953"
            ],
            [
             0.7777777777777778,
             "#fb9f3a"
            ],
            [
             0.8888888888888888,
             "#fdca26"
            ],
            [
             1,
             "#f0f921"
            ]
           ]
          },
          "colorway": [
           "#636efa",
           "#EF553B",
           "#00cc96",
           "#ab63fa",
           "#FFA15A",
           "#19d3f3",
           "#FF6692",
           "#B6E880",
           "#FF97FF",
           "#FECB52"
          ],
          "font": {
           "color": "#2a3f5f"
          },
          "geo": {
           "bgcolor": "white",
           "lakecolor": "white",
           "landcolor": "#E5ECF6",
           "showlakes": true,
           "showland": true,
           "subunitcolor": "white"
          },
          "hoverlabel": {
           "align": "left"
          },
          "hovermode": "closest",
          "mapbox": {
           "style": "light"
          },
          "paper_bgcolor": "white",
          "plot_bgcolor": "#E5ECF6",
          "polar": {
           "angularaxis": {
            "gridcolor": "white",
            "linecolor": "white",
            "ticks": ""
           },
           "bgcolor": "#E5ECF6",
           "radialaxis": {
            "gridcolor": "white",
            "linecolor": "white",
            "ticks": ""
           }
          },
          "scene": {
           "xaxis": {
            "backgroundcolor": "#E5ECF6",
            "gridcolor": "white",
            "gridwidth": 2,
            "linecolor": "white",
            "showbackground": true,
            "ticks": "",
            "zerolinecolor": "white"
           },
           "yaxis": {
            "backgroundcolor": "#E5ECF6",
            "gridcolor": "white",
            "gridwidth": 2,
            "linecolor": "white",
            "showbackground": true,
            "ticks": "",
            "zerolinecolor": "white"
           },
           "zaxis": {
            "backgroundcolor": "#E5ECF6",
            "gridcolor": "white",
            "gridwidth": 2,
            "linecolor": "white",
            "showbackground": true,
            "ticks": "",
            "zerolinecolor": "white"
           }
          },
          "shapedefaults": {
           "line": {
            "color": "#2a3f5f"
           }
          },
          "ternary": {
           "aaxis": {
            "gridcolor": "white",
            "linecolor": "white",
            "ticks": ""
           },
           "baxis": {
            "gridcolor": "white",
            "linecolor": "white",
            "ticks": ""
           },
           "bgcolor": "#E5ECF6",
           "caxis": {
            "gridcolor": "white",
            "linecolor": "white",
            "ticks": ""
           }
          },
          "title": {
           "x": 0.05
          },
          "xaxis": {
           "automargin": true,
           "gridcolor": "white",
           "linecolor": "white",
           "ticks": "",
           "title": {
            "standoff": 15
           },
           "zerolinecolor": "white",
           "zerolinewidth": 2
          },
          "yaxis": {
           "automargin": true,
           "gridcolor": "white",
           "linecolor": "white",
           "ticks": "",
           "title": {
            "standoff": 15
           },
           "zerolinecolor": "white",
           "zerolinewidth": 2
          }
         }
        },
        "title": {
         "text": "2016-04-06"
        },
        "width": 2000,
        "xaxis": {
         "anchor": "y",
         "domain": [
          0,
          0.94
         ],
         "rangeslider": {
          "visible": false
         },
         "title": {
          "text": "Datetime"
         }
        },
        "yaxis": {
         "anchor": "x",
         "domain": [
          0,
          1
         ],
         "title": {
          "text": "Price ($)"
         }
        },
        "yaxis2": {
         "anchor": "x",
         "overlaying": "y",
         "range": [
          0.3,
          0.7
         ],
         "side": "right"
        }
       }
      }
     },
     "metadata": {},
     "output_type": "display_data"
    }
   ],
   "source": [
    "window_size = 4\n",
    "sma_values = df_uturn.groupby(df_uturn['datetime'].dt.date)['high_dst_15m'].rolling(window=window_size, min_periods=1).mean().reset_index(level=0, drop=True)\n",
    "df_uturn['high_dst_15m_sma'] = sma_values\n",
    "\n",
    "for day in days[:5]:\n",
    "    df_day = df_uturn[df_uturn['datetime'].dt.date == day]\n",
    "    plot_candlestick(df_day, day, 'high_dst_15m_sma')"
   ]
  },
  {
   "cell_type": "code",
   "execution_count": 9,
   "metadata": {},
   "outputs": [
    {
     "data": {
      "application/vnd.plotly.v1+json": {
       "config": {
        "plotlyServerURL": "https://plot.ly"
       },
       "data": [
        {
         "close": [
          50.35,
          50.33,
          50.32,
          50.38,
          50.4,
          50.39,
          50.29,
          50.27,
          50.22,
          50.25,
          50.59,
          50.46,
          50.38,
          50.47,
          50.5,
          50.45,
          50.37,
          50.12,
          49.86,
          49.93,
          49.93,
          50.11,
          50.1,
          50.03,
          50.03,
          49.99,
          49.9,
          49.92
         ],
         "high": [
          50.39,
          50.36,
          50.35,
          50.41,
          50.44,
          50.47,
          50.4,
          50.32,
          50.31,
          50.3,
          50.67,
          50.66,
          50.52,
          50.56,
          50.54,
          50.59,
          50.47,
          50.39,
          50.14,
          49.99,
          49.97,
          50.23,
          50.16,
          50.11,
          50.11,
          50.09,
          50,
          49.92
         ],
         "low": [
          50.26,
          50.29,
          50.27,
          50.31,
          50.32,
          50.37,
          50.28,
          50.24,
          50.18,
          50.15,
          50.24,
          50.37,
          50.26,
          50.37,
          50.4,
          50.43,
          50.36,
          50.08,
          49.76,
          49.84,
          49.91,
          49.93,
          50.05,
          50.01,
          50.01,
          49.94,
          49.87,
          49.87
         ],
         "open": [
          50.27,
          50.35,
          50.33,
          50.32,
          50.38,
          50.4,
          50.4,
          50.3,
          50.27,
          50.22,
          50.24,
          50.58,
          50.46,
          50.37,
          50.48,
          50.49,
          50.45,
          50.38,
          50.13,
          49.85,
          49.93,
          49.94,
          50.11,
          50.1,
          50.04,
          50.03,
          50,
          49.9
         ],
         "showlegend": false,
         "type": "candlestick",
         "x": [
          "2017-10-04T09:00:00-04:00",
          "2017-10-04T09:15:00-04:00",
          "2017-10-04T09:30:00-04:00",
          "2017-10-04T09:45:00-04:00",
          "2017-10-04T10:00:00-04:00",
          "2017-10-04T10:15:00-04:00",
          "2017-10-04T10:30:00-04:00",
          "2017-10-04T10:45:00-04:00",
          "2017-10-04T11:00:00-04:00",
          "2017-10-04T11:15:00-04:00",
          "2017-10-04T11:30:00-04:00",
          "2017-10-04T11:45:00-04:00",
          "2017-10-04T12:00:00-04:00",
          "2017-10-04T12:15:00-04:00",
          "2017-10-04T12:30:00-04:00",
          "2017-10-04T12:45:00-04:00",
          "2017-10-04T13:00:00-04:00",
          "2017-10-04T13:15:00-04:00",
          "2017-10-04T13:30:00-04:00",
          "2017-10-04T13:45:00-04:00",
          "2017-10-04T14:00:00-04:00",
          "2017-10-04T14:15:00-04:00",
          "2017-10-04T14:30:00-04:00",
          "2017-10-04T14:45:00-04:00",
          "2017-10-04T15:00:00-04:00",
          "2017-10-04T15:15:00-04:00",
          "2017-10-04T15:30:00-04:00",
          "2017-10-04T15:45:00-04:00"
         ]
        },
        {
         "mode": "lines",
         "type": "scatter",
         "x": [
          "2017-10-04T09:00:00-04:00",
          "2017-10-04T09:15:00-04:00",
          "2017-10-04T09:30:00-04:00",
          "2017-10-04T09:45:00-04:00",
          "2017-10-04T10:00:00-04:00",
          "2017-10-04T10:15:00-04:00",
          "2017-10-04T10:30:00-04:00",
          "2017-10-04T10:45:00-04:00",
          "2017-10-04T11:00:00-04:00",
          "2017-10-04T11:15:00-04:00",
          "2017-10-04T11:30:00-04:00",
          "2017-10-04T11:45:00-04:00",
          "2017-10-04T12:00:00-04:00",
          "2017-10-04T12:15:00-04:00",
          "2017-10-04T12:30:00-04:00",
          "2017-10-04T12:45:00-04:00",
          "2017-10-04T13:00:00-04:00",
          "2017-10-04T13:15:00-04:00",
          "2017-10-04T13:30:00-04:00",
          "2017-10-04T13:45:00-04:00",
          "2017-10-04T14:00:00-04:00",
          "2017-10-04T14:15:00-04:00",
          "2017-10-04T14:30:00-04:00",
          "2017-10-04T14:45:00-04:00",
          "2017-10-04T15:00:00-04:00",
          "2017-10-04T15:15:00-04:00",
          "2017-10-04T15:30:00-04:00",
          "2017-10-04T15:45:00-04:00"
         ],
         "xaxis": "x",
         "y": [
          0.571428571428557,
          0.6107142857143273,
          0.5880952380952832,
          0.5410714285714837,
          0.527380952381009,
          0.5248809523809889,
          0.5391666666666951,
          0.5391666666666857,
          0.5225000000000178,
          0.4569444444444515,
          0.3476421188630512,
          0.39764211886303935,
          0.4462532299741472,
          0.460899694620607,
          0.5747474747474688,
          0.5547474747474836,
          0.5336363636364161,
          0.5674025974026577,
          0.48785714285719217,
          0.4523015873016226,
          0.38730158730158565,
          0.3730158730158539,
          0.42301587301583066,
          0.5035714285713808,
          0.5160714285714153,
          0.5075000000000106,
          0.5637500000000362,
          0.5720833333333541
         ],
         "yaxis": "y2"
        }
       ],
       "layout": {
        "height": 500,
        "template": {
         "data": {
          "bar": [
           {
            "error_x": {
             "color": "#2a3f5f"
            },
            "error_y": {
             "color": "#2a3f5f"
            },
            "marker": {
             "line": {
              "color": "#E5ECF6",
              "width": 0.5
             },
             "pattern": {
              "fillmode": "overlay",
              "size": 10,
              "solidity": 0.2
             }
            },
            "type": "bar"
           }
          ],
          "barpolar": [
           {
            "marker": {
             "line": {
              "color": "#E5ECF6",
              "width": 0.5
             },
             "pattern": {
              "fillmode": "overlay",
              "size": 10,
              "solidity": 0.2
             }
            },
            "type": "barpolar"
           }
          ],
          "carpet": [
           {
            "aaxis": {
             "endlinecolor": "#2a3f5f",
             "gridcolor": "white",
             "linecolor": "white",
             "minorgridcolor": "white",
             "startlinecolor": "#2a3f5f"
            },
            "baxis": {
             "endlinecolor": "#2a3f5f",
             "gridcolor": "white",
             "linecolor": "white",
             "minorgridcolor": "white",
             "startlinecolor": "#2a3f5f"
            },
            "type": "carpet"
           }
          ],
          "choropleth": [
           {
            "colorbar": {
             "outlinewidth": 0,
             "ticks": ""
            },
            "type": "choropleth"
           }
          ],
          "contour": [
           {
            "colorbar": {
             "outlinewidth": 0,
             "ticks": ""
            },
            "colorscale": [
             [
              0,
              "#0d0887"
             ],
             [
              0.1111111111111111,
              "#46039f"
             ],
             [
              0.2222222222222222,
              "#7201a8"
             ],
             [
              0.3333333333333333,
              "#9c179e"
             ],
             [
              0.4444444444444444,
              "#bd3786"
             ],
             [
              0.5555555555555556,
              "#d8576b"
             ],
             [
              0.6666666666666666,
              "#ed7953"
             ],
             [
              0.7777777777777778,
              "#fb9f3a"
             ],
             [
              0.8888888888888888,
              "#fdca26"
             ],
             [
              1,
              "#f0f921"
             ]
            ],
            "type": "contour"
           }
          ],
          "contourcarpet": [
           {
            "colorbar": {
             "outlinewidth": 0,
             "ticks": ""
            },
            "type": "contourcarpet"
           }
          ],
          "heatmap": [
           {
            "colorbar": {
             "outlinewidth": 0,
             "ticks": ""
            },
            "colorscale": [
             [
              0,
              "#0d0887"
             ],
             [
              0.1111111111111111,
              "#46039f"
             ],
             [
              0.2222222222222222,
              "#7201a8"
             ],
             [
              0.3333333333333333,
              "#9c179e"
             ],
             [
              0.4444444444444444,
              "#bd3786"
             ],
             [
              0.5555555555555556,
              "#d8576b"
             ],
             [
              0.6666666666666666,
              "#ed7953"
             ],
             [
              0.7777777777777778,
              "#fb9f3a"
             ],
             [
              0.8888888888888888,
              "#fdca26"
             ],
             [
              1,
              "#f0f921"
             ]
            ],
            "type": "heatmap"
           }
          ],
          "heatmapgl": [
           {
            "colorbar": {
             "outlinewidth": 0,
             "ticks": ""
            },
            "colorscale": [
             [
              0,
              "#0d0887"
             ],
             [
              0.1111111111111111,
              "#46039f"
             ],
             [
              0.2222222222222222,
              "#7201a8"
             ],
             [
              0.3333333333333333,
              "#9c179e"
             ],
             [
              0.4444444444444444,
              "#bd3786"
             ],
             [
              0.5555555555555556,
              "#d8576b"
             ],
             [
              0.6666666666666666,
              "#ed7953"
             ],
             [
              0.7777777777777778,
              "#fb9f3a"
             ],
             [
              0.8888888888888888,
              "#fdca26"
             ],
             [
              1,
              "#f0f921"
             ]
            ],
            "type": "heatmapgl"
           }
          ],
          "histogram": [
           {
            "marker": {
             "pattern": {
              "fillmode": "overlay",
              "size": 10,
              "solidity": 0.2
             }
            },
            "type": "histogram"
           }
          ],
          "histogram2d": [
           {
            "colorbar": {
             "outlinewidth": 0,
             "ticks": ""
            },
            "colorscale": [
             [
              0,
              "#0d0887"
             ],
             [
              0.1111111111111111,
              "#46039f"
             ],
             [
              0.2222222222222222,
              "#7201a8"
             ],
             [
              0.3333333333333333,
              "#9c179e"
             ],
             [
              0.4444444444444444,
              "#bd3786"
             ],
             [
              0.5555555555555556,
              "#d8576b"
             ],
             [
              0.6666666666666666,
              "#ed7953"
             ],
             [
              0.7777777777777778,
              "#fb9f3a"
             ],
             [
              0.8888888888888888,
              "#fdca26"
             ],
             [
              1,
              "#f0f921"
             ]
            ],
            "type": "histogram2d"
           }
          ],
          "histogram2dcontour": [
           {
            "colorbar": {
             "outlinewidth": 0,
             "ticks": ""
            },
            "colorscale": [
             [
              0,
              "#0d0887"
             ],
             [
              0.1111111111111111,
              "#46039f"
             ],
             [
              0.2222222222222222,
              "#7201a8"
             ],
             [
              0.3333333333333333,
              "#9c179e"
             ],
             [
              0.4444444444444444,
              "#bd3786"
             ],
             [
              0.5555555555555556,
              "#d8576b"
             ],
             [
              0.6666666666666666,
              "#ed7953"
             ],
             [
              0.7777777777777778,
              "#fb9f3a"
             ],
             [
              0.8888888888888888,
              "#fdca26"
             ],
             [
              1,
              "#f0f921"
             ]
            ],
            "type": "histogram2dcontour"
           }
          ],
          "mesh3d": [
           {
            "colorbar": {
             "outlinewidth": 0,
             "ticks": ""
            },
            "type": "mesh3d"
           }
          ],
          "parcoords": [
           {
            "line": {
             "colorbar": {
              "outlinewidth": 0,
              "ticks": ""
             }
            },
            "type": "parcoords"
           }
          ],
          "pie": [
           {
            "automargin": true,
            "type": "pie"
           }
          ],
          "scatter": [
           {
            "fillpattern": {
             "fillmode": "overlay",
             "size": 10,
             "solidity": 0.2
            },
            "type": "scatter"
           }
          ],
          "scatter3d": [
           {
            "line": {
             "colorbar": {
              "outlinewidth": 0,
              "ticks": ""
             }
            },
            "marker": {
             "colorbar": {
              "outlinewidth": 0,
              "ticks": ""
             }
            },
            "type": "scatter3d"
           }
          ],
          "scattercarpet": [
           {
            "marker": {
             "colorbar": {
              "outlinewidth": 0,
              "ticks": ""
             }
            },
            "type": "scattercarpet"
           }
          ],
          "scattergeo": [
           {
            "marker": {
             "colorbar": {
              "outlinewidth": 0,
              "ticks": ""
             }
            },
            "type": "scattergeo"
           }
          ],
          "scattergl": [
           {
            "marker": {
             "colorbar": {
              "outlinewidth": 0,
              "ticks": ""
             }
            },
            "type": "scattergl"
           }
          ],
          "scattermapbox": [
           {
            "marker": {
             "colorbar": {
              "outlinewidth": 0,
              "ticks": ""
             }
            },
            "type": "scattermapbox"
           }
          ],
          "scatterpolar": [
           {
            "marker": {
             "colorbar": {
              "outlinewidth": 0,
              "ticks": ""
             }
            },
            "type": "scatterpolar"
           }
          ],
          "scatterpolargl": [
           {
            "marker": {
             "colorbar": {
              "outlinewidth": 0,
              "ticks": ""
             }
            },
            "type": "scatterpolargl"
           }
          ],
          "scatterternary": [
           {
            "marker": {
             "colorbar": {
              "outlinewidth": 0,
              "ticks": ""
             }
            },
            "type": "scatterternary"
           }
          ],
          "surface": [
           {
            "colorbar": {
             "outlinewidth": 0,
             "ticks": ""
            },
            "colorscale": [
             [
              0,
              "#0d0887"
             ],
             [
              0.1111111111111111,
              "#46039f"
             ],
             [
              0.2222222222222222,
              "#7201a8"
             ],
             [
              0.3333333333333333,
              "#9c179e"
             ],
             [
              0.4444444444444444,
              "#bd3786"
             ],
             [
              0.5555555555555556,
              "#d8576b"
             ],
             [
              0.6666666666666666,
              "#ed7953"
             ],
             [
              0.7777777777777778,
              "#fb9f3a"
             ],
             [
              0.8888888888888888,
              "#fdca26"
             ],
             [
              1,
              "#f0f921"
             ]
            ],
            "type": "surface"
           }
          ],
          "table": [
           {
            "cells": {
             "fill": {
              "color": "#EBF0F8"
             },
             "line": {
              "color": "white"
             }
            },
            "header": {
             "fill": {
              "color": "#C8D4E3"
             },
             "line": {
              "color": "white"
             }
            },
            "type": "table"
           }
          ]
         },
         "layout": {
          "annotationdefaults": {
           "arrowcolor": "#2a3f5f",
           "arrowhead": 0,
           "arrowwidth": 1
          },
          "autotypenumbers": "strict",
          "coloraxis": {
           "colorbar": {
            "outlinewidth": 0,
            "ticks": ""
           }
          },
          "colorscale": {
           "diverging": [
            [
             0,
             "#8e0152"
            ],
            [
             0.1,
             "#c51b7d"
            ],
            [
             0.2,
             "#de77ae"
            ],
            [
             0.3,
             "#f1b6da"
            ],
            [
             0.4,
             "#fde0ef"
            ],
            [
             0.5,
             "#f7f7f7"
            ],
            [
             0.6,
             "#e6f5d0"
            ],
            [
             0.7,
             "#b8e186"
            ],
            [
             0.8,
             "#7fbc41"
            ],
            [
             0.9,
             "#4d9221"
            ],
            [
             1,
             "#276419"
            ]
           ],
           "sequential": [
            [
             0,
             "#0d0887"
            ],
            [
             0.1111111111111111,
             "#46039f"
            ],
            [
             0.2222222222222222,
             "#7201a8"
            ],
            [
             0.3333333333333333,
             "#9c179e"
            ],
            [
             0.4444444444444444,
             "#bd3786"
            ],
            [
             0.5555555555555556,
             "#d8576b"
            ],
            [
             0.6666666666666666,
             "#ed7953"
            ],
            [
             0.7777777777777778,
             "#fb9f3a"
            ],
            [
             0.8888888888888888,
             "#fdca26"
            ],
            [
             1,
             "#f0f921"
            ]
           ],
           "sequentialminus": [
            [
             0,
             "#0d0887"
            ],
            [
             0.1111111111111111,
             "#46039f"
            ],
            [
             0.2222222222222222,
             "#7201a8"
            ],
            [
             0.3333333333333333,
             "#9c179e"
            ],
            [
             0.4444444444444444,
             "#bd3786"
            ],
            [
             0.5555555555555556,
             "#d8576b"
            ],
            [
             0.6666666666666666,
             "#ed7953"
            ],
            [
             0.7777777777777778,
             "#fb9f3a"
            ],
            [
             0.8888888888888888,
             "#fdca26"
            ],
            [
             1,
             "#f0f921"
            ]
           ]
          },
          "colorway": [
           "#636efa",
           "#EF553B",
           "#00cc96",
           "#ab63fa",
           "#FFA15A",
           "#19d3f3",
           "#FF6692",
           "#B6E880",
           "#FF97FF",
           "#FECB52"
          ],
          "font": {
           "color": "#2a3f5f"
          },
          "geo": {
           "bgcolor": "white",
           "lakecolor": "white",
           "landcolor": "#E5ECF6",
           "showlakes": true,
           "showland": true,
           "subunitcolor": "white"
          },
          "hoverlabel": {
           "align": "left"
          },
          "hovermode": "closest",
          "mapbox": {
           "style": "light"
          },
          "paper_bgcolor": "white",
          "plot_bgcolor": "#E5ECF6",
          "polar": {
           "angularaxis": {
            "gridcolor": "white",
            "linecolor": "white",
            "ticks": ""
           },
           "bgcolor": "#E5ECF6",
           "radialaxis": {
            "gridcolor": "white",
            "linecolor": "white",
            "ticks": ""
           }
          },
          "scene": {
           "xaxis": {
            "backgroundcolor": "#E5ECF6",
            "gridcolor": "white",
            "gridwidth": 2,
            "linecolor": "white",
            "showbackground": true,
            "ticks": "",
            "zerolinecolor": "white"
           },
           "yaxis": {
            "backgroundcolor": "#E5ECF6",
            "gridcolor": "white",
            "gridwidth": 2,
            "linecolor": "white",
            "showbackground": true,
            "ticks": "",
            "zerolinecolor": "white"
           },
           "zaxis": {
            "backgroundcolor": "#E5ECF6",
            "gridcolor": "white",
            "gridwidth": 2,
            "linecolor": "white",
            "showbackground": true,
            "ticks": "",
            "zerolinecolor": "white"
           }
          },
          "shapedefaults": {
           "line": {
            "color": "#2a3f5f"
           }
          },
          "ternary": {
           "aaxis": {
            "gridcolor": "white",
            "linecolor": "white",
            "ticks": ""
           },
           "baxis": {
            "gridcolor": "white",
            "linecolor": "white",
            "ticks": ""
           },
           "bgcolor": "#E5ECF6",
           "caxis": {
            "gridcolor": "white",
            "linecolor": "white",
            "ticks": ""
           }
          },
          "title": {
           "x": 0.05
          },
          "xaxis": {
           "automargin": true,
           "gridcolor": "white",
           "linecolor": "white",
           "ticks": "",
           "title": {
            "standoff": 15
           },
           "zerolinecolor": "white",
           "zerolinewidth": 2
          },
          "yaxis": {
           "automargin": true,
           "gridcolor": "white",
           "linecolor": "white",
           "ticks": "",
           "title": {
            "standoff": 15
           },
           "zerolinecolor": "white",
           "zerolinewidth": 2
          }
         }
        },
        "title": {
         "text": "2017-10-04"
        },
        "width": 2000,
        "xaxis": {
         "anchor": "y",
         "domain": [
          0,
          0.94
         ],
         "rangeslider": {
          "visible": false
         },
         "title": {
          "text": "Datetime"
         }
        },
        "yaxis": {
         "anchor": "x",
         "domain": [
          0,
          1
         ],
         "title": {
          "text": "Price ($)"
         }
        },
        "yaxis2": {
         "anchor": "x",
         "overlaying": "y",
         "range": [
          0.3,
          0.7
         ],
         "side": "right"
        }
       }
      }
     },
     "metadata": {},
     "output_type": "display_data"
    },
    {
     "data": {
      "application/vnd.plotly.v1+json": {
       "config": {
        "plotlyServerURL": "https://plot.ly"
       },
       "data": [
        {
         "close": [
          28.93,
          29.01,
          28.76,
          28.43,
          28.61,
          28.44,
          28.31,
          28.06,
          28.24,
          28.12,
          28.11,
          27.9,
          27.88,
          27.64,
          27.73,
          27.91,
          27.8,
          27.83,
          27.98,
          28.04,
          28.35,
          28.35,
          28.45,
          28.62,
          28.6,
          29.07,
          28.87,
          28.63
         ],
         "high": [
          29.19,
          29.08,
          29.1,
          28.82,
          28.63,
          28.62,
          28.5,
          28.37,
          28.32,
          28.3,
          28.26,
          28.16,
          28.01,
          27.91,
          27.77,
          27.94,
          28.01,
          27.84,
          27.99,
          28.21,
          28.57,
          28.48,
          28.56,
          28.69,
          28.67,
          29.12,
          29.07,
          28.85
         ],
         "low": [
          28.92,
          28.92,
          28.69,
          28.35,
          28.38,
          28.31,
          28.17,
          28.04,
          28.05,
          28.02,
          28.09,
          27.83,
          27.69,
          27.56,
          27.58,
          27.66,
          27.78,
          27.68,
          27.78,
          27.96,
          28.01,
          28.18,
          28.28,
          28.41,
          28.51,
          28.59,
          28.77,
          28.61
         ],
         "open": [
          29.07,
          28.93,
          29,
          28.76,
          28.43,
          28.61,
          28.44,
          28.31,
          28.06,
          28.23,
          28.11,
          28.11,
          27.91,
          27.87,
          27.64,
          27.72,
          27.91,
          27.8,
          27.82,
          27.98,
          28.04,
          28.34,
          28.35,
          28.46,
          28.61,
          28.59,
          29.06,
          28.85
         ],
         "showlegend": false,
         "type": "candlestick",
         "x": [
          "2016-01-20T09:00:00-05:00",
          "2016-01-20T09:15:00-05:00",
          "2016-01-20T09:30:00-05:00",
          "2016-01-20T09:45:00-05:00",
          "2016-01-20T10:00:00-05:00",
          "2016-01-20T10:15:00-05:00",
          "2016-01-20T10:30:00-05:00",
          "2016-01-20T10:45:00-05:00",
          "2016-01-20T11:00:00-05:00",
          "2016-01-20T11:15:00-05:00",
          "2016-01-20T11:30:00-05:00",
          "2016-01-20T11:45:00-05:00",
          "2016-01-20T12:00:00-05:00",
          "2016-01-20T12:15:00-05:00",
          "2016-01-20T12:30:00-05:00",
          "2016-01-20T12:45:00-05:00",
          "2016-01-20T13:00:00-05:00",
          "2016-01-20T13:15:00-05:00",
          "2016-01-20T13:30:00-05:00",
          "2016-01-20T13:45:00-05:00",
          "2016-01-20T14:00:00-05:00",
          "2016-01-20T14:15:00-05:00",
          "2016-01-20T14:30:00-05:00",
          "2016-01-20T14:45:00-05:00",
          "2016-01-20T15:00:00-05:00",
          "2016-01-20T15:15:00-05:00",
          "2016-01-20T15:30:00-05:00",
          "2016-01-20T15:45:00-05:00"
         ]
        },
        {
         "mode": "lines",
         "type": "scatter",
         "x": [
          "2016-01-20T09:00:00-05:00",
          "2016-01-20T09:15:00-05:00",
          "2016-01-20T09:30:00-05:00",
          "2016-01-20T09:45:00-05:00",
          "2016-01-20T10:00:00-05:00",
          "2016-01-20T10:15:00-05:00",
          "2016-01-20T10:30:00-05:00",
          "2016-01-20T10:45:00-05:00",
          "2016-01-20T11:00:00-05:00",
          "2016-01-20T11:15:00-05:00",
          "2016-01-20T11:30:00-05:00",
          "2016-01-20T11:45:00-05:00",
          "2016-01-20T12:00:00-05:00",
          "2016-01-20T12:15:00-05:00",
          "2016-01-20T12:30:00-05:00",
          "2016-01-20T12:45:00-05:00",
          "2016-01-20T13:00:00-05:00",
          "2016-01-20T13:15:00-05:00",
          "2016-01-20T13:30:00-05:00",
          "2016-01-20T13:45:00-05:00",
          "2016-01-20T14:00:00-05:00",
          "2016-01-20T14:15:00-05:00",
          "2016-01-20T14:30:00-05:00",
          "2016-01-20T14:45:00-05:00",
          "2016-01-20T15:00:00-05:00",
          "2016-01-20T15:15:00-05:00",
          "2016-01-20T15:30:00-05:00",
          "2016-01-20T15:45:00-05:00"
         ],
         "xaxis": "x",
         "y": [
          0.5466666666666767,
          0.453333333333349,
          0.4840404040404165,
          0.46757575757576597,
          0.4475757575757681,
          0.514718614718621,
          0.49653679653679705,
          0.5211580086580113,
          0.49949134199134104,
          0.4548484848484814,
          0.429523809523803,
          0.39619047619045883,
          0.37811355311353845,
          0.37149590605471405,
          0.36954785410666807,
          0.38280542986425,
          0.4415966386554618,
          0.4898809523809563,
          0.5614718614718643,
          0.5759103641456652,
          0.581372549019615,
          0.5205392156862779,
          0.4780392156862788,
          0.4628431372549037,
          0.45500000000000523,
          0.4879824561403582,
          0.4959824561403601,
          0.5935314757482089
         ],
         "yaxis": "y2"
        }
       ],
       "layout": {
        "height": 500,
        "template": {
         "data": {
          "bar": [
           {
            "error_x": {
             "color": "#2a3f5f"
            },
            "error_y": {
             "color": "#2a3f5f"
            },
            "marker": {
             "line": {
              "color": "#E5ECF6",
              "width": 0.5
             },
             "pattern": {
              "fillmode": "overlay",
              "size": 10,
              "solidity": 0.2
             }
            },
            "type": "bar"
           }
          ],
          "barpolar": [
           {
            "marker": {
             "line": {
              "color": "#E5ECF6",
              "width": 0.5
             },
             "pattern": {
              "fillmode": "overlay",
              "size": 10,
              "solidity": 0.2
             }
            },
            "type": "barpolar"
           }
          ],
          "carpet": [
           {
            "aaxis": {
             "endlinecolor": "#2a3f5f",
             "gridcolor": "white",
             "linecolor": "white",
             "minorgridcolor": "white",
             "startlinecolor": "#2a3f5f"
            },
            "baxis": {
             "endlinecolor": "#2a3f5f",
             "gridcolor": "white",
             "linecolor": "white",
             "minorgridcolor": "white",
             "startlinecolor": "#2a3f5f"
            },
            "type": "carpet"
           }
          ],
          "choropleth": [
           {
            "colorbar": {
             "outlinewidth": 0,
             "ticks": ""
            },
            "type": "choropleth"
           }
          ],
          "contour": [
           {
            "colorbar": {
             "outlinewidth": 0,
             "ticks": ""
            },
            "colorscale": [
             [
              0,
              "#0d0887"
             ],
             [
              0.1111111111111111,
              "#46039f"
             ],
             [
              0.2222222222222222,
              "#7201a8"
             ],
             [
              0.3333333333333333,
              "#9c179e"
             ],
             [
              0.4444444444444444,
              "#bd3786"
             ],
             [
              0.5555555555555556,
              "#d8576b"
             ],
             [
              0.6666666666666666,
              "#ed7953"
             ],
             [
              0.7777777777777778,
              "#fb9f3a"
             ],
             [
              0.8888888888888888,
              "#fdca26"
             ],
             [
              1,
              "#f0f921"
             ]
            ],
            "type": "contour"
           }
          ],
          "contourcarpet": [
           {
            "colorbar": {
             "outlinewidth": 0,
             "ticks": ""
            },
            "type": "contourcarpet"
           }
          ],
          "heatmap": [
           {
            "colorbar": {
             "outlinewidth": 0,
             "ticks": ""
            },
            "colorscale": [
             [
              0,
              "#0d0887"
             ],
             [
              0.1111111111111111,
              "#46039f"
             ],
             [
              0.2222222222222222,
              "#7201a8"
             ],
             [
              0.3333333333333333,
              "#9c179e"
             ],
             [
              0.4444444444444444,
              "#bd3786"
             ],
             [
              0.5555555555555556,
              "#d8576b"
             ],
             [
              0.6666666666666666,
              "#ed7953"
             ],
             [
              0.7777777777777778,
              "#fb9f3a"
             ],
             [
              0.8888888888888888,
              "#fdca26"
             ],
             [
              1,
              "#f0f921"
             ]
            ],
            "type": "heatmap"
           }
          ],
          "heatmapgl": [
           {
            "colorbar": {
             "outlinewidth": 0,
             "ticks": ""
            },
            "colorscale": [
             [
              0,
              "#0d0887"
             ],
             [
              0.1111111111111111,
              "#46039f"
             ],
             [
              0.2222222222222222,
              "#7201a8"
             ],
             [
              0.3333333333333333,
              "#9c179e"
             ],
             [
              0.4444444444444444,
              "#bd3786"
             ],
             [
              0.5555555555555556,
              "#d8576b"
             ],
             [
              0.6666666666666666,
              "#ed7953"
             ],
             [
              0.7777777777777778,
              "#fb9f3a"
             ],
             [
              0.8888888888888888,
              "#fdca26"
             ],
             [
              1,
              "#f0f921"
             ]
            ],
            "type": "heatmapgl"
           }
          ],
          "histogram": [
           {
            "marker": {
             "pattern": {
              "fillmode": "overlay",
              "size": 10,
              "solidity": 0.2
             }
            },
            "type": "histogram"
           }
          ],
          "histogram2d": [
           {
            "colorbar": {
             "outlinewidth": 0,
             "ticks": ""
            },
            "colorscale": [
             [
              0,
              "#0d0887"
             ],
             [
              0.1111111111111111,
              "#46039f"
             ],
             [
              0.2222222222222222,
              "#7201a8"
             ],
             [
              0.3333333333333333,
              "#9c179e"
             ],
             [
              0.4444444444444444,
              "#bd3786"
             ],
             [
              0.5555555555555556,
              "#d8576b"
             ],
             [
              0.6666666666666666,
              "#ed7953"
             ],
             [
              0.7777777777777778,
              "#fb9f3a"
             ],
             [
              0.8888888888888888,
              "#fdca26"
             ],
             [
              1,
              "#f0f921"
             ]
            ],
            "type": "histogram2d"
           }
          ],
          "histogram2dcontour": [
           {
            "colorbar": {
             "outlinewidth": 0,
             "ticks": ""
            },
            "colorscale": [
             [
              0,
              "#0d0887"
             ],
             [
              0.1111111111111111,
              "#46039f"
             ],
             [
              0.2222222222222222,
              "#7201a8"
             ],
             [
              0.3333333333333333,
              "#9c179e"
             ],
             [
              0.4444444444444444,
              "#bd3786"
             ],
             [
              0.5555555555555556,
              "#d8576b"
             ],
             [
              0.6666666666666666,
              "#ed7953"
             ],
             [
              0.7777777777777778,
              "#fb9f3a"
             ],
             [
              0.8888888888888888,
              "#fdca26"
             ],
             [
              1,
              "#f0f921"
             ]
            ],
            "type": "histogram2dcontour"
           }
          ],
          "mesh3d": [
           {
            "colorbar": {
             "outlinewidth": 0,
             "ticks": ""
            },
            "type": "mesh3d"
           }
          ],
          "parcoords": [
           {
            "line": {
             "colorbar": {
              "outlinewidth": 0,
              "ticks": ""
             }
            },
            "type": "parcoords"
           }
          ],
          "pie": [
           {
            "automargin": true,
            "type": "pie"
           }
          ],
          "scatter": [
           {
            "fillpattern": {
             "fillmode": "overlay",
             "size": 10,
             "solidity": 0.2
            },
            "type": "scatter"
           }
          ],
          "scatter3d": [
           {
            "line": {
             "colorbar": {
              "outlinewidth": 0,
              "ticks": ""
             }
            },
            "marker": {
             "colorbar": {
              "outlinewidth": 0,
              "ticks": ""
             }
            },
            "type": "scatter3d"
           }
          ],
          "scattercarpet": [
           {
            "marker": {
             "colorbar": {
              "outlinewidth": 0,
              "ticks": ""
             }
            },
            "type": "scattercarpet"
           }
          ],
          "scattergeo": [
           {
            "marker": {
             "colorbar": {
              "outlinewidth": 0,
              "ticks": ""
             }
            },
            "type": "scattergeo"
           }
          ],
          "scattergl": [
           {
            "marker": {
             "colorbar": {
              "outlinewidth": 0,
              "ticks": ""
             }
            },
            "type": "scattergl"
           }
          ],
          "scattermapbox": [
           {
            "marker": {
             "colorbar": {
              "outlinewidth": 0,
              "ticks": ""
             }
            },
            "type": "scattermapbox"
           }
          ],
          "scatterpolar": [
           {
            "marker": {
             "colorbar": {
              "outlinewidth": 0,
              "ticks": ""
             }
            },
            "type": "scatterpolar"
           }
          ],
          "scatterpolargl": [
           {
            "marker": {
             "colorbar": {
              "outlinewidth": 0,
              "ticks": ""
             }
            },
            "type": "scatterpolargl"
           }
          ],
          "scatterternary": [
           {
            "marker": {
             "colorbar": {
              "outlinewidth": 0,
              "ticks": ""
             }
            },
            "type": "scatterternary"
           }
          ],
          "surface": [
           {
            "colorbar": {
             "outlinewidth": 0,
             "ticks": ""
            },
            "colorscale": [
             [
              0,
              "#0d0887"
             ],
             [
              0.1111111111111111,
              "#46039f"
             ],
             [
              0.2222222222222222,
              "#7201a8"
             ],
             [
              0.3333333333333333,
              "#9c179e"
             ],
             [
              0.4444444444444444,
              "#bd3786"
             ],
             [
              0.5555555555555556,
              "#d8576b"
             ],
             [
              0.6666666666666666,
              "#ed7953"
             ],
             [
              0.7777777777777778,
              "#fb9f3a"
             ],
             [
              0.8888888888888888,
              "#fdca26"
             ],
             [
              1,
              "#f0f921"
             ]
            ],
            "type": "surface"
           }
          ],
          "table": [
           {
            "cells": {
             "fill": {
              "color": "#EBF0F8"
             },
             "line": {
              "color": "white"
             }
            },
            "header": {
             "fill": {
              "color": "#C8D4E3"
             },
             "line": {
              "color": "white"
             }
            },
            "type": "table"
           }
          ]
         },
         "layout": {
          "annotationdefaults": {
           "arrowcolor": "#2a3f5f",
           "arrowhead": 0,
           "arrowwidth": 1
          },
          "autotypenumbers": "strict",
          "coloraxis": {
           "colorbar": {
            "outlinewidth": 0,
            "ticks": ""
           }
          },
          "colorscale": {
           "diverging": [
            [
             0,
             "#8e0152"
            ],
            [
             0.1,
             "#c51b7d"
            ],
            [
             0.2,
             "#de77ae"
            ],
            [
             0.3,
             "#f1b6da"
            ],
            [
             0.4,
             "#fde0ef"
            ],
            [
             0.5,
             "#f7f7f7"
            ],
            [
             0.6,
             "#e6f5d0"
            ],
            [
             0.7,
             "#b8e186"
            ],
            [
             0.8,
             "#7fbc41"
            ],
            [
             0.9,
             "#4d9221"
            ],
            [
             1,
             "#276419"
            ]
           ],
           "sequential": [
            [
             0,
             "#0d0887"
            ],
            [
             0.1111111111111111,
             "#46039f"
            ],
            [
             0.2222222222222222,
             "#7201a8"
            ],
            [
             0.3333333333333333,
             "#9c179e"
            ],
            [
             0.4444444444444444,
             "#bd3786"
            ],
            [
             0.5555555555555556,
             "#d8576b"
            ],
            [
             0.6666666666666666,
             "#ed7953"
            ],
            [
             0.7777777777777778,
             "#fb9f3a"
            ],
            [
             0.8888888888888888,
             "#fdca26"
            ],
            [
             1,
             "#f0f921"
            ]
           ],
           "sequentialminus": [
            [
             0,
             "#0d0887"
            ],
            [
             0.1111111111111111,
             "#46039f"
            ],
            [
             0.2222222222222222,
             "#7201a8"
            ],
            [
             0.3333333333333333,
             "#9c179e"
            ],
            [
             0.4444444444444444,
             "#bd3786"
            ],
            [
             0.5555555555555556,
             "#d8576b"
            ],
            [
             0.6666666666666666,
             "#ed7953"
            ],
            [
             0.7777777777777778,
             "#fb9f3a"
            ],
            [
             0.8888888888888888,
             "#fdca26"
            ],
            [
             1,
             "#f0f921"
            ]
           ]
          },
          "colorway": [
           "#636efa",
           "#EF553B",
           "#00cc96",
           "#ab63fa",
           "#FFA15A",
           "#19d3f3",
           "#FF6692",
           "#B6E880",
           "#FF97FF",
           "#FECB52"
          ],
          "font": {
           "color": "#2a3f5f"
          },
          "geo": {
           "bgcolor": "white",
           "lakecolor": "white",
           "landcolor": "#E5ECF6",
           "showlakes": true,
           "showland": true,
           "subunitcolor": "white"
          },
          "hoverlabel": {
           "align": "left"
          },
          "hovermode": "closest",
          "mapbox": {
           "style": "light"
          },
          "paper_bgcolor": "white",
          "plot_bgcolor": "#E5ECF6",
          "polar": {
           "angularaxis": {
            "gridcolor": "white",
            "linecolor": "white",
            "ticks": ""
           },
           "bgcolor": "#E5ECF6",
           "radialaxis": {
            "gridcolor": "white",
            "linecolor": "white",
            "ticks": ""
           }
          },
          "scene": {
           "xaxis": {
            "backgroundcolor": "#E5ECF6",
            "gridcolor": "white",
            "gridwidth": 2,
            "linecolor": "white",
            "showbackground": true,
            "ticks": "",
            "zerolinecolor": "white"
           },
           "yaxis": {
            "backgroundcolor": "#E5ECF6",
            "gridcolor": "white",
            "gridwidth": 2,
            "linecolor": "white",
            "showbackground": true,
            "ticks": "",
            "zerolinecolor": "white"
           },
           "zaxis": {
            "backgroundcolor": "#E5ECF6",
            "gridcolor": "white",
            "gridwidth": 2,
            "linecolor": "white",
            "showbackground": true,
            "ticks": "",
            "zerolinecolor": "white"
           }
          },
          "shapedefaults": {
           "line": {
            "color": "#2a3f5f"
           }
          },
          "ternary": {
           "aaxis": {
            "gridcolor": "white",
            "linecolor": "white",
            "ticks": ""
           },
           "baxis": {
            "gridcolor": "white",
            "linecolor": "white",
            "ticks": ""
           },
           "bgcolor": "#E5ECF6",
           "caxis": {
            "gridcolor": "white",
            "linecolor": "white",
            "ticks": ""
           }
          },
          "title": {
           "x": 0.05
          },
          "xaxis": {
           "automargin": true,
           "gridcolor": "white",
           "linecolor": "white",
           "ticks": "",
           "title": {
            "standoff": 15
           },
           "zerolinecolor": "white",
           "zerolinewidth": 2
          },
          "yaxis": {
           "automargin": true,
           "gridcolor": "white",
           "linecolor": "white",
           "ticks": "",
           "title": {
            "standoff": 15
           },
           "zerolinecolor": "white",
           "zerolinewidth": 2
          }
         }
        },
        "title": {
         "text": "2016-01-20"
        },
        "width": 2000,
        "xaxis": {
         "anchor": "y",
         "domain": [
          0,
          0.94
         ],
         "rangeslider": {
          "visible": false
         },
         "title": {
          "text": "Datetime"
         }
        },
        "yaxis": {
         "anchor": "x",
         "domain": [
          0,
          1
         ],
         "title": {
          "text": "Price ($)"
         }
        },
        "yaxis2": {
         "anchor": "x",
         "overlaying": "y",
         "range": [
          0.3,
          0.7
         ],
         "side": "right"
        }
       }
      }
     },
     "metadata": {},
     "output_type": "display_data"
    },
    {
     "data": {
      "application/vnd.plotly.v1+json": {
       "config": {
        "plotlyServerURL": "https://plot.ly"
       },
       "data": [
        {
         "close": [
          66.19,
          66.25,
          66.28,
          66.29,
          66.23,
          66.4,
          66.26,
          66.33,
          66.17,
          66.36,
          65.84,
          65.74,
          65.94,
          65.8,
          65.76,
          65.85,
          65.81,
          65.74,
          65.82,
          65.9,
          65.76,
          65.83,
          65.83,
          65.88,
          65.94,
          65.83,
          65.8,
          65.84
         ],
         "high": [
          66.24,
          66.27,
          66.3,
          66.38,
          66.31,
          66.43,
          66.43,
          66.36,
          66.33,
          66.36,
          66.39,
          65.98,
          65.98,
          65.97,
          65.86,
          65.89,
          65.87,
          65.83,
          65.85,
          65.93,
          65.9,
          65.85,
          65.85,
          65.89,
          66,
          66.06,
          65.88,
          65.85
         ],
         "low": [
          66.15,
          66.14,
          66.22,
          66.28,
          66.11,
          66.24,
          66.26,
          66.24,
          66.14,
          66.12,
          65.81,
          65.72,
          65.72,
          65.69,
          65.66,
          65.76,
          65.78,
          65.74,
          65.67,
          65.81,
          65.75,
          65.76,
          65.76,
          65.82,
          65.84,
          65.82,
          65.74,
          65.78
         ],
         "open": [
          66.2,
          66.19,
          66.25,
          66.29,
          66.29,
          66.24,
          66.4,
          66.26,
          66.33,
          66.17,
          66.29,
          65.83,
          65.75,
          65.94,
          65.79,
          65.77,
          65.85,
          65.8,
          65.74,
          65.82,
          65.9,
          65.77,
          65.83,
          65.83,
          65.88,
          65.95,
          65.84,
          65.8
         ],
         "showlegend": false,
         "type": "candlestick",
         "x": [
          "2019-04-24T09:00:00-04:00",
          "2019-04-24T09:15:00-04:00",
          "2019-04-24T09:30:00-04:00",
          "2019-04-24T09:45:00-04:00",
          "2019-04-24T10:00:00-04:00",
          "2019-04-24T10:15:00-04:00",
          "2019-04-24T10:30:00-04:00",
          "2019-04-24T10:45:00-04:00",
          "2019-04-24T11:00:00-04:00",
          "2019-04-24T11:15:00-04:00",
          "2019-04-24T11:30:00-04:00",
          "2019-04-24T11:45:00-04:00",
          "2019-04-24T12:00:00-04:00",
          "2019-04-24T12:15:00-04:00",
          "2019-04-24T12:30:00-04:00",
          "2019-04-24T12:45:00-04:00",
          "2019-04-24T13:00:00-04:00",
          "2019-04-24T13:15:00-04:00",
          "2019-04-24T13:30:00-04:00",
          "2019-04-24T13:45:00-04:00",
          "2019-04-24T14:00:00-04:00",
          "2019-04-24T14:15:00-04:00",
          "2019-04-24T14:30:00-04:00",
          "2019-04-24T14:45:00-04:00",
          "2019-04-24T15:00:00-04:00",
          "2019-04-24T15:15:00-04:00",
          "2019-04-24T15:30:00-04:00",
          "2019-04-24T15:45:00-04:00"
         ]
        },
        {
         "mode": "lines",
         "type": "scatter",
         "x": [
          "2019-04-24T09:00:00-04:00",
          "2019-04-24T09:15:00-04:00",
          "2019-04-24T09:30:00-04:00",
          "2019-04-24T09:45:00-04:00",
          "2019-04-24T10:00:00-04:00",
          "2019-04-24T10:15:00-04:00",
          "2019-04-24T10:30:00-04:00",
          "2019-04-24T10:45:00-04:00",
          "2019-04-24T11:00:00-04:00",
          "2019-04-24T11:15:00-04:00",
          "2019-04-24T11:30:00-04:00",
          "2019-04-24T11:45:00-04:00",
          "2019-04-24T12:00:00-04:00",
          "2019-04-24T12:15:00-04:00",
          "2019-04-24T12:30:00-04:00",
          "2019-04-24T12:45:00-04:00",
          "2019-04-24T13:00:00-04:00",
          "2019-04-24T13:15:00-04:00",
          "2019-04-24T13:30:00-04:00",
          "2019-04-24T13:45:00-04:00",
          "2019-04-24T14:00:00-04:00",
          "2019-04-24T14:15:00-04:00",
          "2019-04-24T14:30:00-04:00",
          "2019-04-24T14:45:00-04:00",
          "2019-04-24T15:00:00-04:00",
          "2019-04-24T15:15:00-04:00",
          "2019-04-24T15:30:00-04:00",
          "2019-04-24T15:45:00-04:00"
         ],
         "xaxis": "x",
         "y": [
          0.46666666666638246,
          0.6083333333332801,
          0.5484126984127209,
          0.511309523809517,
          0.5711134453781994,
          0.46694677871146867,
          0.5048039215686085,
          0.5405182072828918,
          0.5533333333333429,
          0.5366666666667355,
          0.5569444444444727,
          0.5094654528478626,
          0.3951797385621106,
          0.46740196078428015,
          0.434267040149381,
          0.45853174603173813,
          0.526388888888911,
          0.4874999999999998,
          0.44766483516482025,
          0.4351648351646893,
          0.463736263736099,
          0.46373626373615034,
          0.5436507936506481,
          0.5507936507936223,
          0.47027417027416807,
          0.46194083694080906,
          0.4341630591630532,
          0.4270202020200849
         ],
         "yaxis": "y2"
        }
       ],
       "layout": {
        "height": 500,
        "template": {
         "data": {
          "bar": [
           {
            "error_x": {
             "color": "#2a3f5f"
            },
            "error_y": {
             "color": "#2a3f5f"
            },
            "marker": {
             "line": {
              "color": "#E5ECF6",
              "width": 0.5
             },
             "pattern": {
              "fillmode": "overlay",
              "size": 10,
              "solidity": 0.2
             }
            },
            "type": "bar"
           }
          ],
          "barpolar": [
           {
            "marker": {
             "line": {
              "color": "#E5ECF6",
              "width": 0.5
             },
             "pattern": {
              "fillmode": "overlay",
              "size": 10,
              "solidity": 0.2
             }
            },
            "type": "barpolar"
           }
          ],
          "carpet": [
           {
            "aaxis": {
             "endlinecolor": "#2a3f5f",
             "gridcolor": "white",
             "linecolor": "white",
             "minorgridcolor": "white",
             "startlinecolor": "#2a3f5f"
            },
            "baxis": {
             "endlinecolor": "#2a3f5f",
             "gridcolor": "white",
             "linecolor": "white",
             "minorgridcolor": "white",
             "startlinecolor": "#2a3f5f"
            },
            "type": "carpet"
           }
          ],
          "choropleth": [
           {
            "colorbar": {
             "outlinewidth": 0,
             "ticks": ""
            },
            "type": "choropleth"
           }
          ],
          "contour": [
           {
            "colorbar": {
             "outlinewidth": 0,
             "ticks": ""
            },
            "colorscale": [
             [
              0,
              "#0d0887"
             ],
             [
              0.1111111111111111,
              "#46039f"
             ],
             [
              0.2222222222222222,
              "#7201a8"
             ],
             [
              0.3333333333333333,
              "#9c179e"
             ],
             [
              0.4444444444444444,
              "#bd3786"
             ],
             [
              0.5555555555555556,
              "#d8576b"
             ],
             [
              0.6666666666666666,
              "#ed7953"
             ],
             [
              0.7777777777777778,
              "#fb9f3a"
             ],
             [
              0.8888888888888888,
              "#fdca26"
             ],
             [
              1,
              "#f0f921"
             ]
            ],
            "type": "contour"
           }
          ],
          "contourcarpet": [
           {
            "colorbar": {
             "outlinewidth": 0,
             "ticks": ""
            },
            "type": "contourcarpet"
           }
          ],
          "heatmap": [
           {
            "colorbar": {
             "outlinewidth": 0,
             "ticks": ""
            },
            "colorscale": [
             [
              0,
              "#0d0887"
             ],
             [
              0.1111111111111111,
              "#46039f"
             ],
             [
              0.2222222222222222,
              "#7201a8"
             ],
             [
              0.3333333333333333,
              "#9c179e"
             ],
             [
              0.4444444444444444,
              "#bd3786"
             ],
             [
              0.5555555555555556,
              "#d8576b"
             ],
             [
              0.6666666666666666,
              "#ed7953"
             ],
             [
              0.7777777777777778,
              "#fb9f3a"
             ],
             [
              0.8888888888888888,
              "#fdca26"
             ],
             [
              1,
              "#f0f921"
             ]
            ],
            "type": "heatmap"
           }
          ],
          "heatmapgl": [
           {
            "colorbar": {
             "outlinewidth": 0,
             "ticks": ""
            },
            "colorscale": [
             [
              0,
              "#0d0887"
             ],
             [
              0.1111111111111111,
              "#46039f"
             ],
             [
              0.2222222222222222,
              "#7201a8"
             ],
             [
              0.3333333333333333,
              "#9c179e"
             ],
             [
              0.4444444444444444,
              "#bd3786"
             ],
             [
              0.5555555555555556,
              "#d8576b"
             ],
             [
              0.6666666666666666,
              "#ed7953"
             ],
             [
              0.7777777777777778,
              "#fb9f3a"
             ],
             [
              0.8888888888888888,
              "#fdca26"
             ],
             [
              1,
              "#f0f921"
             ]
            ],
            "type": "heatmapgl"
           }
          ],
          "histogram": [
           {
            "marker": {
             "pattern": {
              "fillmode": "overlay",
              "size": 10,
              "solidity": 0.2
             }
            },
            "type": "histogram"
           }
          ],
          "histogram2d": [
           {
            "colorbar": {
             "outlinewidth": 0,
             "ticks": ""
            },
            "colorscale": [
             [
              0,
              "#0d0887"
             ],
             [
              0.1111111111111111,
              "#46039f"
             ],
             [
              0.2222222222222222,
              "#7201a8"
             ],
             [
              0.3333333333333333,
              "#9c179e"
             ],
             [
              0.4444444444444444,
              "#bd3786"
             ],
             [
              0.5555555555555556,
              "#d8576b"
             ],
             [
              0.6666666666666666,
              "#ed7953"
             ],
             [
              0.7777777777777778,
              "#fb9f3a"
             ],
             [
              0.8888888888888888,
              "#fdca26"
             ],
             [
              1,
              "#f0f921"
             ]
            ],
            "type": "histogram2d"
           }
          ],
          "histogram2dcontour": [
           {
            "colorbar": {
             "outlinewidth": 0,
             "ticks": ""
            },
            "colorscale": [
             [
              0,
              "#0d0887"
             ],
             [
              0.1111111111111111,
              "#46039f"
             ],
             [
              0.2222222222222222,
              "#7201a8"
             ],
             [
              0.3333333333333333,
              "#9c179e"
             ],
             [
              0.4444444444444444,
              "#bd3786"
             ],
             [
              0.5555555555555556,
              "#d8576b"
             ],
             [
              0.6666666666666666,
              "#ed7953"
             ],
             [
              0.7777777777777778,
              "#fb9f3a"
             ],
             [
              0.8888888888888888,
              "#fdca26"
             ],
             [
              1,
              "#f0f921"
             ]
            ],
            "type": "histogram2dcontour"
           }
          ],
          "mesh3d": [
           {
            "colorbar": {
             "outlinewidth": 0,
             "ticks": ""
            },
            "type": "mesh3d"
           }
          ],
          "parcoords": [
           {
            "line": {
             "colorbar": {
              "outlinewidth": 0,
              "ticks": ""
             }
            },
            "type": "parcoords"
           }
          ],
          "pie": [
           {
            "automargin": true,
            "type": "pie"
           }
          ],
          "scatter": [
           {
            "fillpattern": {
             "fillmode": "overlay",
             "size": 10,
             "solidity": 0.2
            },
            "type": "scatter"
           }
          ],
          "scatter3d": [
           {
            "line": {
             "colorbar": {
              "outlinewidth": 0,
              "ticks": ""
             }
            },
            "marker": {
             "colorbar": {
              "outlinewidth": 0,
              "ticks": ""
             }
            },
            "type": "scatter3d"
           }
          ],
          "scattercarpet": [
           {
            "marker": {
             "colorbar": {
              "outlinewidth": 0,
              "ticks": ""
             }
            },
            "type": "scattercarpet"
           }
          ],
          "scattergeo": [
           {
            "marker": {
             "colorbar": {
              "outlinewidth": 0,
              "ticks": ""
             }
            },
            "type": "scattergeo"
           }
          ],
          "scattergl": [
           {
            "marker": {
             "colorbar": {
              "outlinewidth": 0,
              "ticks": ""
             }
            },
            "type": "scattergl"
           }
          ],
          "scattermapbox": [
           {
            "marker": {
             "colorbar": {
              "outlinewidth": 0,
              "ticks": ""
             }
            },
            "type": "scattermapbox"
           }
          ],
          "scatterpolar": [
           {
            "marker": {
             "colorbar": {
              "outlinewidth": 0,
              "ticks": ""
             }
            },
            "type": "scatterpolar"
           }
          ],
          "scatterpolargl": [
           {
            "marker": {
             "colorbar": {
              "outlinewidth": 0,
              "ticks": ""
             }
            },
            "type": "scatterpolargl"
           }
          ],
          "scatterternary": [
           {
            "marker": {
             "colorbar": {
              "outlinewidth": 0,
              "ticks": ""
             }
            },
            "type": "scatterternary"
           }
          ],
          "surface": [
           {
            "colorbar": {
             "outlinewidth": 0,
             "ticks": ""
            },
            "colorscale": [
             [
              0,
              "#0d0887"
             ],
             [
              0.1111111111111111,
              "#46039f"
             ],
             [
              0.2222222222222222,
              "#7201a8"
             ],
             [
              0.3333333333333333,
              "#9c179e"
             ],
             [
              0.4444444444444444,
              "#bd3786"
             ],
             [
              0.5555555555555556,
              "#d8576b"
             ],
             [
              0.6666666666666666,
              "#ed7953"
             ],
             [
              0.7777777777777778,
              "#fb9f3a"
             ],
             [
              0.8888888888888888,
              "#fdca26"
             ],
             [
              1,
              "#f0f921"
             ]
            ],
            "type": "surface"
           }
          ],
          "table": [
           {
            "cells": {
             "fill": {
              "color": "#EBF0F8"
             },
             "line": {
              "color": "white"
             }
            },
            "header": {
             "fill": {
              "color": "#C8D4E3"
             },
             "line": {
              "color": "white"
             }
            },
            "type": "table"
           }
          ]
         },
         "layout": {
          "annotationdefaults": {
           "arrowcolor": "#2a3f5f",
           "arrowhead": 0,
           "arrowwidth": 1
          },
          "autotypenumbers": "strict",
          "coloraxis": {
           "colorbar": {
            "outlinewidth": 0,
            "ticks": ""
           }
          },
          "colorscale": {
           "diverging": [
            [
             0,
             "#8e0152"
            ],
            [
             0.1,
             "#c51b7d"
            ],
            [
             0.2,
             "#de77ae"
            ],
            [
             0.3,
             "#f1b6da"
            ],
            [
             0.4,
             "#fde0ef"
            ],
            [
             0.5,
             "#f7f7f7"
            ],
            [
             0.6,
             "#e6f5d0"
            ],
            [
             0.7,
             "#b8e186"
            ],
            [
             0.8,
             "#7fbc41"
            ],
            [
             0.9,
             "#4d9221"
            ],
            [
             1,
             "#276419"
            ]
           ],
           "sequential": [
            [
             0,
             "#0d0887"
            ],
            [
             0.1111111111111111,
             "#46039f"
            ],
            [
             0.2222222222222222,
             "#7201a8"
            ],
            [
             0.3333333333333333,
             "#9c179e"
            ],
            [
             0.4444444444444444,
             "#bd3786"
            ],
            [
             0.5555555555555556,
             "#d8576b"
            ],
            [
             0.6666666666666666,
             "#ed7953"
            ],
            [
             0.7777777777777778,
             "#fb9f3a"
            ],
            [
             0.8888888888888888,
             "#fdca26"
            ],
            [
             1,
             "#f0f921"
            ]
           ],
           "sequentialminus": [
            [
             0,
             "#0d0887"
            ],
            [
             0.1111111111111111,
             "#46039f"
            ],
            [
             0.2222222222222222,
             "#7201a8"
            ],
            [
             0.3333333333333333,
             "#9c179e"
            ],
            [
             0.4444444444444444,
             "#bd3786"
            ],
            [
             0.5555555555555556,
             "#d8576b"
            ],
            [
             0.6666666666666666,
             "#ed7953"
            ],
            [
             0.7777777777777778,
             "#fb9f3a"
            ],
            [
             0.8888888888888888,
             "#fdca26"
            ],
            [
             1,
             "#f0f921"
            ]
           ]
          },
          "colorway": [
           "#636efa",
           "#EF553B",
           "#00cc96",
           "#ab63fa",
           "#FFA15A",
           "#19d3f3",
           "#FF6692",
           "#B6E880",
           "#FF97FF",
           "#FECB52"
          ],
          "font": {
           "color": "#2a3f5f"
          },
          "geo": {
           "bgcolor": "white",
           "lakecolor": "white",
           "landcolor": "#E5ECF6",
           "showlakes": true,
           "showland": true,
           "subunitcolor": "white"
          },
          "hoverlabel": {
           "align": "left"
          },
          "hovermode": "closest",
          "mapbox": {
           "style": "light"
          },
          "paper_bgcolor": "white",
          "plot_bgcolor": "#E5ECF6",
          "polar": {
           "angularaxis": {
            "gridcolor": "white",
            "linecolor": "white",
            "ticks": ""
           },
           "bgcolor": "#E5ECF6",
           "radialaxis": {
            "gridcolor": "white",
            "linecolor": "white",
            "ticks": ""
           }
          },
          "scene": {
           "xaxis": {
            "backgroundcolor": "#E5ECF6",
            "gridcolor": "white",
            "gridwidth": 2,
            "linecolor": "white",
            "showbackground": true,
            "ticks": "",
            "zerolinecolor": "white"
           },
           "yaxis": {
            "backgroundcolor": "#E5ECF6",
            "gridcolor": "white",
            "gridwidth": 2,
            "linecolor": "white",
            "showbackground": true,
            "ticks": "",
            "zerolinecolor": "white"
           },
           "zaxis": {
            "backgroundcolor": "#E5ECF6",
            "gridcolor": "white",
            "gridwidth": 2,
            "linecolor": "white",
            "showbackground": true,
            "ticks": "",
            "zerolinecolor": "white"
           }
          },
          "shapedefaults": {
           "line": {
            "color": "#2a3f5f"
           }
          },
          "ternary": {
           "aaxis": {
            "gridcolor": "white",
            "linecolor": "white",
            "ticks": ""
           },
           "baxis": {
            "gridcolor": "white",
            "linecolor": "white",
            "ticks": ""
           },
           "bgcolor": "#E5ECF6",
           "caxis": {
            "gridcolor": "white",
            "linecolor": "white",
            "ticks": ""
           }
          },
          "title": {
           "x": 0.05
          },
          "xaxis": {
           "automargin": true,
           "gridcolor": "white",
           "linecolor": "white",
           "ticks": "",
           "title": {
            "standoff": 15
           },
           "zerolinecolor": "white",
           "zerolinewidth": 2
          },
          "yaxis": {
           "automargin": true,
           "gridcolor": "white",
           "linecolor": "white",
           "ticks": "",
           "title": {
            "standoff": 15
           },
           "zerolinecolor": "white",
           "zerolinewidth": 2
          }
         }
        },
        "title": {
         "text": "2019-04-24"
        },
        "width": 2000,
        "xaxis": {
         "anchor": "y",
         "domain": [
          0,
          0.94
         ],
         "rangeslider": {
          "visible": false
         },
         "title": {
          "text": "Datetime"
         }
        },
        "yaxis": {
         "anchor": "x",
         "domain": [
          0,
          1
         ],
         "title": {
          "text": "Price ($)"
         }
        },
        "yaxis2": {
         "anchor": "x",
         "overlaying": "y",
         "range": [
          0.3,
          0.7
         ],
         "side": "right"
        }
       }
      }
     },
     "metadata": {},
     "output_type": "display_data"
    }
   ],
   "source": [
    "window_size = 4\n",
    "sma_values = df_uturn2.groupby(df_uturn2['datetime'].dt.date)['high_dst_5m'].rolling(window=window_size, min_periods=1).mean().reset_index(level=0, drop=True)\n",
    "df_uturn2['high_dst_5m_sma'] = sma_values\n",
    "\n",
    "for day in days[:3]:\n",
    "    df_day = df_uturn2[df_uturn2['datetime'].dt.date == day]\n",
    "    plot_candlestick(df_day, day, 'high_dst_5m_sma')"
   ]
  },
  {
   "cell_type": "markdown",
   "metadata": {},
   "source": [
    "# Defining up, down and neutral"
   ]
  },
  {
   "cell_type": "code",
   "execution_count": 10,
   "metadata": {},
   "outputs": [
    {
     "name": "stderr",
     "output_type": "stream",
     "text": [
      "100%|██████████| 3634/3634 [00:01<00:00, 2518.13it/s]\n"
     ]
    },
    {
     "data": {
      "text/html": [
       "<div>\n",
       "<style scoped>\n",
       "    .dataframe tbody tr th:only-of-type {\n",
       "        vertical-align: middle;\n",
       "    }\n",
       "\n",
       "    .dataframe tbody tr th {\n",
       "        vertical-align: top;\n",
       "    }\n",
       "\n",
       "    .dataframe thead th {\n",
       "        text-align: right;\n",
       "    }\n",
       "</style>\n",
       "<table border=\"1\" class=\"dataframe\">\n",
       "  <thead>\n",
       "    <tr style=\"text-align: right;\">\n",
       "      <th></th>\n",
       "      <th>date</th>\n",
       "      <th>1030_close</th>\n",
       "      <th>z</th>\n",
       "      <th>pct_past</th>\n",
       "      <th>past_mean</th>\n",
       "    </tr>\n",
       "  </thead>\n",
       "  <tbody>\n",
       "    <tr>\n",
       "      <th>0</th>\n",
       "      <td>2010-01-06 10:30:00-05:00</td>\n",
       "      <td>81.24</td>\n",
       "      <td>-2.566472</td>\n",
       "      <td>-0.84</td>\n",
       "      <td>81.9275</td>\n",
       "    </tr>\n",
       "    <tr>\n",
       "      <th>1</th>\n",
       "      <td>2010-01-13 10:30:00-05:00</td>\n",
       "      <td>78.87</td>\n",
       "      <td>-2.429735</td>\n",
       "      <td>-0.88</td>\n",
       "      <td>79.5700</td>\n",
       "    </tr>\n",
       "    <tr>\n",
       "      <th>2</th>\n",
       "      <td>2010-01-20 10:30:00-05:00</td>\n",
       "      <td>77.49</td>\n",
       "      <td>-1.051497</td>\n",
       "      <td>-0.37</td>\n",
       "      <td>77.7775</td>\n",
       "    </tr>\n",
       "    <tr>\n",
       "      <th>3</th>\n",
       "      <td>2010-01-27 10:30:00-05:00</td>\n",
       "      <td>74.15</td>\n",
       "      <td>-2.891874</td>\n",
       "      <td>-0.51</td>\n",
       "      <td>74.5300</td>\n",
       "    </tr>\n",
       "    <tr>\n",
       "      <th>4</th>\n",
       "      <td>2010-02-03 10:30:00-05:00</td>\n",
       "      <td>77.11</td>\n",
       "      <td>-1.885800</td>\n",
       "      <td>-0.32</td>\n",
       "      <td>77.3575</td>\n",
       "    </tr>\n",
       "  </tbody>\n",
       "</table>\n",
       "</div>"
      ],
      "text/plain": [
       "                       date  1030_close         z  pct_past  past_mean\n",
       "0 2010-01-06 10:30:00-05:00       81.24 -2.566472     -0.84    81.9275\n",
       "1 2010-01-13 10:30:00-05:00       78.87 -2.429735     -0.88    79.5700\n",
       "2 2010-01-20 10:30:00-05:00       77.49 -1.051497     -0.37    77.7775\n",
       "3 2010-01-27 10:30:00-05:00       74.15 -2.891874     -0.51    74.5300\n",
       "4 2010-02-03 10:30:00-05:00       77.11 -1.885800     -0.32    77.3575"
      ]
     },
     "execution_count": 10,
     "metadata": {},
     "output_type": "execute_result"
    }
   ],
   "source": [
    "df_result = []\n",
    "for day, df_day in tqdm.tqdm(df.groupby(pd.Grouper(key='datetime', freq='D'))):\n",
    "    # 1030\n",
    "    df_1030 = df_day[(df_day['datetime'].dt.time >= TEN_THIRTY.time())]\n",
    "\n",
    "    # the grouper function will generate every day sequentially even if\n",
    "    # it is not in dataframe\n",
    "    if (df_1030.shape[0] == 0) or (day.strftime('%A') != 'Wednesday'):\n",
    "        continue\n",
    "    price = df_1030['close'].values[0]\n",
    "\n",
    "    # past hour\n",
    "    df_past = df_day[\n",
    "        (df_day['datetime'].dt.time >= NINE_THIRTY.time()) &\n",
    "        (df_day['datetime'].dt.time < TEN_THIRTY.time())\n",
    "    ]\n",
    "    past_mean = df_past['close'].mean()\n",
    "    past_std = df_past['close'].std()\n",
    "    z = (price - past_mean) / past_std\n",
    "    pct_past = np.round(((price - past_mean) / past_mean) * 100, 2)\n",
    "\n",
    "    result = {\n",
    "        'date': df_1030['datetime'].iloc[0],\n",
    "        '1030_close': price,\n",
    "        'z': z,\n",
    "        'pct_past': pct_past,\n",
    "        'past_mean': past_mean,\n",
    "    }\n",
    "    df_result.append(result)\n",
    "\n",
    "df_result = pd.DataFrame(df_result)\n",
    "df_result.head(5)"
   ]
  },
  {
   "cell_type": "code",
   "execution_count": 11,
   "metadata": {},
   "outputs": [
    {
     "data": {
      "text/html": [
       "<div>\n",
       "<style scoped>\n",
       "    .dataframe tbody tr th:only-of-type {\n",
       "        vertical-align: middle;\n",
       "    }\n",
       "\n",
       "    .dataframe tbody tr th {\n",
       "        vertical-align: top;\n",
       "    }\n",
       "\n",
       "    .dataframe thead th {\n",
       "        text-align: right;\n",
       "    }\n",
       "</style>\n",
       "<table border=\"1\" class=\"dataframe\">\n",
       "  <thead>\n",
       "    <tr style=\"text-align: right;\">\n",
       "      <th></th>\n",
       "      <th>1030_close</th>\n",
       "      <th>z</th>\n",
       "      <th>pct_past</th>\n",
       "      <th>past_mean</th>\n",
       "    </tr>\n",
       "  </thead>\n",
       "  <tbody>\n",
       "    <tr>\n",
       "      <th>count</th>\n",
       "      <td>518.000000</td>\n",
       "      <td>518.000000</td>\n",
       "      <td>518.000000</td>\n",
       "      <td>518.000000</td>\n",
       "    </tr>\n",
       "    <tr>\n",
       "      <th>mean</th>\n",
       "      <td>72.472278</td>\n",
       "      <td>-0.008611</td>\n",
       "      <td>0.023378</td>\n",
       "      <td>72.463789</td>\n",
       "    </tr>\n",
       "    <tr>\n",
       "      <th>std</th>\n",
       "      <td>21.881305</td>\n",
       "      <td>4.684590</td>\n",
       "      <td>0.549260</td>\n",
       "      <td>21.898777</td>\n",
       "    </tr>\n",
       "    <tr>\n",
       "      <th>min</th>\n",
       "      <td>28.030000</td>\n",
       "      <td>-33.935934</td>\n",
       "      <td>-3.180000</td>\n",
       "      <td>27.817500</td>\n",
       "    </tr>\n",
       "    <tr>\n",
       "      <th>25%</th>\n",
       "      <td>52.460000</td>\n",
       "      <td>-1.287411</td>\n",
       "      <td>-0.220000</td>\n",
       "      <td>52.378125</td>\n",
       "    </tr>\n",
       "    <tr>\n",
       "      <th>50%</th>\n",
       "      <td>71.705000</td>\n",
       "      <td>0.246098</td>\n",
       "      <td>0.035000</td>\n",
       "      <td>71.347500</td>\n",
       "    </tr>\n",
       "    <tr>\n",
       "      <th>75%</th>\n",
       "      <td>93.482500</td>\n",
       "      <td>1.488642</td>\n",
       "      <td>0.280000</td>\n",
       "      <td>93.501250</td>\n",
       "    </tr>\n",
       "    <tr>\n",
       "      <th>max</th>\n",
       "      <td>112.300000</td>\n",
       "      <td>37.328178</td>\n",
       "      <td>2.680000</td>\n",
       "      <td>112.322500</td>\n",
       "    </tr>\n",
       "  </tbody>\n",
       "</table>\n",
       "</div>"
      ],
      "text/plain": [
       "       1030_close           z    pct_past   past_mean\n",
       "count  518.000000  518.000000  518.000000  518.000000\n",
       "mean    72.472278   -0.008611    0.023378   72.463789\n",
       "std     21.881305    4.684590    0.549260   21.898777\n",
       "min     28.030000  -33.935934   -3.180000   27.817500\n",
       "25%     52.460000   -1.287411   -0.220000   52.378125\n",
       "50%     71.705000    0.246098    0.035000   71.347500\n",
       "75%     93.482500    1.488642    0.280000   93.501250\n",
       "max    112.300000   37.328178    2.680000  112.322500"
      ]
     },
     "execution_count": 11,
     "metadata": {},
     "output_type": "execute_result"
    }
   ],
   "source": [
    "df_result.describe()"
   ]
  },
  {
   "cell_type": "code",
   "execution_count": 12,
   "metadata": {},
   "outputs": [
    {
     "data": {
      "text/plain": [
       "<Axes: >"
      ]
     },
     "execution_count": 12,
     "metadata": {},
     "output_type": "execute_result"
    },
    {
     "data": {
      "image/png": "[encoded data removed]",
      "text/plain": [
       "<Figure size 640x480 with 1 Axes>"
      ]
     },
     "metadata": {},
     "output_type": "display_data"
    }
   ],
   "source": [
    "sns.boxplot(data=df_result['z'])"
   ]
  },
  {
   "cell_type": "code",
   "execution_count": 13,
   "metadata": {},
   "outputs": [
    {
     "data": {
      "text/html": [
       "<div>\n",
       "<style scoped>\n",
       "    .dataframe tbody tr th:only-of-type {\n",
       "        vertical-align: middle;\n",
       "    }\n",
       "\n",
       "    .dataframe tbody tr th {\n",
       "        vertical-align: top;\n",
       "    }\n",
       "\n",
       "    .dataframe thead th {\n",
       "        text-align: right;\n",
       "    }\n",
       "</style>\n",
       "<table border=\"1\" class=\"dataframe\">\n",
       "  <thead>\n",
       "    <tr style=\"text-align: right;\">\n",
       "      <th></th>\n",
       "      <th>1030_close</th>\n",
       "      <th>z</th>\n",
       "      <th>pct_past</th>\n",
       "      <th>past_mean</th>\n",
       "    </tr>\n",
       "  </thead>\n",
       "  <tbody>\n",
       "    <tr>\n",
       "      <th>count</th>\n",
       "      <td>285.000000</td>\n",
       "      <td>285.000000</td>\n",
       "      <td>285.000000</td>\n",
       "      <td>285.000000</td>\n",
       "    </tr>\n",
       "    <tr>\n",
       "      <th>mean</th>\n",
       "      <td>71.158246</td>\n",
       "      <td>2.316690</td>\n",
       "      <td>0.357579</td>\n",
       "      <td>70.928035</td>\n",
       "    </tr>\n",
       "    <tr>\n",
       "      <th>std</th>\n",
       "      <td>21.632040</td>\n",
       "      <td>3.674623</td>\n",
       "      <td>0.404728</td>\n",
       "      <td>21.618157</td>\n",
       "    </tr>\n",
       "    <tr>\n",
       "      <th>min</th>\n",
       "      <td>28.030000</td>\n",
       "      <td>0.000000</td>\n",
       "      <td>0.000000</td>\n",
       "      <td>27.817500</td>\n",
       "    </tr>\n",
       "    <tr>\n",
       "      <th>25%</th>\n",
       "      <td>52.250000</td>\n",
       "      <td>0.695019</td>\n",
       "      <td>0.100000</td>\n",
       "      <td>52.017500</td>\n",
       "    </tr>\n",
       "    <tr>\n",
       "      <th>50%</th>\n",
       "      <td>67.510000</td>\n",
       "      <td>1.370497</td>\n",
       "      <td>0.230000</td>\n",
       "      <td>67.480000</td>\n",
       "    </tr>\n",
       "    <tr>\n",
       "      <th>75%</th>\n",
       "      <td>93.400000</td>\n",
       "      <td>2.513315</td>\n",
       "      <td>0.460000</td>\n",
       "      <td>93.245000</td>\n",
       "    </tr>\n",
       "    <tr>\n",
       "      <th>max</th>\n",
       "      <td>108.620000</td>\n",
       "      <td>37.328178</td>\n",
       "      <td>2.680000</td>\n",
       "      <td>108.545000</td>\n",
       "    </tr>\n",
       "  </tbody>\n",
       "</table>\n",
       "</div>"
      ],
      "text/plain": [
       "       1030_close           z    pct_past   past_mean\n",
       "count  285.000000  285.000000  285.000000  285.000000\n",
       "mean    71.158246    2.316690    0.357579   70.928035\n",
       "std     21.632040    3.674623    0.404728   21.618157\n",
       "min     28.030000    0.000000    0.000000   27.817500\n",
       "25%     52.250000    0.695019    0.100000   52.017500\n",
       "50%     67.510000    1.370497    0.230000   67.480000\n",
       "75%     93.400000    2.513315    0.460000   93.245000\n",
       "max    108.620000   37.328178    2.680000  108.545000"
      ]
     },
     "metadata": {},
     "output_type": "display_data"
    },
    {
     "data": {
      "text/html": [
       "<div>\n",
       "<style scoped>\n",
       "    .dataframe tbody tr th:only-of-type {\n",
       "        vertical-align: middle;\n",
       "    }\n",
       "\n",
       "    .dataframe tbody tr th {\n",
       "        vertical-align: top;\n",
       "    }\n",
       "\n",
       "    .dataframe thead th {\n",
       "        text-align: right;\n",
       "    }\n",
       "</style>\n",
       "<table border=\"1\" class=\"dataframe\">\n",
       "  <thead>\n",
       "    <tr style=\"text-align: right;\">\n",
       "      <th></th>\n",
       "      <th>1030_close</th>\n",
       "      <th>z</th>\n",
       "      <th>pct_past</th>\n",
       "      <th>past_mean</th>\n",
       "    </tr>\n",
       "  </thead>\n",
       "  <tbody>\n",
       "    <tr>\n",
       "      <th>count</th>\n",
       "      <td>233.000000</td>\n",
       "      <td>233.000000</td>\n",
       "      <td>233.000000</td>\n",
       "      <td>233.000000</td>\n",
       "    </tr>\n",
       "    <tr>\n",
       "      <th>mean</th>\n",
       "      <td>74.079571</td>\n",
       "      <td>-2.852863</td>\n",
       "      <td>-0.385408</td>\n",
       "      <td>74.342285</td>\n",
       "    </tr>\n",
       "    <tr>\n",
       "      <th>std</th>\n",
       "      <td>22.122772</td>\n",
       "      <td>4.196179</td>\n",
       "      <td>0.408339</td>\n",
       "      <td>22.138903</td>\n",
       "    </tr>\n",
       "    <tr>\n",
       "      <th>min</th>\n",
       "      <td>28.310000</td>\n",
       "      <td>-33.935934</td>\n",
       "      <td>-3.180000</td>\n",
       "      <td>28.560000</td>\n",
       "    </tr>\n",
       "    <tr>\n",
       "      <th>25%</th>\n",
       "      <td>52.950000</td>\n",
       "      <td>-2.963892</td>\n",
       "      <td>-0.510000</td>\n",
       "      <td>52.995000</td>\n",
       "    </tr>\n",
       "    <tr>\n",
       "      <th>50%</th>\n",
       "      <td>76.170000</td>\n",
       "      <td>-1.506891</td>\n",
       "      <td>-0.270000</td>\n",
       "      <td>77.035000</td>\n",
       "    </tr>\n",
       "    <tr>\n",
       "      <th>75%</th>\n",
       "      <td>93.810000</td>\n",
       "      <td>-0.786759</td>\n",
       "      <td>-0.130000</td>\n",
       "      <td>93.972500</td>\n",
       "    </tr>\n",
       "    <tr>\n",
       "      <th>max</th>\n",
       "      <td>112.300000</td>\n",
       "      <td>-0.019012</td>\n",
       "      <td>-0.010000</td>\n",
       "      <td>112.322500</td>\n",
       "    </tr>\n",
       "  </tbody>\n",
       "</table>\n",
       "</div>"
      ],
      "text/plain": [
       "       1030_close           z    pct_past   past_mean\n",
       "count  233.000000  233.000000  233.000000  233.000000\n",
       "mean    74.079571   -2.852863   -0.385408   74.342285\n",
       "std     22.122772    4.196179    0.408339   22.138903\n",
       "min     28.310000  -33.935934   -3.180000   28.560000\n",
       "25%     52.950000   -2.963892   -0.510000   52.995000\n",
       "50%     76.170000   -1.506891   -0.270000   77.035000\n",
       "75%     93.810000   -0.786759   -0.130000   93.972500\n",
       "max    112.300000   -0.019012   -0.010000  112.322500"
      ]
     },
     "metadata": {},
     "output_type": "display_data"
    }
   ],
   "source": [
    "df_pos = df_result[df_result['z'] >= 0]\n",
    "df_neg = df_result[df_result['z'] < 0]\n",
    "\n",
    "display(df_pos.describe())\n",
    "display(df_neg.describe())"
   ]
  },
  {
   "cell_type": "code",
   "execution_count": 14,
   "metadata": {},
   "outputs": [
    {
     "data": {
      "text/html": [
       "<div>\n",
       "<style scoped>\n",
       "    .dataframe tbody tr th:only-of-type {\n",
       "        vertical-align: middle;\n",
       "    }\n",
       "\n",
       "    .dataframe tbody tr th {\n",
       "        vertical-align: top;\n",
       "    }\n",
       "\n",
       "    .dataframe thead th {\n",
       "        text-align: right;\n",
       "    }\n",
       "</style>\n",
       "<table border=\"1\" class=\"dataframe\">\n",
       "  <thead>\n",
       "    <tr style=\"text-align: right;\">\n",
       "      <th></th>\n",
       "      <th>1030_close</th>\n",
       "      <th>z</th>\n",
       "      <th>pct_past</th>\n",
       "      <th>past_mean</th>\n",
       "    </tr>\n",
       "  </thead>\n",
       "  <tbody>\n",
       "    <tr>\n",
       "      <th>count</th>\n",
       "      <td>57.000000</td>\n",
       "      <td>57.000000</td>\n",
       "      <td>57.000000</td>\n",
       "      <td>57.000000</td>\n",
       "    </tr>\n",
       "    <tr>\n",
       "      <th>mean</th>\n",
       "      <td>72.854211</td>\n",
       "      <td>0.261094</td>\n",
       "      <td>0.049649</td>\n",
       "      <td>72.821184</td>\n",
       "    </tr>\n",
       "    <tr>\n",
       "      <th>std</th>\n",
       "      <td>21.401158</td>\n",
       "      <td>0.143321</td>\n",
       "      <td>0.042425</td>\n",
       "      <td>21.400953</td>\n",
       "    </tr>\n",
       "    <tr>\n",
       "      <th>min</th>\n",
       "      <td>42.740000</td>\n",
       "      <td>0.000000</td>\n",
       "      <td>0.000000</td>\n",
       "      <td>42.720000</td>\n",
       "    </tr>\n",
       "    <tr>\n",
       "      <th>25%</th>\n",
       "      <td>51.120000</td>\n",
       "      <td>0.147979</td>\n",
       "      <td>0.020000</td>\n",
       "      <td>51.060000</td>\n",
       "    </tr>\n",
       "    <tr>\n",
       "      <th>50%</th>\n",
       "      <td>73.790000</td>\n",
       "      <td>0.292603</td>\n",
       "      <td>0.040000</td>\n",
       "      <td>73.780000</td>\n",
       "    </tr>\n",
       "    <tr>\n",
       "      <th>75%</th>\n",
       "      <td>91.280000</td>\n",
       "      <td>0.372189</td>\n",
       "      <td>0.070000</td>\n",
       "      <td>91.272500</td>\n",
       "    </tr>\n",
       "    <tr>\n",
       "      <th>max</th>\n",
       "      <td>106.100000</td>\n",
       "      <td>0.495434</td>\n",
       "      <td>0.170000</td>\n",
       "      <td>106.062500</td>\n",
       "    </tr>\n",
       "  </tbody>\n",
       "</table>\n",
       "</div>"
      ],
      "text/plain": [
       "       1030_close          z   pct_past   past_mean\n",
       "count   57.000000  57.000000  57.000000   57.000000\n",
       "mean    72.854211   0.261094   0.049649   72.821184\n",
       "std     21.401158   0.143321   0.042425   21.400953\n",
       "min     42.740000   0.000000   0.000000   42.720000\n",
       "25%     51.120000   0.147979   0.020000   51.060000\n",
       "50%     73.790000   0.292603   0.040000   73.780000\n",
       "75%     91.280000   0.372189   0.070000   91.272500\n",
       "max    106.100000   0.495434   0.170000  106.062500"
      ]
     },
     "execution_count": 14,
     "metadata": {},
     "output_type": "execute_result"
    }
   ],
   "source": [
    "# 20% quantile\n",
    "pos_20_quant = df_pos['z'].quantile(0.2)\n",
    "df_pos[df_pos['z'] <= pos_20_quant].describe()"
   ]
  },
  {
   "cell_type": "code",
   "execution_count": 15,
   "metadata": {},
   "outputs": [
    {
     "data": {
      "text/html": [
       "<div>\n",
       "<style scoped>\n",
       "    .dataframe tbody tr th:only-of-type {\n",
       "        vertical-align: middle;\n",
       "    }\n",
       "\n",
       "    .dataframe tbody tr th {\n",
       "        vertical-align: top;\n",
       "    }\n",
       "\n",
       "    .dataframe thead th {\n",
       "        text-align: right;\n",
       "    }\n",
       "</style>\n",
       "<table border=\"1\" class=\"dataframe\">\n",
       "  <thead>\n",
       "    <tr style=\"text-align: right;\">\n",
       "      <th></th>\n",
       "      <th>date</th>\n",
       "      <th>1030_close</th>\n",
       "      <th>z</th>\n",
       "      <th>pct_past</th>\n",
       "      <th>past_mean</th>\n",
       "    </tr>\n",
       "  </thead>\n",
       "  <tbody>\n",
       "    <tr>\n",
       "      <th>345</th>\n",
       "      <td>2016-08-31 10:30:00-04:00</td>\n",
       "      <td>45.93</td>\n",
       "      <td>0.292603</td>\n",
       "      <td>0.03</td>\n",
       "      <td>45.9175</td>\n",
       "    </tr>\n",
       "    <tr>\n",
       "      <th>36</th>\n",
       "      <td>2010-09-15 10:30:00-04:00</td>\n",
       "      <td>75.27</td>\n",
       "      <td>0.338495</td>\n",
       "      <td>0.06</td>\n",
       "      <td>75.2225</td>\n",
       "    </tr>\n",
       "    <tr>\n",
       "      <th>59</th>\n",
       "      <td>2011-02-23 10:30:00-05:00</td>\n",
       "      <td>97.49</td>\n",
       "      <td>0.370773</td>\n",
       "      <td>0.13</td>\n",
       "      <td>97.3675</td>\n",
       "    </tr>\n",
       "    <tr>\n",
       "      <th>381</th>\n",
       "      <td>2017-05-10 10:30:00-04:00</td>\n",
       "      <td>46.57</td>\n",
       "      <td>0.149850</td>\n",
       "      <td>0.03</td>\n",
       "      <td>46.5575</td>\n",
       "    </tr>\n",
       "    <tr>\n",
       "      <th>488</th>\n",
       "      <td>2019-05-29 10:30:00-04:00</td>\n",
       "      <td>57.66</td>\n",
       "      <td>0.341276</td>\n",
       "      <td>0.15</td>\n",
       "      <td>57.5750</td>\n",
       "    </tr>\n",
       "  </tbody>\n",
       "</table>\n",
       "</div>"
      ],
      "text/plain": [
       "                         date  1030_close         z  pct_past  past_mean\n",
       "345 2016-08-31 10:30:00-04:00       45.93  0.292603      0.03    45.9175\n",
       "36  2010-09-15 10:30:00-04:00       75.27  0.338495      0.06    75.2225\n",
       "59  2011-02-23 10:30:00-05:00       97.49  0.370773      0.13    97.3675\n",
       "381 2017-05-10 10:30:00-04:00       46.57  0.149850      0.03    46.5575\n",
       "488 2019-05-29 10:30:00-04:00       57.66  0.341276      0.15    57.5750"
      ]
     },
     "execution_count": 15,
     "metadata": {},
     "output_type": "execute_result"
    }
   ],
   "source": [
    "df_pos[df_pos['z'] <= 0.5].sample(5)"
   ]
  },
  {
   "cell_type": "code",
   "execution_count": 16,
   "metadata": {},
   "outputs": [
    {
     "data": {
      "text/plain": [
       "<Axes: ylabel='Frequency'>"
      ]
     },
     "execution_count": 16,
     "metadata": {},
     "output_type": "execute_result"
    },
    {
     "data": {
      "image/png": "[encoded data removed]",
      "text/plain": [
       "<Figure size 640x480 with 1 Axes>"
      ]
     },
     "metadata": {},
     "output_type": "display_data"
    }
   ],
   "source": [
    "df_pos.loc[df_pos['z'] <= 0.5, 'pct_past'].plot.hist()"
   ]
  },
  {
   "cell_type": "code",
   "execution_count": 17,
   "metadata": {},
   "outputs": [
    {
     "data": {
      "text/html": [
       "<div>\n",
       "<style scoped>\n",
       "    .dataframe tbody tr th:only-of-type {\n",
       "        vertical-align: middle;\n",
       "    }\n",
       "\n",
       "    .dataframe tbody tr th {\n",
       "        vertical-align: top;\n",
       "    }\n",
       "\n",
       "    .dataframe thead th {\n",
       "        text-align: right;\n",
       "    }\n",
       "</style>\n",
       "<table border=\"1\" class=\"dataframe\">\n",
       "  <thead>\n",
       "    <tr style=\"text-align: right;\">\n",
       "      <th></th>\n",
       "      <th>1030_close</th>\n",
       "      <th>z</th>\n",
       "      <th>pct_past</th>\n",
       "      <th>past_mean</th>\n",
       "    </tr>\n",
       "  </thead>\n",
       "  <tbody>\n",
       "    <tr>\n",
       "      <th>count</th>\n",
       "      <td>47.000000</td>\n",
       "      <td>47.000000</td>\n",
       "      <td>47.000000</td>\n",
       "      <td>47.000000</td>\n",
       "    </tr>\n",
       "    <tr>\n",
       "      <th>mean</th>\n",
       "      <td>72.669149</td>\n",
       "      <td>-0.301231</td>\n",
       "      <td>-0.076596</td>\n",
       "      <td>72.726011</td>\n",
       "    </tr>\n",
       "    <tr>\n",
       "      <th>std</th>\n",
       "      <td>21.907452</td>\n",
       "      <td>0.191467</td>\n",
       "      <td>0.080549</td>\n",
       "      <td>21.924043</td>\n",
       "    </tr>\n",
       "    <tr>\n",
       "      <th>min</th>\n",
       "      <td>36.750000</td>\n",
       "      <td>-0.642377</td>\n",
       "      <td>-0.390000</td>\n",
       "      <td>36.752500</td>\n",
       "    </tr>\n",
       "    <tr>\n",
       "      <th>25%</th>\n",
       "      <td>53.260000</td>\n",
       "      <td>-0.431885</td>\n",
       "      <td>-0.090000</td>\n",
       "      <td>53.287500</td>\n",
       "    </tr>\n",
       "    <tr>\n",
       "      <th>50%</th>\n",
       "      <td>67.650000</td>\n",
       "      <td>-0.302580</td>\n",
       "      <td>-0.060000</td>\n",
       "      <td>67.745000</td>\n",
       "    </tr>\n",
       "    <tr>\n",
       "      <th>75%</th>\n",
       "      <td>93.005000</td>\n",
       "      <td>-0.133189</td>\n",
       "      <td>-0.020000</td>\n",
       "      <td>93.082500</td>\n",
       "    </tr>\n",
       "    <tr>\n",
       "      <th>max</th>\n",
       "      <td>112.300000</td>\n",
       "      <td>-0.019012</td>\n",
       "      <td>-0.010000</td>\n",
       "      <td>112.322500</td>\n",
       "    </tr>\n",
       "  </tbody>\n",
       "</table>\n",
       "</div>"
      ],
      "text/plain": [
       "       1030_close          z   pct_past   past_mean\n",
       "count   47.000000  47.000000  47.000000   47.000000\n",
       "mean    72.669149  -0.301231  -0.076596   72.726011\n",
       "std     21.907452   0.191467   0.080549   21.924043\n",
       "min     36.750000  -0.642377  -0.390000   36.752500\n",
       "25%     53.260000  -0.431885  -0.090000   53.287500\n",
       "50%     67.650000  -0.302580  -0.060000   67.745000\n",
       "75%     93.005000  -0.133189  -0.020000   93.082500\n",
       "max    112.300000  -0.019012  -0.010000  112.322500"
      ]
     },
     "execution_count": 17,
     "metadata": {},
     "output_type": "execute_result"
    }
   ],
   "source": [
    "# 20% quantile\n",
    "neg_20_quant = df_neg['z'].quantile(0.8)\n",
    "df_neg[df_neg['z'] >= neg_20_quant].describe()"
   ]
  },
  {
   "cell_type": "code",
   "execution_count": 18,
   "metadata": {},
   "outputs": [
    {
     "data": {
      "text/html": [
       "<div>\n",
       "<style scoped>\n",
       "    .dataframe tbody tr th:only-of-type {\n",
       "        vertical-align: middle;\n",
       "    }\n",
       "\n",
       "    .dataframe tbody tr th {\n",
       "        vertical-align: top;\n",
       "    }\n",
       "\n",
       "    .dataframe thead th {\n",
       "        text-align: right;\n",
       "    }\n",
       "</style>\n",
       "<table border=\"1\" class=\"dataframe\">\n",
       "  <thead>\n",
       "    <tr style=\"text-align: right;\">\n",
       "      <th></th>\n",
       "      <th>date</th>\n",
       "      <th>1030_close</th>\n",
       "      <th>z</th>\n",
       "      <th>pct_past</th>\n",
       "      <th>past_mean</th>\n",
       "    </tr>\n",
       "  </thead>\n",
       "  <tbody>\n",
       "    <tr>\n",
       "      <th>50</th>\n",
       "      <td>2010-12-22 10:30:00-05:00</td>\n",
       "      <td>90.50</td>\n",
       "      <td>-0.434099</td>\n",
       "      <td>-0.06</td>\n",
       "      <td>90.5500</td>\n",
       "    </tr>\n",
       "    <tr>\n",
       "      <th>503</th>\n",
       "      <td>2019-09-11 10:30:00-04:00</td>\n",
       "      <td>57.69</td>\n",
       "      <td>-0.268802</td>\n",
       "      <td>-0.10</td>\n",
       "      <td>57.7475</td>\n",
       "    </tr>\n",
       "    <tr>\n",
       "      <th>425</th>\n",
       "      <td>2018-03-14 10:30:00-04:00</td>\n",
       "      <td>60.99</td>\n",
       "      <td>-0.309757</td>\n",
       "      <td>-0.07</td>\n",
       "      <td>61.0325</td>\n",
       "    </tr>\n",
       "    <tr>\n",
       "      <th>156</th>\n",
       "      <td>2013-01-02 10:30:00-05:00</td>\n",
       "      <td>93.49</td>\n",
       "      <td>-0.054858</td>\n",
       "      <td>-0.01</td>\n",
       "      <td>93.4975</td>\n",
       "    </tr>\n",
       "    <tr>\n",
       "      <th>377</th>\n",
       "      <td>2017-04-12 10:30:00-04:00</td>\n",
       "      <td>53.57</td>\n",
       "      <td>-0.213201</td>\n",
       "      <td>-0.02</td>\n",
       "      <td>53.5800</td>\n",
       "    </tr>\n",
       "  </tbody>\n",
       "</table>\n",
       "</div>"
      ],
      "text/plain": [
       "                         date  1030_close         z  pct_past  past_mean\n",
       "50  2010-12-22 10:30:00-05:00       90.50 -0.434099     -0.06    90.5500\n",
       "503 2019-09-11 10:30:00-04:00       57.69 -0.268802     -0.10    57.7475\n",
       "425 2018-03-14 10:30:00-04:00       60.99 -0.309757     -0.07    61.0325\n",
       "156 2013-01-02 10:30:00-05:00       93.49 -0.054858     -0.01    93.4975\n",
       "377 2017-04-12 10:30:00-04:00       53.57 -0.213201     -0.02    53.5800"
      ]
     },
     "execution_count": 18,
     "metadata": {},
     "output_type": "execute_result"
    }
   ],
   "source": [
    "df_neg[df_neg['z'] >= -0.5].sample(5)"
   ]
  },
  {
   "cell_type": "code",
   "execution_count": 19,
   "metadata": {},
   "outputs": [
    {
     "data": {
      "text/plain": [
       "<Axes: ylabel='Frequency'>"
      ]
     },
     "execution_count": 19,
     "metadata": {},
     "output_type": "execute_result"
    },
    {
     "data": {
      "image/png": "[encoded data removed]",
      "text/plain": [
       "<Figure size 640x480 with 1 Axes>"
      ]
     },
     "metadata": {},
     "output_type": "display_data"
    }
   ],
   "source": [
    "df_neg.loc[df_neg['z'] >= -0.5, 'pct_past'].plot.hist()"
   ]
  },
  {
   "cell_type": "markdown",
   "metadata": {},
   "source": [
    "- Use 15 minutes data\n",
    "- z-score relative to past hour mean\n",
    "- 0 < z < 0.5, percentage change < 0.175 %\n",
    "- -0.5 < z < 0, percentage change < 0.2 %\n",
    "- -0.5 < z < 0.5 = neutral"
   ]
  },
  {
   "cell_type": "markdown",
   "metadata": {},
   "source": [
    "# Features"
   ]
  },
  {
   "cell_type": "markdown",
   "metadata": {},
   "source": [
    "### Z score relative to past time periods\n",
    "\n",
    "Notes:\n",
    "1. In the 15m data, sometimes there may have few consecutive time stamps recording the same closing price and the std will be 0.\n",
    "1. Although we use the 15m data for the overall experiment, the mean and std are computed using the 1m data"
   ]
  },
  {
   "cell_type": "code",
   "execution_count": 20,
   "metadata": {},
   "outputs": [],
   "source": [
    "def z_past(sr, lag_hr, lag_minute, name):\n",
    "    timestamp = sr['datetime']\n",
    "    start = timestamp - pd.Timedelta(hours=lag_hr, minutes=lag_minute)\n",
    "    df_past = df_wti_1m[\n",
    "        (df_wti_1m['datetime'] >= start) & \n",
    "        (df_wti_1m['datetime'] < timestamp)\n",
    "    ]\n",
    "\n",
    "    if df_past.shape[0] == 0:\n",
    "        mean = sr['close']\n",
    "        std = 0\n",
    "        z = 0\n",
    "    else:\n",
    "        mean = df_past['close'].mean()\n",
    "        std = df_past['close'].std()\n",
    "\n",
    "        # prevent division by 0\n",
    "        if std == 0:\n",
    "            std = np.nan\n",
    "\n",
    "        z = (sr['close'] - mean) / std\n",
    "\n",
    "    sr[f'z_{name}'] = z\n",
    "    sr[f'mean_{name}'] = mean\n",
    "    sr[f'std_{name}'] = std\n",
    "    if z > 0.5:\n",
    "        sr[f'direction_{name}'] = 'up'\n",
    "    elif z < -0.5:\n",
    "        sr[f'direction_{name}'] = 'down'\n",
    "    else:\n",
    "        sr[f'direction_{name}'] = 'neutral'\n",
    "\n",
    "    return sr"
   ]
  },
  {
   "cell_type": "code",
   "execution_count": 21,
   "metadata": {},
   "outputs": [
    {
     "name": "stderr",
     "output_type": "stream",
     "text": [
      "100%|██████████| 14479/14479 [00:00<00:00, 6845054.96it/s]\n"
     ]
    }
   ],
   "source": [
    "df_data_sr = df.to_dict(orient='records')\n",
    "partial_function = partial(z_past, lag_hr=1, lag_minute=0, name='1hr')\n",
    "with Pool(10) as p:\n",
    "    df_data = list(tqdm.tqdm(p.starmap(partial_function, [(element,) for element in df_data_sr])))\n",
    "df_data = pd.DataFrame(df_data)"
   ]
  },
  {
   "cell_type": "code",
   "execution_count": 22,
   "metadata": {},
   "outputs": [
    {
     "name": "stderr",
     "output_type": "stream",
     "text": [
      "100%|██████████| 14479/14479 [00:00<00:00, 5981417.08it/s]\n"
     ]
    }
   ],
   "source": [
    "df_data_sr = df_data.to_dict(orient='records')\n",
    "partial_function = partial(z_past, lag_hr=0, lag_minute=30, name='30m')\n",
    "with Pool(10) as p:\n",
    "    df_data = list(tqdm.tqdm(p.starmap(partial_function, [(element,) for element in df_data_sr])))\n",
    "df_data = pd.DataFrame(df_data)"
   ]
  },
  {
   "cell_type": "code",
   "execution_count": 23,
   "metadata": {},
   "outputs": [
    {
     "data": {
      "text/plain": [
       "<Axes: ylabel='direction_30m'>"
      ]
     },
     "execution_count": 23,
     "metadata": {},
     "output_type": "execute_result"
    },
    {
     "data": {
      "image/png": "[encoded data removed]",
      "text/plain": [
       "<Figure size 640x480 with 2 Axes>"
      ]
     },
     "metadata": {},
     "output_type": "display_data"
    }
   ],
   "source": [
    "fig, ax = plt.subplots(1, 2)\n",
    "df_data['direction_1hr'].value_counts().plot.pie(ax=ax[0])\n",
    "df_data['direction_30m'].value_counts().plot.pie(ax=ax[1])"
   ]
  },
  {
   "cell_type": "code",
   "execution_count": 24,
   "metadata": {},
   "outputs": [
    {
     "data": {
      "text/plain": [
       "<Axes: xlabel='z_1hr', ylabel='z_30m'>"
      ]
     },
     "execution_count": 24,
     "metadata": {},
     "output_type": "execute_result"
    },
    {
     "data": {
      "image/png": "[encoded data removed]",
      "text/plain": [
       "<Figure size 640x480 with 1 Axes>"
      ]
     },
     "metadata": {},
     "output_type": "display_data"
    }
   ],
   "source": [
    "df_data.plot.scatter(x='z_1hr', y='z_30m')"
   ]
  },
  {
   "cell_type": "code",
   "execution_count": 30,
   "metadata": {},
   "outputs": [],
   "source": [
    "df_data['high_dst_15m_sma'] = df_uturn['high_dst_15m_sma'].values\n",
    "df_data['high_dst_5m_sma'] = df_uturn2['high_dst_5m_sma'].values"
   ]
  },
  {
   "cell_type": "code",
   "execution_count": 28,
   "metadata": {},
   "outputs": [
    {
     "data": {
      "image/png": "[encoded data removed]",
      "text/plain": [
       "<Figure size 1800x400 with 2 Axes>"
      ]
     },
     "metadata": {},
     "output_type": "display_data"
    },
    {
     "data": {
      "image/png": "[encoded data removed]",
      "text/plain": [
       "<Figure size 1800x400 with 2 Axes>"
      ]
     },
     "metadata": {},
     "output_type": "display_data"
    }
   ],
   "source": [
    "days = df_data['datetime'].dt.date.unique()\n",
    "np.random.shuffle(days)\n",
    "\n",
    "plt.style.use('ggplot')\n",
    "for day in days[:2]:\n",
    "    df_day = df_data[df_data['datetime'].dt.date == day]\n",
    "    df_day = df_day.reset_index(drop=True)\n",
    "    fig, ax1 = plt.subplots(figsize=(18, 4))\n",
    "    line1 = ax1.plot(df_day['time'], df_day['high_dst_15m_sma'], color='blue', label='Dist of mean to high in a 15m window')\n",
    "        \n",
    "    ax2 = ax1.twinx() \n",
    "    line2 = ax2.plot(df_day['time'], df_day['close'], color='green', linestyle='--', label='Close')\n",
    "\n",
    "    for i, direction in enumerate(df_day['direction_1hr']):\n",
    "        ax2.text(df_day.loc[i, 'time'], df_day.loc[i, 'close'], direction,\n",
    "                ha='center', va='bottom', fontsize=8, color='red')\n",
    "    \n",
    "    lines = line1 + line2\n",
    "    labels = [line.get_label() for line in lines]\n",
    "    plt.legend(lines, labels)\n",
    "    plt.xticks(rotation=45)\n",
    "    plt.tight_layout()\n",
    "    plt.suptitle(day)"
   ]
  },
  {
   "cell_type": "code",
   "execution_count": 32,
   "metadata": {},
   "outputs": [
    {
     "data": {
      "image/png": "[encoded data removed]",
      "text/plain": [
       "<Figure size 1800x400 with 2 Axes>"
      ]
     },
     "metadata": {},
     "output_type": "display_data"
    },
    {
     "data": {
      "image/png": "[encoded data removed]",
      "text/plain": [
       "<Figure size 1800x400 with 2 Axes>"
      ]
     },
     "metadata": {},
     "output_type": "display_data"
    }
   ],
   "source": [
    "days = df_data['datetime'].dt.date.unique()\n",
    "np.random.shuffle(days)\n",
    "\n",
    "plt.style.use('ggplot')\n",
    "for day in days[:2]:\n",
    "    df_day = df_data[df_data['datetime'].dt.date == day]\n",
    "    df_day = df_day.reset_index(drop=True)\n",
    "    fig, ax1 = plt.subplots(figsize=(18, 4))\n",
    "    line1 = ax1.plot(df_day['time'], df_day['high_dst_5m_sma'], color='blue', label='Dist of mean to high in a 15m window')\n",
    "        \n",
    "    ax2 = ax1.twinx() \n",
    "    line2 = ax2.plot(df_day['time'], df_day['close'], color='green', linestyle='--', label='Close')\n",
    "\n",
    "    for i, direction in enumerate(df_day['direction_1hr']):\n",
    "        ax2.text(df_day.loc[i, 'time'], df_day.loc[i, 'close'], direction,\n",
    "                ha='center', va='bottom', fontsize=8, color='red')\n",
    "    \n",
    "    lines = line1 + line2\n",
    "    labels = [line.get_label() for line in lines]\n",
    "    plt.legend(lines, labels)\n",
    "    plt.xticks(rotation=45)\n",
    "    plt.tight_layout()\n",
    "    plt.suptitle(day)"
   ]
  },
  {
   "cell_type": "markdown",
   "metadata": {},
   "source": [
    "# Trend"
   ]
  },
  {
   "cell_type": "markdown",
   "metadata": {},
   "source": [
    "# Momentum"
   ]
  },
  {
   "cell_type": "code",
   "execution_count": null,
   "metadata": {},
   "outputs": [],
   "source": []
  },
  {
   "cell_type": "markdown",
   "metadata": {},
   "source": [
    "# Target"
   ]
  },
  {
   "cell_type": "markdown",
   "metadata": {},
   "source": []
  }
 ],
 "metadata": {
  "kernelspec": {
   "display_name": "finance",
   "language": "python",
   "name": "python3"
  },
  "language_info": {
   "codemirror_mode": {
    "name": "ipython",
    "version": 3
   },
   "file_extension": ".py",
   "mimetype": "text/x-python",
   "name": "python",
   "nbconvert_exporter": "python",
   "pygments_lexer": "ipython3",
   "version": "3.9.18"
  }
 },
 "nbformat": 4,
 "nbformat_minor": 2
}
