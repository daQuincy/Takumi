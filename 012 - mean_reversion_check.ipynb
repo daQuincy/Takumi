{
 "cells": [
  {
   "cell_type": "code",
   "execution_count": 4,
   "metadata": {},
   "outputs": [],
   "source": [
    "import backtrader as bt\n",
    "import pandas as pd\n",
    "import numpy as np\n",
    "import matplotlib.pyplot as plt\n",
    "\n",
    "import io\n",
    "\n",
    "from statsmodels.tsa.stattools import adfuller\n",
    "\n",
    "plt.style.use('ggplot')"
   ]
  },
  {
   "cell_type": "code",
   "execution_count": 2,
   "metadata": {},
   "outputs": [
    {
     "name": "stdout",
     "output_type": "stream",
     "text": [
      "<class 'pandas.core.frame.DataFrame'>\n",
      "Int64Index: 2522881 entries, 525 to 138563\n",
      "Data columns (total 10 columns):\n",
      " #   Column    Dtype                           \n",
      "---  ------    -----                           \n",
      " 0   date      object                          \n",
      " 1   time      object                          \n",
      " 2   open      float64                         \n",
      " 3   high      float64                         \n",
      " 4   low       float64                         \n",
      " 5   close     float64                         \n",
      " 6   volume    int64                           \n",
      " 7   datetime  datetime64[ns, America/New_York]\n",
      " 8   day       object                          \n",
      " 9   month     int64                           \n",
      "dtypes: datetime64[ns, America/New_York](1), float64(4), int64(2), object(3)\n",
      "memory usage: 211.7+ MB\n"
     ]
    }
   ],
   "source": [
    "with pd.HDFStore('./large_files/data2.h5', mode='r') as store:\n",
    "    df_ = store.get('data/data_imputed_20240226')\n",
    "df_.info(verbose=3)"
   ]
  },
  {
   "cell_type": "code",
   "execution_count": 3,
   "metadata": {},
   "outputs": [],
   "source": [
    "df = df_.set_index('datetime', drop=False)\n",
    "df = df.loc[df.index.year.isin([2021, 2022])]\n",
    "df = df.loc[df.index.day_of_week == 2]"
   ]
  },
  {
   "cell_type": "code",
   "execution_count": 7,
   "metadata": {},
   "outputs": [],
   "source": [
    "def adf_test(series):\n",
    "    result = adfuller(series, autolag='AIC')\n",
    "    data = {\n",
    "        'adf': result[0],\n",
    "        'p-value': result[1],\n",
    "    }\n",
    "    for key, value in result[4].items():\n",
    "        data[f'critical {key}'] = value\n",
    "\n",
    "    return data"
   ]
  },
  {
   "cell_type": "code",
   "execution_count": 14,
   "metadata": {},
   "outputs": [],
   "source": [
    "results = []\n",
    "for day, df_day in df.groupby(pd.Grouper(key='datetime', freq='D')):\n",
    "    if df_day.shape[0] == 0:\n",
    "        continue\n",
    "    \n",
    "    df_day = df_day.copy()\n",
    "    df_day = df_day[(df_day.index.hour >= 10) & (df_day.index.hour < 12)]\n",
    "    close = df_day['close']\n",
    "    adf_result = adf_test(close)\n",
    "    adf_result['day'] = day.strftime('%Y%m%d')\n",
    "    results.append(adf_result)\n",
    "\n",
    "df_result = pd.DataFrame(results)"
   ]
  },
  {
   "cell_type": "code",
   "execution_count": 16,
   "metadata": {},
   "outputs": [],
   "source": [
    "df_1 = df_result[df_result['p-value'] < df_result['critical 1%']]\n",
    "df_5 = df_result[df_result['p-value'] < df_result['critical 5%']]\n",
    "df_10 = df_result[df_result['p-value'] < df_result['critical 10%']]"
   ]
  },
  {
   "cell_type": "code",
   "execution_count": null,
   "metadata": {},
   "outputs": [],
   "source": []
  }
 ],
 "metadata": {
  "kernelspec": {
   "display_name": "finance",
   "language": "python",
   "name": "python3"
  },
  "language_info": {
   "codemirror_mode": {
    "name": "ipython",
    "version": 3
   },
   "file_extension": ".py",
   "mimetype": "text/x-python",
   "name": "python",
   "nbconvert_exporter": "python",
   "pygments_lexer": "ipython3",
   "version": "3.9.18"
  }
 },
 "nbformat": 4,
 "nbformat_minor": 2
}
